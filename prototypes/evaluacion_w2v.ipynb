{
 "cells": [
  {
   "cell_type": "code",
   "execution_count": 1,
   "metadata": {},
   "outputs": [
    {
     "name": "stderr",
     "output_type": "stream",
     "text": [
      "/home/olivares/anaconda3/lib/python3.6/site-packages/h5py/__init__.py:34: FutureWarning: Conversion of the second argument of issubdtype from `float` to `np.floating` is deprecated. In future, it will be treated as `np.float64 == np.dtype(float).type`.\n",
      "  from ._conv import register_converters as _register_converters\n"
     ]
    },
    {
     "data": {
      "text/plain": [
       "'1.6.0'"
      ]
     },
     "execution_count": 1,
     "metadata": {},
     "output_type": "execute_result"
    }
   ],
   "source": [
    "import tensorflow as tf\n",
    "import pandas as pd\n",
    "import numpy as np\n",
    "import utils\n",
    "\n",
    "#from scipy.spatial.distance import cdist\n",
    "__author__ = \"Olivares Castillo José Luis\"\n",
    "\n",
    "tf.__version__"
   ]
  },
  {
   "cell_type": "code",
   "execution_count": 2,
   "metadata": {},
   "outputs": [],
   "source": [
    "def read(file, threshold=0, vocabulary=None, dtype='float'):\n",
    "    # Copyright (C) 2016-2018  Mikel Artetxe <artetxem@gmail.com>\n",
    "    # https://github.com/artetxem/vecmap/blob/master/embeddings.py\n",
    "    \"\"\"Función para leer un archivo con los word embeddings.\n",
    "    Arguments:\n",
    "        file {str} -- archivo a leer.\n",
    "        threshold {int} -- Número a embeddings a leer\n",
    "                           (default:{El indicado en la cabecera del archivo})\n",
    "        vocabulary {str} -- Para solo acceder a vectores según el lexicon definido\n",
    "                            (default:{None})\n",
    "    \n",
    "    Return:\n",
    "        tuple -- lista de palabras y su correspondiente matriz de embeddings\n",
    "    \"\"\"\n",
    "    header = file.readline().split(' ')\n",
    "    count = int(header[0]) if threshold <= 0 else min(threshold, int(header[0]))\n",
    "    dim = int(header[1])\n",
    "    words = []\n",
    "    matrix = np.empty((count, dim), dtype=dtype) if vocabulary is None else []\n",
    "    for i in range(count):\n",
    "        word, vec = file.readline().split(' ', 1)\n",
    "        if vocabulary is None:\n",
    "            words.append(word)\n",
    "            matrix[i] = np.fromstring(vec, sep=' ', dtype=dtype)\n",
    "        elif word in vocabulary:\n",
    "            words.append(word)\n",
    "            matrix.append(np.fromstring(vec, sep=' ', dtype=dtype))\n",
    "    return (words, matrix) if vocabulary is None else (words, np.array(matrix, dtype=dtype))\n",
    "\n",
    "\n",
    "def closest_word_to(top_10, words):\n",
    "    \"\"\"Función para retornar las palabras de top_10 mediante su índice\n",
    "    Arguments:\n",
    "        top_10 {list} -- lista de tupla con índice una palabra y su distancia.\n",
    "        words {list} -- lista de palabras\n",
    "    Return:\n",
    "        list -- lista con palabras del top_10\n",
    "    \"\"\"\n",
    "    return [words[index] for index, _ in top_10]\n",
    "\n",
    "\n",
    "def get_lexicon(source):\n",
    "    \"\"\"Función para cargar lexicones\n",
    "    Arguments:\n",
    "        source {str} -- Nombre de archivo a cargar\n",
    "    Return:\n",
    "        list (2) -- lista con palabras del lexicon indicado.\n",
    "    \"\"\"\n",
    "    if source.__eq__(\"en-it.train\"):\n",
    "        src,trg = load_lexicon(\"../dataset/dictionaries/en-it.train.txt\")\n",
    "        return (src,trg)\n",
    "    elif source.__eq__(\"en-it.test\"):\n",
    "        src,trg = load_lexicon(\"../dataset/dictionaries/en-it.test.txt\")\n",
    "        return (src,trg)\n",
    "    elif source.__eq__(\"en-de.test\"):\n",
    "        src,trg = load_lexicon(\"../dataset/dictionaries/en-de.test.txt\")\n",
    "        return (src,trg)\n",
    "    elif source.__eq__(\"en-de.train\"):\n",
    "        src,trg = load_lexicon(\"../dataset/dictionaries/en-de.train.txt\")\n",
    "        return (src,trg)\n",
    "    elif source.__eq__(\"en-es.test\"):\n",
    "        src,trg = load_lexicon(\"../dataset/dictionaries/en-es.test.txt\")\n",
    "        return (src,trg)\n",
    "    elif source.__eq__(\"en-es.train\"):\n",
    "        src,trg = load_lexicon(\"../dataset/dictionaries/en-es.train.txt\")\n",
    "        return (src,trg)\n",
    "    elif source.__eq__(\"en-fi.test\"):\n",
    "        src,trg = load_lexicon(\"../dataset/dictionaries/en-fi.test.txt\")\n",
    "        return (src,trg)\n",
    "    elif source.__eq__(\"en-fi.train\"):\n",
    "        src,trg = load_lexicon(\"../dataset/dictionaries/en-fi.train.txt\")\n",
    "        return (src,trg)\n",
    "    else:\n",
    "        raise ValueError(\"Archivo no encontrado %s\" % (source))\n",
    "    \n",
    "def load_lexicon(source):\n",
    "    \"\"\"Función auxiliar de `get_lexicon` para cargar lexicones\n",
    "    Arguments:\n",
    "        source {str} -- Nombre de archivo a cargar\n",
    "    Return:\n",
    "        list (2) -- lista con palabras del lexicon indicado.\n",
    "    \"\"\"\n",
    "    src, trg = list(), list()\n",
    "    with open(source, \"r\", encoding='utf-8') as file:\n",
    "        for line in file:\n",
    "            src.append(line.split()[0])\n",
    "            trg.append(line.split()[1])\n",
    "    return (src, trg)\n",
    "\n",
    "\n",
    "def get_vectors(lexicon, words, embeddings, dtype='float'):\n",
    "    \"\"\"Función para cargar vectores del lexicon indicado.\n",
    "    Arguments:\n",
    "        lexicon {list} -- lista de palabras del lexicon\n",
    "        words {list} -- lista con palabras de los vectores.\n",
    "        embeddings {numpy.ndarray} -- matriz con embeddings\n",
    "    Return:\n",
    "        numpy.ndarray -- Matriz con embeddings del lexicon\n",
    "    \"\"\"\n",
    "    matrix = np.empty((len(lexicon), embeddings.shape[1]), dtype=dtype)\n",
    "    for i in range(len(lexicon)):\n",
    "        if lexicon[i] in words:\n",
    "            matrix[i] = embeddings[words.index(lexicon[i])]\n",
    "    return np.asarray(matrix, dtype=dtype)\n",
    "\n",
    "\n",
    "def open_file(source,normalize):\n",
    "    \"\"\"Función para leer archivos\n",
    "    Arguments:\n",
    "        source {str} -- Archivo a leer\n",
    "    Return:\n",
    "        _io.TextIOWrapper -- Apuntador a fichero a leer\n",
    "    \"\"\"\n",
    "    if normalize:\n",
    "        norm_path = \"normalize/unit-center/\"\n",
    "    else:\n",
    "        norm_path = \"\"\n",
    "    #print(norm_path)\n",
    "    if source.__eq__(\"en\"):\n",
    "        return open(\"../dataset/\"+norm_path+\"en.200k.300d.embeddings\",encoding=\"utf-8\", errors=\"surrogateescape\")\n",
    "    elif source.__eq__(\"it\"):\n",
    "        return open(\"../dataset/\"+norm_path+\"en-it/it.200k.300d.embeddings\",encoding=\"utf-8\", errors=\"surrogateescape\")\n",
    "    elif source.__eq__(\"es\"):\n",
    "        return open(\"../dataset/\"+norm_path+\"en-es/es.200k.300d.embeddings\",encoding=\"utf-8\", errors=\"surrogateescape\")\n",
    "    elif source.__eq__(\"de\"):\n",
    "        return open(\"../dataset/\"+norm_path+\"en-de/de.200k.300d.embeddings\",encoding=\"utf-8\", errors=\"surrogateescape\")\n",
    "    elif source.__eq__(\"fi\"):\n",
    "        return open(\"../dataset/\"+norm_path+\"en-fi/fi.200k.300d.embeddings\",encoding=\"utf-8\", errors=\"surr|ogateescape\")\n",
    "    else:\n",
    "        raise ValueError(\"Archivo no encontrado %s\" % (source))"
   ]
  },
  {
   "cell_type": "code",
   "execution_count": 3,
   "metadata": {},
   "outputs": [],
   "source": [
    "normalize=False"
   ]
  },
  {
   "cell_type": "code",
   "execution_count": 4,
   "metadata": {},
   "outputs": [],
   "source": [
    "LEER = {\"de\":{\"idioma\":\"en-de.test\",\n",
    "        \"objetivo\":\"de\",\n",
    "        \"model\":\"en-de\"},\n",
    "        \n",
    "        \"fi\":{\"idioma\":\"en-fi.test\",\n",
    "        \"objetivo\":\"fi\",\n",
    "        \"model\":\"en-fi\"},\n",
    "        \n",
    "        \"it\":{\"idioma\":\"en-it.test\",\n",
    "        \"objetivo\":\"it\",\n",
    "        \"model\":\"en-it\"},\n",
    "        \n",
    "        \"es\":{\"idioma\":\"en-es.test\",\n",
    "        \"objetivo\":\"es\",\n",
    "        \"model\":\"en-es\"},\n",
    "       }"
   ]
  },
  {
   "cell_type": "code",
   "execution_count": 5,
   "metadata": {},
   "outputs": [],
   "source": [
    "lex = LEER[\"it\"]"
   ]
  },
  {
   "cell_type": "code",
   "execution_count": 6,
   "metadata": {},
   "outputs": [],
   "source": [
    "words_scr_lexicon, words_trg_lexicon = get_lexicon(lex[\"idioma\"])"
   ]
  },
  {
   "cell_type": "code",
   "execution_count": 7,
   "metadata": {},
   "outputs": [
    {
     "name": "stdout",
     "output_type": "stream",
     "text": [
      "1869 1869\n"
     ]
    }
   ],
   "source": [
    "print(len(words_scr_lexicon), len(words_trg_lexicon))"
   ]
  },
  {
   "cell_type": "code",
   "execution_count": null,
   "metadata": {},
   "outputs": [],
   "source": [
    "source_vec = open_file('en',normalize=normalize)\n",
    "words_src, source_vec = read(source_vec)\n",
    "eval_src = list(set(words_scr_lexicon))\n",
    "src_vec = get_vectors(eval_src, words_src, source_vec)\n",
    "print(src_vec.shape)"
   ]
  },
  {
   "cell_type": "code",
   "execution_count": null,
   "metadata": {},
   "outputs": [],
   "source": [
    "target_vec = open_file(lex[\"objetivo\"],normalize=normalize)\n",
    "words_trg, target_vec = read(target_vec)\n",
    "#eval_it = list(set(it))\n",
    "#trg_vec = get_vectors(eval_it, words_it, it_vec)\n",
    "print(target_vec.shape)"
   ]
  },
  {
   "cell_type": "code",
   "execution_count": null,
   "metadata": {},
   "outputs": [],
   "source": [
    "test_vectors = src_vec"
   ]
  },
  {
   "cell_type": "code",
   "execution_count": null,
   "metadata": {},
   "outputs": [],
   "source": [
    "if normalize:\n",
    "    norm_model=\"/norm\"\n",
    "else:\n",
    "    norm_model=\"\"\n",
    "'./models/'+lex[\"model\"]+norm_model+'/model1111_gpu/model2250.ckpt.meta'"
   ]
  },
  {
   "cell_type": "code",
   "execution_count": null,
   "metadata": {},
   "outputs": [],
   "source": [
    "tf.reset_default_graph()\n",
    "print(lex[\"model\"])\n",
    "sess = tf.Session()\n",
    "saver = tf.train.import_meta_graph('./models/'+lex[\"model\"]+norm_model+'/model1111_gpu/model2250.ckpt.meta')\n",
    "saver.restore(sess, tf.train.latest_checkpoint('./models/'+lex[\"model\"]+norm_model+'/model1111_gpu/'))"
   ]
  },
  {
   "cell_type": "code",
   "execution_count": null,
   "metadata": {},
   "outputs": [],
   "source": [
    "graph = tf.get_default_graph()\n",
    "X = graph.get_tensor_by_name(\"input/input_es:0\")\n",
    "kprob = graph.get_tensor_by_name(\"dropout_prob:0\")"
   ]
  },
  {
   "cell_type": "code",
   "execution_count": null,
   "metadata": {},
   "outputs": [],
   "source": [
    "#([n.name for n in graph.as_graph_def().node])"
   ]
  },
  {
   "cell_type": "code",
   "execution_count": null,
   "metadata": {},
   "outputs": [],
   "source": [
    "output_NN = graph.get_tensor_by_name(\"xw_plus_b_1:0\")\n",
    "#output_NN = graph.get_tensor_by_name(\"nah_predicted:0\")\n",
    "#code = graph.get_tensor_by_name(\"xw_plus_b_2:0\")\n",
    "print(output_NN)\n",
    "\n",
    "feed_dict = {X: test_vectors, kprob: 1}\n",
    "pred = sess.run(output_NN, feed_dict)\n",
    "print(pred.shape)"
   ]
  },
  {
   "cell_type": "code",
   "execution_count": null,
   "metadata": {},
   "outputs": [],
   "source": [
    "%%time\n",
    "top_10 = [utils.get_top10_closest(pred[_], target_vec) for _ in range(pred.shape[0])]"
   ]
  },
  {
   "cell_type": "code",
   "execution_count": null,
   "metadata": {},
   "outputs": [],
   "source": [
    "%%time\n",
    "closest = [closest_word_to(top_10[_], words_trg) for _ in range(pred.shape[0])]"
   ]
  },
  {
   "cell_type": "raw",
   "metadata": {},
   "source": [
    "eval_src[0]"
   ]
  },
  {
   "cell_type": "raw",
   "metadata": {},
   "source": [
    "top_10[0]"
   ]
  },
  {
   "cell_type": "raw",
   "metadata": {},
   "source": [
    "closest[0]"
   ]
  },
  {
   "cell_type": "code",
   "execution_count": null,
   "metadata": {},
   "outputs": [],
   "source": [
    "resultados = {palabra_en: top_10_it for (palabra_en, top_10_it) in zip(eval_src, closest)}"
   ]
  },
  {
   "cell_type": "code",
   "execution_count": null,
   "metadata": {},
   "outputs": [],
   "source": [
    "gold = utils.gold_dict(words_scr_lexicon, words_trg_lexicon)"
   ]
  },
  {
   "cell_type": "raw",
   "metadata": {},
   "source": [
    "gold[eval_src[476]]"
   ]
  },
  {
   "cell_type": "raw",
   "metadata": {},
   "source": [
    "resultados[eval_src[476]]"
   ]
  },
  {
   "cell_type": "code",
   "execution_count": null,
   "metadata": {},
   "outputs": [],
   "source": [
    "%%time\n",
    "p1, p5, p10 = 0, 0, 0\n",
    "list_en_eval = list(resultados.keys())\n",
    "hits, not_found = [], []\n",
    "\n",
    "for palabra_gold in list_en_eval:\n",
    "    for i in gold[palabra_gold]:\n",
    "        if i in resultados[palabra_gold]:\n",
    "            hits.append(resultados[palabra_gold].index(i))\n",
    "    if hits.__len__() > 0:\n",
    "        if min(hits) == 0:\n",
    "            p1 += 1\n",
    "            p5 += 1\n",
    "            p10 += 1\n",
    "        if min(hits) >= 1 and min(hits) <= 5:\n",
    "            p5 += 1\n",
    "            p10 += 1\n",
    "        if min(hits) > 5 and min(hits) < 10:\n",
    "            p10 += 1\n",
    "    else:\n",
    "        not_found.append(palabra_gold)\n",
    "    hits.clear()\n",
    "\n",
    "length = list_en_eval.__len__()\n",
    "print(\"not found:\", not_found.__len__(), \"-\", not_found.__len__() / length, \"%\")\n",
    "print(\"P@1:\", p1, \"\\tP@5:\", p5, \"\\tP@10:\", p10)\n",
    "print(\"P@1:\", p1 / length, \"\\tP@5:\", p5 /length, \"\\tP@10:\", p10 / length)"
   ]
  },
  {
   "cell_type": "code",
   "execution_count": null,
   "metadata": {},
   "outputs": [],
   "source": []
  }
 ],
 "metadata": {
  "kernelspec": {
   "display_name": "Python 3",
   "language": "python",
   "name": "python3"
  },
  "language_info": {
   "codemirror_mode": {
    "name": "ipython",
    "version": 3
   },
   "file_extension": ".py",
   "mimetype": "text/x-python",
   "name": "python",
   "nbconvert_exporter": "python",
   "pygments_lexer": "ipython3",
   "version": "3.6.3"
  }
 },
 "nbformat": 4,
 "nbformat_minor": 2
}
