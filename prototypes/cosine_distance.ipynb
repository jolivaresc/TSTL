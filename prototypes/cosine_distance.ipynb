{
 "cells": [
  {
   "cell_type": "code",
   "execution_count": 1,
   "metadata": {},
   "outputs": [],
   "source": [
    "import numpy as np"
   ]
  },
  {
   "cell_type": "code",
   "execution_count": 2,
   "metadata": {},
   "outputs": [],
   "source": [
    "np.random.seed(42)"
   ]
  },
  {
   "cell_type": "code",
   "execution_count": 33,
   "metadata": {},
   "outputs": [],
   "source": [
    "x = (np.random.uniform(0,15,size=[992,2])).astype(np.float64)\n",
    "y = (np.random.uniform(0,15,size=[992,2])).astype(np.float64)"
   ]
  },
  {
   "cell_type": "code",
   "execution_count": 34,
   "metadata": {},
   "outputs": [
    {
     "data": {
      "text/plain": [
       "array([[  9.11519742,  13.68309431],\n",
       "       [  5.78094628,  10.7650165 ],\n",
       "       [ 11.25902431,  10.79982617],\n",
       "       ..., \n",
       "       [ 12.30108502,   4.4334878 ],\n",
       "       [ 10.70330149,   5.43787107],\n",
       "       [  1.73501205,  13.70905166]])"
      ]
     },
     "execution_count": 34,
     "metadata": {},
     "output_type": "execute_result"
    }
   ],
   "source": [
    "x"
   ]
  },
  {
   "cell_type": "code",
   "execution_count": 37,
   "metadata": {},
   "outputs": [
    {
     "data": {
      "text/plain": [
       "124.0"
      ]
     },
     "execution_count": 37,
     "metadata": {},
     "output_type": "execute_result"
    }
   ],
   "source": [
    "992/8"
   ]
  },
  {
   "cell_type": "code",
   "execution_count": 45,
   "metadata": {},
   "outputs": [
    {
     "name": "stdout",
     "output_type": "stream",
     "text": [
      "<class 'numpy.ndarray'>\n",
      "<class 'numpy.ndarray'>\n",
      "<class 'numpy.ndarray'>\n",
      "<class 'numpy.ndarray'>\n"
     ]
    }
   ],
   "source": [
    "x[0:4],x[5:9],x[10:14]\n",
    "s=list()\n",
    "def next_batch(x,step,batch_size):\n",
    "    return x[batch_size*step:batch_size*step+batch_size]\n",
    "for i in range(0,4):\n",
    "    print(type(next_batch(x,i,124)))\n"
   ]
  },
  {
   "cell_type": "markdown",
   "metadata": {},
   "source": [
    "# Distancias entre vectores\n",
    "\n",
    "* [Similitud coseno](http://reference.wolfram.com/language/ref/CosineDistance.html):\n",
    "$$\n",
    "CosineDistance[\\vec{u},\\vec{v}] = \\frac{\\vec{u}\\cdot\\vec{v}}{\\lVert \\vec{u} \n",
    "\\lVert \\lVert \\vec{v} \\lVert}\n",
    "$$\n",
    "\n",
    "---\n",
    "\n",
    "* [Distancia euclidiana](http://reference.wolfram.com/language/ref/EuclideanDistance.html):\n",
    "$$\n",
    "EuclidianDistance[\\vec{u},\\vec{v}] = \\sqrt{ \\sum_{k=1}^n (u_i-v_i)^2}\n",
    "$$"
   ]
  },
  {
   "cell_type": "code",
   "execution_count": 20,
   "metadata": {},
   "outputs": [],
   "source": [
    "def get_distance(vector, matrix, distance=\"cos\"):\n",
    "\n",
    "    \n",
    "    # Distancia coseno\n",
    "    if distance == \"cos\":\n",
    "        # Medir distancias\n",
    "        tmp_dist = list(enumerate(((np.matmul(vector, matrix.T) /\n",
    "                                        (np.linalg.norm(vector) *\n",
    "                                         np.sqrt(np.einsum('ij,ij->i',\n",
    "                                                     matrix, matrix,dtype=np.float64)))))))\n",
    "        # Se ordena lista según distancias más cercanas.\n",
    "        tmp_dist = sorted(tmp_dist, key=lambda dist: dist[1],reverse=True)\n",
    "        distances = tmp_dist[:10]\n",
    "        del tmp_dist\n",
    "        # Retorna 10 vectores más cercanos.\n",
    "        return distances\n",
    "\n",
    "    # Distancia euclidiana\n",
    "    tmp_dist = [(i, np.linalg.norm(vector - matrix[i]))\n",
    "                for i in range(matrix.shape[0])]\n",
    "    tmp_dist = sorted(tmp_dist, key=lambda dist: dist[1])\n",
    "    distances = tmp_dist[:10]\n",
    "    del tmp_dist\n",
    "    return distances"
   ]
  },
  {
   "cell_type": "code",
   "execution_count": 25,
   "metadata": {},
   "outputs": [
    {
     "ename": "NameError",
     "evalue": "name 'vector' is not defined",
     "output_type": "error",
     "traceback": [
      "\u001b[0;31m---------------------------------------------------------------------------\u001b[0m",
      "\u001b[0;31mNameError\u001b[0m                                 Traceback (most recent call last)",
      "\u001b[0;32m<ipython-input-25-8c5af3394e4e>\u001b[0m in \u001b[0;36m<module>\u001b[0;34m()\u001b[0m\n\u001b[1;32m      2\u001b[0m \u001b[0mc\u001b[0m \u001b[0;34m=\u001b[0m \u001b[0;32mNone\u001b[0m\u001b[0;34m\u001b[0m\u001b[0m\n\u001b[1;32m      3\u001b[0m \u001b[0mtic\u001b[0m \u001b[0;34m=\u001b[0m \u001b[0mtime\u001b[0m\u001b[0;34m.\u001b[0m\u001b[0mtime\u001b[0m\u001b[0;34m(\u001b[0m\u001b[0;34m)\u001b[0m\u001b[0;34m\u001b[0m\u001b[0m\n\u001b[0;32m----> 4\u001b[0;31m \u001b[0mc\u001b[0m \u001b[0;34m=\u001b[0m \u001b[0;34m(\u001b[0m\u001b[0;34m(\u001b[0m\u001b[0;34m(\u001b[0m\u001b[0mnp\u001b[0m\u001b[0;34m.\u001b[0m\u001b[0mmatmul\u001b[0m\u001b[0;34m(\u001b[0m\u001b[0mvector\u001b[0m\u001b[0;34m,\u001b[0m \u001b[0mmatrix\u001b[0m\u001b[0;34m.\u001b[0m\u001b[0mT\u001b[0m\u001b[0;34m)\u001b[0m \u001b[0;34m/\u001b[0m\u001b[0;34m(\u001b[0m\u001b[0mnp\u001b[0m\u001b[0;34m.\u001b[0m\u001b[0mlinalg\u001b[0m\u001b[0;34m.\u001b[0m\u001b[0mnorm\u001b[0m\u001b[0;34m(\u001b[0m\u001b[0mvector\u001b[0m\u001b[0;34m)\u001b[0m \u001b[0;34m*\u001b[0m\u001b[0mnp\u001b[0m\u001b[0;34m.\u001b[0m\u001b[0msqrt\u001b[0m\u001b[0;34m(\u001b[0m\u001b[0mnp\u001b[0m\u001b[0;34m.\u001b[0m\u001b[0meinsum\u001b[0m\u001b[0;34m(\u001b[0m\u001b[0;34m'ij,ij->i'\u001b[0m\u001b[0;34m,\u001b[0m\u001b[0mmatrix\u001b[0m\u001b[0;34m,\u001b[0m \u001b[0mmatrix\u001b[0m\u001b[0;34m,\u001b[0m\u001b[0mdtype\u001b[0m\u001b[0;34m=\u001b[0m\u001b[0mnp\u001b[0m\u001b[0;34m.\u001b[0m\u001b[0mfloat64\u001b[0m\u001b[0;34m)\u001b[0m\u001b[0;34m)\u001b[0m\u001b[0;34m)\u001b[0m\u001b[0;34m)\u001b[0m\u001b[0;34m)\u001b[0m\u001b[0;34m)\u001b[0m\u001b[0;34m\u001b[0m\u001b[0m\n\u001b[0m\u001b[1;32m      5\u001b[0m \u001b[0mtoc\u001b[0m \u001b[0;34m=\u001b[0m \u001b[0mtime\u001b[0m\u001b[0;34m.\u001b[0m\u001b[0mtime\u001b[0m\u001b[0;34m(\u001b[0m\u001b[0;34m)\u001b[0m\u001b[0;34m\u001b[0m\u001b[0m\n\u001b[1;32m      6\u001b[0m \u001b[0;31m#print(type(c))\u001b[0m\u001b[0;34m\u001b[0m\u001b[0;34m\u001b[0m\u001b[0m\n",
      "\u001b[0;31mNameError\u001b[0m: name 'vector' is not defined"
     ]
    }
   ],
   "source": [
    "import time\n",
    "c = None\n",
    "tic = time.time()\n",
    "c = (((np.matmul(x[0], x.T) /\n",
    "       (np.linalg.norm(x[0]) *\n",
    "        np.sqrt(np.einsum('ij,ij->i',\n",
    "                          x, matrix,dtype=np.float64))))))\n",
    "\n",
    "\n",
    "toc = time.time()\n",
    "#print(type(c))\n",
    "print(c[:20])\n",
    "print((toc-tic)*1000)\n",
    "\n",
    "tic = 0\n",
    "toc = 0\n",
    "del c\n",
    "tic = time.time()\n",
    "c = [(((np.dot(x[0],x[i]))/(np.linalg.norm(x[0])*np.linalg.norm(x[i]))))\n",
    "                for i in range(x.shape[0])]\n",
    "toc = time.time()\n",
    "#print(type(c))\n",
    "print(c[:20])\n",
    "print(1000*(toc-tic))"
   ]
  },
  {
   "cell_type": "code",
   "execution_count": 22,
   "metadata": {},
   "outputs": [],
   "source": [
    "dist = get_distance(x[0],x)"
   ]
  },
  {
   "cell_type": "code",
   "execution_count": 23,
   "metadata": {},
   "outputs": [
    {
     "data": {
      "text/plain": [
       "[(0, 1.0000000000000004),\n",
       " (201, 0.75932451884122965),\n",
       " (674, 0.75919983780199474),\n",
       " (374, 0.75914880365300452),\n",
       " (758, 0.7583237462414032),\n",
       " (10, 0.75819602619028348),\n",
       " (112, 0.75815723518423495),\n",
       " (154, 0.75742587802360395),\n",
       " (982, 0.75727998824148901),\n",
       " (37, 0.75717784685635137)]"
      ]
     },
     "execution_count": 23,
     "metadata": {},
     "output_type": "execute_result"
    }
   ],
   "source": [
    "dist[:10]"
   ]
  },
  {
   "cell_type": "code",
   "execution_count": 19,
   "metadata": {},
   "outputs": [
    {
     "data": {
      "text/plain": [
       "[(0, -4.4408920985006262e-16),\n",
       " (201, 0.24067548115877035),\n",
       " (674, 0.24080016219800526),\n",
       " (374, 0.24085119634699548),\n",
       " (758, 0.2416762537585968),\n",
       " (10, 0.24180397380971652),\n",
       " (112, 0.24184276481576505),\n",
       " (154, 0.24257412197639605),\n",
       " (982, 0.24272001175851099),\n",
       " (37, 0.24282215314364863)]"
      ]
     },
     "execution_count": 19,
     "metadata": {},
     "output_type": "execute_result"
    }
   ],
   "source": [
    "dist[:10]"
   ]
  },
  {
   "cell_type": "code",
   "execution_count": null,
   "metadata": {},
   "outputs": [],
   "source": [
    "dist = get_distance(x[0],x)"
   ]
  },
  {
   "cell_type": "code",
   "execution_count": null,
   "metadata": {},
   "outputs": [],
   "source": [
    "dist[:10]"
   ]
  },
  {
   "cell_type": "code",
   "execution_count": null,
   "metadata": {},
   "outputs": [],
   "source": [
    "dist.sort(key=lambda tup: tup[1])"
   ]
  },
  {
   "cell_type": "code",
   "execution_count": null,
   "metadata": {},
   "outputs": [],
   "source": [
    "dist[:10]"
   ]
  },
  {
   "cell_type": "code",
   "execution_count": null,
   "metadata": {},
   "outputs": [],
   "source": []
  }
 ],
 "metadata": {
  "kernelspec": {
   "display_name": "Python 3",
   "language": "python",
   "name": "python3"
  },
  "language_info": {
   "codemirror_mode": {
    "name": "ipython",
    "version": 3
   },
   "file_extension": ".py",
   "mimetype": "text/x-python",
   "name": "python",
   "nbconvert_exporter": "python",
   "pygments_lexer": "ipython3",
   "version": "3.6.3"
  }
 },
 "nbformat": 4,
 "nbformat_minor": 2
}
