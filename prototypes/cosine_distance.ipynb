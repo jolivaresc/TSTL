{
 "cells": [
  {
   "cell_type": "code",
   "execution_count": 2,
   "metadata": {},
   "outputs": [],
   "source": [
    "import numpy as np"
   ]
  },
  {
   "cell_type": "code",
   "execution_count": 3,
   "metadata": {},
   "outputs": [],
   "source": [
    "np.random.seed(42)"
   ]
  },
  {
   "cell_type": "code",
   "execution_count": 4,
   "metadata": {},
   "outputs": [],
   "source": [
    "x = (np.random.uniform(0,15,size=[1000,600])).astype(np.float64)\n",
    "y = (np.random.uniform(0,15,size=[1000,600])).astype(np.float64)"
   ]
  },
  {
   "cell_type": "markdown",
   "metadata": {},
   "source": [
    "# Distancias entre vectores\n",
    "\n",
    "* [Distancia coseno](http://reference.wolfram.com/language/ref/CosineDistance.html):\n",
    "$$\n",
    "CosineDistance[\\vec{u},\\vec{v}] = 1 - \\frac{\\vec{u}\\cdot\\vec{v}}{\\lVert \\vec{u} \n",
    "\\lVert \\lVert \\vec{v} \\lVert}\n",
    "$$\n",
    "\n",
    "---\n",
    "\n",
    "* [Distancia euclidiana](http://reference.wolfram.com/language/ref/EuclideanDistance.html):\n",
    "$$\n",
    "EuclidianDistance[\\vec{u},\\vec{v}] = \\sqrt{ \\sum_{k=1}^n (u_i-v_i)^2}\n",
    "$$"
   ]
  },
  {
   "cell_type": "code",
   "execution_count": 5,
   "metadata": {},
   "outputs": [],
   "source": [
    "def get_distance(vector, matrix,distance=\"cos\"):\n",
    "    \n",
    "    # Distancia coseno\n",
    "    if distance == \"cos\":\n",
    "        '''return list(enumerate(1 - (np.matmul(vector, matrix.T) / \n",
    "                    (np.linalg.norm(vector) * \n",
    "                     np.sqrt(np.einsum('ij,ij->i',\n",
    "                                       matrix, matrix))))))'''\n",
    "        return [(i,1 - ((np.dot(vector,matrix[i]))/(np.linalg.norm(vector)*np.linalg.norm(matrix[i]))))\n",
    "                for i in range(matrix.shape[0])]\n",
    "    \n",
    "    # Distancia euclidiana\n",
    "    return [(i,np.linalg.norm(vector-matrix[i]))\n",
    "            for i in range(matrix.shape[0])]"
   ]
  },
  {
   "cell_type": "code",
   "execution_count": 6,
   "metadata": {},
   "outputs": [
    {
     "name": "stdout",
     "output_type": "stream",
     "text": [
      "[  1.11022302e-16   2.59753320e-01   2.52808239e-01   2.61176536e-01\n",
      "   2.66679800e-01   2.67385099e-01   2.71955619e-01   2.42575630e-01\n",
      "   2.52369195e-01   2.60923664e-01   2.49629194e-01   2.75721797e-01\n",
      "   2.59722137e-01   2.62743879e-01   2.58569523e-01   2.42355492e-01\n",
      "   2.72420748e-01   2.63215339e-01   2.64001494e-01   2.54203258e-01]\n",
      "7.6694488525390625\n",
      "[(0, 1.1102230246251565e-16), (1, 0.2597533198116333), (2, 0.2528082392094142), (3, 0.26117653630366966), (4, 0.2666797998707906), (5, 0.2673850985781554), (6, 0.27195561864309081), (7, 0.24257562992888537), (8, 0.25236919456259954), (9, 0.26092366404560885), (10, 0.24962919362038705), (11, 0.27572179734451352), (12, 0.25972213690435841), (13, 0.26274387861423754), (14, 0.25856952342955197), (15, 0.2423554923894512), (16, 0.27242074797865101), (17, 0.2632153392305755), (18, 0.26400149378022442), (19, 0.25420325844310121)]\n",
      "23.555755615234375\n"
     ]
    }
   ],
   "source": [
    "import time\n",
    "c = None\n",
    "tic = time.time()\n",
    "c = ((1 - (np.matmul(x[0], x.T) / \n",
    "                    (np.linalg.norm(x[0]) * \n",
    "                     np.sqrt(np.einsum('ij,ij->i',\n",
    "                                       x, x))))))\n",
    "toc = time.time()\n",
    "#print(type(c))\n",
    "print(c[:20])\n",
    "print((toc-tic)*1000)\n",
    "\n",
    "tic = 0\n",
    "toc = 0\n",
    "del c\n",
    "tic = time.time()\n",
    "c = [(i,1 - ((np.dot(x[0],x[i]))/(np.linalg.norm(x[0])*np.linalg.norm(x[i]))))\n",
    "                for i in range(x.shape[0])]\n",
    "toc = time.time()\n",
    "#print(type(c))\n",
    "print(c[:20])\n",
    "print(1000*(toc-tic))"
   ]
  },
  {
   "cell_type": "code",
   "execution_count": 7,
   "metadata": {},
   "outputs": [],
   "source": [
    "dist = get_distance(x[0],x)"
   ]
  },
  {
   "cell_type": "code",
   "execution_count": 8,
   "metadata": {},
   "outputs": [
    {
     "data": {
      "text/plain": [
       "[(0, 1.1102230246251565e-16),\n",
       " (1, 0.2597533198116333),\n",
       " (2, 0.2528082392094142),\n",
       " (3, 0.26117653630366966),\n",
       " (4, 0.2666797998707906),\n",
       " (5, 0.2673850985781554),\n",
       " (6, 0.27195561864309081),\n",
       " (7, 0.24257562992888537),\n",
       " (8, 0.25236919456259954),\n",
       " (9, 0.26092366404560885)]"
      ]
     },
     "execution_count": 8,
     "metadata": {},
     "output_type": "execute_result"
    }
   ],
   "source": [
    "dist[:10]"
   ]
  },
  {
   "cell_type": "code",
   "execution_count": 9,
   "metadata": {},
   "outputs": [],
   "source": [
    "dist = get_distance(x[0],x)"
   ]
  },
  {
   "cell_type": "code",
   "execution_count": 10,
   "metadata": {},
   "outputs": [
    {
     "data": {
      "text/plain": [
       "[(0, 1.1102230246251565e-16),\n",
       " (1, 0.2597533198116333),\n",
       " (2, 0.2528082392094142),\n",
       " (3, 0.26117653630366966),\n",
       " (4, 0.2666797998707906),\n",
       " (5, 0.2673850985781554),\n",
       " (6, 0.27195561864309081),\n",
       " (7, 0.24257562992888537),\n",
       " (8, 0.25236919456259954),\n",
       " (9, 0.26092366404560885)]"
      ]
     },
     "execution_count": 10,
     "metadata": {},
     "output_type": "execute_result"
    }
   ],
   "source": [
    "dist[:10]"
   ]
  },
  {
   "cell_type": "code",
   "execution_count": 11,
   "metadata": {},
   "outputs": [],
   "source": [
    "dist.sort(key=lambda tup: tup[1])"
   ]
  },
  {
   "cell_type": "code",
   "execution_count": 12,
   "metadata": {},
   "outputs": [
    {
     "data": {
      "text/plain": [
       "[(0, 1.1102230246251565e-16),\n",
       " (655, 0.22131986314650653),\n",
       " (743, 0.22164241690762032),\n",
       " (439, 0.22290881346365898),\n",
       " (541, 0.22321213563635356),\n",
       " (154, 0.22399918572998512),\n",
       " (685, 0.22403108889417234),\n",
       " (279, 0.22556434127799874),\n",
       " (341, 0.22589991553534927),\n",
       " (209, 0.22660554741884442)]"
      ]
     },
     "execution_count": 12,
     "metadata": {},
     "output_type": "execute_result"
    }
   ],
   "source": [
    "dist[:10]"
   ]
  },
  {
   "cell_type": "code",
   "execution_count": null,
   "metadata": {
    "collapsed": true
   },
   "outputs": [],
   "source": []
  }
 ],
 "metadata": {
  "kernelspec": {
   "display_name": "Python 3",
   "language": "python",
   "name": "python3"
  },
  "language_info": {
   "codemirror_mode": {
    "name": "ipython",
    "version": 3
   },
   "file_extension": ".py",
   "mimetype": "text/x-python",
   "name": "python",
   "nbconvert_exporter": "python",
   "pygments_lexer": "ipython3",
   "version": "3.6.3"
  }
 },
 "nbformat": 4,
 "nbformat_minor": 2
}
