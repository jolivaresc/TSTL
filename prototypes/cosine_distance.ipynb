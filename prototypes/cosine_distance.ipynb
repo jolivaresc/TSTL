{
 "cells": [
  {
   "cell_type": "code",
   "execution_count": null,
   "metadata": {},
   "outputs": [],
   "source": [
    "import numpy as np"
   ]
  },
  {
   "cell_type": "code",
   "execution_count": null,
   "metadata": {},
   "outputs": [],
   "source": [
    "dtype = [('index',int),('distance',float)]"
   ]
  },
  {
   "cell_type": "code",
   "execution_count": null,
   "metadata": {},
   "outputs": [],
   "source": [
    "values=[(126096, 0.6764406551198738),\n",
    " (185644, 0.6186118496371639),\n",
    " (140143, 0.616410630469068),\n",
    " (186117, 0.61202678818101),\n",
    "        (162834, 0.6269791076482913),\n",
    " (170852, 0.6429144780655748),\n",
    " (132474, 0.6255332017742934),\n",
    " (141469, 0.6386365778311235),\n",
    " \n",
    " (144545, 0.6147515882173152),\n",
    " \n",
    " (134250, 0.6062340037295181)]"
   ]
  },
  {
   "cell_type": "code",
   "execution_count": null,
   "metadata": {},
   "outputs": [],
   "source": [
    "a = np.array(values, dtype=dtype) "
   ]
  },
  {
   "cell_type": "code",
   "execution_count": null,
   "metadata": {},
   "outputs": [],
   "source": [
    "np.sort(a, order='distance')     "
   ]
  },
  {
   "cell_type": "code",
   "execution_count": null,
   "metadata": {},
   "outputs": [],
   "source": [
    "s=list(a)"
   ]
  },
  {
   "cell_type": "code",
   "execution_count": null,
   "metadata": {},
   "outputs": [],
   "source": [
    "s[:3]"
   ]
  },
  {
   "cell_type": "code",
   "execution_count": null,
   "metadata": {},
   "outputs": [],
   "source": []
  },
  {
   "cell_type": "code",
   "execution_count": null,
   "metadata": {},
   "outputs": [],
   "source": []
  },
  {
   "cell_type": "code",
   "execution_count": null,
   "metadata": {},
   "outputs": [],
   "source": [
    "import numpy as np\n",
    "from scipy.spatial.distance import cdist"
   ]
  },
  {
   "cell_type": "code",
   "execution_count": null,
   "metadata": {},
   "outputs": [],
   "source": [
    "np.random.seed(42)"
   ]
  },
  {
   "cell_type": "code",
   "execution_count": null,
   "metadata": {},
   "outputs": [],
   "source": [
    "x = (np.random.uniform(0,15,size=[1500,300])).astype(np.float64)\n",
    "y = (np.random.uniform(100,459,size=[6000,300])).astype(np.float64)"
   ]
  },
  {
   "cell_type": "code",
   "execution_count": null,
   "metadata": {},
   "outputs": [],
   "source": [
    "x"
   ]
  },
  {
   "cell_type": "code",
   "execution_count": null,
   "metadata": {},
   "outputs": [],
   "source": [
    "y"
   ]
  },
  {
   "cell_type": "code",
   "execution_count": null,
   "metadata": {},
   "outputs": [],
   "source": [
    "x[0:4],x[5:9],x[10:14]\n",
    "s=list()\n",
    "def next_batch(x,step,batch_size):\n",
    "    return x[batch_size*step:batch_size*step+batch_size]\n",
    "for i in range(0,4):\n",
    "    print(type(next_batch(x,i,124)))\n"
   ]
  },
  {
   "cell_type": "markdown",
   "metadata": {},
   "source": [
    "# Distancias entre vectores\n",
    "\n",
    "* [Similitud coseno](http://reference.wolfram.com/language/ref/CosineDistance.html):\n",
    "$$\n",
    "CosineDistance[\\vec{u},\\vec{v}] = \\frac{\\vec{u}\\cdot\\vec{v}}{\\lVert \\vec{u} \n",
    "\\lVert \\lVert \\vec{v} \\lVert}\n",
    "$$\n",
    "\n",
    "---\n",
    "\n",
    "* [Distancia euclidiana](http://reference.wolfram.com/language/ref/EuclideanDistance.html):\n",
    "$$\n",
    "EuclidianDistance[\\vec{u},\\vec{v}] = \\sqrt{ \\sum_{k=1}^n (u_i-v_i)^2}\n",
    "$$"
   ]
  },
  {
   "cell_type": "code",
   "execution_count": null,
   "metadata": {},
   "outputs": [],
   "source": [
    "def get_distance(vector, matrix, distance=\"cos\"):\n",
    "    tmp_dist = list(enumerate(((np.matmul(vector, matrix.T) /\n",
    "                                    (np.linalg.norm(vector) *\n",
    "                                     np.sqrt(np.einsum('ij,ij->i',\n",
    "                                                 matrix, matrix,dtype=np.float64)))))))\n",
    "    # Se ordena lista según distancias más cercanas.\n",
    "    tmp_dist = sorted(tmp_dist, key=lambda dist: dist[1],reverse=True)\n",
    "    distances = tmp_dist[:10]\n",
    "    del tmp_dist\n",
    "    # Retorna 10 vectores más cercanos.\n",
    "    return distances"
   ]
  },
  {
   "cell_type": "code",
   "execution_count": null,
   "metadata": {},
   "outputs": [],
   "source": [
    "%%time\n",
    "c = None\n",
    "\n",
    "c= list(enumerate(((np.matmul(y[i], x.T) /\n",
    "       (np.linalg.norm(y[0]) *\n",
    "        np.sqrt(np.einsum('ij,ij->i',\n",
    "                          x, x,dtype=np.float64)))))))\n"
   ]
  },
  {
   "cell_type": "code",
   "execution_count": null,
   "metadata": {},
   "outputs": [],
   "source": [
    "%%time\n",
    "c = None\n",
    "c = [(((np.dot(x[0],x[i]))/(np.linalg.norm(x[0])*np.linalg.norm(x[i]))))\n",
    "                for i in range(x.shape[0])]"
   ]
  },
  {
   "cell_type": "code",
   "execution_count": null,
   "metadata": {},
   "outputs": [],
   "source": [
    "%%time\n",
    "dist = get_distance(y[0],x)"
   ]
  },
  {
   "cell_type": "code",
   "execution_count": null,
   "metadata": {},
   "outputs": [],
   "source": [
    "x.shape,y.shape"
   ]
  },
  {
   "cell_type": "code",
   "execution_count": null,
   "metadata": {},
   "outputs": [],
   "source": [
    "def get_distance1(matrix_A,matrix_B,metric='cosine'):\n",
    "    distances=1-cdist(matrix_A,matrix_B,metric=metric)\n",
    "    tmp_distances,tmp_vect = [], []\n",
    "    for i in range(distances.shape[0]):\n",
    "        tmp_vect = list(enumerate(distances[i]))\n",
    "        tmp_vect = sorted(tmp_vect, key=lambda dist: dist[1],reverse=True)\n",
    "        tmp_distances.append(tmp_vect[:10])\n",
    "        tmp_vect.clear()\n",
    "    del tmp_vect\n",
    "    del distances\n",
    "    return tmp_distances"
   ]
  },
  {
   "cell_type": "code",
   "execution_count": null,
   "metadata": {},
   "outputs": [],
   "source": [
    "%%time\n",
    "r=get_distance1(y,x)\n",
    "print(len(r))"
   ]
  },
  {
   "cell_type": "code",
   "execution_count": null,
   "metadata": {},
   "outputs": [],
   "source": [
    "r[10]"
   ]
  },
  {
   "cell_type": "code",
   "execution_count": null,
   "metadata": {},
   "outputs": [],
   "source": [
    "%%time\n",
    "f=[get_distance(y[i],x) for i in range(y.shape[0])]"
   ]
  },
  {
   "cell_type": "code",
   "execution_count": null,
   "metadata": {},
   "outputs": [],
   "source": [
    "f[10]"
   ]
  },
  {
   "cell_type": "code",
   "execution_count": null,
   "metadata": {},
   "outputs": [],
   "source": [
    "1-d"
   ]
  },
  {
   "cell_type": "code",
   "execution_count": null,
   "metadata": {},
   "outputs": [],
   "source": [
    "dist[:10]"
   ]
  },
  {
   "cell_type": "code",
   "execution_count": null,
   "metadata": {},
   "outputs": [],
   "source": [
    "dist[:10]"
   ]
  },
  {
   "cell_type": "code",
   "execution_count": null,
   "metadata": {},
   "outputs": [],
   "source": [
    "dist = get_distance(y[0],x)"
   ]
  },
  {
   "cell_type": "code",
   "execution_count": null,
   "metadata": {},
   "outputs": [],
   "source": [
    "dist[:10]"
   ]
  },
  {
   "cell_type": "code",
   "execution_count": null,
   "metadata": {},
   "outputs": [],
   "source": [
    "dist.sort(key=lambda tup: tup[1])"
   ]
  },
  {
   "cell_type": "code",
   "execution_count": null,
   "metadata": {},
   "outputs": [],
   "source": [
    "dist[:10]"
   ]
  }
 ],
 "metadata": {
  "kernelspec": {
   "display_name": "Python 3",
   "language": "python",
   "name": "python3"
  },
  "language_info": {
   "codemirror_mode": {
    "name": "ipython",
    "version": 3
   },
   "file_extension": ".py",
   "mimetype": "text/x-python",
   "name": "python",
   "nbconvert_exporter": "python",
   "pygments_lexer": "ipython3",
   "version": "3.6.3"
  }
 },
 "nbformat": 4,
 "nbformat_minor": 2
}
