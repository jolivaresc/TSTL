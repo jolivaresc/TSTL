{
 "cells": [
  {
   "cell_type": "code",
   "execution_count": 1,
   "metadata": {
    "collapsed": true
   },
   "outputs": [],
   "source": [
    "import numpy as np"
   ]
  },
  {
   "cell_type": "code",
   "execution_count": 2,
   "metadata": {
    "collapsed": true
   },
   "outputs": [],
   "source": [
    "np.random.seed(42)"
   ]
  },
  {
   "cell_type": "code",
   "execution_count": 3,
   "metadata": {
    "collapsed": true
   },
   "outputs": [],
   "source": [
    "x = (np.random.uniform(0,15,size=[100,128]))\n",
    "y = (np.random.uniform(0,15,size=[100,128]))"
   ]
  },
  {
   "cell_type": "markdown",
   "metadata": {},
   "source": [
    "# Distancias entre vectores\n",
    "\n",
    "* [Distancia coseno](http://reference.wolfram.com/language/ref/CosineDistance.html):\n",
    "$$\n",
    "CosineDistance[\\vec{u},\\vec{v}] = 1 - \\frac{\\vec{u}\\cdot\\vec{v}}{\\lVert \\vec{u} \n",
    "\\lVert \\lVert \\vec{v} \\lVert}\n",
    "$$\n",
    "\n",
    "---\n",
    "\n",
    "* [Distancia euclidiana](http://reference.wolfram.com/language/ref/EuclideanDistance.html):\n",
    "$$\n",
    "EuclidianDistance[\\vec{u},\\vec{v}] = \\sqrt{ \\sum_{k=1}^n (u_i-v_i)^2}\n",
    "$$"
   ]
  },
  {
   "cell_type": "code",
   "execution_count": 4,
   "metadata": {},
   "outputs": [],
   "source": [
    "def get_distance(vector, matrix,distance=\"cos\"):\n",
    "    \n",
    "    # Distancia coseno\n",
    "    if distance == \"cos\":\n",
    "        return [(i,1 - ((np.dot(vector,matrix[i]))/(np.linalg.norm(vector)*np.linalg.norm(matrix[i]))))\n",
    "                for i in range(matrix.shape[0])]\n",
    "    \n",
    "    # Distancia euclidiana\n",
    "    return [(i,np.linalg.norm(vector-matrix[i]))\n",
    "            for i in range(matrix.shape[0])]"
   ]
  },
  {
   "cell_type": "code",
   "execution_count": 5,
   "metadata": {},
   "outputs": [],
   "source": [
    "dist = get_distance(x[0],x)"
   ]
  },
  {
   "cell_type": "code",
   "execution_count": 6,
   "metadata": {
    "collapsed": true
   },
   "outputs": [],
   "source": [
    "dist.sort(key=lambda tup: tup[1])"
   ]
  },
  {
   "cell_type": "code",
   "execution_count": 7,
   "metadata": {},
   "outputs": [
    {
     "data": {
      "text/plain": [
       "[(0, 0.0),\n",
       " (82, 0.20857466632475141),\n",
       " (59, 0.22249004041280496),\n",
       " (62, 0.22287385665564552),\n",
       " (45, 0.22713294845550447),\n",
       " (87, 0.22941440680510716),\n",
       " (36, 0.23318292386386985),\n",
       " (43, 0.23490387496743415),\n",
       " (51, 0.23539674058696169),\n",
       " (86, 0.23618406303260064)]"
      ]
     },
     "execution_count": 7,
     "metadata": {},
     "output_type": "execute_result"
    }
   ],
   "source": [
    "dist[:10]"
   ]
  },
  {
   "cell_type": "code",
   "execution_count": null,
   "metadata": {
    "collapsed": true
   },
   "outputs": [],
   "source": []
  }
 ],
 "metadata": {
  "kernelspec": {
   "display_name": "Python 3",
   "language": "python",
   "name": "python3"
  },
  "language_info": {
   "codemirror_mode": {
    "name": "ipython",
    "version": 3
   },
   "file_extension": ".py",
   "mimetype": "text/x-python",
   "name": "python",
   "nbconvert_exporter": "python",
   "pygments_lexer": "ipython3",
   "version": "3.6.3"
  }
 },
 "nbformat": 4,
 "nbformat_minor": 2
}
