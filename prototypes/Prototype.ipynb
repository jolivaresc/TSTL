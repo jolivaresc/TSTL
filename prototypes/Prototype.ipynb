{
 "cells": [
  {
   "cell_type": "code",
   "execution_count": 1,
   "metadata": {
    "collapsed": true
   },
   "outputs": [],
   "source": [
    "#http://www.ritchieng.com/machine-learning/deep-learning/tensorflow/deep-neural-nets/\n",
    "#http://ischlag.github.io/2016/06/04/how-to-use-tensorboard/\n",
    "#https://jhui.github.io/2017/03/12/TensorBoard-visualize-your-learning/\n",
    "#https://thecodacus.com/tensorboard-tutorial-visualize-networks-graphically/#.WlVvmnWnG00\n",
    "\n",
    "from pandas import set_option\n",
    "from pandas import read_csv\n",
    "from numpy import array\n",
    "from numpy import float32\n",
    "import tensorflow as tf"
   ]
  },
  {
   "cell_type": "code",
   "execution_count": 2,
   "metadata": {
    "collapsed": true
   },
   "outputs": [],
   "source": [
    "tf.set_random_seed(42)"
   ]
  },
  {
   "cell_type": "code",
   "execution_count": 3,
   "metadata": {
    "collapsed": true
   },
   "outputs": [],
   "source": [
    "set_option('display.max_colwidth', -1)\n",
    "set_option('precision', 18)"
   ]
  },
  {
   "cell_type": "code",
   "execution_count": 4,
   "metadata": {
    "collapsed": true
   },
   "outputs": [],
   "source": [
    "es = read_csv(\"../vectors/es.node2vec.embeddings\", delimiter = \" \", skiprows = 1, header = None)\n",
    "na = read_csv(\"../vectors/na.node2vec.embeddings\", delimiter = \" \", skiprows = 1, header = None)"
   ]
  },
  {
   "cell_type": "code",
   "execution_count": 5,
   "metadata": {},
   "outputs": [
    {
     "data": {
      "text/html": [
       "<div>\n",
       "<style>\n",
       "    .dataframe thead tr:only-child th {\n",
       "        text-align: right;\n",
       "    }\n",
       "\n",
       "    .dataframe thead th {\n",
       "        text-align: left;\n",
       "    }\n",
       "\n",
       "    .dataframe tbody tr th {\n",
       "        vertical-align: top;\n",
       "    }\n",
       "</style>\n",
       "<table border=\"1\" class=\"dataframe\">\n",
       "  <thead>\n",
       "    <tr style=\"text-align: right;\">\n",
       "      <th></th>\n",
       "      <th>0</th>\n",
       "      <th>1</th>\n",
       "      <th>2</th>\n",
       "      <th>3</th>\n",
       "      <th>4</th>\n",
       "      <th>5</th>\n",
       "      <th>6</th>\n",
       "      <th>7</th>\n",
       "      <th>8</th>\n",
       "      <th>9</th>\n",
       "      <th>...</th>\n",
       "      <th>119</th>\n",
       "      <th>120</th>\n",
       "      <th>121</th>\n",
       "      <th>122</th>\n",
       "      <th>123</th>\n",
       "      <th>124</th>\n",
       "      <th>125</th>\n",
       "      <th>126</th>\n",
       "      <th>127</th>\n",
       "      <th>128</th>\n",
       "    </tr>\n",
       "  </thead>\n",
       "  <tbody>\n",
       "    <tr>\n",
       "      <th>0</th>\n",
       "      <td>igual</td>\n",
       "      <td>-0.021394000000000000</td>\n",
       "      <td>-0.223086000000000007</td>\n",
       "      <td>0.081375000000000003</td>\n",
       "      <td>-0.440008000000000010</td>\n",
       "      <td>0.414202999999999988</td>\n",
       "      <td>-0.377524000000000026</td>\n",
       "      <td>-0.405760999999999983</td>\n",
       "      <td>-0.080980999999999984</td>\n",
       "      <td>-0.143192000000000014</td>\n",
       "      <td>...</td>\n",
       "      <td>-0.185254000000000002</td>\n",
       "      <td>0.175382000000000010</td>\n",
       "      <td>0.326658000000000004</td>\n",
       "      <td>0.094920000000000004</td>\n",
       "      <td>-0.696819999999999995</td>\n",
       "      <td>0.002694000000000000</td>\n",
       "      <td>-0.451108999999999982</td>\n",
       "      <td>-0.471277999999999975</td>\n",
       "      <td>0.041342999999999998</td>\n",
       "      <td>-0.385863000000000012</td>\n",
       "    </tr>\n",
       "    <tr>\n",
       "      <th>1</th>\n",
       "      <td>hermano</td>\n",
       "      <td>-0.275133000000000016</td>\n",
       "      <td>-0.290683999999999998</td>\n",
       "      <td>-0.035325000000000002</td>\n",
       "      <td>-0.172819000000000000</td>\n",
       "      <td>-0.171268000000000004</td>\n",
       "      <td>0.194177999999999989</td>\n",
       "      <td>-0.260794999999999999</td>\n",
       "      <td>-0.131469000000000003</td>\n",
       "      <td>-0.560057000000000027</td>\n",
       "      <td>...</td>\n",
       "      <td>-0.772757000000000027</td>\n",
       "      <td>0.263089999999999991</td>\n",
       "      <td>0.152055999999999997</td>\n",
       "      <td>-0.348088999999999982</td>\n",
       "      <td>0.317742000000000024</td>\n",
       "      <td>0.093362000000000001</td>\n",
       "      <td>-0.539200000000000013</td>\n",
       "      <td>-0.091987000000000013</td>\n",
       "      <td>0.245604999999999990</td>\n",
       "      <td>0.074918999999999999</td>\n",
       "    </tr>\n",
       "    <tr>\n",
       "      <th>2</th>\n",
       "      <td>martajan</td>\n",
       "      <td>-0.390027000000000013</td>\n",
       "      <td>-0.181653000000000009</td>\n",
       "      <td>-0.266087999999999991</td>\n",
       "      <td>0.134891000000000011</td>\n",
       "      <td>-0.105632999999999991</td>\n",
       "      <td>-0.124488000000000015</td>\n",
       "      <td>-0.857403000000000026</td>\n",
       "      <td>-0.210448999999999969</td>\n",
       "      <td>0.100710999999999995</td>\n",
       "      <td>...</td>\n",
       "      <td>-0.305485000000000007</td>\n",
       "      <td>-0.438153999999999988</td>\n",
       "      <td>0.633051999999999948</td>\n",
       "      <td>-0.086624000000000007</td>\n",
       "      <td>0.049135999999999999</td>\n",
       "      <td>-0.166021000000000002</td>\n",
       "      <td>-0.458888999999999991</td>\n",
       "      <td>0.214303999999999994</td>\n",
       "      <td>-0.089515999999999998</td>\n",
       "      <td>-0.083751000000000006</td>\n",
       "    </tr>\n",
       "    <tr>\n",
       "      <th>3</th>\n",
       "      <td>fuero</td>\n",
       "      <td>0.038670999999999997</td>\n",
       "      <td>-0.126187999999999995</td>\n",
       "      <td>-0.128566999999999987</td>\n",
       "      <td>-0.107231000000000007</td>\n",
       "      <td>0.091522000000000006</td>\n",
       "      <td>-0.151676000000000005</td>\n",
       "      <td>-0.137239000000000000</td>\n",
       "      <td>-0.118835999999999983</td>\n",
       "      <td>-0.078329999999999983</td>\n",
       "      <td>...</td>\n",
       "      <td>-0.221096999999999988</td>\n",
       "      <td>0.062376000000000001</td>\n",
       "      <td>0.249082000000000026</td>\n",
       "      <td>0.034577999999999998</td>\n",
       "      <td>-0.069553000000000004</td>\n",
       "      <td>0.115556000000000006</td>\n",
       "      <td>-0.058006000000000002</td>\n",
       "      <td>0.075348999999999999</td>\n",
       "      <td>-0.039742000000000000</td>\n",
       "      <td>0.043875999999999998</td>\n",
       "    </tr>\n",
       "    <tr>\n",
       "      <th>4</th>\n",
       "      <td>ehecatl</td>\n",
       "      <td>-0.262041999999999997</td>\n",
       "      <td>-0.341544000000000014</td>\n",
       "      <td>0.020990999999999999</td>\n",
       "      <td>-0.098941000000000001</td>\n",
       "      <td>0.006511000000000000</td>\n",
       "      <td>-0.406260999999999983</td>\n",
       "      <td>-0.011587000000000000</td>\n",
       "      <td>-0.046593999999999997</td>\n",
       "      <td>0.200022000000000005</td>\n",
       "      <td>...</td>\n",
       "      <td>-0.087499999999999981</td>\n",
       "      <td>-0.129405999999999993</td>\n",
       "      <td>-0.203127000000000002</td>\n",
       "      <td>-0.141165000000000013</td>\n",
       "      <td>-0.115330000000000002</td>\n",
       "      <td>-0.204074000000000005</td>\n",
       "      <td>-0.148682000000000009</td>\n",
       "      <td>-0.107581999999999997</td>\n",
       "      <td>-0.051375999999999998</td>\n",
       "      <td>0.160946000000000006</td>\n",
       "    </tr>\n",
       "  </tbody>\n",
       "</table>\n",
       "<p>5 rows × 129 columns</p>\n",
       "</div>"
      ],
      "text/plain": [
       "          0                     1                     2                     3  \\\n",
       "0  igual    -0.021394000000000000 -0.223086000000000007  0.081375000000000003   \n",
       "1  hermano  -0.275133000000000016 -0.290683999999999998 -0.035325000000000002   \n",
       "2  martajan -0.390027000000000013 -0.181653000000000009 -0.266087999999999991   \n",
       "3  fuero     0.038670999999999997 -0.126187999999999995 -0.128566999999999987   \n",
       "4  ehecatl  -0.262041999999999997 -0.341544000000000014  0.020990999999999999   \n",
       "\n",
       "                      4                     5                     6  \\\n",
       "0 -0.440008000000000010  0.414202999999999988 -0.377524000000000026   \n",
       "1 -0.172819000000000000 -0.171268000000000004  0.194177999999999989   \n",
       "2  0.134891000000000011 -0.105632999999999991 -0.124488000000000015   \n",
       "3 -0.107231000000000007  0.091522000000000006 -0.151676000000000005   \n",
       "4 -0.098941000000000001  0.006511000000000000 -0.406260999999999983   \n",
       "\n",
       "                      7                     8                     9  \\\n",
       "0 -0.405760999999999983 -0.080980999999999984 -0.143192000000000014   \n",
       "1 -0.260794999999999999 -0.131469000000000003 -0.560057000000000027   \n",
       "2 -0.857403000000000026 -0.210448999999999969  0.100710999999999995   \n",
       "3 -0.137239000000000000 -0.118835999999999983 -0.078329999999999983   \n",
       "4 -0.011587000000000000 -0.046593999999999997  0.200022000000000005   \n",
       "\n",
       "           ...                            119                   120  \\\n",
       "0          ...          -0.185254000000000002  0.175382000000000010   \n",
       "1          ...          -0.772757000000000027  0.263089999999999991   \n",
       "2          ...          -0.305485000000000007 -0.438153999999999988   \n",
       "3          ...          -0.221096999999999988  0.062376000000000001   \n",
       "4          ...          -0.087499999999999981 -0.129405999999999993   \n",
       "\n",
       "                    121                   122                   123  \\\n",
       "0  0.326658000000000004  0.094920000000000004 -0.696819999999999995   \n",
       "1  0.152055999999999997 -0.348088999999999982  0.317742000000000024   \n",
       "2  0.633051999999999948 -0.086624000000000007  0.049135999999999999   \n",
       "3  0.249082000000000026  0.034577999999999998 -0.069553000000000004   \n",
       "4 -0.203127000000000002 -0.141165000000000013 -0.115330000000000002   \n",
       "\n",
       "                    124                   125                   126  \\\n",
       "0  0.002694000000000000 -0.451108999999999982 -0.471277999999999975   \n",
       "1  0.093362000000000001 -0.539200000000000013 -0.091987000000000013   \n",
       "2 -0.166021000000000002 -0.458888999999999991  0.214303999999999994   \n",
       "3  0.115556000000000006 -0.058006000000000002  0.075348999999999999   \n",
       "4 -0.204074000000000005 -0.148682000000000009 -0.107581999999999997   \n",
       "\n",
       "                    127                   128  \n",
       "0  0.041342999999999998 -0.385863000000000012  \n",
       "1  0.245604999999999990  0.074918999999999999  \n",
       "2 -0.089515999999999998 -0.083751000000000006  \n",
       "3 -0.039742000000000000  0.043875999999999998  \n",
       "4 -0.051375999999999998  0.160946000000000006  \n",
       "\n",
       "[5 rows x 129 columns]"
      ]
     },
     "execution_count": 5,
     "metadata": {},
     "output_type": "execute_result"
    }
   ],
   "source": [
    "es.head()"
   ]
  },
  {
   "cell_type": "code",
   "execution_count": 6,
   "metadata": {},
   "outputs": [
    {
     "data": {
      "text/html": [
       "<div>\n",
       "<style>\n",
       "    .dataframe thead tr:only-child th {\n",
       "        text-align: right;\n",
       "    }\n",
       "\n",
       "    .dataframe thead th {\n",
       "        text-align: left;\n",
       "    }\n",
       "\n",
       "    .dataframe tbody tr th {\n",
       "        vertical-align: top;\n",
       "    }\n",
       "</style>\n",
       "<table border=\"1\" class=\"dataframe\">\n",
       "  <thead>\n",
       "    <tr style=\"text-align: right;\">\n",
       "      <th></th>\n",
       "      <th>0</th>\n",
       "      <th>1</th>\n",
       "      <th>2</th>\n",
       "      <th>3</th>\n",
       "      <th>4</th>\n",
       "      <th>5</th>\n",
       "      <th>6</th>\n",
       "      <th>7</th>\n",
       "      <th>8</th>\n",
       "      <th>9</th>\n",
       "      <th>...</th>\n",
       "      <th>119</th>\n",
       "      <th>120</th>\n",
       "      <th>121</th>\n",
       "      <th>122</th>\n",
       "      <th>123</th>\n",
       "      <th>124</th>\n",
       "      <th>125</th>\n",
       "      <th>126</th>\n",
       "      <th>127</th>\n",
       "      <th>128</th>\n",
       "    </tr>\n",
       "  </thead>\n",
       "  <tbody>\n",
       "    <tr>\n",
       "      <th>0</th>\n",
       "      <td>tihuitz</td>\n",
       "      <td>-0.348621000000000014</td>\n",
       "      <td>-0.017441000000000002</td>\n",
       "      <td>-0.155883999999999995</td>\n",
       "      <td>-0.418601000000000001</td>\n",
       "      <td>0.666802000000000006</td>\n",
       "      <td>-0.385216000000000003</td>\n",
       "      <td>-0.507603000000000026</td>\n",
       "      <td>0.115668999999999994</td>\n",
       "      <td>-0.210249999999999992</td>\n",
       "      <td>...</td>\n",
       "      <td>-0.577107000000000037</td>\n",
       "      <td>-0.059977999999999997</td>\n",
       "      <td>0.339285000000000003</td>\n",
       "      <td>0.037353999999999998</td>\n",
       "      <td>-0.344376000000000015</td>\n",
       "      <td>0.141060999999999992</td>\n",
       "      <td>0.233917999999999987</td>\n",
       "      <td>-0.402866000000000002</td>\n",
       "      <td>-0.363315999999999972</td>\n",
       "      <td>0.590776999999999997</td>\n",
       "    </tr>\n",
       "    <tr>\n",
       "      <th>1</th>\n",
       "      <td>quixtia</td>\n",
       "      <td>0.163007999999999986</td>\n",
       "      <td>-0.278059999999999974</td>\n",
       "      <td>-0.453527000000000013</td>\n",
       "      <td>-0.064904000000000003</td>\n",
       "      <td>0.025853999999999999</td>\n",
       "      <td>-0.084598000000000007</td>\n",
       "      <td>-0.170526000000000011</td>\n",
       "      <td>-0.208350000000000007</td>\n",
       "      <td>-0.172448999999999991</td>\n",
       "      <td>...</td>\n",
       "      <td>-0.529113999999999973</td>\n",
       "      <td>0.010237000000000001</td>\n",
       "      <td>0.433474000000000026</td>\n",
       "      <td>0.337760000000000005</td>\n",
       "      <td>-0.287584000000000006</td>\n",
       "      <td>0.015219999999999999</td>\n",
       "      <td>-0.413629000000000024</td>\n",
       "      <td>-0.150796000000000013</td>\n",
       "      <td>-0.156616000000000005</td>\n",
       "      <td>-0.005837000000000000</td>\n",
       "    </tr>\n",
       "    <tr>\n",
       "      <th>2</th>\n",
       "      <td>quixtiz</td>\n",
       "      <td>-0.689479999999999982</td>\n",
       "      <td>-0.714752999999999972</td>\n",
       "      <td>-0.100995000000000001</td>\n",
       "      <td>-0.094793000000000002</td>\n",
       "      <td>1.021972000000000103</td>\n",
       "      <td>0.090782000000000002</td>\n",
       "      <td>-0.129735999999999990</td>\n",
       "      <td>0.228915000000000007</td>\n",
       "      <td>0.007809000000000000</td>\n",
       "      <td>...</td>\n",
       "      <td>-0.114314000000000013</td>\n",
       "      <td>-0.053691999999999997</td>\n",
       "      <td>-0.343855000000000022</td>\n",
       "      <td>-0.012789999999999999</td>\n",
       "      <td>0.168138000000000010</td>\n",
       "      <td>0.322913999999999979</td>\n",
       "      <td>0.185893000000000003</td>\n",
       "      <td>0.157933999999999991</td>\n",
       "      <td>-0.369580999999999993</td>\n",
       "      <td>0.330840999999999996</td>\n",
       "    </tr>\n",
       "    <tr>\n",
       "      <th>3</th>\n",
       "      <td>triarcas</td>\n",
       "      <td>-0.239407000000000009</td>\n",
       "      <td>0.284032999999999980</td>\n",
       "      <td>0.120584999999999998</td>\n",
       "      <td>-0.452631999999999979</td>\n",
       "      <td>-0.201202999999999993</td>\n",
       "      <td>-0.211770999999999987</td>\n",
       "      <td>-0.927865999999999969</td>\n",
       "      <td>-0.209665999999999991</td>\n",
       "      <td>0.436325000000000018</td>\n",
       "      <td>...</td>\n",
       "      <td>-1.114122000000000057</td>\n",
       "      <td>-0.185642000000000001</td>\n",
       "      <td>-0.066564999999999999</td>\n",
       "      <td>0.003861000000000000</td>\n",
       "      <td>0.115815000000000015</td>\n",
       "      <td>-0.495630999999999988</td>\n",
       "      <td>0.358493000000000006</td>\n",
       "      <td>0.265313000000000021</td>\n",
       "      <td>-0.835150999999999977</td>\n",
       "      <td>-0.235812999999999995</td>\n",
       "    </tr>\n",
       "    <tr>\n",
       "      <th>4</th>\n",
       "      <td>peuh</td>\n",
       "      <td>-0.181800999999999990</td>\n",
       "      <td>-0.273990999999999985</td>\n",
       "      <td>-0.298422999999999994</td>\n",
       "      <td>0.112453999999999998</td>\n",
       "      <td>-0.174767000000000006</td>\n",
       "      <td>0.226840999999999987</td>\n",
       "      <td>-0.200030000000000013</td>\n",
       "      <td>-0.225804000000000005</td>\n",
       "      <td>-0.098054000000000002</td>\n",
       "      <td>...</td>\n",
       "      <td>-0.059520000000000003</td>\n",
       "      <td>-0.505542000000000047</td>\n",
       "      <td>0.070814000000000002</td>\n",
       "      <td>0.318340999999999985</td>\n",
       "      <td>-0.279799999999999993</td>\n",
       "      <td>0.314554000000000000</td>\n",
       "      <td>-0.474447999999999981</td>\n",
       "      <td>0.066695000000000004</td>\n",
       "      <td>-0.559996000000000049</td>\n",
       "      <td>-0.110311999999999993</td>\n",
       "    </tr>\n",
       "  </tbody>\n",
       "</table>\n",
       "<p>5 rows × 129 columns</p>\n",
       "</div>"
      ],
      "text/plain": [
       "          0                     1                     2                     3  \\\n",
       "0  tihuitz  -0.348621000000000014 -0.017441000000000002 -0.155883999999999995   \n",
       "1  quixtia   0.163007999999999986 -0.278059999999999974 -0.453527000000000013   \n",
       "2  quixtiz  -0.689479999999999982 -0.714752999999999972 -0.100995000000000001   \n",
       "3  triarcas -0.239407000000000009  0.284032999999999980  0.120584999999999998   \n",
       "4  peuh     -0.181800999999999990 -0.273990999999999985 -0.298422999999999994   \n",
       "\n",
       "                      4                     5                     6  \\\n",
       "0 -0.418601000000000001  0.666802000000000006 -0.385216000000000003   \n",
       "1 -0.064904000000000003  0.025853999999999999 -0.084598000000000007   \n",
       "2 -0.094793000000000002  1.021972000000000103  0.090782000000000002   \n",
       "3 -0.452631999999999979 -0.201202999999999993 -0.211770999999999987   \n",
       "4  0.112453999999999998 -0.174767000000000006  0.226840999999999987   \n",
       "\n",
       "                      7                     8                     9  \\\n",
       "0 -0.507603000000000026  0.115668999999999994 -0.210249999999999992   \n",
       "1 -0.170526000000000011 -0.208350000000000007 -0.172448999999999991   \n",
       "2 -0.129735999999999990  0.228915000000000007  0.007809000000000000   \n",
       "3 -0.927865999999999969 -0.209665999999999991  0.436325000000000018   \n",
       "4 -0.200030000000000013 -0.225804000000000005 -0.098054000000000002   \n",
       "\n",
       "           ...                            119                   120  \\\n",
       "0          ...          -0.577107000000000037 -0.059977999999999997   \n",
       "1          ...          -0.529113999999999973  0.010237000000000001   \n",
       "2          ...          -0.114314000000000013 -0.053691999999999997   \n",
       "3          ...          -1.114122000000000057 -0.185642000000000001   \n",
       "4          ...          -0.059520000000000003 -0.505542000000000047   \n",
       "\n",
       "                    121                   122                   123  \\\n",
       "0  0.339285000000000003  0.037353999999999998 -0.344376000000000015   \n",
       "1  0.433474000000000026  0.337760000000000005 -0.287584000000000006   \n",
       "2 -0.343855000000000022 -0.012789999999999999  0.168138000000000010   \n",
       "3 -0.066564999999999999  0.003861000000000000  0.115815000000000015   \n",
       "4  0.070814000000000002  0.318340999999999985 -0.279799999999999993   \n",
       "\n",
       "                    124                   125                   126  \\\n",
       "0  0.141060999999999992  0.233917999999999987 -0.402866000000000002   \n",
       "1  0.015219999999999999 -0.413629000000000024 -0.150796000000000013   \n",
       "2  0.322913999999999979  0.185893000000000003  0.157933999999999991   \n",
       "3 -0.495630999999999988  0.358493000000000006  0.265313000000000021   \n",
       "4  0.314554000000000000 -0.474447999999999981  0.066695000000000004   \n",
       "\n",
       "                    127                   128  \n",
       "0 -0.363315999999999972  0.590776999999999997  \n",
       "1 -0.156616000000000005 -0.005837000000000000  \n",
       "2 -0.369580999999999993  0.330840999999999996  \n",
       "3 -0.835150999999999977 -0.235812999999999995  \n",
       "4 -0.559996000000000049 -0.110311999999999993  \n",
       "\n",
       "[5 rows x 129 columns]"
      ]
     },
     "execution_count": 6,
     "metadata": {},
     "output_type": "execute_result"
    }
   ],
   "source": [
    "na.head()"
   ]
  },
  {
   "cell_type": "code",
   "execution_count": 7,
   "metadata": {
    "collapsed": true
   },
   "outputs": [],
   "source": [
    "es_vectores = array(es[:1900].loc[:,1::]).astype(float32)\n",
    "na_vectores = array(na[:1900].loc[:,1::]).astype(float32)"
   ]
  },
  {
   "cell_type": "code",
   "execution_count": 8,
   "metadata": {},
   "outputs": [
    {
     "data": {
      "text/plain": [
       "array([[ -2.13939995e-02,  -2.23085999e-01,   8.13750029e-02, ...,\n",
       "         -4.71278012e-01,   4.13429998e-02,  -3.85863006e-01],\n",
       "       [ -2.75133014e-01,  -2.90684015e-01,  -3.53249982e-02, ...,\n",
       "         -9.19869989e-02,   2.45605007e-01,   7.49190003e-02],\n",
       "       [ -3.90026987e-01,  -1.81652993e-01,  -2.66088009e-01, ...,\n",
       "          2.14304000e-01,  -8.95159990e-02,  -8.37510005e-02],\n",
       "       ..., \n",
       "       [ -3.08957011e-01,  -7.55291998e-01,  -2.55849987e-01, ...,\n",
       "         -1.68337002e-01,  -2.70969987e-01,  -1.13678001e-01],\n",
       "       [ -1.12017997e-01,  -3.38728994e-01,  -5.40111005e-01, ...,\n",
       "          1.00536004e-01,  -4.34828013e-01,   1.95170999e-01],\n",
       "       [  1.72402993e-01,  -1.33572996e-01,  -5.93950003e-02, ...,\n",
       "          4.24019992e-01,  -5.63090980e-01,   5.63999987e-04]], dtype=float32)"
      ]
     },
     "execution_count": 8,
     "metadata": {},
     "output_type": "execute_result"
    }
   ],
   "source": [
    "es_vectores"
   ]
  },
  {
   "cell_type": "code",
   "execution_count": 9,
   "metadata": {},
   "outputs": [
    {
     "data": {
      "text/plain": [
       "array([[-0.34862101, -0.017441  , -0.155884  , ..., -0.40286601,\n",
       "        -0.363316  ,  0.59077698],\n",
       "       [ 0.163008  , -0.27805999, -0.453527  , ..., -0.150796  ,\n",
       "        -0.156616  , -0.005837  ],\n",
       "       [-0.68948001, -0.71475297, -0.100995  , ...,  0.157934  ,\n",
       "        -0.36958101,  0.330841  ],\n",
       "       ..., \n",
       "       [-0.60704499,  0.019681  , -0.16201   , ..., -0.695319  ,\n",
       "        -0.28995901, -0.67276502],\n",
       "       [-0.086007  , -0.506019  , -0.02504   , ...,  0.053332  ,\n",
       "         0.200712  , -0.14809801],\n",
       "       [-0.242456  , -0.40662399, -0.44837299, ...,  0.204762  ,\n",
       "         0.063915  ,  0.040679  ]], dtype=float32)"
      ]
     },
     "execution_count": 9,
     "metadata": {},
     "output_type": "execute_result"
    }
   ],
   "source": [
    "na_vectores"
   ]
  },
  {
   "cell_type": "code",
   "execution_count": 10,
   "metadata": {
    "collapsed": true
   },
   "outputs": [],
   "source": [
    "es_palabras = es[0]\n",
    "na_palabras = na[0]"
   ]
  },
  {
   "cell_type": "code",
   "execution_count": 11,
   "metadata": {},
   "outputs": [
    {
     "name": "stdout",
     "output_type": "stream",
     "text": [
      "shape es: (1900, 128) \n",
      "shape na: (1900, 128)\n"
     ]
    }
   ],
   "source": [
    "print(\"shape es:\",es_vectores.shape,\"\\nshape na:\",na_vectores.shape)"
   ]
  },
  {
   "cell_type": "markdown",
   "metadata": {},
   "source": [
    "# Hyperparameters"
   ]
  },
  {
   "cell_type": "code",
   "execution_count": 12,
   "metadata": {
    "collapsed": true
   },
   "outputs": [],
   "source": [
    "# Hyperparameters\n",
    "LEARNING_RATE = 0.1\n",
    "EPOCHS = 10\n",
    "BATCH_SIZE = 100\n",
    "\n",
    "NODES_INPUT = es_vectores[0].size\n",
    "NODES_H1 = 128\n",
    "NODES_H2 = 128\n",
    "NODES_OUPUT = na_vectores[0].size\n",
    "INSTANCES = es_vectores.__len__()\n",
    "NUM_STEPS = 5000"
   ]
  },
  {
   "cell_type": "code",
   "execution_count": 13,
   "metadata": {},
   "outputs": [
    {
     "name": "stdout",
     "output_type": "stream",
     "text": [
      "X: (?, 128) y: (?, 128)\n"
     ]
    }
   ],
   "source": [
    "X = tf.placeholder(shape=[None,NODES_INPUT], dtype=tf.float32,name='input_es')\n",
    "y = tf.placeholder(shape=[None,NODES_OUPUT], dtype=tf.float32,name='target_na')\n",
    "print(\"X:\",X.shape,\"y:\",y.shape)"
   ]
  },
  {
   "cell_type": "code",
   "execution_count": 14,
   "metadata": {},
   "outputs": [
    {
     "data": {
      "text/plain": [
       "<tf.Tensor 'weight_out:0' shape=() dtype=string>"
      ]
     },
     "execution_count": 14,
     "metadata": {},
     "output_type": "execute_result"
    }
   ],
   "source": [
    "# Capas ocultas (weights & bias)\n",
    "hidden_layer1 = {\"W1\":tf.Variable(tf.truncated_normal([NODES_INPUT,NODES_H1],stddev=0.01),name = 'W1'),\n",
    "                 \"b1\":tf.constant(0.1,shape=[NODES_H1], name = 'b1')}\n",
    "\n",
    "hidden_layer2 = {\"W2\":tf.Variable(tf.truncated_normal([NODES_H1,NODES_H2],stddev=0.01),name = 'W2'),\n",
    "                 \"b2\":tf.constant(0.1,shape=[NODES_H2], name = 'b2')}\n",
    "\n",
    "# Capa de salida\n",
    "output_layer = {\"W_out\":tf.Variable(tf.truncated_normal([NODES_H1,NODES_OUPUT],stddev=0.01),\n",
    "                name = 'W_output'),\n",
    "                \"b_out\":tf.constant(0.1,shape=[NODES_OUPUT], name = 'b_output')}\n",
    "\n",
    "\n",
    "tf.summary.histogram(\"weight_1\", hidden_layer1[\"W1\"])\n",
    "tf.summary.histogram(\"weight_2\", hidden_layer2[\"W2\"])\n",
    "tf.summary.histogram(\"weight_out\", output_layer[\"W_out\"])"
   ]
  },
  {
   "cell_type": "code",
   "execution_count": 15,
   "metadata": {},
   "outputs": [
    {
     "name": "stdout",
     "output_type": "stream",
     "text": [
      "{'W1': <tf.Variable 'W1:0' shape=(128, 128) dtype=float32_ref>, 'b1': <tf.Tensor 'b1:0' shape=(128,) dtype=float32>}\n"
     ]
    }
   ],
   "source": [
    "print(hidden_layer1)"
   ]
  },
  {
   "cell_type": "code",
   "execution_count": 16,
   "metadata": {},
   "outputs": [
    {
     "data": {
      "text/plain": [
       "<tf.Tensor 'activationsh1:0' shape=() dtype=string>"
      ]
     },
     "execution_count": 16,
     "metadata": {},
     "output_type": "execute_result"
    }
   ],
   "source": [
    "# Calcular la salida de la 1er capa oculta\n",
    "# h(x) = x*w + bias\n",
    "hidden_layer1_output = tf.add(tf.matmul(es_vectores, hidden_layer1[\"W1\"]), hidden_layer1[\"b1\"])\n",
    "# Función de activación usando ReLU\n",
    "tf.summary.histogram(\"pre_activations_h1\", hidden_layer1_output)\n",
    "hidden_layer1_output = tf.nn.relu(hidden_layer1_output,name=\"h1Activation\")\n",
    "tf.summary.histogram('activationsh1', hidden_layer1_output)"
   ]
  },
  {
   "cell_type": "code",
   "execution_count": 17,
   "metadata": {},
   "outputs": [
    {
     "data": {
      "text/plain": [
       "<tf.Tensor 'activationsh2:0' shape=() dtype=string>"
      ]
     },
     "execution_count": 17,
     "metadata": {},
     "output_type": "execute_result"
    }
   ],
   "source": [
    "# Calcular la salida de la 2da capa oculta\n",
    "# h(x) = x*w + bias\n",
    "hidden_layer2_output = tf.add(tf.matmul(hidden_layer1_output, hidden_layer2[\"W2\"]), hidden_layer2[\"b2\"])\n",
    "# Función de activación usando ReLU\n",
    "tf.summary.histogram(\"pre_activations_h2\", hidden_layer2_output)\n",
    "hidden_layer2_output = tf.nn.relu(hidden_layer2_output,name=\"h2Activation\")\n",
    "tf.summary.histogram('activationsh2', hidden_layer2_output)"
   ]
  },
  {
   "cell_type": "code",
   "execution_count": 18,
   "metadata": {},
   "outputs": [
    {
     "name": "stdout",
     "output_type": "stream",
     "text": [
      "(1900, 128) (?, 128)\n"
     ]
    }
   ],
   "source": [
    "# calcular la salida la NN\n",
    "output = tf.add(tf.matmul(hidden_layer2_output, output_layer[\"W_out\"]),output_layer[\"b_out\"])\n",
    "# Función de activación usando softmax\n",
    "tf.summary.histogram(\"pre_activations_output\", output)\n",
    "nah_predicted = tf.nn.softmax(output,name=\"outActivation\")\n",
    "tf.summary.histogram('activationsout', nah_predicted)\n",
    "print(nah_predicted.shape,y.shape)"
   ]
  },
  {
   "cell_type": "code",
   "execution_count": 19,
   "metadata": {},
   "outputs": [
    {
     "data": {
      "text/plain": [
       "<tf.Tensor 'cost:0' shape=() dtype=string>"
      ]
     },
     "execution_count": 19,
     "metadata": {},
     "output_type": "execute_result"
    }
   ],
   "source": [
    "# Función de error (Mean Square Error)\n",
    "#loss = tf.reduce_mean(tf.nn.softmax_cross_entropy_with_logits_v2(labels=y, logits=nah_predicted))\n",
    "loss = tf.reduce_mean(tf.squared_difference(nah_predicted,y),name=\"loss_f\")\n",
    "#loss = tf.reduce_mean(tf.reduce_sum((nah_predicted - y) ** 2))\n",
    "tf.summary.scalar(\"cost\",loss)"
   ]
  },
  {
   "cell_type": "code",
   "execution_count": 20,
   "metadata": {
    "collapsed": true
   },
   "outputs": [],
   "source": [
    "# optimiser, \n",
    "optimiser = tf.train.AdagradOptimizer(learning_rate=LEARNING_RATE,\n",
    "                                      name=\"AdagradOptimizer\").minimize(loss, name=\"loss\")"
   ]
  },
  {
   "cell_type": "code",
   "execution_count": 21,
   "metadata": {
    "collapsed": true
   },
   "outputs": [],
   "source": [
    "#Session\n",
    "sess = tf.Session()\n",
    "# Initialize variables\n",
    "summaryMerged = tf.summary.merge_all()\n",
    "writer = tf.summary.FileWriter(\"./logs/NN\",sess.graph)\n",
    "run_options = tf.RunOptions(trace_level=tf.RunOptions.FULL_TRACE)\n",
    "run_metadata = tf.RunMetadata()\n",
    "init = tf.global_variables_initializer()\n",
    "sess.run(init)"
   ]
  },
  {
   "cell_type": "code",
   "execution_count": 22,
   "metadata": {
    "collapsed": true
   },
   "outputs": [],
   "source": [
    "tmp_hidden_layer1,tmp_hidden_layer2 = sess.run(hidden_layer1),sess.run(hidden_layer2)"
   ]
  },
  {
   "cell_type": "code",
   "execution_count": 23,
   "metadata": {},
   "outputs": [
    {
     "name": "stdout",
     "output_type": "stream",
     "text": [
      "0.159136\n",
      "0.159132\n",
      "0.159129\n",
      "0.159126\n",
      "0.159123\n",
      "0.15912\n",
      "0.159116\n",
      "0.159113\n",
      "0.15911\n",
      "0.159107\n",
      "0.159103\n",
      "0.1591\n",
      "0.159096\n",
      "0.159093\n",
      "0.15909\n",
      "0.159086\n",
      "0.159083\n",
      "0.15908\n",
      "0.159076\n",
      "0.159073\n",
      "0.159069\n",
      "0.159066\n",
      "0.159062\n",
      "0.159059\n",
      "0.159055\n",
      "0.159051\n",
      "0.159048\n",
      "0.159044\n",
      "0.15904\n",
      "0.159036\n"
     ]
    }
   ],
   "source": [
    "for i in range(3000):\n",
    "    '''\n",
    "    offset = (step * BATCH_SIZE) % (es_vectores.shape[0] - BATCH_SIZE)\n",
    "    batch_data = es_vectores[offset:(offset + BATCH_SIZE), :]\n",
    "    batch_target = na_vectores[offset:(offset + BATCH_SIZE), :]\n",
    "    '''\n",
    "    _loss,_, sumOut = sess.run([loss,optimiser, summaryMerged], feed_dict={\n",
    "                        X: es_vectores, y: na_vectores},\n",
    "                        options=run_options,\n",
    "                        run_metadata=run_metadata)\n",
    "    if (i % 100) == 0:\n",
    "        print(_loss)\n",
    "    writer.add_summary(sumOut, i)\n",
    "    writer.add_run_metadata(run_metadata, 'step%03d' % i)\n",
    "writer.close()"
   ]
  },
  {
   "cell_type": "code",
   "execution_count": null,
   "metadata": {
    "collapsed": true
   },
   "outputs": [],
   "source": []
  },
  {
   "cell_type": "code",
   "execution_count": 24,
   "metadata": {},
   "outputs": [
    {
     "name": "stdout",
     "output_type": "stream",
     "text": [
      "{'W1': array([[ 0.01083493, -0.01566196, -0.00410667, ..., -0.00440193,\n",
      "         0.00182029, -0.00193312],\n",
      "       [ 0.01465998, -0.0098182 ,  0.00280799, ...,  0.00754412,\n",
      "        -0.00551736,  0.009543  ],\n",
      "       [ 0.01194355,  0.00044788, -0.00274036, ...,  0.01057103,\n",
      "        -0.01332162,  0.00339089],\n",
      "       ..., \n",
      "       [-0.00548137,  0.00695821, -0.00708327, ...,  0.00341065,\n",
      "        -0.01197848, -0.00558517],\n",
      "       [-0.00745449, -0.00052819, -0.00955121, ..., -0.00074251,\n",
      "        -0.0143069 ,  0.00596605],\n",
      "       [-0.00782242,  0.00816668, -0.00558511, ...,  0.00087154,\n",
      "         0.0056173 , -0.00862032]], dtype=float32), 'b1': array([ 0.1,  0.1,  0.1,  0.1,  0.1,  0.1,  0.1,  0.1,  0.1,  0.1,  0.1,\n",
      "        0.1,  0.1,  0.1,  0.1,  0.1,  0.1,  0.1,  0.1,  0.1,  0.1,  0.1,\n",
      "        0.1,  0.1,  0.1,  0.1,  0.1,  0.1,  0.1,  0.1,  0.1,  0.1,  0.1,\n",
      "        0.1,  0.1,  0.1,  0.1,  0.1,  0.1,  0.1,  0.1,  0.1,  0.1,  0.1,\n",
      "        0.1,  0.1,  0.1,  0.1,  0.1,  0.1,  0.1,  0.1,  0.1,  0.1,  0.1,\n",
      "        0.1,  0.1,  0.1,  0.1,  0.1,  0.1,  0.1,  0.1,  0.1,  0.1,  0.1,\n",
      "        0.1,  0.1,  0.1,  0.1,  0.1,  0.1,  0.1,  0.1,  0.1,  0.1,  0.1,\n",
      "        0.1,  0.1,  0.1,  0.1,  0.1,  0.1,  0.1,  0.1,  0.1,  0.1,  0.1,\n",
      "        0.1,  0.1,  0.1,  0.1,  0.1,  0.1,  0.1,  0.1,  0.1,  0.1,  0.1,\n",
      "        0.1,  0.1,  0.1,  0.1,  0.1,  0.1,  0.1,  0.1,  0.1,  0.1,  0.1,\n",
      "        0.1,  0.1,  0.1,  0.1,  0.1,  0.1,  0.1,  0.1,  0.1,  0.1,  0.1,\n",
      "        0.1,  0.1,  0.1,  0.1,  0.1,  0.1,  0.1], dtype=float32)}\n"
     ]
    }
   ],
   "source": [
    "print(sess.run(hidden_layer1))"
   ]
  },
  {
   "cell_type": "code",
   "execution_count": 27,
   "metadata": {},
   "outputs": [
    {
     "data": {
      "text/plain": [
       "array([[ -3.44924629e-05,  -9.23424959e-05,   1.06149353e-04, ...,\n",
       "          3.55192460e-05,  -6.49478752e-05,   6.26562396e-05],\n",
       "       [ -2.54213810e-05,  -6.56219199e-05,   7.18000811e-05, ...,\n",
       "          2.56854109e-05,  -4.39891592e-05,   4.53768298e-05],\n",
       "       [ -1.94022432e-05,  -6.50077127e-05,   7.06731807e-05, ...,\n",
       "          2.21123919e-05,  -4.70438972e-05,   4.77186404e-05],\n",
       "       ..., \n",
       "       [  3.25683504e-06,   1.99680217e-05,  -1.73030421e-05, ...,\n",
       "         -5.45266084e-06,   9.08970833e-06,  -1.23563223e-05],\n",
       "       [ -2.18548812e-05,  -6.81700767e-05,   7.66264275e-05, ...,\n",
       "          2.75343191e-05,  -4.56795096e-05,   4.63980250e-05],\n",
       "       [ -1.19311735e-05,  -2.92686746e-05,   3.22940759e-05, ...,\n",
       "          1.04149804e-05,  -2.30316073e-05,   2.49901786e-05]], dtype=float32)"
      ]
     },
     "execution_count": 27,
     "metadata": {},
     "output_type": "execute_result"
    }
   ],
   "source": [
    "\n",
    "tmp_hidden_layer1[\"W1\"]-sess.run(hidden_layer1[\"W1\"])"
   ]
  },
  {
   "cell_type": "code",
   "execution_count": null,
   "metadata": {
    "collapsed": true
   },
   "outputs": [],
   "source": [
    "sess.run(hidden_layer2)"
   ]
  }
 ],
 "metadata": {
  "kernelspec": {
   "display_name": "Python 3",
   "language": "python",
   "name": "python3"
  },
  "language_info": {
   "codemirror_mode": {
    "name": "ipython",
    "version": 3
   },
   "file_extension": ".py",
   "mimetype": "text/x-python",
   "name": "python",
   "nbconvert_exporter": "python",
   "pygments_lexer": "ipython3",
   "version": "3.6.3"
  }
 },
 "nbformat": 4,
 "nbformat_minor": 2
}
