{
 "cells": [
  {
   "cell_type": "code",
   "execution_count": 1,
   "metadata": {},
   "outputs": [
    {
     "name": "stderr",
     "output_type": "stream",
     "text": [
      "/home/olivares/anaconda3/lib/python3.6/site-packages/h5py/__init__.py:34: FutureWarning: Conversion of the second argument of issubdtype from `float` to `np.floating` is deprecated. In future, it will be treated as `np.float64 == np.dtype(float).type`.\n",
      "  from ._conv import register_converters as _register_converters\n"
     ]
    }
   ],
   "source": [
    "import tensorflow as tf\n",
    "import pandas as pd\n",
    "import numpy as np\n",
    "import utils\n",
    "from collections import defaultdict\n",
    "from scipy.spatial.distance import cdist\n",
    "__author__ = \"Olivares Castillo José Luis\""
   ]
  },
  {
   "cell_type": "code",
   "execution_count": 2,
   "metadata": {},
   "outputs": [],
   "source": [
    "def read(file, threshold=0, vocabulary=None, dtype='float'):\n",
    "    # Copyright (C) 2016-2018  Mikel Artetxe <artetxem@gmail.com>\n",
    "    # https://github.com/artetxem/vecmap/blob/master/embeddings.py\n",
    "    header = file.readline().split(' ')\n",
    "    count = int(header[0]) if threshold <= 0 else min(\n",
    "        threshold, int(header[0]))\n",
    "    dim = int(header[1])\n",
    "    words = []\n",
    "    matrix = np.empty((count, dim), dtype=dtype) if vocabulary is None else []\n",
    "    for i in range(count):\n",
    "        word, vec = file.readline().split(' ', 1)\n",
    "        if vocabulary is None:\n",
    "            words.append(word)\n",
    "            matrix[i] = np.fromstring(vec, sep=' ', dtype=dtype)\n",
    "        elif word in vocabulary:\n",
    "            words.append(word)\n",
    "            matrix.append(np.fromstring(vec, sep=' ', dtype=dtype))\n",
    "    return (words, matrix) if vocabulary is None else (words, np.array(matrix, dtype=dtype))\n",
    "\n",
    "\n",
    "def closest_word_to(top_10, words):\n",
    "    return [words[index] for index, _ in top_10]\n",
    "\n",
    "\n",
    "def read_lexicon(source):\n",
    "    src, trg = list(), list()\n",
    "    if source.__eq__(\"train\"):\n",
    "        with open(\"../dataset/OPUS_en_it_europarl_train_5K.txt\", \"r\", encoding='utf-8') as file:\n",
    "            for line in file:\n",
    "                src.append(line.split()[0])\n",
    "                trg.append(line.split()[1])\n",
    "        return (src, trg)\n",
    "    elif source.__eq__(\"test\"):\n",
    "        with open(\"../dataset/OPUS_en_it_europarl_test.txt\", \"r\", encoding='utf-8') as file:\n",
    "            for line in file:\n",
    "                src.append(line.split()[0])\n",
    "                trg.append(line.split()[1])\n",
    "        return (src, trg)\n",
    "\n",
    "\n",
    "def get_vectors(lexicon, words, embeddings, dtype='float'):\n",
    "    matrix = np.empty((len(lexicon), embeddings.shape[1]), dtype=dtype)\n",
    "    for i in range(len(lexicon)):\n",
    "        if lexicon[i] in words:\n",
    "            matrix[i] = embeddings[words.index(lexicon[i])]\n",
    "    return np.asarray(matrix, dtype=dtype)\n",
    "\n",
    "def get_distance(matrix_A,matrix_B,metric='cosine'):\n",
    "    distances=1-cdist(matrix_A,matrix_B,metric=metric)\n",
    "    tmp_distances,tmp_vect = [], []\n",
    "    for i in range(distances.shape[0]):\n",
    "        tmp_vect = list(enumerate(distances[i]))\n",
    "        tmp_vect = sorted(tmp_vect, key=lambda dist: dist[1],reverse=True)\n",
    "        tmp_distances.append(tmp_vect[:10])\n",
    "        tmp_vect.clear()\n",
    "    del tmp_vect\n",
    "    del distances\n",
    "    return tmp_distances"
   ]
  },
  {
   "cell_type": "code",
   "execution_count": 3,
   "metadata": {},
   "outputs": [
    {
     "name": "stdout",
     "output_type": "stream",
     "text": [
      "1869 1869\n"
     ]
    }
   ],
   "source": [
    "en, it = read_lexicon(\"test\")\n",
    "print(len(en), len(it))"
   ]
  },
  {
   "cell_type": "code",
   "execution_count": 4,
   "metadata": {},
   "outputs": [
    {
     "name": "stdout",
     "output_type": "stream",
     "text": [
      "(1500, 300)\n"
     ]
    }
   ],
   "source": [
    "source_vec = open(\"../dataset/EN.200K.cbow1_wind5_hs0_neg10_size300_smpl1e-05.txt\",\n",
    "                  encoding=\"utf-8\", errors=\"surrogateescape\")\n",
    "words_en, en_vec = read(source_vec)\n",
    "eval_en = list(set(en))\n",
    "src_vec = get_vectors(eval_en, words_en, en_vec)\n",
    "print(src_vec.shape)"
   ]
  },
  {
   "cell_type": "code",
   "execution_count": 5,
   "metadata": {},
   "outputs": [],
   "source": [
    "target_vec = open(\"../dataset/IT.200K.cbow1_wind5_hs0_neg10_size300_smpl1e-05.txt\",\n",
    "                  encoding=\"utf-8\", errors=\"surrogateescape\")\n",
    "words_it, it_vec = read(target_vec)\n",
    "#eval_it = list(set(it))\n",
    "#trg_vec = get_vectors(eval_it, words_it, it_vec)\n",
    "#print(trg_vec.shape)"
   ]
  },
  {
   "cell_type": "code",
   "execution_count": 6,
   "metadata": {},
   "outputs": [],
   "source": [
    "test_vectors = src_vec"
   ]
  },
  {
   "cell_type": "code",
   "execution_count": 66,
   "metadata": {},
   "outputs": [
    {
     "name": "stdout",
     "output_type": "stream",
     "text": [
      "INFO:tensorflow:Restoring parameters from ./models/en-it/model1111_gpu/model2250.ckpt\n"
     ]
    }
   ],
   "source": [
    "tf.reset_default_graph()\n",
    "sess = tf.Session()\n",
    "saver = tf.train.import_meta_graph('./models/en-it/model1111_gpu/model2250.ckpt.meta')\n",
    "saver.restore(sess, tf.train.latest_checkpoint('./models/en-it/model1111_gpu/'))"
   ]
  },
  {
   "cell_type": "code",
   "execution_count": 67,
   "metadata": {},
   "outputs": [],
   "source": [
    "graph = tf.get_default_graph()\n",
    "X = graph.get_tensor_by_name(\"input/input_es:0\")\n",
    "kprob = graph.get_tensor_by_name(\"dropout_prob:0\")"
   ]
  },
  {
   "cell_type": "code",
   "execution_count": 68,
   "metadata": {},
   "outputs": [],
   "source": [
    "#([n.name for n in graph.as_graph_def().node])"
   ]
  },
  {
   "cell_type": "code",
   "execution_count": 79,
   "metadata": {},
   "outputs": [
    {
     "name": "stdout",
     "output_type": "stream",
     "text": [
      "Tensor(\"nah_predicted:0\", shape=(?, 300), dtype=float64)\n",
      "(1500, 300)\n"
     ]
    }
   ],
   "source": [
    "output_NN = graph.get_tensor_by_name(\"xw_plus_b_1:0\")\n",
    "output_NN = graph.get_tensor_by_name(\"nah_predicted:0\")\n",
    "#code = graph.get_tensor_by_name(\"xw_plus_b_2:0\")\n",
    "print(output_NN)\n",
    "\n",
    "feed_dict = {X: test_vectors, kprob: 1}\n",
    "pred = sess.run(output_NN, feed_dict)\n",
    "print(pred.shape)"
   ]
  },
  {
   "cell_type": "code",
   "execution_count": null,
   "metadata": {},
   "outputs": [],
   "source": [
    "%%time\n",
    "top_10 = [utils.get_top10_closest(pred[_], it_vec) for _ in range(pred.shape[0])]\n",
    "#top_10 = get_distance(pred,it_vec)"
   ]
  },
  {
   "cell_type": "code",
   "execution_count": 71,
   "metadata": {},
   "outputs": [
    {
     "data": {
      "text/plain": [
       "[(184414, 0.6064151646113275),\n",
       " (111215, 0.5998494307886582),\n",
       " (131190, 0.5987590655385501),\n",
       " (155511, 0.5936802291217208),\n",
       " (189738, 0.5890346989521987),\n",
       " (130154, 0.587551836488596),\n",
       " (110398, 0.5873961566001653),\n",
       " (131011, 0.5817305121265384),\n",
       " (137713, 0.5803647044725598),\n",
       " (120262, 0.5789179687972329)]"
      ]
     },
     "execution_count": 71,
     "metadata": {},
     "output_type": "execute_result"
    }
   ],
   "source": [
    "top_10[0]"
   ]
  },
  {
   "cell_type": "code",
   "execution_count": 72,
   "metadata": {},
   "outputs": [],
   "source": [
    "closest = [closest_word_to(top_10[_], words_it) for _ in range(pred.shape[0])]"
   ]
  },
  {
   "cell_type": "code",
   "execution_count": 73,
   "metadata": {},
   "outputs": [
    {
     "data": {
      "text/plain": [
       "'diktat'"
      ]
     },
     "execution_count": 73,
     "metadata": {},
     "output_type": "execute_result"
    }
   ],
   "source": [
    "eval_en[0]"
   ]
  },
  {
   "cell_type": "code",
   "execution_count": 74,
   "metadata": {},
   "outputs": [
    {
     "data": {
      "text/plain": [
       "['partitismo',\n",
       " 'unanimismo',\n",
       " 'contropoteri',\n",
       " 'centraliste',\n",
       " 'tecnocrazie',\n",
       " 'politicismo',\n",
       " 'delegittima',\n",
       " 'burocratismo',\n",
       " 'verticismo',\n",
       " 'partitocratico']"
      ]
     },
     "execution_count": 74,
     "metadata": {},
     "output_type": "execute_result"
    }
   ],
   "source": [
    "closest[0]"
   ]
  },
  {
   "cell_type": "code",
   "execution_count": 75,
   "metadata": {},
   "outputs": [],
   "source": [
    "resultados = {palabra_en: top_10_it\n",
    "              for (palabra_en, top_10_it) in zip(eval_en, closest)}"
   ]
  },
  {
   "cell_type": "code",
   "execution_count": 76,
   "metadata": {},
   "outputs": [],
   "source": [
    "pares_eval = list(zip(en, it))\n",
    "gold = defaultdict(list)\n",
    "\n",
    "for palabra_en, palabra_it in pares_eval:\n",
    "    gold[palabra_en].append(palabra_it)\n",
    "gold = dict(gold)"
   ]
  },
  {
   "cell_type": "code",
   "execution_count": 77,
   "metadata": {},
   "outputs": [
    {
     "data": {
      "text/plain": [
       "['diktat']"
      ]
     },
     "execution_count": 77,
     "metadata": {},
     "output_type": "execute_result"
    }
   ],
   "source": [
    "gold[\"diktat\"]"
   ]
  },
  {
   "cell_type": "code",
   "execution_count": 78,
   "metadata": {},
   "outputs": [
    {
     "name": "stdout",
     "output_type": "stream",
     "text": [
      "not found: 626 - 0.41733333333333333 %\n",
      "P@1: 573 \tP@5: 817 \tP@10: 874\n",
      "P@1: 0.382 \tP@5: 0.5446666666666666 \tP@10: 0.5826666666666667\n",
      "CPU times: user 5.85 ms, sys: 3.32 ms, total: 9.17 ms\n",
      "Wall time: 16.4 ms\n"
     ]
    }
   ],
   "source": [
    "%%time\n",
    "p1, p5, p10 = 0, 0, 0\n",
    "list_en_eval = list(resultados.keys())\n",
    "hits, not_found = [], []\n",
    "\n",
    "for palabra_gold in list_en_eval:\n",
    "    for i in gold[palabra_gold]:\n",
    "        if i in resultados[palabra_gold]:\n",
    "            hits.append(resultados[palabra_gold].index(i))\n",
    "    if hits.__len__() > 0:\n",
    "        if min(hits) == 0:\n",
    "            p1 += 1\n",
    "            p5 += 1\n",
    "            p10 += 1\n",
    "        if min(hits) >= 1 and min(hits) <= 5:\n",
    "            p5 += 1\n",
    "            p10 += 1\n",
    "        if min(hits) > 5 and min(hits) < 10:\n",
    "            p10 += 1\n",
    "    else:\n",
    "        not_found.append(palabra_gold)\n",
    "    hits.clear()\n",
    "\n",
    "length = list_en_eval.__len__()\n",
    "print(\"not found:\", not_found.__len__(),\n",
    "      \"-\", not_found.__len__() / length, \"%\")\n",
    "print(\"P@1:\", p1, \"\\tP@5:\", p5, \"\\tP@10:\", p10)\n",
    "print(\"P@1:\", p1 / length, \"\\tP@5:\", p5 /\n",
    "      length, \"\\tP@10:\", p10 / length)\n"
   ]
  },
  {
   "cell_type": "code",
   "execution_count": 65,
   "metadata": {},
   "outputs": [
    {
     "ename": "SyntaxError",
     "evalue": "invalid syntax (<ipython-input-65-20030d5a977a>, line 1)",
     "output_type": "error",
     "traceback": [
      "\u001b[0;36m  File \u001b[0;32m\"<ipython-input-65-20030d5a977a>\"\u001b[0;36m, line \u001b[0;32m1\u001b[0m\n\u001b[0;31m    not found: 704 - 0.4693333333333333 %\u001b[0m\n\u001b[0m                                         ^\u001b[0m\n\u001b[0;31mSyntaxError\u001b[0m\u001b[0;31m:\u001b[0m invalid syntax\n"
     ]
    }
   ],
   "source": [
    "not found: 704 - 0.4693333333333333 %\n",
    "P@1: 510 \tP@5: 737 \tP@10: 796\n",
    "P@1: 0.34 \tP@5: 0.49133333333333334 \tP@10: 0.5306666666666666"
   ]
  },
  {
   "cell_type": "code",
   "execution_count": null,
   "metadata": {},
   "outputs": [],
   "source": [
    "not found: 689 - 0.4593333333333333 %\n",
    "P@1: 515 \tP@5: 753 \tP@10: 811\n",
    "P@1: 0.3433333333333333 \tP@5: 0.502 \tP@10: 0.5406666666666666"
   ]
  },
  {
   "cell_type": "code",
   "execution_count": null,
   "metadata": {},
   "outputs": [],
   "source": [
    "not found: 702 - 0.468 %\n",
    "P@1: 503 \tP@5: 735 \tP@10: 798\n",
    "P@1: 0.3353333333333333 \tP@5: 0.49 \tP@10: 0.532"
   ]
  },
  {
   "cell_type": "code",
   "execution_count": null,
   "metadata": {},
   "outputs": [],
   "source": [
    "not found: 719 - 0.47933333333333333 %\n",
    "P@1: 496 \tP@5: 725 \tP@10: 781\n",
    "P@1: 0.33066666666666666 \tP@5: 0.48333333333333334 \tP@10: 0.5206666666666667"
   ]
  }
 ],
 "metadata": {
  "kernelspec": {
   "display_name": "Python 3",
   "language": "python",
   "name": "python3"
  },
  "language_info": {
   "codemirror_mode": {
    "name": "ipython",
    "version": 3
   },
   "file_extension": ".py",
   "mimetype": "text/x-python",
   "name": "python",
   "nbconvert_exporter": "python",
   "pygments_lexer": "ipython3",
   "version": "3.6.3"
  }
 },
 "nbformat": 4,
 "nbformat_minor": 2
}
