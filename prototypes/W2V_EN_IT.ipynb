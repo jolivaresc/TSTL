{
 "cells": [
  {
   "cell_type": "code",
   "execution_count": 1,
   "metadata": {},
   "outputs": [],
   "source": [
    "import numpy as np\n",
    "import pandas as pd\n",
    "import utils\n",
    "\n",
    "__author__ = \"Olivares Castillo José Luis\""
   ]
  },
  {
   "cell_type": "code",
   "execution_count": 2,
   "metadata": {},
   "outputs": [],
   "source": [
    "def read(file, threshold=0, vocabulary=None, dtype='float'):\n",
    "    # Copyright (C) 2016-2018  Mikel Artetxe <artetxem@gmail.com>\n",
    "    # https://github.com/artetxem/vecmap/blob/master/embeddings.py\n",
    "    \"\"\"Función para leer un archivo con los word embeddings.\n",
    "    Arguments:\n",
    "        file {str} -- archivo a leer.\n",
    "        threshold {int} -- Número a embeddings a leer\n",
    "                           (default:{El indicado en la cabecera del archivo})\n",
    "        vocabulary {str} -- Para solo acceder a vectores según el lexicon definido\n",
    "                            (default:{None})\n",
    "    \n",
    "    Return:\n",
    "        tuple -- lista de palabras y su correspondiente matriz de embeddings\n",
    "    \"\"\"\n",
    "    header = file.readline().split(' ')\n",
    "    count = int(header[0]) if threshold <= 0 else min(threshold, int(header[0]))\n",
    "    dim = int(header[1])\n",
    "    words = []\n",
    "    matrix = np.empty((count, dim), dtype=dtype) if vocabulary is None else []\n",
    "    for i in range(count):\n",
    "        word, vec = file.readline().split(' ', 1)\n",
    "        if vocabulary is None:\n",
    "            words.append(word)\n",
    "            matrix[i] = np.fromstring(vec, sep=' ', dtype=dtype)\n",
    "        elif word in vocabulary:\n",
    "            words.append(word)\n",
    "            matrix.append(np.fromstring(vec, sep=' ', dtype=dtype))\n",
    "    return (words, matrix) if vocabulary is None else (words, np.array(matrix, dtype=dtype))\n",
    "\n",
    "\n",
    "def closest_word_to(top_10, words):\n",
    "    \"\"\"Función para retornar las palabras de top_10 mediante su índice\n",
    "    Arguments:\n",
    "        top_10 {list} -- lista de tupla con índice una palabra y su distancia.\n",
    "        words {list} -- lista de palabras\n",
    "    Return:\n",
    "        list -- lista con palabras del top_10\n",
    "    \"\"\"\n",
    "    return [words[index] for index, _ in top_10]\n",
    "\n",
    "\n",
    "def get_lexicon(source):\n",
    "    \"\"\"Función para cargar lexicones\n",
    "    Arguments:\n",
    "        source {str} -- Nombre de archivo a cargar\n",
    "    Return:\n",
    "        list (2) -- lista con palabras del lexicon indicado.\n",
    "    \"\"\"\n",
    "    if source.__eq__(\"en-it.train\"):\n",
    "        src,trg = load_lexicon(\"../dataset/dictionaries/en-it.train.drive.txt\")\n",
    "        return (src,trg)\n",
    "    elif source.__eq__(\"en-it.test\"):\n",
    "        src,trg = load_lexicon(\"../dataset/dictionaries/en-it.test.drive.txt\")\n",
    "        return (src,trg)\n",
    "    elif source.__eq__(\"en-de.test\"):\n",
    "        src,trg = load_lexicon(\"../dataset/dictionaries/en-de.test.txt\")\n",
    "        return (src,trg)\n",
    "    elif source.__eq__(\"en-de.train\"):\n",
    "        src,trg = load_lexicon(\"../dataset/dictionaries/en-de.train.txt\")\n",
    "        return (src,trg)\n",
    "    elif source.__eq__(\"en-es.test\"):\n",
    "        src,trg = load_lexicon(\"../dataset/dictionaries/en-es.test.txt\")\n",
    "        return (src,trg)\n",
    "    elif source.__eq__(\"en-es.train\"):\n",
    "        src,trg = load_lexicon(\"../dataset/dictionaries/en-es.train.txt\")\n",
    "        return (src,trg)\n",
    "    elif source.__eq__(\"en-fi.test\"):\n",
    "        src,trg = load_lexicon(\"../dataset/dictionaries/en-fi.test.txt\")\n",
    "        return (src,trg)\n",
    "    elif source.__eq__(\"en-fi.train\"):\n",
    "        src,trg = load_lexicon(\"../dataset/dictionaries/en-fi.train.txt\")\n",
    "        return (src,trg)\n",
    "    else:\n",
    "        raise ValueError(\"Archivo no encontrado %s\" % (source))\n",
    "    \n",
    "def load_lexicon(source):\n",
    "    \"\"\"Función auxiliar de `get_lexicon` para cargar lexicones\n",
    "    Arguments:\n",
    "        source {str} -- Nombre de archivo a cargar\n",
    "    Return:\n",
    "        list (2) -- lista con palabras del lexicon indicado.\n",
    "    \"\"\"\n",
    "    src, trg = list(), list()\n",
    "    with open(source, \"r\", encoding='utf-8') as file:\n",
    "        for line in file:\n",
    "            src.append(line.split()[0])\n",
    "            trg.append(line.split()[1])\n",
    "    return (src, trg)\n",
    "\n",
    "\n",
    "def get_vectors(lexicon, words, embeddings, dtype='float'):\n",
    "    \"\"\"Función para cargar vectores del lexicon indicado.\n",
    "    Arguments:\n",
    "        lexicon {list} -- lista de palabras del lexicon\n",
    "        words {list} -- lista con palabras de los vectores.\n",
    "        embeddings {numpy.ndarray} -- matriz con embeddings\n",
    "    Return:\n",
    "        numpy.ndarray -- Matriz con embeddings del lexicon\n",
    "    \"\"\"\n",
    "    matrix = np.empty((len(lexicon), embeddings.shape[1]), dtype=dtype)\n",
    "    for i in range(len(lexicon)):\n",
    "        if lexicon[i] in words:\n",
    "            matrix[i] = embeddings[words.index(lexicon[i])]\n",
    "    return np.asarray(matrix, dtype=dtype)\n",
    "\n",
    "\n",
    "def open_file(source):\n",
    "    \"\"\"Función para leer archivos\n",
    "    Arguments:\n",
    "        source {str} -- Archivo a leer\n",
    "    Return:\n",
    "        _io.TextIOWrapper -- Apuntador a ficher a leer\n",
    "    \"\"\"\n",
    "    if source.__eq__(\"en\"):\n",
    "        return open(\"../dataset/en.200k.300d.embeddings\",encoding=\"utf-8\", errors=\"surrogateescape\")\n",
    "    elif source.__eq__(\"it\"):\n",
    "        return open(\"../dataset/en-it/it.200k.300d.embeddings\",encoding=\"utf-8\", errors=\"surrogateescape\")\n",
    "    elif source.__eq__(\"es\"):\n",
    "        return open(\"../dataset/en-es/es.200k.300d.embeddings\",encoding=\"utf-8\", errors=\"surrogateescape\")\n",
    "    elif source.__eq__(\"de\"):\n",
    "        return open(\"../dataset/en-de/de.200k.300d.embeddings\",encoding=\"utf-8\", errors=\"surrogateescape\")\n",
    "    elif source.__eq__(\"fi\"):\n",
    "        return open(\"../dataset/en-fi/fi.200k.300d.embeddings\",encoding=\"utf-8\", errors=\"surrogateescape\")\n",
    "    elif source.__eq__(\"1\"):\n",
    "        return open(\"../dataset/data/EN.200K.cbow1_wind5_hs0_neg10_size300_smpl1e-05.txt\",errors=\"surrogateescape\")\n",
    "    elif source.__eq__(\"2\"):\n",
    "        return open(\"../dataset/data/IT.200K.cbow1_wind5_hs0_neg10_size300_smpl1e-05.txt\",errors=\"surrogateescape\")\n",
    "    else:\n",
    "        raise ValueError(\"Archivo no encontrado %s\" % (source))"
   ]
  },
  {
   "cell_type": "code",
   "execution_count": 46,
   "metadata": {},
   "outputs": [
    {
     "data": {
      "text/plain": [
       "(5000, 5000)"
      ]
     },
     "execution_count": 46,
     "metadata": {},
     "output_type": "execute_result"
    }
   ],
   "source": [
    "src,trg=get_lexicon(\"en-fi.train\")\n",
    "len(src),len(trg)"
   ]
  },
  {
   "cell_type": "code",
   "execution_count": 47,
   "metadata": {},
   "outputs": [
    {
     "data": {
      "text/plain": [
       "('bodies', 'elinten')"
      ]
     },
     "execution_count": 47,
     "metadata": {},
     "output_type": "execute_result"
    }
   ],
   "source": [
    "src[0],trg[0]"
   ]
  },
  {
   "cell_type": "code",
   "execution_count": 48,
   "metadata": {},
   "outputs": [
    {
     "data": {
      "text/plain": [
       "(5000, 300)"
      ]
     },
     "execution_count": 48,
     "metadata": {},
     "output_type": "execute_result"
    }
   ],
   "source": [
    "source_vec = open(\"../dataset/normalize/unit-center/en.emb.txt\",errors=\"surrogateescape\")\n",
    "words_en,en_vec=read(source_vec)\n",
    "src_vec=get_vectors(src,words_en,en_vec)\n",
    "src_vec.shape"
   ]
  },
  {
   "cell_type": "code",
   "execution_count": 49,
   "metadata": {},
   "outputs": [
    {
     "ename": "FileNotFoundError",
     "evalue": "[Errno 2] No such file or directory: '../dataset/normalize/unit-center/fi.emb.txt'",
     "output_type": "error",
     "traceback": [
      "\u001b[0;31m---------------------------------------------------------------------------\u001b[0m",
      "\u001b[0;31mFileNotFoundError\u001b[0m                         Traceback (most recent call last)",
      "\u001b[0;32m<ipython-input-49-27b7e0c2398c>\u001b[0m in \u001b[0;36m<module>\u001b[0;34m()\u001b[0m\n\u001b[0;32m----> 1\u001b[0;31m \u001b[0mtarget_vec\u001b[0m \u001b[0;34m=\u001b[0m \u001b[0mopen\u001b[0m\u001b[0;34m(\u001b[0m\u001b[0;34m\"../dataset/normalize/unit-center/fi.emb.txt\"\u001b[0m\u001b[0;34m,\u001b[0m\u001b[0merrors\u001b[0m\u001b[0;34m=\u001b[0m\u001b[0;34m\"surrogateescape\"\u001b[0m\u001b[0;34m)\u001b[0m\u001b[0;34m\u001b[0m\u001b[0m\n\u001b[0m\u001b[1;32m      2\u001b[0m \u001b[0mwords_trg\u001b[0m\u001b[0;34m,\u001b[0m\u001b[0mtarget_vec\u001b[0m\u001b[0;34m=\u001b[0m\u001b[0mread\u001b[0m\u001b[0;34m(\u001b[0m\u001b[0mtarget_vec\u001b[0m\u001b[0;34m)\u001b[0m\u001b[0;34m\u001b[0m\u001b[0m\n\u001b[1;32m      3\u001b[0m \u001b[0mtrg_vec\u001b[0m\u001b[0;34m=\u001b[0m\u001b[0mget_vectors\u001b[0m\u001b[0;34m(\u001b[0m\u001b[0mtrg\u001b[0m\u001b[0;34m,\u001b[0m\u001b[0mwords_trg\u001b[0m\u001b[0;34m,\u001b[0m\u001b[0mtarget_vec\u001b[0m\u001b[0;34m)\u001b[0m\u001b[0;34m\u001b[0m\u001b[0m\n\u001b[1;32m      4\u001b[0m \u001b[0mtrg_vec\u001b[0m\u001b[0;34m.\u001b[0m\u001b[0mshape\u001b[0m\u001b[0;34m\u001b[0m\u001b[0m\n",
      "\u001b[0;31mFileNotFoundError\u001b[0m: [Errno 2] No such file or directory: '../dataset/normalize/unit-center/fi.emb.txt'"
     ]
    }
   ],
   "source": [
    "target_vec = open(\"../dataset/normalize/unit-center/fi.emb.txt\",errors=\"surrogateescape\")\n",
    "words_trg,target_vec=read(target_vec)\n",
    "trg_vec=get_vectors(trg,words_trg,target_vec)\n",
    "trg_vec.shape"
   ]
  },
  {
   "cell_type": "code",
   "execution_count": null,
   "metadata": {},
   "outputs": [],
   "source": [
    "en_vec[words_en.index(src[0])][0]"
   ]
  },
  {
   "cell_type": "code",
   "execution_count": 42,
   "metadata": {},
   "outputs": [
    {
     "data": {
      "text/plain": [
       "('arts', 'espectáculo')"
      ]
     },
     "execution_count": 42,
     "metadata": {},
     "output_type": "execute_result"
    }
   ],
   "source": [
    "src[0],trg[0]"
   ]
  },
  {
   "cell_type": "code",
   "execution_count": 43,
   "metadata": {},
   "outputs": [
    {
     "data": {
      "text/plain": [
       "(0.0102355, 0.00434003)"
      ]
     },
     "execution_count": 43,
     "metadata": {},
     "output_type": "execute_result"
    }
   ],
   "source": [
    "src_vec[0][0],trg_vec[0][0]"
   ]
  },
  {
   "cell_type": "code",
   "execution_count": 44,
   "metadata": {},
   "outputs": [],
   "source": [
    "with open(\"../dataset/normalize/unit-center/en-fi/en-train.5k.300d.embeddings.unit-center\",\"w\") as file:\n",
    "    for i in range(src_vec.shape[0]):\n",
    "        #file.write(en[i]+\" \"+\" \".join(map(str,src_vec[i]))+\"\\n\")it-train.5k.300d.embeddings\n",
    "        if i.__ne__(src_vec.shape[0] - 1):\n",
    "            file.write(src[i]+\" \"+\" \".join(map(str,src_vec[i]))+\"\\n\")\n",
    "        else:\n",
    "            file.write(src[i]+\" \"+\" \".join(map(str,src_vec[i])))"
   ]
  },
  {
   "cell_type": "code",
   "execution_count": 45,
   "metadata": {},
   "outputs": [],
   "source": [
    "with open(\"../dataset/normalize/unit-center/en-fi/fi-train.5k.300d.embeddings.unit-center\",\"w\") as file:\n",
    "    for i in range(trg_vec.shape[0]):\n",
    "        #file.write(en[i]+\" \"+\" \".join(map(str,src_vec[i]))+\"\\n\")\n",
    "        if i.__ne__(trg_vec.shape[0] - 1):\n",
    "            file.write(trg[i]+\" \"+\" \".join(map(str,trg_vec[i]))+\"\\n\")\n",
    "        else:\n",
    "            file.write(trg[i]+\" \"+\" \".join(map(str,trg_vec[i])))"
   ]
  },
  {
   "cell_type": "code",
   "execution_count": null,
   "metadata": {},
   "outputs": [],
   "source": [
    "words_it.index(\"per\")"
   ]
  },
  {
   "cell_type": "code",
   "execution_count": null,
   "metadata": {},
   "outputs": [],
   "source": []
  }
 ],
 "metadata": {
  "kernelspec": {
   "display_name": "Python 3",
   "language": "python",
   "name": "python3"
  },
  "language_info": {
   "codemirror_mode": {
    "name": "ipython",
    "version": 3
   },
   "file_extension": ".py",
   "mimetype": "text/x-python",
   "name": "python",
   "nbconvert_exporter": "python",
   "pygments_lexer": "ipython3",
   "version": "3.6.3"
  }
 },
 "nbformat": 4,
 "nbformat_minor": 2
}
