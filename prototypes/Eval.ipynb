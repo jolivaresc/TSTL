{
 "cells": [
  {
   "cell_type": "code",
   "execution_count": 1,
   "metadata": {},
   "outputs": [
    {
     "data": {
      "text/plain": [
       "'1.5.0-rc0'"
      ]
     },
     "execution_count": 1,
     "metadata": {},
     "output_type": "execute_result"
    }
   ],
   "source": [
    "import tensorflow as tf\n",
    "import utils\n",
    "import numpy as np\n",
    "\n",
    "__author__ = \"Olivares Castillo José Luis\"\n",
    "tf.__version__\n"
   ]
  },
  {
   "cell_type": "code",
   "execution_count": 2,
   "metadata": {},
   "outputs": [],
   "source": [
    "es,na = utils.load_node2vec()"
   ]
  },
  {
   "cell_type": "code",
   "execution_count": 3,
   "metadata": {},
   "outputs": [
    {
     "data": {
      "text/plain": [
       "129"
      ]
     },
     "execution_count": 3,
     "metadata": {},
     "output_type": "execute_result"
    }
   ],
   "source": [
    "es.shape[1]"
   ]
  },
  {
   "cell_type": "code",
   "execution_count": 4,
   "metadata": {},
   "outputs": [],
   "source": [
    "index_es, index_na = utils.get_seed_index(es, na)\n",
    "es_vectores = utils.get_vectors(es, index_es)\n",
    "na_vectores = utils.get_vectors(na, index_na)"
   ]
  },
  {
   "cell_type": "code",
   "execution_count": 5,
   "metadata": {},
   "outputs": [],
   "source": [
    "#index_es"
   ]
  },
  {
   "cell_type": "raw",
   "metadata": {},
   "source": [
    "lexes=[es.iloc[_][0] for _ in index_es]\n",
    "lexna=[na.iloc[_][0] for _ in index_na]"
   ]
  },
  {
   "cell_type": "raw",
   "metadata": {},
   "source": [
    "new_lexicon =zip(lexes,lexna)"
   ]
  },
  {
   "cell_type": "raw",
   "metadata": {},
   "source": [
    "new_lexicon=list(new_lexicon)"
   ]
  },
  {
   "cell_type": "raw",
   "metadata": {},
   "source": [
    "for _ in new_lexicon:\n",
    "    print(_[0],_[1])"
   ]
  },
  {
   "cell_type": "raw",
   "metadata": {},
   "source": [
    "with open(\"newlexicon.lst\",\"w\") as fd:\n",
    "    for _ in new_lexicon:\n",
    "        fd.write(_[0]+\" \"+_[1]+\"\\n\")"
   ]
  },
  {
   "cell_type": "code",
   "execution_count": 6,
   "metadata": {},
   "outputs": [],
   "source": [
    "#es[es[0] == \"hongo\"][0]"
   ]
  },
  {
   "cell_type": "code",
   "execution_count": 7,
   "metadata": {},
   "outputs": [
    {
     "name": "stdout",
     "output_type": "stream",
     "text": [
      "(1904, 128)\n"
     ]
    }
   ],
   "source": [
    "es_dummy = es.drop(es.columns[0],axis=1)\n",
    "na_dummy = na.drop(na.columns[0],axis=1)\n",
    "es_vectores1 = np.array(es_dummy)\n",
    "na_vectores1 = np.array(na_dummy)\n",
    "print(na_vectores1.shape)"
   ]
  },
  {
   "cell_type": "code",
   "execution_count": 8,
   "metadata": {},
   "outputs": [],
   "source": [
    "#es_vectores = [es.iloc[_].loc[1::] for _ in range(es.shape[0])]"
   ]
  },
  {
   "cell_type": "code",
   "execution_count": 9,
   "metadata": {},
   "outputs": [
    {
     "name": "stdout",
     "output_type": "stream",
     "text": [
      "4\n",
      "(1, 128)\n"
     ]
    }
   ],
   "source": [
    "# Palabra y vector\n",
    "indice = 1756\n",
    "print(es.iloc[indice][0])\n",
    "test_vectors = np.array(es.iloc[indice][1::]).astype(np.float)\n",
    "test_vectors.resize(1,128)\n",
    "print(test_vectors.shape)"
   ]
  },
  {
   "cell_type": "code",
   "execution_count": 10,
   "metadata": {},
   "outputs": [],
   "source": [
    "sess = tf.Session()"
   ]
  },
  {
   "cell_type": "code",
   "execution_count": 11,
   "metadata": {},
   "outputs": [
    {
     "name": "stdout",
     "output_type": "stream",
     "text": [
      "INFO:tensorflow:Restoring parameters from ./models/Adagrad_H_305_LR_0.433.ckpt\n"
     ]
    }
   ],
   "source": [
    "saver = tf.train.import_meta_graph('./models/Adagrad_H_305_LR_0.433.ckpt.meta')\n",
    "saver.restore(sess,tf.train.latest_checkpoint('./models/'))"
   ]
  },
  {
   "cell_type": "code",
   "execution_count": 12,
   "metadata": {},
   "outputs": [],
   "source": [
    "graph = tf.get_default_graph()"
   ]
  },
  {
   "cell_type": "code",
   "execution_count": 13,
   "metadata": {},
   "outputs": [],
   "source": [
    "#print(sess.run(\"output/W:0\"))"
   ]
  },
  {
   "cell_type": "code",
   "execution_count": 14,
   "metadata": {},
   "outputs": [],
   "source": [
    "output_W = graph.get_tensor_by_name(\"output/W:0\")\n",
    "output_b = graph.get_tensor_by_name(\"output/b:0\")\n",
    "output_xwb = graph.get_tensor_by_name(\"output/xw_plus_b:0\")"
   ]
  },
  {
   "cell_type": "code",
   "execution_count": 15,
   "metadata": {},
   "outputs": [],
   "source": [
    "X = graph.get_tensor_by_name(\"input/input_es:0\")\n",
    "y = graph.get_tensor_by_name(\"input/target_na:0\")"
   ]
  },
  {
   "cell_type": "code",
   "execution_count": 16,
   "metadata": {},
   "outputs": [
    {
     "name": "stdout",
     "output_type": "stream",
     "text": [
      "(?, 128)\n"
     ]
    }
   ],
   "source": [
    "print(X.shape)"
   ]
  },
  {
   "cell_type": "code",
   "execution_count": 17,
   "metadata": {},
   "outputs": [],
   "source": [
    "feed_dict = {X:test_vectors}"
   ]
  },
  {
   "cell_type": "code",
   "execution_count": 18,
   "metadata": {},
   "outputs": [],
   "source": [
    "output_NN = graph.get_tensor_by_name(\"output_1:0\")"
   ]
  },
  {
   "cell_type": "code",
   "execution_count": 19,
   "metadata": {},
   "outputs": [],
   "source": [
    "pred = sess.run(output_NN,feed_dict)\n",
    "#print (type(pred[0]),pred[0])"
   ]
  },
  {
   "cell_type": "code",
   "execution_count": 20,
   "metadata": {},
   "outputs": [],
   "source": [
    "#print(pred[0].shape)"
   ]
  },
  {
   "cell_type": "code",
   "execution_count": 21,
   "metadata": {},
   "outputs": [],
   "source": [
    "top_10=utils.get_top10_closest(pred[0],na_vectores1)"
   ]
  },
  {
   "cell_type": "code",
   "execution_count": 22,
   "metadata": {},
   "outputs": [
    {
     "data": {
      "text/plain": [
       "[(1414, 0.32692518075018884),\n",
       " (1644, 0.32934493270254606),\n",
       " (1357, 0.33352179104412194),\n",
       " (1581, 0.33428527784134665),\n",
       " (1740, 0.33601810498310458),\n",
       " (914, 0.3367677098705526),\n",
       " (689, 0.33755189319903101),\n",
       " (1380, 0.33911250609107657),\n",
       " (410, 0.33941662748797408),\n",
       " (1390, 0.34190079268815976)]"
      ]
     },
     "execution_count": 22,
     "metadata": {},
     "output_type": "execute_result"
    }
   ],
   "source": [
    "top_10"
   ]
  },
  {
   "cell_type": "code",
   "execution_count": 23,
   "metadata": {},
   "outputs": [],
   "source": [
    "closest = utils.get_closest_words_to(top_10,na)"
   ]
  },
  {
   "cell_type": "code",
   "execution_count": 24,
   "metadata": {},
   "outputs": [
    {
     "name": "stdout",
     "output_type": "stream",
     "text": [
      "4\n"
     ]
    }
   ],
   "source": [
    "print(es.iloc[indice][0])"
   ]
  },
  {
   "cell_type": "code",
   "execution_count": 25,
   "metadata": {},
   "outputs": [
    {
     "data": {
      "text/plain": [
       "['diego',\n",
       " 'dral',\n",
       " 'federal',\n",
       " 'club',\n",
       " 'secretario',\n",
       " 'castillo',\n",
       " 'acamapich',\n",
       " 'anechhuall',\n",
       " 'organil',\n",
       " 'rosario']"
      ]
     },
     "execution_count": 25,
     "metadata": {},
     "output_type": "execute_result"
    }
   ],
   "source": [
    "closest"
   ]
  },
  {
   "cell_type": "code",
   "execution_count": null,
   "metadata": {},
   "outputs": [],
   "source": []
  },
  {
   "cell_type": "code",
   "execution_count": null,
   "metadata": {},
   "outputs": [],
   "source": []
  }
 ],
 "metadata": {
  "kernelspec": {
   "display_name": "Python 3",
   "language": "python",
   "name": "python3"
  },
  "language_info": {
   "codemirror_mode": {
    "name": "ipython",
    "version": 3
   },
   "file_extension": ".py",
   "mimetype": "text/x-python",
   "name": "python",
   "nbconvert_exporter": "python",
   "pygments_lexer": "ipython3",
   "version": "3.6.3"
  }
 },
 "nbformat": 4,
 "nbformat_minor": 2
}
