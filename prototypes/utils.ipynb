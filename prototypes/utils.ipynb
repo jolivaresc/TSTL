{
 "cells": [
  {
   "cell_type": "code",
   "execution_count": 1,
   "metadata": {},
   "outputs": [],
   "source": [
    "from pandas import set_option, read_csv\n",
    "from numpy import array, float64\n",
    "\n",
    "__author__ = \"Olivares Castillo José Luis\""
   ]
  },
  {
   "cell_type": "code",
   "execution_count": 2,
   "metadata": {},
   "outputs": [],
   "source": [
    "# Se establece la precisión con la que Pandas lee el archivo para evitar que\n",
    "# trunque el valor de los vectores\n",
    "set_option('display.max_colwidth', -1)\n",
    "set_option('precision', 18)"
   ]
  },
  {
   "cell_type": "code",
   "execution_count": 3,
   "metadata": {},
   "outputs": [],
   "source": [
    "def load_node2vec():\n",
    "    \"\"\"\n",
    "    Esta función lee los archivos para almacenar los vectores node2vec del español\n",
    "    y náhuatl los retorna en dataframes de Pandas.\n",
    "    \n",
    "    Returns:\n",
    "        Pandas.dataframe (2): dataframes con palabras/node2vec.\n",
    "    \"\"\"\n",
    "\n",
    "    es = read_csv(\"../vectors/es.node2vec.embeddings\",delimiter=\" \", skiprows=1, header=None)\n",
    "    nah = read_csv(\"../vectors/na.node2vec.embeddings\",delimiter=\" \", skiprows=1, header=None)\n",
    "\n",
    "    return es, nah"
   ]
  },
  {
   "cell_type": "code",
   "execution_count": 4,
   "metadata": {},
   "outputs": [],
   "source": [
    "es, na = load_node2vec()"
   ]
  },
  {
   "cell_type": "code",
   "execution_count": 5,
   "metadata": {},
   "outputs": [
    {
     "data": {
      "text/plain": [
       "pandas.core.frame.DataFrame"
      ]
     },
     "execution_count": 5,
     "metadata": {},
     "output_type": "execute_result"
    }
   ],
   "source": [
    "type(es)"
   ]
  },
  {
   "cell_type": "code",
   "execution_count": 21,
   "metadata": {},
   "outputs": [
    {
     "name": "stdout",
     "output_type": "stream",
     "text": [
      "553 553 553\n",
      "pares 540\n",
      "asd 527 527\n",
      "527 521\n"
     ]
    }
   ],
   "source": [
    "def get_seed_index(lexicon_input, lexicon_target, source=\"training_set\"):\n",
    "    \"\"\"Esta función obtiene los índices de las palabras semillas de los\n",
    "    dataframes.\n",
    "    \n",
    "    Arguments:\n",
    "        lexicon_input {Dataframe} -- Contiene vectores n2v de español.\n",
    "        lexicon_target {Dataframe} -- Contiene vectores n2v de náhuatl.\n",
    "        source {string} -- Indica si se lee el lexicon semilla o de evaluación.\n",
    "    \n",
    "    Returns:\n",
    "        list (2) -- Listas con índices de las palabras semillas.\n",
    "    \n",
    "    TODO:\n",
    "        Agregar opción para leer set de evaluación o pruebas.\n",
    "    \"\"\"\n",
    "    names = [\"esp\", \"nah\"]\n",
    "    # Se lee el lexicon necesario\n",
    "    lexiconsemilla = read_csv(\n",
    "        \"../lexiconessemilla/lexicon.esna.proc.norep.tmp2\", delimiter=\" \", names=names)\n",
    "\n",
    "    # Se almacenan las palabras semillas de español y náhuatl en listas.\n",
    "    semillas_esp = list(lexiconsemilla[\"esp\"].values)\n",
    "    semillas_nah = list(lexiconsemilla[\"nah\"].values)\n",
    "    \n",
    "    pares = list(zip(semillas_esp,semillas_nah))\n",
    "    print(len(semillas_esp),len(semillas_nah),len(semillas_nah))\n",
    "    \n",
    "    \n",
    "    not_found = list()\n",
    "    for i,palabra_es in enumerate(semillas_esp):\n",
    "        if lexicon_input[lexicon_input[0] == palabra_es].index.get_values().__len__() == 0:\n",
    "            not_found.append(i)\n",
    "    \n",
    "    not_found = tuple(not_found)\n",
    "    pares = [v for i,v in enumerate(pares) if i not in frozenset(not_found)] \n",
    "\n",
    "    print(\"pares\",len(pares))\n",
    "    del not_found\n",
    "    not_found = list()\n",
    "    for i,palabra_na in enumerate(semillas_nah):\n",
    "        if lexicon_target[lexicon_target[0] == palabra_na].index.get_values().__len__() == 0:\n",
    "            not_found.append(i)\n",
    "    \n",
    "    not_found = tuple(not_found)\n",
    "    pares = [v for i,v in enumerate(pares) if i not in frozenset(not_found)]\n",
    "    \n",
    "    \n",
    "    del semillas_esp\n",
    "    del semillas_nah\n",
    "    semillas_esp, semillas_nah = zip(*pares)\n",
    "    print(\"asd\",len(semillas_esp),len(semillas_nah))\n",
    "    \n",
    "    index_esp = [int(lexicon_input[lexicon_input[0] == palabra].index.get_values())\n",
    "                 for palabra in semillas_esp\n",
    "                 if int(lexicon_input[lexicon_input[0] == palabra].index.get_values().__len__()) == 1]\n",
    "    \n",
    "    \n",
    "    index_nah = [int(lexicon_target[lexicon_target[0] == palabra].index.get_values())\n",
    "                 for palabra in semillas_nah\n",
    "                 if int(lexicon_target[lexicon_target[0] == palabra].index.get_values().__len__()) == 1]\n",
    "    \n",
    "    \n",
    "    return index_esp, index_nah\n",
    "\n",
    "i_es, i_na = get_seed_index(es,na)\n",
    "print(len(i_es),len(i_na))"
   ]
  },
  {
   "cell_type": "code",
   "execution_count": 7,
   "metadata": {},
   "outputs": [],
   "source": [
    "i_es, i_na = get_seed_index(es,na)"
   ]
  },
  {
   "cell_type": "code",
   "execution_count": 9,
   "metadata": {},
   "outputs": [
    {
     "data": {
      "text/plain": [
       "527"
      ]
     },
     "execution_count": 9,
     "metadata": {},
     "output_type": "execute_result"
    }
   ],
   "source": [
    "len(i_es)"
   ]
  },
  {
   "cell_type": "code",
   "execution_count": null,
   "metadata": {},
   "outputs": [],
   "source": [
    "lexiconsemilla = read_csv(\n",
    "        \"../lexiconessemilla/lexicon.esna.proc.norep.tmp2\", delimiter=\" \", names=[\"esp\", \"nah\"])\n",
    "\n",
    "# Se almacenan las palabras semillas de español y náhuatl en listas.\n",
    "semillas_esp = list(lexiconsemilla[\"esp\"].values)\n",
    "semillas_nah = list(lexiconsemilla[\"nah\"].values)\n",
    "\n",
    "pares = list(zip(semillas_esp,semillas_nah))\n",
    "\n",
    "# Se buscan los índices de las palabras semilla en los dataframes para obtener sus\n",
    "# representaciones vectoriales.\n",
    "# Nota: Se omite la palabra semilla si no existe su representación vectorial.\n"
   ]
  },
  {
   "cell_type": "code",
   "execution_count": null,
   "metadata": {},
   "outputs": [],
   "source": []
  },
  {
   "cell_type": "code",
   "execution_count": null,
   "metadata": {},
   "outputs": [],
   "source": [
    "pares.__len__()"
   ]
  },
  {
   "cell_type": "code",
   "execution_count": null,
   "metadata": {},
   "outputs": [],
   "source": [
    "es[es[0] == 'sal'].index.get_values().__len__()"
   ]
  },
  {
   "cell_type": "code",
   "execution_count": null,
   "metadata": {},
   "outputs": [],
   "source": [
    "p = ['a','3d','f','1312']"
   ]
  },
  {
   "cell_type": "code",
   "execution_count": null,
   "metadata": {},
   "outputs": [],
   "source": [
    "p.remove('a')"
   ]
  },
  {
   "cell_type": "code",
   "execution_count": null,
   "metadata": {},
   "outputs": [],
   "source": [
    "p.pop(0)"
   ]
  },
  {
   "cell_type": "code",
   "execution_count": null,
   "metadata": {},
   "outputs": [],
   "source": [
    "bad=list()"
   ]
  },
  {
   "cell_type": "code",
   "execution_count": null,
   "metadata": {},
   "outputs": [],
   "source": [
    "for i,palabra_es in enumerate(semillas_esp):\n",
    "    if es[es[0] == palabra_es].index.get_values().__len__() == 0:\n",
    "        bad.append(i)"
   ]
  },
  {
   "cell_type": "code",
   "execution_count": null,
   "metadata": {},
   "outputs": [],
   "source": [
    "asd = (2,3,4,5)"
   ]
  },
  {
   "cell_type": "code",
   "execution_count": null,
   "metadata": {},
   "outputs": [],
   "source": [
    "type(asd)"
   ]
  },
  {
   "cell_type": "code",
   "execution_count": null,
   "metadata": {},
   "outputs": [],
   "source": [
    "bad = tuple(bad)"
   ]
  },
  {
   "cell_type": "code",
   "execution_count": null,
   "metadata": {},
   "outputs": [],
   "source": [
    "bad"
   ]
  },
  {
   "cell_type": "code",
   "execution_count": null,
   "metadata": {},
   "outputs": [],
   "source": [
    "newlex = [v for i,v in enumerate(pares) if i not in frozenset(bad)] "
   ]
  },
  {
   "cell_type": "code",
   "execution_count": null,
   "metadata": {},
   "outputs": [],
   "source": [
    "newlex"
   ]
  },
  {
   "cell_type": "code",
   "execution_count": null,
   "metadata": {},
   "outputs": [],
   "source": [
    "semillas_esp1, semillas_nah1 = zip(*newlex)"
   ]
  },
  {
   "cell_type": "code",
   "execution_count": null,
   "metadata": {},
   "outputs": [],
   "source": [
    "list(semillas_esp1)"
   ]
  },
  {
   "cell_type": "code",
   "execution_count": null,
   "metadata": {},
   "outputs": [],
   "source": [
    "pares.__len__()"
   ]
  },
  {
   "cell_type": "code",
   "execution_count": null,
   "metadata": {},
   "outputs": [],
   "source": []
  },
  {
   "cell_type": "code",
   "execution_count": null,
   "metadata": {},
   "outputs": [],
   "source": [
    "int(es[es[0] == 'sal'].index.get_values())"
   ]
  },
  {
   "cell_type": "code",
   "execution_count": null,
   "metadata": {},
   "outputs": [],
   "source": [
    "es[es[0] == 'sal']"
   ]
  },
  {
   "cell_type": "code",
   "execution_count": null,
   "metadata": {},
   "outputs": [],
   "source": [
    "index_esp, index_nah, seed = get_seed_index(es,na)\n",
    "print(index_esp.__len__(), index_nah.__len__())"
   ]
  },
  {
   "cell_type": "code",
   "execution_count": null,
   "metadata": {},
   "outputs": [],
   "source": [
    "list(enumerate(index_esp))"
   ]
  },
  {
   "cell_type": "code",
   "execution_count": null,
   "metadata": {},
   "outputs": [],
   "source": [
    "def get_seed_index(es,nah):\n",
    "    \"\"\"\n",
    "    Esta función obtiene los índices de las palabras semillas de los\n",
    "    dataframes.\n",
    "    Args:\n",
    "        es (Dataframe): Contiene vectores n2v de español.\n",
    "        nah (Dataframe): Contiene vectores n2v de náhuatl.\n",
    "        \n",
    "    Returns:\n",
    "        list (2): Listas con índices de las palabras semillas.\n",
    "    \"\"\"\n",
    "\n",
    "    # Dataframe que contiene las palabras semilla para entrenamiento.\n",
    "    lexiconsemilla = read_csv(\"../lexiconessemilla/lexicon.esna.proc.norep.tmp2\",\n",
    "                              delimiter=\" \",\n",
    "                              names=[\"esp\", \"nah\"])\n",
    "\n",
    "    # Se almacenan las palabras semillas de español y náhuatl en listas.\n",
    "    semillas_esp = list(lexiconsemilla[\"esp\"].values)\n",
    "    semillas_nah = list(lexiconsemilla[\"nah\"].values)\n",
    "\n",
    "    # Se buscan los índices de las palabras semilla en los dataframes para obtener sus\n",
    "    # representaciones vectoriales.\n",
    "    # Nota: Se omite la palabra semilla si no existe su representación vectorial.\n",
    "    index_esp = [int(es[es[0] == i].index.get_values()) for i in semillas_esp\n",
    "                 if int(es[es[0] == i].index.get_values().__len__()) == 1]\n",
    "    \n",
    "    index_nah = [int(nah[nah[0] == i].index.get_values()) for i in semillas_nah\n",
    "                 if int(nah[nah[0] == i].index.get_values().__len__()) == 1]\n",
    "\n",
    "    return index_esp, index_nah"
   ]
  },
  {
   "cell_type": "code",
   "execution_count": null,
   "metadata": {},
   "outputs": [],
   "source": [
    "index_esp, index_nah = get_seed_index(es,na)\n",
    "print(index_esp.__len__(), index_nah.__len__())"
   ]
  },
  {
   "cell_type": "code",
   "execution_count": null,
   "metadata": {},
   "outputs": [],
   "source": [
    "type(index_esp)"
   ]
  },
  {
   "cell_type": "code",
   "execution_count": null,
   "metadata": {},
   "outputs": [],
   "source": [
    "def get_vectors(dataframe, index, format=float64):\n",
    "    \"\"\"\n",
    "    Retorna los vectores dentro del dataframe.\n",
    "    \n",
    "    Args:\n",
    "        dataframe(Pandas.dataframe): Contiene las palabras y su representación vectorial.\n",
    "        index (list): Contiene los índices que se necesitan del dataframe\n",
    "    \n",
    "    Returns:\n",
    "        Numpy array: Matriz con representaciones vectoriales.\n",
    "    \"\"\"\n",
    "    return array([(dataframe.iloc[_].loc[1::])\n",
    "                  for _ in index]).astype(float64)\n",
    "    \n",
    "    "
   ]
  },
  {
   "cell_type": "code",
   "execution_count": null,
   "metadata": {},
   "outputs": [],
   "source": [
    "es_vectores = get_vectors(es,index_esp)\n",
    "na_vectores = get_vectors(na,index_nah)"
   ]
  },
  {
   "cell_type": "code",
   "execution_count": null,
   "metadata": {},
   "outputs": [],
   "source": []
  }
 ],
 "metadata": {
  "kernelspec": {
   "display_name": "Python 3",
   "language": "python",
   "name": "python3"
  },
  "language_info": {
   "codemirror_mode": {
    "name": "ipython",
    "version": 3
   },
   "file_extension": ".py",
   "mimetype": "text/x-python",
   "name": "python",
   "nbconvert_exporter": "python",
   "pygments_lexer": "ipython3",
   "version": "3.5.2"
  }
 },
 "nbformat": 4,
 "nbformat_minor": 2
}
