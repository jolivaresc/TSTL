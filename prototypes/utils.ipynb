{
 "cells": [
  {
   "cell_type": "code",
   "execution_count": 1,
   "metadata": {},
   "outputs": [],
   "source": [
    "from pandas import set_option, read_csv\n",
    "from numpy import array, float64\n",
    "\n",
    "__author__ = \"Olivares Castillo José Luis\""
   ]
  },
  {
   "cell_type": "code",
   "execution_count": 2,
   "metadata": {},
   "outputs": [],
   "source": [
    "# Se establece la precisión con la que Pandas lee el archivo para evitar que\n",
    "# trunque el valor de los vectores\n",
    "set_option('display.max_colwidth', -1)\n",
    "set_option('precision', 18)"
   ]
  },
  {
   "cell_type": "code",
   "execution_count": 3,
   "metadata": {},
   "outputs": [],
   "source": [
    "def load_node2vec():\n",
    "    \"\"\"\n",
    "    Esta función lee los archivos para almacenar los vectores node2vec del español\n",
    "    y náhuatl los retorna en dataframes de Pandas.\n",
    "    \n",
    "    Returns:\n",
    "        Pandas.dataframe (2): dataframes con palabras/node2vec.\n",
    "    \"\"\"\n",
    "\n",
    "    es = read_csv(\"../vectors/es.node2vec.embeddings\",delimiter=\" \", skiprows=1, header=None)\n",
    "    nah = read_csv(\"../vectors/na.node2vec.embeddings\",delimiter=\" \", skiprows=1, header=None)\n",
    "\n",
    "    return es, nah"
   ]
  },
  {
   "cell_type": "code",
   "execution_count": 4,
   "metadata": {},
   "outputs": [],
   "source": [
    "es, na = load_node2vec()"
   ]
  },
  {
   "cell_type": "code",
   "execution_count": 5,
   "metadata": {},
   "outputs": [
    {
     "data": {
      "text/plain": [
       "1904"
      ]
     },
     "execution_count": 5,
     "metadata": {},
     "output_type": "execute_result"
    }
   ],
   "source": [
    "len(na)"
   ]
  },
  {
   "cell_type": "code",
   "execution_count": 6,
   "metadata": {},
   "outputs": [
    {
     "data": {
      "text/plain": [
       "(4433, 129)"
      ]
     },
     "execution_count": 6,
     "metadata": {},
     "output_type": "execute_result"
    }
   ],
   "source": [
    "es.shape"
   ]
  },
  {
   "cell_type": "code",
   "execution_count": 7,
   "metadata": {},
   "outputs": [
    {
     "data": {
      "text/plain": [
       "True"
      ]
     },
     "execution_count": 7,
     "metadata": {},
     "output_type": "execute_result"
    }
   ],
   "source": [
    "(na[na[0]=='peukh'].shape[0]) == 0"
   ]
  },
  {
   "cell_type": "code",
   "execution_count": 8,
   "metadata": {},
   "outputs": [
    {
     "name": "stdout",
     "output_type": "stream",
     "text": [
      "(515, 2)\n",
      "es [6, 22, 53, 94, 106, 133, 134, 236, 364, 435, 494, 495, 503]\n",
      "no\n",
      "y\n",
      "uno\n",
      "tener\n",
      "todo\n",
      "con\n",
      "se\n",
      "ya\n",
      "hacer\n",
      "haber\n",
      "película\n",
      "proyecto\n",
      "moverse\n",
      "502\n",
      "nah [66, 80, 152, 266, 307, 469]\n",
      "no\n",
      "ce\n",
      "to\n",
      "ye\n",
      "a\n",
      "cemelle\n",
      "496 496\n"
     ]
    }
   ],
   "source": [
    "def get_seed_index(lexicon_input, lexicon_target):\n",
    "    names = [\"esp\", \"nah\"]\n",
    "    # Se lee el lexicon necesario\n",
    "    lexiconsemilla = read_csv(\"../lexiconessemilla/lexiconsemilla_final.txt\", delimiter=\" \", names=names)\n",
    "    \n",
    "    print(lexiconsemilla.shape)\n",
    "    semillas_esp = list(lexiconsemilla[\"esp\"].values)\n",
    "    semillas_nah = list(lexiconsemilla[\"nah\"].values)\n",
    "    \n",
    "    pares = list(zip(semillas_esp,semillas_nah))\n",
    "        \n",
    "    not_found = list()\n",
    "    for i,palabra_es in enumerate(semillas_esp):\n",
    "        if lexicon_input[lexicon_input[0] == palabra_es].shape[0] == 0:\n",
    "            not_found.append(i)\n",
    "    print(\"es\",not_found)\n",
    "    \n",
    "    not_found = tuple(not_found)\n",
    "    \n",
    "    for i in not_found:\n",
    "        print(pares[i][0])\n",
    "    \n",
    "    pares = [v for i,v in enumerate(pares) if i not in frozenset(not_found)] \n",
    "    \n",
    "    with open(\"newlexicona.lst\",\"w\") as fd: \n",
    "        for _ in pares: \n",
    "            fd.write(_[0]+\" \"+_[1]+\"\\n\")\n",
    "            \n",
    "    ##################\n",
    "    \n",
    "    semillas_esp, semillas_nah = zip(*pares)\n",
    "    print(len(semillas_esp))\n",
    "    del not_found\n",
    "    not_found = list()\n",
    "    for i,palabra_na in enumerate(semillas_nah):\n",
    "        if lexicon_target[lexicon_target[0] == palabra_na].shape[0] == 0:\n",
    "            not_found.append(i)\n",
    "    print(\"nah\",not_found)\n",
    "    \n",
    "    not_found = tuple(not_found)\n",
    "    for i in not_found:\n",
    "        print(pares[i][1])\n",
    "    pares = [v for i,v in enumerate(pares) if i not in frozenset(not_found)] \n",
    "    \n",
    "        \n",
    "    with open(\"newlexiconb.lst\",\"w\") as fd: \n",
    "        for _ in pares: \n",
    "            fd.write(_[0]+\" \"+_[1]+\"\\n\")\n",
    "    \n",
    "    semillas_esp, semillas_nah = zip(*pares)\n",
    "    #print(\"asd\",type(semillas_esp),len(semillas_nah))\n",
    "    \n",
    "    \n",
    "    \n",
    "    index_esp = [int(lexicon_input[lexicon_input[0] == palabra].index[0])\n",
    "                 for palabra in semillas_esp]\n",
    "    \n",
    "    index_nah = [int(lexicon_target[lexicon_target[0] == palabra].index[0])\n",
    "                 for palabra in semillas_nah]\n",
    "    \n",
    "    return index_esp,index_nah\n",
    "\n",
    "i_es,i_na = get_seed_index(es,na)\n",
    "print(len(i_es),len(i_na))"
   ]
  },
  {
   "cell_type": "code",
   "execution_count": 9,
   "metadata": {},
   "outputs": [
    {
     "data": {
      "text/html": [
       "<div>\n",
       "<style>\n",
       "    .dataframe thead tr:only-child th {\n",
       "        text-align: right;\n",
       "    }\n",
       "\n",
       "    .dataframe thead th {\n",
       "        text-align: left;\n",
       "    }\n",
       "\n",
       "    .dataframe tbody tr th {\n",
       "        vertical-align: top;\n",
       "    }\n",
       "</style>\n",
       "<table border=\"1\" class=\"dataframe\">\n",
       "  <thead>\n",
       "    <tr style=\"text-align: right;\">\n",
       "      <th></th>\n",
       "      <th>0</th>\n",
       "      <th>1</th>\n",
       "      <th>2</th>\n",
       "      <th>3</th>\n",
       "      <th>4</th>\n",
       "      <th>5</th>\n",
       "      <th>6</th>\n",
       "      <th>7</th>\n",
       "      <th>8</th>\n",
       "      <th>9</th>\n",
       "      <th>...</th>\n",
       "      <th>119</th>\n",
       "      <th>120</th>\n",
       "      <th>121</th>\n",
       "      <th>122</th>\n",
       "      <th>123</th>\n",
       "      <th>124</th>\n",
       "      <th>125</th>\n",
       "      <th>126</th>\n",
       "      <th>127</th>\n",
       "      <th>128</th>\n",
       "    </tr>\n",
       "  </thead>\n",
       "  <tbody>\n",
       "  </tbody>\n",
       "</table>\n",
       "<p>0 rows × 129 columns</p>\n",
       "</div>"
      ],
      "text/plain": [
       "Empty DataFrame\n",
       "Columns: [0, 1, 2, 3, 4, 5, 6, 7, 8, 9, 10, 11, 12, 13, 14, 15, 16, 17, 18, 19, 20, 21, 22, 23, 24, 25, 26, 27, 28, 29, 30, 31, 32, 33, 34, 35, 36, 37, 38, 39, 40, 41, 42, 43, 44, 45, 46, 47, 48, 49, 50, 51, 52, 53, 54, 55, 56, 57, 58, 59, 60, 61, 62, 63, 64, 65, 66, 67, 68, 69, 70, 71, 72, 73, 74, 75, 76, 77, 78, 79, 80, 81, 82, 83, 84, 85, 86, 87, 88, 89, 90, 91, 92, 93, 94, 95, 96, 97, 98, 99, ...]\n",
       "Index: []\n",
       "\n",
       "[0 rows x 129 columns]"
      ]
     },
     "execution_count": 9,
     "metadata": {},
     "output_type": "execute_result"
    }
   ],
   "source": [
    "na[na[0] == \"cemelle\"]"
   ]
  },
  {
   "cell_type": "code",
   "execution_count": 10,
   "metadata": {},
   "outputs": [
    {
     "data": {
      "text/html": [
       "<div>\n",
       "<style>\n",
       "    .dataframe thead tr:only-child th {\n",
       "        text-align: right;\n",
       "    }\n",
       "\n",
       "    .dataframe thead th {\n",
       "        text-align: left;\n",
       "    }\n",
       "\n",
       "    .dataframe tbody tr th {\n",
       "        vertical-align: top;\n",
       "    }\n",
       "</style>\n",
       "<table border=\"1\" class=\"dataframe\">\n",
       "  <thead>\n",
       "    <tr style=\"text-align: right;\">\n",
       "      <th></th>\n",
       "      <th>0</th>\n",
       "      <th>1</th>\n",
       "      <th>2</th>\n",
       "      <th>3</th>\n",
       "      <th>4</th>\n",
       "      <th>5</th>\n",
       "      <th>6</th>\n",
       "      <th>7</th>\n",
       "      <th>8</th>\n",
       "      <th>9</th>\n",
       "      <th>...</th>\n",
       "      <th>119</th>\n",
       "      <th>120</th>\n",
       "      <th>121</th>\n",
       "      <th>122</th>\n",
       "      <th>123</th>\n",
       "      <th>124</th>\n",
       "      <th>125</th>\n",
       "      <th>126</th>\n",
       "      <th>127</th>\n",
       "      <th>128</th>\n",
       "    </tr>\n",
       "  </thead>\n",
       "  <tbody>\n",
       "  </tbody>\n",
       "</table>\n",
       "<p>0 rows × 129 columns</p>\n",
       "</div>"
      ],
      "text/plain": [
       "Empty DataFrame\n",
       "Columns: [0, 1, 2, 3, 4, 5, 6, 7, 8, 9, 10, 11, 12, 13, 14, 15, 16, 17, 18, 19, 20, 21, 22, 23, 24, 25, 26, 27, 28, 29, 30, 31, 32, 33, 34, 35, 36, 37, 38, 39, 40, 41, 42, 43, 44, 45, 46, 47, 48, 49, 50, 51, 52, 53, 54, 55, 56, 57, 58, 59, 60, 61, 62, 63, 64, 65, 66, 67, 68, 69, 70, 71, 72, 73, 74, 75, 76, 77, 78, 79, 80, 81, 82, 83, 84, 85, 86, 87, 88, 89, 90, 91, 92, 93, 94, 95, 96, 97, 98, 99, ...]\n",
       "Index: []\n",
       "\n",
       "[0 rows x 129 columns]"
      ]
     },
     "execution_count": 10,
     "metadata": {},
     "output_type": "execute_result"
    }
   ],
   "source": [
    "es[es[0]==\"uno\"]"
   ]
  },
  {
   "cell_type": "code",
   "execution_count": 11,
   "metadata": {},
   "outputs": [
    {
     "data": {
      "text/html": [
       "<div>\n",
       "<style>\n",
       "    .dataframe thead tr:only-child th {\n",
       "        text-align: right;\n",
       "    }\n",
       "\n",
       "    .dataframe thead th {\n",
       "        text-align: left;\n",
       "    }\n",
       "\n",
       "    .dataframe tbody tr th {\n",
       "        vertical-align: top;\n",
       "    }\n",
       "</style>\n",
       "<table border=\"1\" class=\"dataframe\">\n",
       "  <thead>\n",
       "    <tr style=\"text-align: right;\">\n",
       "      <th></th>\n",
       "      <th>0</th>\n",
       "      <th>1</th>\n",
       "      <th>2</th>\n",
       "      <th>3</th>\n",
       "      <th>4</th>\n",
       "      <th>5</th>\n",
       "      <th>6</th>\n",
       "      <th>7</th>\n",
       "      <th>8</th>\n",
       "      <th>9</th>\n",
       "      <th>...</th>\n",
       "      <th>119</th>\n",
       "      <th>120</th>\n",
       "      <th>121</th>\n",
       "      <th>122</th>\n",
       "      <th>123</th>\n",
       "      <th>124</th>\n",
       "      <th>125</th>\n",
       "      <th>126</th>\n",
       "      <th>127</th>\n",
       "      <th>128</th>\n",
       "    </tr>\n",
       "  </thead>\n",
       "  <tbody>\n",
       "  </tbody>\n",
       "</table>\n",
       "<p>0 rows × 129 columns</p>\n",
       "</div>"
      ],
      "text/plain": [
       "Empty DataFrame\n",
       "Columns: [0, 1, 2, 3, 4, 5, 6, 7, 8, 9, 10, 11, 12, 13, 14, 15, 16, 17, 18, 19, 20, 21, 22, 23, 24, 25, 26, 27, 28, 29, 30, 31, 32, 33, 34, 35, 36, 37, 38, 39, 40, 41, 42, 43, 44, 45, 46, 47, 48, 49, 50, 51, 52, 53, 54, 55, 56, 57, 58, 59, 60, 61, 62, 63, 64, 65, 66, 67, 68, 69, 70, 71, 72, 73, 74, 75, 76, 77, 78, 79, 80, 81, 82, 83, 84, 85, 86, 87, 88, 89, 90, 91, 92, 93, 94, 95, 96, 97, 98, 99, ...]\n",
       "Index: []\n",
       "\n",
       "[0 rows x 129 columns]"
      ]
     },
     "execution_count": 11,
     "metadata": {},
     "output_type": "execute_result"
    }
   ],
   "source": [
    "na[na[0]==\"no\"]"
   ]
  },
  {
   "cell_type": "code",
   "execution_count": 13,
   "metadata": {},
   "outputs": [
    {
     "data": {
      "text/plain": [
       "496"
      ]
     },
     "execution_count": 13,
     "metadata": {},
     "output_type": "execute_result"
    }
   ],
   "source": [
    "i_es.__len__()"
   ]
  },
  {
   "cell_type": "code",
   "execution_count": 14,
   "metadata": {},
   "outputs": [
    {
     "data": {
      "text/plain": [
       "496"
      ]
     },
     "execution_count": 14,
     "metadata": {},
     "output_type": "execute_result"
    }
   ],
   "source": [
    "len(i_na)"
   ]
  },
  {
   "cell_type": "code",
   "execution_count": null,
   "metadata": {},
   "outputs": [],
   "source": []
  },
  {
   "cell_type": "code",
   "execution_count": null,
   "metadata": {},
   "outputs": [],
   "source": [
    "pares.__len__()"
   ]
  },
  {
   "cell_type": "code",
   "execution_count": null,
   "metadata": {},
   "outputs": [],
   "source": [
    "es[es[0] == 'sal'].index.get_values().__len__()"
   ]
  },
  {
   "cell_type": "code",
   "execution_count": null,
   "metadata": {},
   "outputs": [],
   "source": [
    "p = ['a','3d','f','1312']"
   ]
  },
  {
   "cell_type": "code",
   "execution_count": null,
   "metadata": {},
   "outputs": [],
   "source": [
    "p.remove('a')"
   ]
  },
  {
   "cell_type": "code",
   "execution_count": null,
   "metadata": {},
   "outputs": [],
   "source": [
    "p.pop(0)"
   ]
  },
  {
   "cell_type": "code",
   "execution_count": null,
   "metadata": {},
   "outputs": [],
   "source": [
    "bad=list()"
   ]
  },
  {
   "cell_type": "code",
   "execution_count": null,
   "metadata": {},
   "outputs": [],
   "source": [
    "for i,palabra_es in enumerate(semillas_esp):\n",
    "    if es[es[0] == palabra_es].index.get_values().__len__() == 0:\n",
    "        bad.append(i)"
   ]
  },
  {
   "cell_type": "code",
   "execution_count": null,
   "metadata": {},
   "outputs": [],
   "source": [
    "asd = (2,3,4,5)"
   ]
  },
  {
   "cell_type": "code",
   "execution_count": null,
   "metadata": {},
   "outputs": [],
   "source": [
    "type(asd)"
   ]
  },
  {
   "cell_type": "code",
   "execution_count": null,
   "metadata": {},
   "outputs": [],
   "source": [
    "bad = tuple(bad)"
   ]
  },
  {
   "cell_type": "code",
   "execution_count": null,
   "metadata": {},
   "outputs": [],
   "source": [
    "bad"
   ]
  },
  {
   "cell_type": "code",
   "execution_count": null,
   "metadata": {},
   "outputs": [],
   "source": [
    "newlex = [v for i,v in enumerate(pares) if i not in frozenset(bad)] "
   ]
  },
  {
   "cell_type": "code",
   "execution_count": null,
   "metadata": {},
   "outputs": [],
   "source": [
    "newlex"
   ]
  },
  {
   "cell_type": "code",
   "execution_count": null,
   "metadata": {},
   "outputs": [],
   "source": [
    "semillas_esp1, semillas_nah1 = zip(*newlex)"
   ]
  },
  {
   "cell_type": "code",
   "execution_count": null,
   "metadata": {},
   "outputs": [],
   "source": [
    "list(semillas_esp1)"
   ]
  },
  {
   "cell_type": "code",
   "execution_count": null,
   "metadata": {},
   "outputs": [],
   "source": [
    "pares.__len__()"
   ]
  },
  {
   "cell_type": "code",
   "execution_count": null,
   "metadata": {},
   "outputs": [],
   "source": []
  },
  {
   "cell_type": "code",
   "execution_count": null,
   "metadata": {},
   "outputs": [],
   "source": [
    "int(es[es[0] == 'sal'].index.get_values())"
   ]
  },
  {
   "cell_type": "code",
   "execution_count": null,
   "metadata": {},
   "outputs": [],
   "source": [
    "es[es[0] == 'sal']"
   ]
  },
  {
   "cell_type": "code",
   "execution_count": null,
   "metadata": {},
   "outputs": [],
   "source": [
    "index_esp, index_nah= get_seed_index(es,na)\n",
    "print(index_esp.__len__(), index_nah.__len__())"
   ]
  },
  {
   "cell_type": "code",
   "execution_count": null,
   "metadata": {},
   "outputs": [],
   "source": [
    "list(enumerate(index_esp))"
   ]
  },
  {
   "cell_type": "code",
   "execution_count": null,
   "metadata": {},
   "outputs": [],
   "source": [
    "def get_seed_index(es,nah):\n",
    "    \"\"\"\n",
    "    Esta función obtiene los índices de las palabras semillas de los\n",
    "    dataframes.\n",
    "    Args:\n",
    "        es (Dataframe): Contiene vectores n2v de español.\n",
    "        nah (Dataframe): Contiene vectores n2v de náhuatl.\n",
    "        \n",
    "    Returns:\n",
    "        list (2): Listas con índices de las palabras semillas.\n",
    "    \"\"\"\n",
    "\n",
    "    # Dataframe que contiene las palabras semilla para entrenamiento.\n",
    "    lexiconsemilla = read_csv(\"../lexiconessemilla/lexicon.esna.proc.norep.tmp2\",\n",
    "                              delimiter=\" \",\n",
    "                              names=[\"esp\", \"nah\"])\n",
    "\n",
    "    # Se almacenan las palabras semillas de español y náhuatl en listas.\n",
    "    semillas_esp = list(lexiconsemilla[\"esp\"].values)\n",
    "    semillas_nah = list(lexiconsemilla[\"nah\"].values)\n",
    "\n",
    "    # Se buscan los índices de las palabras semilla en los dataframes para obtener sus\n",
    "    # representaciones vectoriales.\n",
    "    # Nota: Se omite la palabra semilla si no existe su representación vectorial.\n",
    "    index_esp = [int(es[es[0] == i].index.get_values()) for i in semillas_esp\n",
    "                 if int(es[es[0] == i].index.get_values().__len__()) == 1]\n",
    "    \n",
    "    index_nah = [int(nah[nah[0] == i].index.get_values()) for i in semillas_nah\n",
    "                 if int(nah[nah[0] == i].index.get_values().__len__()) == 1]\n",
    "\n",
    "    return index_esp, index_nah"
   ]
  },
  {
   "cell_type": "code",
   "execution_count": null,
   "metadata": {},
   "outputs": [],
   "source": [
    "index_esp, index_nah = get_seed_index(es,na)\n",
    "print(index_esp.__len__(), index_nah.__len__())"
   ]
  },
  {
   "cell_type": "code",
   "execution_count": null,
   "metadata": {},
   "outputs": [],
   "source": [
    "type(index_esp)"
   ]
  },
  {
   "cell_type": "code",
   "execution_count": null,
   "metadata": {},
   "outputs": [],
   "source": [
    "def get_vectors(dataframe, index, format=float64):\n",
    "    \"\"\"\n",
    "    Retorna los vectores dentro del dataframe.\n",
    "    \n",
    "    Args:\n",
    "        dataframe(Pandas.dataframe): Contiene las palabras y su representación vectorial.\n",
    "        index (list): Contiene los índices que se necesitan del dataframe\n",
    "    \n",
    "    Returns:\n",
    "        Numpy array: Matriz con representaciones vectoriales.\n",
    "    \"\"\"\n",
    "    return array([(dataframe.iloc[_].loc[1::])\n",
    "                  for _ in index]).astype(float64)\n",
    "    \n",
    "    "
   ]
  },
  {
   "cell_type": "code",
   "execution_count": null,
   "metadata": {},
   "outputs": [],
   "source": [
    "es_vectores = get_vectors(es,index_esp)\n",
    "na_vectores = get_vectors(na,index_nah)"
   ]
  },
  {
   "cell_type": "code",
   "execution_count": null,
   "metadata": {},
   "outputs": [],
   "source": []
  }
 ],
 "metadata": {
  "kernelspec": {
   "display_name": "Python 3",
   "language": "python",
   "name": "python3"
  },
  "language_info": {
   "codemirror_mode": {
    "name": "ipython",
    "version": 3
   },
   "file_extension": ".py",
   "mimetype": "text/x-python",
   "name": "python",
   "nbconvert_exporter": "python",
   "pygments_lexer": "ipython3",
   "version": "3.6.3"
  }
 },
 "nbformat": 4,
 "nbformat_minor": 2
}
