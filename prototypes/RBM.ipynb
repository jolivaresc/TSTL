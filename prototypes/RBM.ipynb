{
 "cells": [
  {
   "cell_type": "code",
   "execution_count": 1,
   "metadata": {},
   "outputs": [],
   "source": [
    "import utils\n",
    "import numpy as np\n",
    "import matplotlib.pyplot as plt\n",
    "%matplotlib inline   \n",
    "plt.rcParams['image.cmap'] = 'gray'\n",
    "from sklearn.neural_network import BernoulliRBM\n",
    "import pandas as pd"
   ]
  },
  {
   "cell_type": "code",
   "execution_count": 2,
   "metadata": {},
   "outputs": [],
   "source": [
    "es, na = utils.load_embeddings(\"n2v\")\n",
    "na_dummy = na.drop(na.columns[0], axis=1)\n",
    "na_vectores1 = na_dummy.values.astype(np.float64)\n",
    "eval_set = utils.get_lexicon(\"seed\")\n",
    "eval_es = list((eval_set[\"esp\"]))\n",
    "eval_na = list((eval_set[\"nah\"]))\n",
    "eval_es_index = [int(es[es[0] == palabra].index[0]) for palabra in eval_es]\n",
    "eval_na_index = [int(na[na[0] == palabra].index[0]) for palabra in eval_na]\n",
    "\n",
    "es_vectores = np.array([np.array(es.iloc[indice][1::]).astype(np.float64) for indice in eval_es_index])\n",
    "na_vectores = np.array([np.array(na.iloc[indice][1::]).astype(np.float64) for indice in eval_na_index])"
   ]
  },
  {
   "cell_type": "code",
   "execution_count": 3,
   "metadata": {},
   "outputs": [
    {
     "data": {
      "text/plain": [
       "(496, 128)"
      ]
     },
     "execution_count": 3,
     "metadata": {},
     "output_type": "execute_result"
    }
   ],
   "source": [
    "es_vectores.shape"
   ]
  },
  {
   "cell_type": "code",
   "execution_count": 4,
   "metadata": {},
   "outputs": [],
   "source": [
    "es_dummy = es_vectores\n",
    "na_dummy = na_vectores\n",
    "for i in range(es_dummy.shape[0]):\n",
    "    es_vectores=np.vstack((es_vectores,es_dummy[i][::-1]))\n",
    "    na_vectores=np.vstack((na_vectores,na_dummy[i][::-1]))"
   ]
  },
  {
   "cell_type": "code",
   "execution_count": 5,
   "metadata": {},
   "outputs": [
    {
     "data": {
      "text/plain": [
       "(992, 128)"
      ]
     },
     "execution_count": 5,
     "metadata": {},
     "output_type": "execute_result"
    }
   ],
   "source": [
    "es_vectores.shape"
   ]
  },
  {
   "cell_type": "code",
   "execution_count": 27,
   "metadata": {},
   "outputs": [
    {
     "name": "stdout",
     "output_type": "stream",
     "text": [
      "[BernoulliRBM] Iteration 1, pseudo-likelihood = -72.31, time = 0.11s\n",
      "[BernoulliRBM] Iteration 2, pseudo-likelihood = -61.86, time = 0.16s\n",
      "[BernoulliRBM] Iteration 3, pseudo-likelihood = -54.83, time = 0.13s\n",
      "[BernoulliRBM] Iteration 4, pseudo-likelihood = -49.87, time = 0.12s\n",
      "[BernoulliRBM] Iteration 5, pseudo-likelihood = -46.24, time = 0.15s\n",
      "[BernoulliRBM] Iteration 6, pseudo-likelihood = -43.53, time = 0.12s\n",
      "[BernoulliRBM] Iteration 7, pseudo-likelihood = -41.41, time = 0.11s\n",
      "[BernoulliRBM] Iteration 8, pseudo-likelihood = -39.79, time = 0.12s\n",
      "[BernoulliRBM] Iteration 9, pseudo-likelihood = -38.50, time = 0.10s\n",
      "[BernoulliRBM] Iteration 10, pseudo-likelihood = -37.46, time = 0.15s\n",
      "[BernoulliRBM] Iteration 1, pseudo-likelihood = -151.57, time = 0.01s\n",
      "[BernoulliRBM] Iteration 2, pseudo-likelihood = -149.65, time = 0.01s\n",
      "[BernoulliRBM] Iteration 3, pseudo-likelihood = -147.76, time = 0.01s\n",
      "[BernoulliRBM] Iteration 4, pseudo-likelihood = -145.98, time = 0.01s\n",
      "[BernoulliRBM] Iteration 5, pseudo-likelihood = -144.22, time = 0.01s\n",
      "[BernoulliRBM] Iteration 6, pseudo-likelihood = -142.54, time = 0.02s\n",
      "[BernoulliRBM] Iteration 7, pseudo-likelihood = -140.88, time = 0.02s\n",
      "[BernoulliRBM] Iteration 8, pseudo-likelihood = -139.25, time = 0.01s\n",
      "[BernoulliRBM] Iteration 9, pseudo-likelihood = -137.66, time = 0.01s\n",
      "[BernoulliRBM] Iteration 10, pseudo-likelihood = -136.13, time = 0.01s\n",
      "[BernoulliRBM] Iteration 1, pseudo-likelihood = -68.40, time = 0.01s\n",
      "[BernoulliRBM] Iteration 2, pseudo-likelihood = -67.69, time = 0.01s\n",
      "[BernoulliRBM] Iteration 3, pseudo-likelihood = -67.00, time = 0.01s\n",
      "[BernoulliRBM] Iteration 4, pseudo-likelihood = -66.32, time = 0.01s\n",
      "[BernoulliRBM] Iteration 5, pseudo-likelihood = -65.66, time = 0.01s\n",
      "[BernoulliRBM] Iteration 6, pseudo-likelihood = -65.03, time = 0.01s\n",
      "[BernoulliRBM] Iteration 7, pseudo-likelihood = -64.39, time = 0.01s\n",
      "[BernoulliRBM] Iteration 8, pseudo-likelihood = -63.77, time = 0.01s\n",
      "[BernoulliRBM] Iteration 9, pseudo-likelihood = -63.16, time = 0.01s\n",
      "[BernoulliRBM] Iteration 10, pseudo-likelihood = -62.57, time = 0.01s\n",
      "CPU times: user 2.97 s, sys: 87.2 ms, total: 3.06 s\n",
      "Wall time: 1.55 s\n"
     ]
    }
   ],
   "source": [
    "%%time\n",
    "rbm = BernoulliRBM(n_components=220, learning_rate=.0001, random_state=0, verbose=True,n_iter=10)\n",
    "rbm.fit(na_vectores)\n",
    "W1_ = rbm.components_.T\n",
    "rbm = BernoulliRBM(n_components=100, learning_rate=.0001, random_state=0, verbose=True,n_iter=10)\n",
    "rbm.fit(W1_)\n",
    "W2_= rbm.components_.T\n",
    "rbm = BernoulliRBM(n_components=50, learning_rate=.0001, random_state=0, verbose=True,n_iter=10)\n",
    "rbm.fit(W2_)\n",
    "W3_ = rbm.components_.T"
   ]
  },
  {
   "cell_type": "code",
   "execution_count": null,
   "metadata": {},
   "outputs": [],
   "source": []
  },
  {
   "cell_type": "code",
   "execution_count": null,
   "metadata": {},
   "outputs": [],
   "source": []
  },
  {
   "cell_type": "code",
   "execution_count": null,
   "metadata": {},
   "outputs": [],
   "source": []
  },
  {
   "cell_type": "code",
   "execution_count": null,
   "metadata": {},
   "outputs": [],
   "source": []
  },
  {
   "cell_type": "code",
   "execution_count": null,
   "metadata": {},
   "outputs": [],
   "source": []
  },
  {
   "cell_type": "code",
   "execution_count": null,
   "metadata": {},
   "outputs": [],
   "source": []
  },
  {
   "cell_type": "code",
   "execution_count": null,
   "metadata": {},
   "outputs": [],
   "source": []
  },
  {
   "cell_type": "code",
   "execution_count": null,
   "metadata": {},
   "outputs": [],
   "source": []
  },
  {
   "cell_type": "code",
   "execution_count": null,
   "metadata": {},
   "outputs": [],
   "source": []
  },
  {
   "cell_type": "code",
   "execution_count": null,
   "metadata": {},
   "outputs": [],
   "source": []
  },
  {
   "cell_type": "code",
   "execution_count": null,
   "metadata": {},
   "outputs": [],
   "source": []
  },
  {
   "cell_type": "code",
   "execution_count": null,
   "metadata": {},
   "outputs": [],
   "source": []
  },
  {
   "cell_type": "code",
   "execution_count": 23,
   "metadata": {},
   "outputs": [
    {
     "data": {
      "text/plain": [
       "'1.5.0-rc0'"
      ]
     },
     "execution_count": 23,
     "metadata": {},
     "output_type": "execute_result"
    }
   ],
   "source": [
    "import tensorflow as tf\n",
    "import utils\n",
    "import numpy as np\n",
    "import matplotlib.pyplot as plt\n",
    "%matplotlib inline\n",
    "tf.__version__"
   ]
  },
  {
   "cell_type": "code",
   "execution_count": 2,
   "metadata": {},
   "outputs": [],
   "source": [
    "es, na = utils.load_embeddings(\"n2v\")\n",
    "na_dummy = na.drop(na.columns[0], axis=1)\n",
    "na_vectores1 = na_dummy.values.astype(np.float64)\n",
    "eval_set = utils.get_lexicon(\"seed\")\n",
    "eval_es = list((eval_set[\"esp\"]))\n",
    "eval_na = list((eval_set[\"nah\"]))\n",
    "eval_es_index = [int(es[es[0] == palabra].index[0]) for palabra in eval_es]\n",
    "eval_na_index = [int(na[na[0] == palabra].index[0]) for palabra in eval_na]\n",
    "\n",
    "es_vectors = np.array([np.array(es.iloc[indice][1::]).astype(np.float64) for indice in eval_es_index])\n",
    "na_vectors = np.array([np.array(na.iloc[indice][1::]).astype(np.float64) for indice in eval_na_index])"
   ]
  },
  {
   "cell_type": "code",
   "execution_count": 3,
   "metadata": {},
   "outputs": [
    {
     "data": {
      "text/plain": [
       "array([[ 0.167541,  0.196611, -0.977209, ..., -0.202024, -0.037447,\n",
       "        -0.976046],\n",
       "       [ 0.741759,  0.10806 , -0.041657, ...,  0.205377, -0.429727,\n",
       "        -0.826301],\n",
       "       [-0.169796,  0.322466, -0.54677 , ..., -0.259447, -0.380046,\n",
       "        -0.387346],\n",
       "       ..., \n",
       "       [-0.154871, -0.047107, -0.355867, ...,  0.092358, -0.355715,\n",
       "        -0.029153],\n",
       "       [-0.105675, -0.323174, -0.224538, ..., -0.209881, -0.280836,\n",
       "        -0.243491],\n",
       "       [-0.221973, -0.246222, -0.442638, ..., -0.167317,  0.252487,\n",
       "        -0.048908]])"
      ]
     },
     "execution_count": 3,
     "metadata": {},
     "output_type": "execute_result"
    }
   ],
   "source": [
    "es_vectors"
   ]
  },
  {
   "cell_type": "code",
   "execution_count": 4,
   "metadata": {},
   "outputs": [],
   "source": [
    "vb = tf.placeholder(dtype=tf.float64,shape=[128])\n",
    "hb = tf.placeholder(dtype=tf.float64,shape=[100])"
   ]
  },
  {
   "cell_type": "code",
   "execution_count": 5,
   "metadata": {},
   "outputs": [],
   "source": [
    "W = tf.placeholder(dtype=tf.float64,shape=[128,100])"
   ]
  },
  {
   "cell_type": "code",
   "execution_count": 8,
   "metadata": {},
   "outputs": [],
   "source": [
    "X = tf.placeholder(dtype=tf.float64, shape=[None, 128])\n",
    "_h0= tf.nn.sigmoid(tf.matmul(X, W) + hb)  #probabilities of the hidden units\n",
    "h0 = tf.nn.relu(tf.sign(_h0 - tf.random_uniform(tf.shape(_h0),dtype=tf.float64))) #sample_h_given_X"
   ]
  },
  {
   "cell_type": "code",
   "execution_count": 12,
   "metadata": {},
   "outputs": [],
   "source": [
    "alpha = 1.0\n",
    "w_pos_grad = tf.matmul(tf.transpose(X), h0)\n",
    "w_neg_grad = tf.matmul(tf.transpose(v1), h1)\n",
    "CD = (w_pos_grad - w_neg_grad) / tf.cast(tf.shape(X)[0],tf.float64)\n",
    "update_w = W + alpha * CD\n",
    "update_vb = vb + alpha * tf.reduce_mean(X - v1, 0)\n",
    "update_hb = hb + alpha * tf.reduce_mean(h0 - h1, 0)"
   ]
  },
  {
   "cell_type": "code",
   "execution_count": 13,
   "metadata": {},
   "outputs": [],
   "source": [
    "err = tf.reduce_mean(tf.square(X - v1))"
   ]
  },
  {
   "cell_type": "code",
   "execution_count": 14,
   "metadata": {},
   "outputs": [],
   "source": [
    "cur_w = np.zeros([128, 100], np.float64)\n",
    "cur_vb = np.zeros([128], np.float64)\n",
    "cur_hb = np.zeros([100], np.float64)\n",
    "prv_w = np.zeros([128, 100], np.float64)\n",
    "prv_vb = np.zeros([128], np.float64)\n",
    "prv_hb = np.zeros([100], np.float64)\n",
    "sess = tf.Session()\n",
    "init = tf.global_variables_initializer()\n",
    "sess.run(init)"
   ]
  },
  {
   "cell_type": "code",
   "execution_count": 15,
   "metadata": {},
   "outputs": [
    {
     "data": {
      "text/plain": [
       "0.66237156551219079"
      ]
     },
     "execution_count": 15,
     "metadata": {},
     "output_type": "execute_result"
    }
   ],
   "source": [
    "sess.run(err, feed_dict={X: es_vectors, \n",
    "                         W: prv_w, \n",
    "                         vb: prv_vb, \n",
    "                         hb: prv_hb})"
   ]
  },
  {
   "cell_type": "code",
   "execution_count": 25,
   "metadata": {},
   "outputs": [
    {
     "name": "stdout",
     "output_type": "stream",
     "text": [
      "Epoch: 0 reconstruction error: 0.207168\n",
      "Epoch: 100 reconstruction error: 0.192762\n",
      "Epoch: 200 reconstruction error: 0.181302\n",
      "Epoch: 300 reconstruction error: 0.189457\n",
      "Epoch: 400 reconstruction error: 0.197418\n",
      "Epoch: 500 reconstruction error: 0.190260\n",
      "Epoch: 600 reconstruction error: 0.211651\n",
      "Epoch: 700 reconstruction error: 0.218719\n",
      "Epoch: 800 reconstruction error: 0.201134\n",
      "Epoch: 900 reconstruction error: 0.201898\n",
      "Epoch: 1000 reconstruction error: 0.192702\n",
      "Epoch: 1100 reconstruction error: 0.178025\n",
      "Epoch: 1200 reconstruction error: 0.211150\n",
      "Epoch: 1300 reconstruction error: 0.217321\n",
      "Epoch: 1400 reconstruction error: 0.200165\n",
      "Epoch: 1500 reconstruction error: 0.214768\n",
      "Epoch: 1600 reconstruction error: 0.191994\n",
      "Epoch: 1700 reconstruction error: 0.206874\n",
      "Epoch: 1800 reconstruction error: 0.193464\n",
      "Epoch: 1900 reconstruction error: 0.184569\n",
      "Epoch: 2000 reconstruction error: 0.191206\n",
      "Epoch: 2100 reconstruction error: 0.215918\n",
      "Epoch: 2200 reconstruction error: 0.198765\n",
      "Epoch: 2300 reconstruction error: 0.190907\n",
      "Epoch: 2400 reconstruction error: 0.198032\n",
      "Epoch: 2500 reconstruction error: 0.201448\n",
      "Epoch: 2600 reconstruction error: 0.215112\n",
      "Epoch: 2700 reconstruction error: 0.201444\n",
      "Epoch: 2800 reconstruction error: 0.183417\n",
      "Epoch: 2900 reconstruction error: 0.177949\n",
      "Epoch: 3000 reconstruction error: 0.214701\n",
      "Epoch: 3100 reconstruction error: 0.206765\n",
      "Epoch: 3200 reconstruction error: 0.187069\n",
      "Epoch: 3300 reconstruction error: 0.199211\n",
      "Epoch: 3400 reconstruction error: 0.189965\n",
      "Epoch: 3500 reconstruction error: 0.187057\n",
      "Epoch: 3600 reconstruction error: 0.197521\n",
      "Epoch: 3700 reconstruction error: 0.183654\n",
      "Epoch: 3800 reconstruction error: 0.195501\n",
      "Epoch: 3900 reconstruction error: 0.212612\n",
      "Epoch: 4000 reconstruction error: 0.203949\n",
      "Epoch: 4100 reconstruction error: 0.186028\n",
      "Epoch: 4200 reconstruction error: 0.202041\n",
      "Epoch: 4300 reconstruction error: 0.202837\n",
      "Epoch: 4400 reconstruction error: 0.202968\n",
      "Epoch: 4500 reconstruction error: 0.200396\n",
      "Epoch: 4600 reconstruction error: 0.192562\n",
      "Epoch: 4700 reconstruction error: 0.219222\n",
      "Epoch: 4800 reconstruction error: 0.213867\n",
      "Epoch: 4900 reconstruction error: 0.194319\n"
     ]
    },
    {
     "data": {
      "image/png": "[encoded data removed]",
      "text/plain": [
       "<matplotlib.figure.Figure at 0x7f14b0148978>"
      ]
     },
     "metadata": {},
     "output_type": "display_data"
    }
   ],
   "source": [
    "#Parameters\n",
    "epochs = 5000\n",
    "batchsize = 100\n",
    "weights = []\n",
    "errors = []\n",
    "\n",
    "for epoch in range(epochs):\n",
    "    cur_w = sess.run(update_w, feed_dict={ X: es_vectors, W: prv_w, vb: prv_vb, hb: prv_hb})\n",
    "    cur_vb = sess.run(update_vb, feed_dict={  X: es_vectors, W: prv_w, vb: prv_vb, hb: prv_hb})\n",
    "    cur_hb = sess.run(update_hb, feed_dict={ X: es_vectors, W: prv_w, vb: prv_vb, hb: prv_hb})\n",
    "    prv_w = cur_w\n",
    "    prv_vb = cur_vb\n",
    "    prv_hb = cur_hb\n",
    "    if epoch % 100 == 0:\n",
    "        errors.append(sess.run(err, feed_dict={X: es_vectors, W: cur_w, vb: cur_vb, hb: cur_hb}))\n",
    "        weights.append(cur_w)\n",
    "        print ('Epoch: %d' % epoch,'reconstruction error: %f' % errors[-1])\n",
    "plt.plot(errors)\n",
    "plt.xlabel(\"Batch Number\")\n",
    "plt.ylabel(\"Error\")\n",
    "plt.show()"
   ]
  },
  {
   "cell_type": "code",
   "execution_count": 26,
   "metadata": {},
   "outputs": [],
   "source": [
    "uw = weights[-1].T"
   ]
  },
  {
   "cell_type": "code",
   "execution_count": 28,
   "metadata": {},
   "outputs": [
    {
     "data": {
      "text/plain": [
       "(100, 128)"
      ]
     },
     "execution_count": 28,
     "metadata": {},
     "output_type": "execute_result"
    }
   ],
   "source": []
  },
  {
   "cell_type": "code",
   "execution_count": 4,
   "metadata": {},
   "outputs": [],
   "source": [
    "from sklearn.cross_validation import train_test_split\n",
    "from sklearn.metrics import classification_report\n",
    "from sklearn.linear_model import LogisticRegression\n",
    "from sklearn.neural_network import BernoulliRBM\n",
    "from sklearn.grid_search import GridSearchCV\n",
    "from sklearn.pipeline import Pipeline\n",
    "import numpy as np\n",
    "import argparse\n",
    "import time"
   ]
  },
  {
   "cell_type": "code",
   "execution_count": 24,
   "metadata": {},
   "outputs": [],
   "source": [
    "es, na = utils.load_embeddings(\"n2v\")\n",
    "na_dummy = na.drop(na.columns[0], axis=1)\n",
    "na_vectores1 = na_dummy.values.astype(np.float64)\n",
    "eval_set = utils.get_lexicon(\"seed\")\n",
    "eval_es = list((eval_set[\"esp\"]))\n",
    "eval_na = list((eval_set[\"nah\"]))\n",
    "eval_es_index = [int(es[es[0] == palabra].index[0]) for palabra in eval_es]\n",
    "eval_na_index = [int(na[na[0] == palabra].index[0]) for palabra in eval_na]"
   ]
  },
  {
   "cell_type": "code",
   "execution_count": 27,
   "metadata": {},
   "outputs": [],
   "source": [
    "es_vectors = np.array([np.array(es.iloc[indice][1::]).astype(np.float64) for indice in eval_es_index])\n",
    "na_vectors = np.array([np.array(na.iloc[indice][1::]).astype(np.float64) for indice in eval_na_index])"
   ]
  },
  {
   "cell_type": "code",
   "execution_count": 30,
   "metadata": {},
   "outputs": [
    {
     "data": {
      "text/plain": [
       "((496, 128), (496, 128))"
      ]
     },
     "execution_count": 30,
     "metadata": {},
     "output_type": "execute_result"
    }
   ],
   "source": [
    "es_vectors.shape,na_vectors.shape"
   ]
  },
  {
   "cell_type": "code",
   "execution_count": 76,
   "metadata": {},
   "outputs": [],
   "source": [
    "def scale(X, eps = .001):\n",
    "    # scale the data points s.t the columns of the feature space\n",
    "    # (i.e the predictors) are within the range [0, 1]\n",
    "    return (X-np.min(X,axis=0))/(np.max(X,axis=0)-np.min(X,axis=0)+eps)"
   ]
  },
  {
   "cell_type": "code",
   "execution_count": 80,
   "metadata": {},
   "outputs": [],
   "source": [
    "es_vectores = scale(es_vectors)\n",
    "na_vectores = scale(na_vectors)"
   ]
  },
  {
   "cell_type": "code",
   "execution_count": 84,
   "metadata": {},
   "outputs": [],
   "source": [
    "(trainX, testX, trainY, testY) = train_test_split(es_vectores, na_vectores, random_state = 42)"
   ]
  },
  {
   "cell_type": "code",
   "execution_count": 91,
   "metadata": {},
   "outputs": [
    {
     "data": {
      "text/plain": [
       "((496, 128), (496, 128))"
      ]
     },
     "execution_count": 91,
     "metadata": {},
     "output_type": "execute_result"
    }
   ],
   "source": [
    "es_vectores.shape,na_vectores.shape"
   ]
  },
  {
   "cell_type": "code",
   "execution_count": 150,
   "metadata": {},
   "outputs": [],
   "source": [
    "model = BernoulliRBM(n_iter=100,n_components=200,random_state=42)"
   ]
  },
  {
   "cell_type": "code",
   "execution_count": 151,
   "metadata": {},
   "outputs": [
    {
     "data": {
      "text/plain": [
       "BernoulliRBM(batch_size=10, learning_rate=0.1, n_components=200, n_iter=100,\n",
       "       random_state=42, verbose=0)"
      ]
     },
     "execution_count": 151,
     "metadata": {},
     "output_type": "execute_result"
    }
   ],
   "source": [
    "model.fit(es_vectors)"
   ]
  },
  {
   "cell_type": "code",
   "execution_count": 152,
   "metadata": {},
   "outputs": [],
   "source": [
    "W1=model.components_.T"
   ]
  },
  {
   "cell_type": "code",
   "execution_count": null,
   "metadata": {},
   "outputs": [],
   "source": [
    "Weight matrix, where n_features in the number of visible units and n_components is the number of hidden units."
   ]
  },
  {
   "cell_type": "code",
   "execution_count": 153,
   "metadata": {},
   "outputs": [
    {
     "data": {
      "text/plain": [
       "(128, 200)"
      ]
     },
     "execution_count": 153,
     "metadata": {},
     "output_type": "execute_result"
    }
   ],
   "source": [
    "W1.shape"
   ]
  },
  {
   "cell_type": "code",
   "execution_count": 154,
   "metadata": {},
   "outputs": [
    {
     "data": {
      "text/plain": [
       "BernoulliRBM(batch_size=10, learning_rate=0.1, n_components=110, n_iter=100,\n",
       "       random_state=42, verbose=0)"
      ]
     },
     "execution_count": 154,
     "metadata": {},
     "output_type": "execute_result"
    }
   ],
   "source": [
    "model = BernoulliRBM(n_iter=100,n_components=110,random_state=42)\n",
    "model.fit(W1)"
   ]
  },
  {
   "cell_type": "code",
   "execution_count": 155,
   "metadata": {},
   "outputs": [],
   "source": [
    "W2=model.components_.T"
   ]
  },
  {
   "cell_type": "code",
   "execution_count": 162,
   "metadata": {},
   "outputs": [
    {
     "name": "stdout",
     "output_type": "stream",
     "text": [
      "CPU times: user 7.11 s, sys: 148 ms, total: 7.25 s\n",
      "Wall time: 3.68 s\n"
     ]
    }
   ],
   "source": [
    "%%time\n",
    "model = BernoulliRBM(n_iter=500,n_components=70,random_state=42)\n",
    "model.fit(W2)"
   ]
  },
  {
   "cell_type": "code",
   "execution_count": 157,
   "metadata": {},
   "outputs": [],
   "source": [
    "W3 =model.components_.T"
   ]
  },
  {
   "cell_type": "code",
   "execution_count": 158,
   "metadata": {},
   "outputs": [
    {
     "data": {
      "text/plain": [
       "((496, 128), (128, 200), (200, 110), (110, 70))"
      ]
     },
     "execution_count": 158,
     "metadata": {},
     "output_type": "execute_result"
    }
   ],
   "source": [
    "es_vectores.shape,W1.shape,W2.shape,W3.shape"
   ]
  },
  {
   "cell_type": "code",
   "execution_count": null,
   "metadata": {},
   "outputs": [],
   "source": []
  },
  {
   "cell_type": "code",
   "execution_count": null,
   "metadata": {},
   "outputs": [],
   "source": []
  }
 ],
 "metadata": {
  "kernelspec": {
   "display_name": "Python 3",
   "language": "python",
   "name": "python3"
  },
  "language_info": {
   "codemirror_mode": {
    "name": "ipython",
    "version": 3
   },
   "file_extension": ".py",
   "mimetype": "text/x-python",
   "name": "python",
   "nbconvert_exporter": "python",
   "pygments_lexer": "ipython3",
   "version": "3.6.3"
  }
 },
 "nbformat": 4,
 "nbformat_minor": 2
}
