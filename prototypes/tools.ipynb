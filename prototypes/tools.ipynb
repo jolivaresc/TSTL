{
 "cells": [
  {
   "cell_type": "code",
   "execution_count": 1,
   "metadata": {
    "collapsed": true
   },
   "outputs": [],
   "source": [
    "from pandas import set_option, read_csv\n",
    "from numpy import array, float64\n",
    "\n",
    "__author__ = \"Olivares Castillo José Luis\""
   ]
  },
  {
   "cell_type": "code",
   "execution_count": 2,
   "metadata": {
    "collapsed": true
   },
   "outputs": [],
   "source": [
    "# Se establece la precisión con la que Pandas lee el archivo para evitar que\n",
    "# trunque el valor de los vectores\n",
    "set_option('display.max_colwidth', -1)\n",
    "set_option('precision', 18)"
   ]
  },
  {
   "cell_type": "code",
   "execution_count": 3,
   "metadata": {
    "collapsed": true
   },
   "outputs": [],
   "source": [
    "def load_node2vec():\n",
    "    \"\"\"\n",
    "    Esta función lee los archivos para almacenar los vectores node2vec del español\n",
    "    y náhuatl los retorna en dataframes de Pandas.\n",
    "    \n",
    "    Returns:\n",
    "        Pandas.dataframe (2): dataframes con palabras/node2vec.\n",
    "    \"\"\"\n",
    "\n",
    "    es = read_csv(\"../vectors/es.node2vec.embeddings\",delimiter=\" \", skiprows=1, header=None)\n",
    "    nah = read_csv(\"../vectors/na.node2vec.embeddings\",delimiter=\" \", skiprows=1, header=None)\n",
    "\n",
    "    return es, nah"
   ]
  },
  {
   "cell_type": "code",
   "execution_count": 4,
   "metadata": {
    "collapsed": true
   },
   "outputs": [],
   "source": [
    "es, na = load_node2vec()"
   ]
  },
  {
   "cell_type": "code",
   "execution_count": 26,
   "metadata": {
    "collapsed": true
   },
   "outputs": [],
   "source": [
    "def get_dataframe_index(dataframe, palabra):\n",
    "    \"\"\"\n",
    "    Obtiene el índice dentro del dataframe de la palabra si es que\n",
    "    se existe, sino retorna falso.\n",
    "    \n",
    "    Args:\n",
    "        dataframe(Pandas.dataframe): Contiene palabras y sus n2v.\n",
    "        palabra(string): Palabra a buscar dentro del dataframe\n",
    "    \n",
    "    Returns:\n",
    "        index (int): Retorna el índice si existe, sino retorna 0.\n",
    "    \"\"\"\n",
    "    index_esp = [int(es[es[0] == i].index.get_values()) for i in semillas_esp\n",
    "                 if int(es[es[0] == i].index.get_values().__len__()) == 1]\n",
    "    \n",
    "    if int(dataframe[dataframe[0] == palabra].index.get_values().__len__()) == 1:\n",
    "        return int(dataframe[dataframe[0] == palabra].index.get_values())\n",
    "    return 0"
   ]
  },
  {
   "cell_type": "code",
   "execution_count": 27,
   "metadata": {},
   "outputs": [
    {
     "name": "stdout",
     "output_type": "stream",
     "text": [
      "728\n",
      "0\n"
     ]
    }
   ],
   "source": [
    "print(get_dataframe_index(es,\"perro\"))\n",
    "print(get_dataframe_index(es,\"no\"))"
   ]
  },
  {
   "cell_type": "code",
   "execution_count": 28,
   "metadata": {
    "collapsed": true
   },
   "outputs": [],
   "source": [
    "def get_seed_index(lexicon_seed_input, lexicon_seed_target):\n",
    "    \"\"\"\n",
    "    Esta función obtiene los índices de las palabras semillas de los\n",
    "    dataframes.\n",
    "    Args:\n",
    "        lexicon_seed_input (Dataframe): Contiene vectores n2v de español.\n",
    "        lexicon_seed_target (Dataframe): Contiene vectores n2v de náhuatl.\n",
    "        \n",
    "    Returns:\n",
    "        list (2): Listas con índices de las palabras semillas.\n",
    "    \"\"\"\n",
    "\n",
    "    # Dataframe que contiene las palabras semilla para entrenamiento.\n",
    "    lexiconsemilla = read_csv(\"../lexiconessemilla/lexicon.esna.proc.norep.tmp2\",\n",
    "                              delimiter=\" \",\n",
    "                              names=[\"esp\", \"nah\"])\n",
    "\n",
    "    # Se almacenan las palabras semillas de español y náhuatl en listas.\n",
    "    semillas_esp = list(lexiconsemilla[\"esp\"].values)\n",
    "    semillas_nah = list(lexiconsemilla[\"nah\"].values)\n",
    "    print(semillas_esp.__len__(), semillas_nah.__len__())\n",
    "\n",
    "    # Se buscan los índices de las palabras semilla en los dataframes para obtener sus\n",
    "    # representaciones vectoriales.\n",
    "    # Nota: Se omite la palabra semilla si no existe su representación vectorial.\n",
    "    index_esp = [int(es[es[0] == i].index.get_values()) for i in semillas_esp\n",
    "                 if int(es[es[0] == i].index.get_values().__len__()) == 1]\n",
    "    \n",
    "    index_esp = [get_dataframe_index(lexicon_seed_input,palabra) for palabra in semillas_esp\n",
    "                if get_dataframe_index(lexicon_seed_input,palabra) is not 0]\n",
    "    index_nah = [get_dataframe_index(lexicon_seed_target,palabra) for palabra in semillas_nah\n",
    "                if get_dataframe_index(lexicon_seed_input,palabra) is not 0]\n",
    "    \n",
    "    return index_esp, index_nah"
   ]
  },
  {
   "cell_type": "code",
   "execution_count": 29,
   "metadata": {},
   "outputs": [
    {
     "name": "stdout",
     "output_type": "stream",
     "text": [
      "553 553\n",
      "540 46\n"
     ]
    }
   ],
   "source": [
    "index_esp, index_nah = get_seed_index(es,na)\n",
    "print(index_esp.__len__(), index_nah.__len__())"
   ]
  },
  {
   "cell_type": "code",
   "execution_count": 30,
   "metadata": {},
   "outputs": [],
   "source": [
    "def get_seed_index(es,nah):\n",
    "    \"\"\"\n",
    "    Esta función obtiene los índices de las palabras semillas de los\n",
    "    dataframes.\n",
    "    Args:\n",
    "        es (Dataframe): Contiene vectores n2v de español.\n",
    "        nah (Dataframe): Contiene vectores n2v de náhuatl.\n",
    "        \n",
    "    Returns:\n",
    "        list (2): Listas con índices de las palabras semillas.\n",
    "    \"\"\"\n",
    "\n",
    "    # Dataframe que contiene las palabras semilla para entrenamiento.\n",
    "    lexiconsemilla = read_csv(\"../lexiconessemilla/lexicon.esna.proc.norep.tmp2\",\n",
    "                              delimiter=\" \",\n",
    "                              names=[\"esp\", \"nah\"])\n",
    "\n",
    "    # Se almacenan las palabras semillas de español y náhuatl en listas.\n",
    "    semillas_esp = list(lexiconsemilla[\"esp\"].values)\n",
    "    semillas_nah = list(lexiconsemilla[\"nah\"].values)\n",
    "\n",
    "    # Se buscan los índices de las palabras semilla en los dataframes para obtener sus\n",
    "    # representaciones vectoriales.\n",
    "    # Nota: Se omite la palabra semilla si no existe su representación vectorial.\n",
    "    index_esp = [int(es[es[0] == i].index.get_values()) for i in semillas_esp\n",
    "                 if int(es[es[0] == i].index.get_values().__len__()) == 1]\n",
    "    \n",
    "    index_nah = [int(nah[nah[0] == i].index.get_values()) for i in semillas_nah\n",
    "                 if int(nah[nah[0] == i].index.get_values().__len__()) == 1]\n",
    "\n",
    "    return index_esp, index_nah"
   ]
  },
  {
   "cell_type": "code",
   "execution_count": 31,
   "metadata": {},
   "outputs": [
    {
     "name": "stdout",
     "output_type": "stream",
     "text": [
      "540 540\n"
     ]
    }
   ],
   "source": [
    "index_esp, index_nah = get_seed_index(es,na)\n",
    "print(index_esp.__len__(), index_nah.__len__())"
   ]
  },
  {
   "cell_type": "code",
   "execution_count": 9,
   "metadata": {},
   "outputs": [
    {
     "data": {
      "text/plain": [
       "list"
      ]
     },
     "execution_count": 9,
     "metadata": {},
     "output_type": "execute_result"
    }
   ],
   "source": [
    "type(index_esp)"
   ]
  },
  {
   "cell_type": "code",
   "execution_count": 10,
   "metadata": {
    "collapsed": true
   },
   "outputs": [],
   "source": [
    "def get_vectors(dataframe, index, format=float64):\n",
    "    \"\"\"\n",
    "    Retorna los vectores dentro del dataframe.\n",
    "    \n",
    "    Args:\n",
    "        dataframe(Pandas.dataframe): Contiene las palabras y su representación vectorial.\n",
    "        index (list): Contiene los índices que se necesitan del dataframe\n",
    "    \n",
    "    Returns:\n",
    "        Numpy array: Matriz con representaciones vectoriales.\n",
    "    \"\"\"\n",
    "    return array([(dataframe.iloc[_].loc[1::])\n",
    "                  for _ in index]).astype(float64)\n",
    "    \n",
    "    "
   ]
  },
  {
   "cell_type": "code",
   "execution_count": 11,
   "metadata": {
    "collapsed": true
   },
   "outputs": [],
   "source": [
    "es_vectores = get_vectors(es,index_esp)\n",
    "na_vectores = get_vectors(na,index_nah)"
   ]
  }
 ],
 "metadata": {
  "kernelspec": {
   "display_name": "Python 3",
   "language": "python",
   "name": "python3"
  },
  "language_info": {
   "codemirror_mode": {
    "name": "ipython",
    "version": 3
   },
   "file_extension": ".py",
   "mimetype": "text/x-python",
   "name": "python",
   "nbconvert_exporter": "python",
   "pygments_lexer": "ipython3",
   "version": "3.6.3"
  }
 },
 "nbformat": 4,
 "nbformat_minor": 2
}
