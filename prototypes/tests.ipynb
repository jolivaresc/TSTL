{
 "cells": [
  {
   "cell_type": "code",
   "execution_count": 1,
   "metadata": {},
   "outputs": [],
   "source": [
    "import numpy as np\n",
    "import utils"
   ]
  },
  {
   "cell_type": "code",
   "execution_count": 3,
   "metadata": {},
   "outputs": [],
   "source": [
    "es,na = utils.load_node2vec()"
   ]
  },
  {
   "cell_type": "code",
   "execution_count": 23,
   "metadata": {},
   "outputs": [],
   "source": [
    "es_vectores = np.array([(es.iloc[_].loc[1::]) for _ in range(es.shape[0])]).astype(np.float64)\n",
    "na_vectores = np.array([(na.iloc[_].loc[1::]) for _ in range(na.shape[0])]).astype(np.float64)"
   ]
  },
  {
   "cell_type": "code",
   "execution_count": 38,
   "metadata": {},
   "outputs": [],
   "source": [
    "tem=es_vectores[:10]"
   ]
  },
  {
   "cell_type": "code",
   "execution_count": 41,
   "metadata": {},
   "outputs": [],
   "source": [
    "temp = list()\n",
    "\n",
    "for i in range(tem.shape[0]):\n",
    "    temp.append(tem[i].tolist())\n",
    "    temp.append(tem[i].tolist())"
   ]
  },
  {
   "cell_type": "code",
   "execution_count": 47,
   "metadata": {},
   "outputs": [],
   "source": [
    "nw=np.array(temp).astype(np.float64)"
   ]
  },
  {
   "cell_type": "code",
   "execution_count": 50,
   "metadata": {},
   "outputs": [
    {
     "data": {
      "text/plain": [
       "array([-0.021394, -0.223086,  0.081375, -0.440008,  0.414203, -0.377524,\n",
       "       -0.405761, -0.080981, -0.143192, -0.322782, -0.218029,  0.224767,\n",
       "        0.496748,  0.369483,  0.207837,  0.325655,  0.379187, -0.196205,\n",
       "        0.140283, -0.065578,  0.380467,  0.582161, -0.017695, -0.273112,\n",
       "        0.169589,  0.652324,  0.113175,  0.295438, -0.225359, -0.134728,\n",
       "       -0.37371 ,  0.11111 , -0.03088 ,  0.217027, -0.056136,  0.213754,\n",
       "        0.284192,  0.556316,  0.167516,  0.378856, -0.414663, -0.234391,\n",
       "       -0.331373, -0.024638,  0.16866 , -0.004155,  0.103027, -0.477702,\n",
       "       -0.016712,  0.14593 ,  0.006682,  0.329179,  0.265424,  0.034258,\n",
       "       -0.021563,  0.676476,  0.21205 , -0.134075,  0.275904,  0.016514,\n",
       "        0.041735, -0.342135, -0.382999, -0.185407,  0.146267, -0.424546,\n",
       "       -0.670525, -0.328909,  0.163847,  0.337542,  0.354186,  0.438162,\n",
       "        0.351942,  0.08804 , -0.020185, -0.083607, -0.422622,  0.038642,\n",
       "        0.297903,  0.245949, -0.148481, -0.102847,  0.120759, -0.139845,\n",
       "        0.210557,  0.275576,  0.095359, -0.256931, -0.035047, -0.039472,\n",
       "       -0.454046, -0.079936,  0.348717, -0.426099, -0.092879, -0.087272,\n",
       "       -0.116971,  0.034945, -0.244111, -0.07525 ,  0.538891, -0.027162,\n",
       "        0.445738, -0.322844, -0.557192,  0.103797, -0.368798, -0.045151,\n",
       "        0.310222,  0.161018, -0.177469, -0.061622,  0.464271,  0.57302 ,\n",
       "        0.084583,  0.042417,  0.162029, -0.287872, -0.185254,  0.175382,\n",
       "        0.326658,  0.09492 , -0.69682 ,  0.002694, -0.451109, -0.471278,\n",
       "        0.041343, -0.385863])"
      ]
     },
     "execution_count": 50,
     "metadata": {},
     "output_type": "execute_result"
    }
   ],
   "source": [
    "nw[1]"
   ]
  },
  {
   "cell_type": "code",
   "execution_count": 25,
   "metadata": {},
   "outputs": [
    {
     "data": {
      "text/plain": [
       "-0.0006141111496870068"
      ]
     },
     "execution_count": 25,
     "metadata": {},
     "output_type": "execute_result"
    }
   ],
   "source": [
    "es_vectores.mean()"
   ]
  },
  {
   "cell_type": "code",
   "execution_count": 26,
   "metadata": {},
   "outputs": [
    {
     "data": {
      "text/plain": [
       "-2.243862"
      ]
     },
     "execution_count": 26,
     "metadata": {},
     "output_type": "execute_result"
    }
   ],
   "source": [
    "es_vectores.min()"
   ]
  },
  {
   "cell_type": "code",
   "execution_count": 27,
   "metadata": {},
   "outputs": [
    {
     "data": {
      "text/plain": [
       "2.3720409999999998"
      ]
     },
     "execution_count": 27,
     "metadata": {},
     "output_type": "execute_result"
    }
   ],
   "source": [
    "es_vectores.max()"
   ]
  },
  {
   "cell_type": "code",
   "execution_count": 28,
   "metadata": {},
   "outputs": [
    {
     "data": {
      "text/plain": [
       "0.33561166743368337"
      ]
     },
     "execution_count": 28,
     "metadata": {},
     "output_type": "execute_result"
    }
   ],
   "source": [
    "np.std(es_vectores, dtype=np.float64)"
   ]
  },
  {
   "cell_type": "code",
   "execution_count": 29,
   "metadata": {},
   "outputs": [
    {
     "data": {
      "text/plain": [
       "0.11263519131761728"
      ]
     },
     "execution_count": 29,
     "metadata": {},
     "output_type": "execute_result"
    }
   ],
   "source": [
    "np.var(es_vectores)"
   ]
  },
  {
   "cell_type": "code",
   "execution_count": 30,
   "metadata": {},
   "outputs": [
    {
     "data": {
      "text/plain": [
       "0.33561166743368337"
      ]
     },
     "execution_count": 30,
     "metadata": {},
     "output_type": "execute_result"
    }
   ],
   "source": [
    "np.nanstd(es_vectores)"
   ]
  },
  {
   "cell_type": "code",
   "execution_count": null,
   "metadata": {},
   "outputs": [],
   "source": []
  }
 ],
 "metadata": {
  "kernelspec": {
   "display_name": "Python 3",
   "language": "python",
   "name": "python3"
  },
  "language_info": {
   "codemirror_mode": {
    "name": "ipython",
    "version": 3
   },
   "file_extension": ".py",
   "mimetype": "text/x-python",
   "name": "python",
   "nbconvert_exporter": "python",
   "pygments_lexer": "ipython3",
   "version": "3.6.3"
  }
 },
 "nbformat": 4,
 "nbformat_minor": 2
}
