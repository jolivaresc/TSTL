{
 "cells": [
  {
   "cell_type": "code",
   "execution_count": null,
   "metadata": {},
   "outputs": [],
   "source": [
    "array([[-0.348621, -0.017441, -0.155884, ..., -0.402866, -0.363316,\n",
    "         0.590777],\n",
    "       [ 0.163008, -0.27806 , -0.453527, ..., -0.150796, -0.156616,\n",
    "        -0.005837],\n",
    "       [-0.68948 , -0.714753, -0.100995, ...,  0.157934, -0.369581,\n",
    "         0.330841],\n",
    "       ..., \n",
    "       [-0.590814, -0.158256, -0.082428, ...,  0.540853, -0.609075,\n",
    "        -0.36388 ],\n",
    "       [-0.096123, -0.360335,  0.112305, ...,  0.439847, -0.114253,\n",
    "         0.071804],\n",
    "       [-0.106957, -0.112951, -0.016469, ...,  0.005712, -0.110301,\n",
    "        -0.000853]])"
   ]
  },
  {
   "cell_type": "code",
   "execution_count": null,
   "metadata": {},
   "outputs": [],
   "source": [
    "array([['-0.34862100000000001', '-0.017441000000000002',\n",
    "        '-0.15588399999999999', ..., '-0.402866', '-0.36331599999999997',\n",
    "        '0.590777'],\n",
    "       ['0.16300799999999999', '-0.27805999999999997',\n",
    "        '-0.45352700000000001', ..., '-0.15079600000000001',\n",
    "        '-0.15661600000000001', '-0.0058370000000000002'],\n",
    "       ['-0.68947999999999998', '-0.71475299999999997', '-0.100995', ...,\n",
    "        '0.15793399999999999', '-0.36958099999999999', '0.330841'],\n",
    "       ..., \n",
    "       ['-0.59081399999999995', '-0.15825600000000001',\n",
    "        '-0.082428000000000001', ..., '0.54085300000000003',\n",
    "        '-0.60907500000000003', '-0.36387999999999998'],\n",
    "       ['-0.096123', '-0.36033500000000002', '0.112305', ...,\n",
    "        '0.43984699999999999', '-0.11425299999999999',\n",
    "        '0.071804000000000007'],\n",
    "       ['-0.106957', '-0.112951', '-0.016469000000000001', ...,\n",
    "        '0.0057120000000000001', '-0.110301', '-0.00085300000000000003']], dtype=object)"
   ]
  },
  {
   "cell_type": "code",
   "execution_count": 1,
   "metadata": {},
   "outputs": [],
   "source": [
    "import numpy as np\n",
    "import pandas as pd\n",
    "import utils"
   ]
  },
  {
   "cell_type": "code",
   "execution_count": 2,
   "metadata": {},
   "outputs": [
    {
     "name": "stdout",
     "output_type": "stream",
     "text": [
      "/home/olivares/Documents/TSTL/prototypes\n"
     ]
    }
   ],
   "source": [
    "import os\n",
    "print(os.getcwd())"
   ]
  },
  {
   "cell_type": "code",
   "execution_count": 3,
   "metadata": {},
   "outputs": [],
   "source": [
    "#es_df.to_csv(path_or_buf=\"es.n2v.seed\",sep=\" \",header=False)"
   ]
  },
  {
   "cell_type": "code",
   "execution_count": 4,
   "metadata": {},
   "outputs": [],
   "source": [
    "es,na = utils.load_embeddings(\"n2v\")\n",
    "lexicon = utils.get_lexicon(\"seed\")"
   ]
  },
  {
   "cell_type": "code",
   "execution_count": 5,
   "metadata": {},
   "outputs": [
    {
     "data": {
      "text/html": [
       "<div>\n",
       "<style>\n",
       "    .dataframe thead tr:only-child th {\n",
       "        text-align: right;\n",
       "    }\n",
       "\n",
       "    .dataframe thead th {\n",
       "        text-align: left;\n",
       "    }\n",
       "\n",
       "    .dataframe tbody tr th {\n",
       "        vertical-align: top;\n",
       "    }\n",
       "</style>\n",
       "<table border=\"1\" class=\"dataframe\">\n",
       "  <thead>\n",
       "    <tr style=\"text-align: right;\">\n",
       "      <th></th>\n",
       "      <th>esp</th>\n",
       "      <th>nah</th>\n",
       "    </tr>\n",
       "  </thead>\n",
       "  <tbody>\n",
       "    <tr>\n",
       "      <th>0</th>\n",
       "      <td>cebolla</td>\n",
       "      <td>xonaca</td>\n",
       "    </tr>\n",
       "    <tr>\n",
       "      <th>1</th>\n",
       "      <td>ajo</td>\n",
       "      <td>axox</td>\n",
       "    </tr>\n",
       "    <tr>\n",
       "      <th>2</th>\n",
       "      <td>kilo</td>\n",
       "      <td>ki</td>\n",
       "    </tr>\n",
       "    <tr>\n",
       "      <th>3</th>\n",
       "      <td>aquí</td>\n",
       "      <td>nican</td>\n",
       "    </tr>\n",
       "    <tr>\n",
       "      <th>4</th>\n",
       "      <td>haba</td>\n",
       "      <td>ahuax</td>\n",
       "    </tr>\n",
       "  </tbody>\n",
       "</table>\n",
       "</div>"
      ],
      "text/plain": [
       "       esp     nah\n",
       "0  cebolla  xonaca\n",
       "1  ajo      axox  \n",
       "2  kilo     ki    \n",
       "3  aquí     nican \n",
       "4  haba     ahuax "
      ]
     },
     "execution_count": 5,
     "metadata": {},
     "output_type": "execute_result"
    }
   ],
   "source": [
    "lexicon.head()"
   ]
  },
  {
   "cell_type": "code",
   "execution_count": 6,
   "metadata": {},
   "outputs": [],
   "source": [
    "newfile_es = open(\"../vectors/es.node2vec.embeddings\",\"r\")\n",
    "newfile_na = open(\"../vectors/na.node2vec.embeddings\",\"r\")"
   ]
  },
  {
   "cell_type": "code",
   "execution_count": 7,
   "metadata": {},
   "outputs": [],
   "source": [
    "lines_es = newfile_es.readlines()\n",
    "lines_na = newfile_na.readlines()"
   ]
  },
  {
   "cell_type": "code",
   "execution_count": 8,
   "metadata": {},
   "outputs": [
    {
     "data": {
      "text/plain": [
       "'1904 128\\n'"
      ]
     },
     "execution_count": 8,
     "metadata": {},
     "output_type": "execute_result"
    }
   ],
   "source": [
    "lines_es.pop(0)\n",
    "lines_na.pop(0)"
   ]
  },
  {
   "cell_type": "code",
   "execution_count": 9,
   "metadata": {},
   "outputs": [],
   "source": [
    "tmp_es = list()\n",
    "tmp_na = list()"
   ]
  },
  {
   "cell_type": "code",
   "execution_count": 10,
   "metadata": {},
   "outputs": [],
   "source": [
    "for line in lines_es:\n",
    "    tmp_es.append(line.split())\n",
    "\n",
    "for line in lines_na:\n",
    "    tmp_na.append(line.split())"
   ]
  },
  {
   "cell_type": "code",
   "execution_count": 11,
   "metadata": {},
   "outputs": [],
   "source": [
    "lexicon_es= list((lexicon[\"esp\"]))\n",
    "lexicon_na= list((lexicon[\"nah\"]))"
   ]
  },
  {
   "cell_type": "code",
   "execution_count": 12,
   "metadata": {},
   "outputs": [],
   "source": [
    "#tmp_es1 = [tmp_es[i] for i in range(len(tmp_es)) if tmp_es[i][0] in lexicon_es]\n",
    "#tmp_na1 = [tmp_na[i] for i in range(len(tmp_na)) if tmp_na[i][0] in lexicon_na]"
   ]
  },
  {
   "cell_type": "code",
   "execution_count": 16,
   "metadata": {},
   "outputs": [],
   "source": [
    "es_df = pd.DataFrame.from_records(tmp_es)\n",
    "na_df = pd.DataFrame.from_records(tmp_na)"
   ]
  },
  {
   "cell_type": "code",
   "execution_count": 19,
   "metadata": {},
   "outputs": [
    {
     "data": {
      "text/html": [
       "<div>\n",
       "<style>\n",
       "    .dataframe thead tr:only-child th {\n",
       "        text-align: right;\n",
       "    }\n",
       "\n",
       "    .dataframe thead th {\n",
       "        text-align: left;\n",
       "    }\n",
       "\n",
       "    .dataframe tbody tr th {\n",
       "        vertical-align: top;\n",
       "    }\n",
       "</style>\n",
       "<table border=\"1\" class=\"dataframe\">\n",
       "  <thead>\n",
       "    <tr style=\"text-align: right;\">\n",
       "      <th></th>\n",
       "      <th>0</th>\n",
       "      <th>1</th>\n",
       "      <th>2</th>\n",
       "      <th>3</th>\n",
       "      <th>4</th>\n",
       "      <th>5</th>\n",
       "      <th>6</th>\n",
       "      <th>7</th>\n",
       "      <th>8</th>\n",
       "      <th>9</th>\n",
       "      <th>...</th>\n",
       "      <th>119</th>\n",
       "      <th>120</th>\n",
       "      <th>121</th>\n",
       "      <th>122</th>\n",
       "      <th>123</th>\n",
       "      <th>124</th>\n",
       "      <th>125</th>\n",
       "      <th>126</th>\n",
       "      <th>127</th>\n",
       "      <th>128</th>\n",
       "    </tr>\n",
       "  </thead>\n",
       "  <tbody>\n",
       "    <tr>\n",
       "      <th>734</th>\n",
       "      <td>cebolla</td>\n",
       "      <td>0.167541</td>\n",
       "      <td>0.19661100000000001</td>\n",
       "      <td>-0.97720899999999999</td>\n",
       "      <td>0.58840000000000003</td>\n",
       "      <td>-0.88506399999999996</td>\n",
       "      <td>-0.151472</td>\n",
       "      <td>-0.300342</td>\n",
       "      <td>-0.061525000000000003</td>\n",
       "      <td>0.42176799999999998</td>\n",
       "      <td>...</td>\n",
       "      <td>-0.73907299999999998</td>\n",
       "      <td>-0.25171300000000002</td>\n",
       "      <td>0.70741200000000004</td>\n",
       "      <td>0.25678099999999998</td>\n",
       "      <td>-0.103711</td>\n",
       "      <td>-0.047140000000000001</td>\n",
       "      <td>-0.116604</td>\n",
       "      <td>-0.20202400000000001</td>\n",
       "      <td>-0.037447000000000001</td>\n",
       "      <td>-0.97604599999999997</td>\n",
       "    </tr>\n",
       "  </tbody>\n",
       "</table>\n",
       "<p>1 rows × 129 columns</p>\n",
       "</div>"
      ],
      "text/plain": [
       "           0         1                    2                     3  \\\n",
       "734  cebolla  0.167541  0.19661100000000001  -0.97720899999999999   \n",
       "\n",
       "                       4                     5          6          7  \\\n",
       "734  0.58840000000000003  -0.88506399999999996  -0.151472  -0.300342   \n",
       "\n",
       "                         8                    9          ...           \\\n",
       "734  -0.061525000000000003  0.42176799999999998          ...            \n",
       "\n",
       "                      119                   120                  121  \\\n",
       "734  -0.73907299999999998  -0.25171300000000002  0.70741200000000004   \n",
       "\n",
       "                     122        123                    124        125  \\\n",
       "734  0.25678099999999998  -0.103711  -0.047140000000000001  -0.116604   \n",
       "\n",
       "                      126                    127                   128  \n",
       "734  -0.20202400000000001  -0.037447000000000001  -0.97604599999999997  \n",
       "\n",
       "[1 rows x 129 columns]"
      ]
     },
     "execution_count": 19,
     "metadata": {},
     "output_type": "execute_result"
    }
   ],
   "source": [
    "es[es[0]==\"cebolla\"]"
   ]
  },
  {
   "cell_type": "code",
   "execution_count": 17,
   "metadata": {},
   "outputs": [
    {
     "data": {
      "text/html": [
       "<div>\n",
       "<style>\n",
       "    .dataframe thead tr:only-child th {\n",
       "        text-align: right;\n",
       "    }\n",
       "\n",
       "    .dataframe thead th {\n",
       "        text-align: left;\n",
       "    }\n",
       "\n",
       "    .dataframe tbody tr th {\n",
       "        vertical-align: top;\n",
       "    }\n",
       "</style>\n",
       "<table border=\"1\" class=\"dataframe\">\n",
       "  <thead>\n",
       "    <tr style=\"text-align: right;\">\n",
       "      <th></th>\n",
       "      <th>0</th>\n",
       "      <th>1</th>\n",
       "      <th>2</th>\n",
       "      <th>3</th>\n",
       "      <th>4</th>\n",
       "      <th>5</th>\n",
       "      <th>6</th>\n",
       "      <th>7</th>\n",
       "      <th>8</th>\n",
       "      <th>9</th>\n",
       "      <th>...</th>\n",
       "      <th>119</th>\n",
       "      <th>120</th>\n",
       "      <th>121</th>\n",
       "      <th>122</th>\n",
       "      <th>123</th>\n",
       "      <th>124</th>\n",
       "      <th>125</th>\n",
       "      <th>126</th>\n",
       "      <th>127</th>\n",
       "      <th>128</th>\n",
       "    </tr>\n",
       "  </thead>\n",
       "  <tbody>\n",
       "    <tr>\n",
       "      <th>734</th>\n",
       "      <td>cebolla</td>\n",
       "      <td>0.167541</td>\n",
       "      <td>0.19661100000000001</td>\n",
       "      <td>-0.97720899999999999</td>\n",
       "      <td>0.58840000000000003</td>\n",
       "      <td>-0.88506399999999996</td>\n",
       "      <td>-0.151472</td>\n",
       "      <td>-0.300342</td>\n",
       "      <td>-0.061525000000000003</td>\n",
       "      <td>0.42176799999999998</td>\n",
       "      <td>...</td>\n",
       "      <td>-0.73907299999999998</td>\n",
       "      <td>-0.25171300000000002</td>\n",
       "      <td>0.70741200000000004</td>\n",
       "      <td>0.25678099999999998</td>\n",
       "      <td>-0.103711</td>\n",
       "      <td>-0.047140000000000001</td>\n",
       "      <td>-0.116604</td>\n",
       "      <td>-0.20202400000000001</td>\n",
       "      <td>-0.037447000000000001</td>\n",
       "      <td>-0.97604599999999997</td>\n",
       "    </tr>\n",
       "  </tbody>\n",
       "</table>\n",
       "<p>1 rows × 129 columns</p>\n",
       "</div>"
      ],
      "text/plain": [
       "           0         1                    2                     3  \\\n",
       "734  cebolla  0.167541  0.19661100000000001  -0.97720899999999999   \n",
       "\n",
       "                       4                     5          6          7  \\\n",
       "734  0.58840000000000003  -0.88506399999999996  -0.151472  -0.300342   \n",
       "\n",
       "                         8                    9          ...           \\\n",
       "734  -0.061525000000000003  0.42176799999999998          ...            \n",
       "\n",
       "                      119                   120                  121  \\\n",
       "734  -0.73907299999999998  -0.25171300000000002  0.70741200000000004   \n",
       "\n",
       "                     122        123                    124        125  \\\n",
       "734  0.25678099999999998  -0.103711  -0.047140000000000001  -0.116604   \n",
       "\n",
       "                      126                    127                   128  \n",
       "734  -0.20202400000000001  -0.037447000000000001  -0.97604599999999997  \n",
       "\n",
       "[1 rows x 129 columns]"
      ]
     },
     "execution_count": 17,
     "metadata": {},
     "output_type": "execute_result"
    }
   ],
   "source": [
    "es_df[es_df[0]==\"cebolla\"]"
   ]
  },
  {
   "cell_type": "code",
   "execution_count": 18,
   "metadata": {},
   "outputs": [
    {
     "data": {
      "text/html": [
       "<div>\n",
       "<style>\n",
       "    .dataframe thead tr:only-child th {\n",
       "        text-align: right;\n",
       "    }\n",
       "\n",
       "    .dataframe thead th {\n",
       "        text-align: left;\n",
       "    }\n",
       "\n",
       "    .dataframe tbody tr th {\n",
       "        vertical-align: top;\n",
       "    }\n",
       "</style>\n",
       "<table border=\"1\" class=\"dataframe\">\n",
       "  <thead>\n",
       "    <tr style=\"text-align: right;\">\n",
       "      <th></th>\n",
       "      <th>0</th>\n",
       "      <th>1</th>\n",
       "      <th>2</th>\n",
       "      <th>3</th>\n",
       "      <th>4</th>\n",
       "      <th>5</th>\n",
       "      <th>6</th>\n",
       "      <th>7</th>\n",
       "      <th>8</th>\n",
       "      <th>9</th>\n",
       "      <th>...</th>\n",
       "      <th>119</th>\n",
       "      <th>120</th>\n",
       "      <th>121</th>\n",
       "      <th>122</th>\n",
       "      <th>123</th>\n",
       "      <th>124</th>\n",
       "      <th>125</th>\n",
       "      <th>126</th>\n",
       "      <th>127</th>\n",
       "      <th>128</th>\n",
       "    </tr>\n",
       "  </thead>\n",
       "  <tbody>\n",
       "    <tr>\n",
       "      <th>0</th>\n",
       "      <td>igual</td>\n",
       "      <td>-0.021394</td>\n",
       "      <td>-0.22308600000000001</td>\n",
       "      <td>0.081375000000000003</td>\n",
       "      <td>-0.44000800000000001</td>\n",
       "      <td>0.41420299999999999</td>\n",
       "      <td>-0.37752400000000003</td>\n",
       "      <td>-0.40576099999999998</td>\n",
       "      <td>-0.080980999999999997</td>\n",
       "      <td>-0.14319200000000001</td>\n",
       "      <td>...</td>\n",
       "      <td>-0.185254</td>\n",
       "      <td>0.17538200000000001</td>\n",
       "      <td>0.326658</td>\n",
       "      <td>0.094920000000000004</td>\n",
       "      <td>-0.69681999999999999</td>\n",
       "      <td>0.0026940000000000002</td>\n",
       "      <td>-0.45110899999999998</td>\n",
       "      <td>-0.47127799999999997</td>\n",
       "      <td>0.041342999999999998</td>\n",
       "      <td>-0.38586300000000001</td>\n",
       "    </tr>\n",
       "    <tr>\n",
       "      <th>1</th>\n",
       "      <td>hermano</td>\n",
       "      <td>-0.27513300000000002</td>\n",
       "      <td>-0.290684</td>\n",
       "      <td>-0.035325000000000002</td>\n",
       "      <td>-0.172819</td>\n",
       "      <td>-0.171268</td>\n",
       "      <td>0.19417799999999999</td>\n",
       "      <td>-0.260795</td>\n",
       "      <td>-0.131469</td>\n",
       "      <td>-0.56005700000000003</td>\n",
       "      <td>...</td>\n",
       "      <td>-0.77275700000000003</td>\n",
       "      <td>0.26308999999999999</td>\n",
       "      <td>0.152056</td>\n",
       "      <td>-0.34808899999999998</td>\n",
       "      <td>0.31774200000000002</td>\n",
       "      <td>0.093362000000000001</td>\n",
       "      <td>-0.53920000000000001</td>\n",
       "      <td>-0.091986999999999999</td>\n",
       "      <td>0.24560499999999999</td>\n",
       "      <td>0.074918999999999999</td>\n",
       "    </tr>\n",
       "    <tr>\n",
       "      <th>2</th>\n",
       "      <td>martajan</td>\n",
       "      <td>-0.39002700000000001</td>\n",
       "      <td>-0.18165300000000001</td>\n",
       "      <td>-0.26608799999999999</td>\n",
       "      <td>0.13489100000000001</td>\n",
       "      <td>-0.105633</td>\n",
       "      <td>-0.124488</td>\n",
       "      <td>-0.85740300000000003</td>\n",
       "      <td>-0.210449</td>\n",
       "      <td>0.10071099999999999</td>\n",
       "      <td>...</td>\n",
       "      <td>-0.30548500000000001</td>\n",
       "      <td>-0.43815399999999999</td>\n",
       "      <td>0.63305199999999995</td>\n",
       "      <td>-0.086624000000000007</td>\n",
       "      <td>0.049135999999999999</td>\n",
       "      <td>-0.166021</td>\n",
       "      <td>-0.45888899999999999</td>\n",
       "      <td>0.21430399999999999</td>\n",
       "      <td>-0.089515999999999998</td>\n",
       "      <td>-0.083751000000000006</td>\n",
       "    </tr>\n",
       "    <tr>\n",
       "      <th>3</th>\n",
       "      <td>fuero</td>\n",
       "      <td>0.038670999999999997</td>\n",
       "      <td>-0.12618799999999999</td>\n",
       "      <td>-0.12856699999999999</td>\n",
       "      <td>-0.10723100000000001</td>\n",
       "      <td>0.091522000000000006</td>\n",
       "      <td>-0.15167600000000001</td>\n",
       "      <td>-0.137239</td>\n",
       "      <td>-0.118836</td>\n",
       "      <td>-0.078329999999999997</td>\n",
       "      <td>...</td>\n",
       "      <td>-0.22109699999999999</td>\n",
       "      <td>0.062376000000000001</td>\n",
       "      <td>0.249082</td>\n",
       "      <td>0.034577999999999998</td>\n",
       "      <td>-0.069553000000000004</td>\n",
       "      <td>0.11555600000000001</td>\n",
       "      <td>-0.058006000000000002</td>\n",
       "      <td>0.075348999999999999</td>\n",
       "      <td>-0.039742</td>\n",
       "      <td>0.043875999999999998</td>\n",
       "    </tr>\n",
       "    <tr>\n",
       "      <th>4</th>\n",
       "      <td>ehecatl</td>\n",
       "      <td>-0.262042</td>\n",
       "      <td>-0.34154400000000001</td>\n",
       "      <td>0.020990999999999999</td>\n",
       "      <td>-0.098941000000000001</td>\n",
       "      <td>0.0065110000000000003</td>\n",
       "      <td>-0.40626099999999998</td>\n",
       "      <td>-0.011587</td>\n",
       "      <td>-0.046593999999999997</td>\n",
       "      <td>0.20002200000000001</td>\n",
       "      <td>...</td>\n",
       "      <td>-0.087499999999999994</td>\n",
       "      <td>-0.12940599999999999</td>\n",
       "      <td>-0.203127</td>\n",
       "      <td>-0.14116500000000001</td>\n",
       "      <td>-0.11533</td>\n",
       "      <td>-0.20407400000000001</td>\n",
       "      <td>-0.14868200000000001</td>\n",
       "      <td>-0.107582</td>\n",
       "      <td>-0.051375999999999998</td>\n",
       "      <td>0.16094600000000001</td>\n",
       "    </tr>\n",
       "  </tbody>\n",
       "</table>\n",
       "<p>5 rows × 129 columns</p>\n",
       "</div>"
      ],
      "text/plain": [
       "          0                     1                     2  \\\n",
       "0  igual     -0.021394             -0.22308600000000001   \n",
       "1  hermano   -0.27513300000000002  -0.290684              \n",
       "2  martajan  -0.39002700000000001  -0.18165300000000001   \n",
       "3  fuero     0.038670999999999997  -0.12618799999999999   \n",
       "4  ehecatl   -0.262042             -0.34154400000000001   \n",
       "\n",
       "                       3                      4                      5  \\\n",
       "0  0.081375000000000003   -0.44000800000000001   0.41420299999999999     \n",
       "1  -0.035325000000000002  -0.172819              -0.171268               \n",
       "2  -0.26608799999999999   0.13489100000000001    -0.105633               \n",
       "3  -0.12856699999999999   -0.10723100000000001   0.091522000000000006    \n",
       "4  0.020990999999999999   -0.098941000000000001  0.0065110000000000003   \n",
       "\n",
       "                      6                     7                      8  \\\n",
       "0  -0.37752400000000003  -0.40576099999999998  -0.080980999999999997   \n",
       "1  0.19417799999999999   -0.260795             -0.131469               \n",
       "2  -0.124488             -0.85740300000000003  -0.210449               \n",
       "3  -0.15167600000000001  -0.137239             -0.118836               \n",
       "4  -0.40626099999999998  -0.011587             -0.046593999999999997   \n",
       "\n",
       "                       9          ...                              119  \\\n",
       "0  -0.14319200000000001           ...            -0.185254               \n",
       "1  -0.56005700000000003           ...            -0.77275700000000003    \n",
       "2  0.10071099999999999            ...            -0.30548500000000001    \n",
       "3  -0.078329999999999997          ...            -0.22109699999999999    \n",
       "4  0.20002200000000001            ...            -0.087499999999999994   \n",
       "\n",
       "                    120                  121                    122  \\\n",
       "0  0.17538200000000001   0.326658             0.094920000000000004    \n",
       "1  0.26308999999999999   0.152056             -0.34808899999999998    \n",
       "2  -0.43815399999999999  0.63305199999999995  -0.086624000000000007   \n",
       "3  0.062376000000000001  0.249082             0.034577999999999998    \n",
       "4  -0.12940599999999999  -0.203127            -0.14116500000000001    \n",
       "\n",
       "                     123                    124                    125  \\\n",
       "0  -0.69681999999999999   0.0026940000000000002  -0.45110899999999998    \n",
       "1  0.31774200000000002    0.093362000000000001   -0.53920000000000001    \n",
       "2  0.049135999999999999   -0.166021              -0.45888899999999999    \n",
       "3  -0.069553000000000004  0.11555600000000001    -0.058006000000000002   \n",
       "4  -0.11533               -0.20407400000000001   -0.14868200000000001    \n",
       "\n",
       "                     126                    127                    128  \n",
       "0  -0.47127799999999997   0.041342999999999998   -0.38586300000000001   \n",
       "1  -0.091986999999999999  0.24560499999999999    0.074918999999999999   \n",
       "2  0.21430399999999999    -0.089515999999999998  -0.083751000000000006  \n",
       "3  0.075348999999999999   -0.039742              0.043875999999999998   \n",
       "4  -0.107582              -0.051375999999999998  0.16094600000000001    \n",
       "\n",
       "[5 rows x 129 columns]"
      ]
     },
     "execution_count": 18,
     "metadata": {},
     "output_type": "execute_result"
    }
   ],
   "source": [
    "es_df.head()"
   ]
  },
  {
   "cell_type": "code",
   "execution_count": null,
   "metadata": {},
   "outputs": [],
   "source": [
    "na_df.head()"
   ]
  },
  {
   "cell_type": "code",
   "execution_count": null,
   "metadata": {},
   "outputs": [],
   "source": [
    "es_index = [int(es[es[0] == palabra].index[0])for palabra in lexicon_es]\n",
    "na_index = [int(na[na[0] == palabra].index[0])for palabra in lexicon_na]"
   ]
  },
  {
   "cell_type": "code",
   "execution_count": null,
   "metadata": {},
   "outputs": [],
   "source": [
    "lexicon_es"
   ]
  },
  {
   "cell_type": "code",
   "execution_count": null,
   "metadata": {},
   "outputs": [],
   "source": [
    "es_df[es_df[0]==\"cebolla\"]"
   ]
  },
  {
   "cell_type": "code",
   "execution_count": null,
   "metadata": {},
   "outputs": [],
   "source": [
    "es_vectores = utils.get_vectors(es_df,es_index)\n",
    "na_vectores = utils.get_vectors(na_df,na_index)"
   ]
  },
  {
   "cell_type": "code",
   "execution_count": null,
   "metadata": {},
   "outputs": [],
   "source": [
    "es_vectores.tofile(\"node2vec_es\", format=\"%s\")"
   ]
  },
  {
   "cell_type": "code",
   "execution_count": null,
   "metadata": {},
   "outputs": [],
   "source": []
  },
  {
   "cell_type": "code",
   "execution_count": null,
   "metadata": {},
   "outputs": [],
   "source": []
  },
  {
   "cell_type": "code",
   "execution_count": null,
   "metadata": {},
   "outputs": [],
   "source": []
  },
  {
   "cell_type": "code",
   "execution_count": null,
   "metadata": {},
   "outputs": [],
   "source": [
    "es_df[es_df[0]==\"cebolla\"]"
   ]
  },
  {
   "cell_type": "code",
   "execution_count": null,
   "metadata": {},
   "outputs": [],
   "source": [
    "es_df = pd.concat([pd.DataFrame(es[es[0]==i]) for i in lexicon],ignore_index=True)\n",
    "na_df = pd.concat([pd.DataFrame(na[na[0]==i]) for i in lexicon],ignore_index=True)"
   ]
  },
  {
   "cell_type": "code",
   "execution_count": null,
   "metadata": {},
   "outputs": [],
   "source": []
  },
  {
   "cell_type": "code",
   "execution_count": null,
   "metadata": {},
   "outputs": [],
   "source": [
    "es_df.to_csv(path_or_buf=\"es.n2v.eval\",sep=\" \",header=False,index=None)\n",
    "#na_df.to_csv(path_or_buf=\"na.w2v.1400.seed\",sep=\" \",header=False,index=None)"
   ]
  },
  {
   "cell_type": "code",
   "execution_count": null,
   "metadata": {},
   "outputs": [],
   "source": []
  },
  {
   "cell_type": "code",
   "execution_count": null,
   "metadata": {},
   "outputs": [],
   "source": []
  },
  {
   "cell_type": "code",
   "execution_count": null,
   "metadata": {},
   "outputs": [],
   "source": []
  },
  {
   "cell_type": "code",
   "execution_count": null,
   "metadata": {},
   "outputs": [],
   "source": []
  },
  {
   "cell_type": "code",
   "execution_count": null,
   "metadata": {},
   "outputs": [],
   "source": []
  },
  {
   "cell_type": "code",
   "execution_count": null,
   "metadata": {},
   "outputs": [],
   "source": [
    "%matplotlib notebook\n",
    "import numpy as np\n",
    "import matplotlib.pyplot as plt\n",
    "\n",
    "matrix = np.logspace(0.1, 1, 500, endpoint=True)\n",
    "\n",
    "fig = plt.figure()\n",
    "ax = fig.add_subplot(111)\n",
    "plt.ion()\n",
    "plt.grid(True)\n",
    "fig.show()\n",
    "fig.canvas.draw()\n",
    "\n",
    "for i in range(0,500):\n",
    "    if i % 10 == 0:\n",
    "        ax.scatter(i,matrix[i])\n",
    "        fig.canvas.draw()\n"
   ]
  },
  {
   "cell_type": "code",
   "execution_count": null,
   "metadata": {},
   "outputs": [],
   "source": []
  },
  {
   "cell_type": "code",
   "execution_count": null,
   "metadata": {},
   "outputs": [],
   "source": [
    "import numpy as np\n",
    "import utils"
   ]
  },
  {
   "cell_type": "code",
   "execution_count": null,
   "metadata": {},
   "outputs": [],
   "source": [
    "es,na = utils.load_embeddings()"
   ]
  },
  {
   "cell_type": "code",
   "execution_count": null,
   "metadata": {},
   "outputs": [],
   "source": [
    "es_vectores = np.array([(es.iloc[_].loc[1::]) for _ in range(es.shape[0])]).astype(np.float64)\n",
    "na_vectores = np.array([(na.iloc[_].loc[1::]) for _ in range(na.shape[0])]).astype(np.float64)"
   ]
  },
  {
   "cell_type": "code",
   "execution_count": null,
   "metadata": {},
   "outputs": [],
   "source": [
    "tem=es_vectores[:10]"
   ]
  },
  {
   "cell_type": "code",
   "execution_count": null,
   "metadata": {},
   "outputs": [],
   "source": [
    "temp = list()\n",
    "\n",
    "for i in range(tem.shape[0]):\n",
    "    temp.append(tem[i].tolist())\n",
    "    temp.append(tem[i].tolist())"
   ]
  },
  {
   "cell_type": "code",
   "execution_count": null,
   "metadata": {},
   "outputs": [],
   "source": [
    "nw=np.array(temp).astype(np.float64)"
   ]
  },
  {
   "cell_type": "code",
   "execution_count": null,
   "metadata": {},
   "outputs": [],
   "source": [
    "nw[1]"
   ]
  },
  {
   "cell_type": "code",
   "execution_count": null,
   "metadata": {},
   "outputs": [],
   "source": [
    "es_vectores.mean()"
   ]
  },
  {
   "cell_type": "code",
   "execution_count": null,
   "metadata": {},
   "outputs": [],
   "source": [
    "es_vectores.min()"
   ]
  },
  {
   "cell_type": "code",
   "execution_count": null,
   "metadata": {},
   "outputs": [],
   "source": [
    "es_vectores.max()"
   ]
  },
  {
   "cell_type": "code",
   "execution_count": null,
   "metadata": {},
   "outputs": [],
   "source": [
    "np.std(es_vectores, dtype=np.float64)"
   ]
  },
  {
   "cell_type": "code",
   "execution_count": null,
   "metadata": {},
   "outputs": [],
   "source": [
    "np.var(es_vectores)"
   ]
  },
  {
   "cell_type": "code",
   "execution_count": null,
   "metadata": {},
   "outputs": [],
   "source": [
    "np.nanstd(es_vectores)"
   ]
  },
  {
   "cell_type": "code",
   "execution_count": null,
   "metadata": {},
   "outputs": [],
   "source": []
  }
 ],
 "metadata": {
  "kernelspec": {
   "display_name": "Python 3",
   "language": "python",
   "name": "python3"
  },
  "language_info": {
   "codemirror_mode": {
    "name": "ipython",
    "version": 3
   },
   "file_extension": ".py",
   "mimetype": "text/x-python",
   "name": "python",
   "nbconvert_exporter": "python",
   "pygments_lexer": "ipython3",
   "version": "3.6.3"
  }
 },
 "nbformat": 4,
 "nbformat_minor": 2
}
