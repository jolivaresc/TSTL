{
 "cells": [
  {
   "cell_type": "code",
   "execution_count": 1,
   "metadata": {},
   "outputs": [],
   "source": [
    "import utils\n",
    "\n",
    "__author__ = \"Olivares Castillo José Luis\""
   ]
  },
  {
   "cell_type": "markdown",
   "metadata": {},
   "source": [
    "# Cargar vectores desde archivos\n",
    "Leer archivos n2v"
   ]
  },
  {
   "cell_type": "code",
   "execution_count": 2,
   "metadata": {},
   "outputs": [
    {
     "name": "stdout",
     "output_type": "stream",
     "text": [
      "es: (4433, 129) \tna: (1904, 129)\n"
     ]
    }
   ],
   "source": [
    "es, na = utils.load_embeddings()\n",
    "print(\"es:\", es.shape, \"\\tna:\", na.shape)"
   ]
  },
  {
   "cell_type": "markdown",
   "metadata": {},
   "source": [
    "Se buscan los índices de los lexicones semilla dentro de los dataframes para poder acceder a sus representaciones vectoriales."
   ]
  },
  {
   "cell_type": "code",
   "execution_count": 3,
   "metadata": {},
   "outputs": [
    {
     "name": "stdout",
     "output_type": "stream",
     "text": [
      "index_es: 540 index_na: 540\n"
     ]
    }
   ],
   "source": [
    "index_es, index_na = utils.get_seed_index(es, na)\n",
    "print(\"index_es:\", index_es.__len__(), \"index_na:\", index_na.__len__())"
   ]
  },
  {
   "cell_type": "code",
   "execution_count": 4,
   "metadata": {},
   "outputs": [
    {
     "name": "stdout",
     "output_type": "stream",
     "text": [
      "cosa\n"
     ]
    }
   ],
   "source": [
    "# Buscar palabra por índice\n",
    "print(es.iloc[358][0])"
   ]
  },
  {
   "cell_type": "markdown",
   "metadata": {},
   "source": [
    "Se obtienen los vectores de los lexicones semilla"
   ]
  },
  {
   "cell_type": "code",
   "execution_count": 5,
   "metadata": {},
   "outputs": [],
   "source": [
    "es_vectores = utils.get_vectors(es,index_es)\n",
    "na_vectores = utils.get_vectors(na,index_na)"
   ]
  },
  {
   "cell_type": "markdown",
   "metadata": {},
   "source": [
    "# Testing\n",
    "La función get_top10_closest obtiene los 10 vectores más cercanos al vector de referencia."
   ]
  },
  {
   "cell_type": "code",
   "execution_count": 6,
   "metadata": {},
   "outputs": [
    {
     "data": {
      "text/plain": [
       "[(358, 0.32190989442881524),\n",
       " (375, 0.34107019337022826),\n",
       " (107, 0.35352786731676067),\n",
       " (93, 0.40386634968369539),\n",
       " (144, 0.45334739753827513),\n",
       " (303, 0.45334739753827513),\n",
       " (79, 0.46716789033631501),\n",
       " (48, 0.48285144446834327),\n",
       " (397, 0.48285144446834327),\n",
       " (207, 0.49483617834979188)]"
      ]
     },
     "execution_count": 6,
     "metadata": {},
     "output_type": "execute_result"
    }
   ],
   "source": [
    "top_10 = utils.get_top10_closest(es_vectores[0],na_vectores[100:])\n",
    "top_10"
   ]
  },
  {
   "cell_type": "code",
   "execution_count": 7,
   "metadata": {},
   "outputs": [
    {
     "name": "stdout",
     "output_type": "stream",
     "text": [
      "andr\n",
      "mahui\n",
      "xayaca\n",
      "pochteca\n",
      "america\n",
      "mbre\n",
      "yohua\n",
      "cilantril\n",
      "chpan\n",
      "motlahtlanili\n"
     ]
    }
   ],
   "source": [
    "utils.get_closest_words_to(top_10,na)"
   ]
  },
  {
   "cell_type": "code",
   "execution_count": null,
   "metadata": {},
   "outputs": [],
   "source": []
  }
 ],
 "metadata": {
  "kernelspec": {
   "display_name": "Python 3",
   "language": "python",
   "name": "python3"
  },
  "language_info": {
   "codemirror_mode": {
    "name": "ipython",
    "version": 3
   },
   "file_extension": ".py",
   "mimetype": "text/x-python",
   "name": "python",
   "nbconvert_exporter": "python",
   "pygments_lexer": "ipython3",
   "version": "3.6.3"
  }
 },
 "nbformat": 4,
 "nbformat_minor": 2
}
