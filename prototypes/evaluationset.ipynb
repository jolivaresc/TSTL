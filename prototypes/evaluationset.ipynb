{
 "cells": [
  {
   "cell_type": "code",
   "execution_count": 1,
   "metadata": {},
   "outputs": [
    {
     "data": {
      "text/plain": [
       "'1.5.0-rc0'"
      ]
     },
     "execution_count": 1,
     "metadata": {},
     "output_type": "execute_result"
    }
   ],
   "source": [
    "import tensorflow as tf\n",
    "import utils\n",
    "import pandas as pd\n",
    "import numpy as np\n",
    "__author__ = \"Olivares Castillo José Luis\"\n",
    "\n",
    "tf.__version__"
   ]
  },
  {
   "cell_type": "code",
   "execution_count": 2,
   "metadata": {},
   "outputs": [],
   "source": [
    "es,na = utils.load_node2vec()"
   ]
  },
  {
   "cell_type": "code",
   "execution_count": 3,
   "metadata": {},
   "outputs": [],
   "source": [
    "na_dummy = na.drop(na.columns[0],axis=1)\n",
    "na_vectores1 = np.array(na_dummy)"
   ]
  },
  {
   "cell_type": "code",
   "execution_count": 4,
   "metadata": {},
   "outputs": [],
   "source": [
    "eval_set = pd.read_csv(\"../lexiconevaluacion/evaluationset\",delimiter=\" \",names=[\"esp\",\"nah\"])"
   ]
  },
  {
   "cell_type": "code",
   "execution_count": 5,
   "metadata": {},
   "outputs": [
    {
     "data": {
      "text/html": [
       "<div>\n",
       "<style>\n",
       "    .dataframe thead tr:only-child th {\n",
       "        text-align: right;\n",
       "    }\n",
       "\n",
       "    .dataframe thead th {\n",
       "        text-align: left;\n",
       "    }\n",
       "\n",
       "    .dataframe tbody tr th {\n",
       "        vertical-align: top;\n",
       "    }\n",
       "</style>\n",
       "<table border=\"1\" class=\"dataframe\">\n",
       "  <thead>\n",
       "    <tr style=\"text-align: right;\">\n",
       "      <th></th>\n",
       "      <th>esp</th>\n",
       "      <th>nah</th>\n",
       "    </tr>\n",
       "  </thead>\n",
       "  <tbody>\n",
       "    <tr>\n",
       "      <th>0</th>\n",
       "      <td>traer</td>\n",
       "      <td>itqui</td>\n",
       "    </tr>\n",
       "    <tr>\n",
       "      <th>1</th>\n",
       "      <td>traer</td>\n",
       "      <td>huica</td>\n",
       "    </tr>\n",
       "    <tr>\n",
       "      <th>2</th>\n",
       "      <td>traer</td>\n",
       "      <td>huiqui</td>\n",
       "    </tr>\n",
       "    <tr>\n",
       "      <th>3</th>\n",
       "      <td>traer</td>\n",
       "      <td>cui</td>\n",
       "    </tr>\n",
       "    <tr>\n",
       "      <th>4</th>\n",
       "      <td>adornar</td>\n",
       "      <td>apana</td>\n",
       "    </tr>\n",
       "  </tbody>\n",
       "</table>\n",
       "</div>"
      ],
      "text/plain": [
       "       esp     nah\n",
       "0  traer    itqui \n",
       "1  traer    huica \n",
       "2  traer    huiqui\n",
       "3  traer    cui   \n",
       "4  adornar  apana "
      ]
     },
     "execution_count": 5,
     "metadata": {},
     "output_type": "execute_result"
    }
   ],
   "source": [
    "eval_set.head()"
   ]
  },
  {
   "cell_type": "code",
   "execution_count": 6,
   "metadata": {},
   "outputs": [],
   "source": [
    "eval_es = list(set(eval_set[\"esp\"]))"
   ]
  },
  {
   "cell_type": "code",
   "execution_count": 7,
   "metadata": {},
   "outputs": [],
   "source": [
    "#eval_es"
   ]
  },
  {
   "cell_type": "code",
   "execution_count": 8,
   "metadata": {},
   "outputs": [],
   "source": [
    "eval_es_index = [int(es[es[0] == palabra].index[0])\n",
    "                  for palabra in eval_es]"
   ]
  },
  {
   "cell_type": "code",
   "execution_count": 9,
   "metadata": {},
   "outputs": [
    {
     "data": {
      "text/html": [
       "<div>\n",
       "<style>\n",
       "    .dataframe thead tr:only-child th {\n",
       "        text-align: right;\n",
       "    }\n",
       "\n",
       "    .dataframe thead th {\n",
       "        text-align: left;\n",
       "    }\n",
       "\n",
       "    .dataframe tbody tr th {\n",
       "        vertical-align: top;\n",
       "    }\n",
       "</style>\n",
       "<table border=\"1\" class=\"dataframe\">\n",
       "  <thead>\n",
       "    <tr style=\"text-align: right;\">\n",
       "      <th></th>\n",
       "      <th>0</th>\n",
       "      <th>1</th>\n",
       "      <th>2</th>\n",
       "      <th>3</th>\n",
       "      <th>4</th>\n",
       "      <th>5</th>\n",
       "      <th>6</th>\n",
       "      <th>7</th>\n",
       "      <th>8</th>\n",
       "      <th>9</th>\n",
       "      <th>...</th>\n",
       "      <th>119</th>\n",
       "      <th>120</th>\n",
       "      <th>121</th>\n",
       "      <th>122</th>\n",
       "      <th>123</th>\n",
       "      <th>124</th>\n",
       "      <th>125</th>\n",
       "      <th>126</th>\n",
       "      <th>127</th>\n",
       "      <th>128</th>\n",
       "    </tr>\n",
       "  </thead>\n",
       "  <tbody>\n",
       "    <tr>\n",
       "      <th>2902</th>\n",
       "      <td>pluma</td>\n",
       "      <td>-0.386967000000000005</td>\n",
       "      <td>0.005026</td>\n",
       "      <td>-0.191887000000000002</td>\n",
       "      <td>-0.081058000000000005</td>\n",
       "      <td>-0.211675000000000002</td>\n",
       "      <td>-0.217542999999999986</td>\n",
       "      <td>-0.019026000000000001</td>\n",
       "      <td>0.454046000000000005</td>\n",
       "      <td>0.006309</td>\n",
       "      <td>...</td>\n",
       "      <td>-0.013390000000000001</td>\n",
       "      <td>0.023695999999999998</td>\n",
       "      <td>0.394602000000000008</td>\n",
       "      <td>-0.003221</td>\n",
       "      <td>-0.708667000000000047</td>\n",
       "      <td>0.021819000000000002</td>\n",
       "      <td>0.181774999999999992</td>\n",
       "      <td>0.436242000000000019</td>\n",
       "      <td>-0.162193000000000004</td>\n",
       "      <td>-0.076617000000000005</td>\n",
       "    </tr>\n",
       "  </tbody>\n",
       "</table>\n",
       "<p>1 rows × 129 columns</p>\n",
       "</div>"
      ],
      "text/plain": [
       "          0                     1         2                     3  \\\n",
       "2902  pluma -0.386967000000000005  0.005026 -0.191887000000000002   \n",
       "\n",
       "                         4                     5                     6  \\\n",
       "2902 -0.081058000000000005 -0.211675000000000002 -0.217542999999999986   \n",
       "\n",
       "                         7                     8         9  \\\n",
       "2902 -0.019026000000000001  0.454046000000000005  0.006309   \n",
       "\n",
       "              ...                            119                   120  \\\n",
       "2902          ...          -0.013390000000000001  0.023695999999999998   \n",
       "\n",
       "                       121       122                   123  \\\n",
       "2902  0.394602000000000008 -0.003221 -0.708667000000000047   \n",
       "\n",
       "                       124                   125                   126  \\\n",
       "2902  0.021819000000000002  0.181774999999999992  0.436242000000000019   \n",
       "\n",
       "                       127                   128  \n",
       "2902 -0.162193000000000004 -0.076617000000000005  \n",
       "\n",
       "[1 rows x 129 columns]"
      ]
     },
     "execution_count": 9,
     "metadata": {},
     "output_type": "execute_result"
    }
   ],
   "source": [
    "es[es[0] == \"pluma\"]"
   ]
  },
  {
   "cell_type": "code",
   "execution_count": 10,
   "metadata": {},
   "outputs": [
    {
     "data": {
      "text/plain": [
       "1692"
      ]
     },
     "execution_count": 10,
     "metadata": {},
     "output_type": "execute_result"
    }
   ],
   "source": [
    "eval_es_index[0]"
   ]
  },
  {
   "cell_type": "code",
   "execution_count": 11,
   "metadata": {},
   "outputs": [],
   "source": [
    "eval_es_vectores = utils.get_vectors(es,eval_es_index)"
   ]
  },
  {
   "cell_type": "code",
   "execution_count": 12,
   "metadata": {},
   "outputs": [
    {
     "data": {
      "text/plain": [
       "(150, 128)"
      ]
     },
     "execution_count": 12,
     "metadata": {},
     "output_type": "execute_result"
    }
   ],
   "source": [
    "eval_es_vectores.shape"
   ]
  },
  {
   "cell_type": "code",
   "execution_count": 13,
   "metadata": {},
   "outputs": [],
   "source": [
    "test_vectors = np.array([np.array(es.iloc[indice][1::]).astype(np.float64) for indice in eval_es_index])"
   ]
  },
  {
   "cell_type": "code",
   "execution_count": 14,
   "metadata": {},
   "outputs": [],
   "source": [
    "sess = tf.Session()"
   ]
  },
  {
   "cell_type": "code",
   "execution_count": 15,
   "metadata": {},
   "outputs": [
    {
     "name": "stdout",
     "output_type": "stream",
     "text": [
      "INFO:tensorflow:Restoring parameters from ./models/model2352_gpu/model2352.ckpt\n"
     ]
    }
   ],
   "source": [
    "saver = tf.train.import_meta_graph('./models/model2352_gpu/model2352.ckpt.meta')\n",
    "saver.restore(sess,tf.train.latest_checkpoint('./models/model2352_gpu/'))"
   ]
  },
  {
   "cell_type": "code",
   "execution_count": 16,
   "metadata": {},
   "outputs": [],
   "source": [
    "graph = tf.get_default_graph()"
   ]
  },
  {
   "cell_type": "code",
   "execution_count": 17,
   "metadata": {},
   "outputs": [],
   "source": [
    "X = graph.get_tensor_by_name(\"input/input_es:0\")\n",
    "#y = graph.get_tensor_by_name(\"input/target_na:0\")"
   ]
  },
  {
   "cell_type": "code",
   "execution_count": 18,
   "metadata": {},
   "outputs": [],
   "source": [
    "#output_NN = graph.get_tensor_by_name(\"output/xw_plus_b:0\")#model1937\n",
    "output_NN = graph.get_tensor_by_name(\"xw_plus_b_1:0\")\n",
    "#output_NN = graph.get_tensor_by_name(\"output_1:0\")"
   ]
  },
  {
   "cell_type": "code",
   "execution_count": 19,
   "metadata": {},
   "outputs": [],
   "source": [
    "feed_dict = {X:test_vectors}\n"
   ]
  },
  {
   "cell_type": "code",
   "execution_count": 20,
   "metadata": {},
   "outputs": [
    {
     "name": "stdout",
     "output_type": "stream",
     "text": [
      "<class 'numpy.ndarray'> (150, 128)\n"
     ]
    }
   ],
   "source": [
    "pred = sess.run(output_NN,feed_dict)\n",
    "print (type(pred[0]),pred.shape)"
   ]
  },
  {
   "cell_type": "code",
   "execution_count": 21,
   "metadata": {},
   "outputs": [],
   "source": [
    "top_10=[utils.get_top10_closest(pred[_],na_vectores1) for _ in range(pred.shape[0])]"
   ]
  },
  {
   "cell_type": "code",
   "execution_count": 22,
   "metadata": {},
   "outputs": [],
   "source": [
    "closest = [utils.get_closest_words_to(top_10[_],na) for _ in range(pred.shape[0])]"
   ]
  },
  {
   "cell_type": "code",
   "execution_count": 23,
   "metadata": {},
   "outputs": [
    {
     "data": {
      "text/plain": [
       "Int64Index([2222], dtype='int64')"
      ]
     },
     "execution_count": 23,
     "metadata": {},
     "output_type": "execute_result"
    }
   ],
   "source": [
    "es[es[0]==\"adquisición\"].index"
   ]
  },
  {
   "cell_type": "code",
   "execution_count": 24,
   "metadata": {},
   "outputs": [
    {
     "data": {
      "text/plain": [
       "Int64Index([1376], dtype='int64')"
      ]
     },
     "execution_count": 24,
     "metadata": {},
     "output_type": "execute_result"
    }
   ],
   "source": [
    "na[na[0]==\"v\"].index"
   ]
  },
  {
   "cell_type": "code",
   "execution_count": 25,
   "metadata": {},
   "outputs": [
    {
     "data": {
      "text/plain": [
       "'teatro'"
      ]
     },
     "execution_count": 25,
     "metadata": {},
     "output_type": "execute_result"
    }
   ],
   "source": [
    "eval_es[6]"
   ]
  },
  {
   "cell_type": "code",
   "execution_count": 26,
   "metadata": {
    "scrolled": true
   },
   "outputs": [
    {
     "data": {
      "text/plain": [
       "['tlamahuiz',\n",
       " 'mahuizo',\n",
       " 'mahui',\n",
       " 'imottilih',\n",
       " 'onimitz',\n",
       " 'yah',\n",
       " 'ihcahuaca',\n",
       " 'cala',\n",
       " 'itt',\n",
       " 'tlacacalata']"
      ]
     },
     "execution_count": 26,
     "metadata": {},
     "output_type": "execute_result"
    }
   ],
   "source": [
    "closest[6]"
   ]
  },
  {
   "cell_type": "code",
   "execution_count": 27,
   "metadata": {},
   "outputs": [],
   "source": [
    "resultados = {palabra_es:top_10_nah for (palabra_es,top_10_nah) in zip(eval_es,closest)}"
   ]
  },
  {
   "cell_type": "code",
   "execution_count": 28,
   "metadata": {},
   "outputs": [],
   "source": [
    "esp = list(eval_set[\"esp\"].values)"
   ]
  },
  {
   "cell_type": "code",
   "execution_count": 29,
   "metadata": {},
   "outputs": [],
   "source": [
    "nah = list(eval_set[\"nah\"].values)"
   ]
  },
  {
   "cell_type": "code",
   "execution_count": 30,
   "metadata": {},
   "outputs": [],
   "source": [
    "pares_eval = list(zip(esp,nah))"
   ]
  },
  {
   "cell_type": "code",
   "execution_count": 31,
   "metadata": {},
   "outputs": [],
   "source": [
    "from collections import defaultdict"
   ]
  },
  {
   "cell_type": "code",
   "execution_count": 32,
   "metadata": {},
   "outputs": [],
   "source": [
    "gold = defaultdict(list)\n",
    "for palabra_es,palabra_na in pares_eval:\n",
    "    gold[palabra_es].append(palabra_na)\n"
   ]
  },
  {
   "cell_type": "code",
   "execution_count": 33,
   "metadata": {},
   "outputs": [],
   "source": [
    "gold = dict(gold)"
   ]
  },
  {
   "cell_type": "code",
   "execution_count": 34,
   "metadata": {},
   "outputs": [
    {
     "data": {
      "text/plain": [
       "['tlazo', 'tlazohtla']"
      ]
     },
     "execution_count": 34,
     "metadata": {},
     "output_type": "execute_result"
    }
   ],
   "source": [
    "gold[\"amado\"]"
   ]
  },
  {
   "cell_type": "code",
   "execution_count": 35,
   "metadata": {},
   "outputs": [
    {
     "data": {
      "text/plain": [
       "['tlazohtla',\n",
       " 'ama',\n",
       " 'zquia',\n",
       " 'ticcua',\n",
       " 'tlazo',\n",
       " 'niz',\n",
       " 'diego',\n",
       " 'comal',\n",
       " 'tazohta',\n",
       " 'federal']"
      ]
     },
     "execution_count": 35,
     "metadata": {},
     "output_type": "execute_result"
    }
   ],
   "source": [
    "resultados[\"amado\"]"
   ]
  },
  {
   "cell_type": "code",
   "execution_count": 36,
   "metadata": {},
   "outputs": [
    {
     "name": "stdout",
     "output_type": "stream",
     "text": [
      "brazo: NOT FOUND\n",
      "tepaneca 1 [1] 0 1 1\n",
      "cultura 0 [1, 0] 1 2 2\n",
      "escupir: NOT FOUND\n",
      "diverso 0 [0] 2 3 3\n",
      "prestar 0 [0] 3 4 4\n",
      "teatro 0 [0, 2] 4 5 5\n",
      "verde 0 [0, 1] 5 6 6\n",
      "tanto 3 [3] 5 7 7\n",
      "grande 0 [1, 0] 6 8 8\n",
      "molcajete 0 [0, 1] 7 9 9\n",
      "puramente 4 [4] 7 10 10\n",
      "derecho 1 [1, 2] 7 11 11\n",
      "echar 1 [1] 7 12 12\n",
      "caja 0 [0] 8 13 13\n",
      "muñeca 0 [0] 9 14 14\n",
      "reunir 1 [1] 9 15 15\n",
      "barca 0 [0] 10 16 16\n",
      "tapar 0 [0] 11 17 17\n",
      "efecto: NOT FOUND\n",
      "pantalón 0 [0] 12 18 18\n",
      "vasija 0 [0, 6, 1] 13 19 19\n",
      "itacates 0 [0] 14 20 20\n",
      "jadear 0 [0] 15 21 21\n",
      "yo 0 [0, 8] 16 22 22\n",
      "dar 0 [1, 0] 17 23 23\n",
      "leche 3 [3] 17 24 24\n",
      "lodo 2 [2] 17 25 25\n",
      "agregar 0 [0, 4] 18 26 26\n",
      "pasar 0 [0] 19 27 27\n",
      "tortuga 3 [3] 19 28 28\n",
      "desear 0 [0, 1, 4] 20 29 29\n",
      "coyote 0 [0] 21 30 30\n",
      "establecer: NOT FOUND\n",
      "aire 0 [0, 5, 1, 1] 22 31 31\n",
      "salvaje 0 [0] 23 32 32\n",
      "muerto 0 [1, 0] 24 33 33\n",
      "paso 0 [0] 25 34 34\n",
      "adquisición: NOT FOUND\n",
      "traer 1 [1, 8, 3] 25 35 35\n",
      "descanso 0 [0] 26 36 36\n",
      "adornar 2 [3, 2] 26 37 37\n",
      "amado 0 [4, 0] 27 38 38\n",
      "mesero 0 [0] 28 39 39\n",
      "presencia: NOT FOUND\n",
      "naranja 0 [0] 29 40 40\n",
      "olvidar 2 [2] 29 41 41\n",
      "valer: NOT FOUND\n",
      "desierto 2 [2] 29 42 42\n",
      "pez 0 [0] 30 43 43\n",
      "portal 1 [1] 30 44 44\n",
      "quitar 4 [4] 30 45 45\n",
      "alfredo 0 [0] 31 46 46\n",
      "enorme: NOT FOUND\n",
      "coger 3 [3] 31 47 47\n",
      "llevar 0 [0, 2, 3] 32 48 48\n",
      "vestido 0 [6, 0] 33 49 49\n",
      "vender 0 [1, 0, 3, 2] 34 50 50\n",
      "alimento 1 [1] 34 51 51\n",
      "cofre 0 [0, 1] 35 52 52\n",
      "niño 1 [1, 2, 3, 5] 35 53 53\n",
      "fino 0 [0, 2] 36 54 54\n",
      "levantar 0 [0] 37 55 55\n",
      "madera 5 [5] 37 56 56\n",
      "animal 0 [0, 8] 38 57 57\n",
      "comenzar 0 [0, 1] 39 58 58\n",
      "quetzal 0 [0] 40 59 59\n",
      "indígena 1 [1] 40 60 60\n",
      "horno 0 [0] 41 61 61\n",
      "ocurrir 6 [6] 41 61 62\n",
      "tráiganla 2 [2] 41 62 63\n",
      "pesar 2 [2] 41 63 64\n",
      "señorito 1 [1] 41 64 65\n",
      "rostro 0 [0] 42 65 66\n",
      "suceder 2 [2] 42 66 67\n",
      "llano 0 [0, 2, 4] 43 67 68\n",
      "querer 0 [1, 0, 8, 3] 44 68 69\n",
      "saltar 2 [2] 44 69 70\n",
      "aguacate 2 [2] 44 70 71\n",
      "anáhuac 1 [1] 44 71 72\n",
      "cargo: NOT FOUND\n",
      "lavar 0 [0] 45 72 73\n",
      "familiar 0 [0] 46 73 74\n",
      "ciudad 0 [1, 0] 47 74 75\n",
      "pídele 0 [0] 48 75 76\n",
      "reinar: NOT FOUND\n",
      "centenario 0 [0, 4] 49 76 77\n",
      "pipián 0 [0, 1] 50 77 78\n",
      "chiquillo: NOT FOUND\n",
      "seno 0 [0] 51 78 79\n",
      "quiltoniles 7 [7] 51 78 80\n",
      "esfuerzo 1 [1] 51 79 81\n",
      "conocer 0 [0, 3, 1, 6] 52 80 82\n",
      "limpiar 0 [1, 0, 8] 53 81 83\n",
      "chico 1 [1, 2] 53 82 84\n",
      "indio 1 [1] 53 83 85\n",
      "tema 0 [0] 54 84 86\n",
      "patio 0 [1, 0, 2] 55 85 87\n",
      "nabo 0 [0] 56 86 88\n",
      "jugar 0 [0] 57 87 89\n",
      "venir 0 [2, 0] 58 88 90\n",
      "montaña 1 [1] 58 89 91\n",
      "silvestre 0 [0] 59 90 92\n",
      "unir: NOT FOUND\n",
      "final: NOT FOUND\n",
      "tigre 0 [0, 1] 60 91 93\n",
      "acabar 0 [0, 7] 61 92 94\n",
      "voz 0 [0, 1] 62 93 95\n",
      "derribar 2 [2] 62 94 96\n",
      "amargo 0 [0] 63 95 97\n",
      "perforar 0 [0, 1] 64 96 98\n",
      "sueño 0 [0] 65 97 99\n",
      "comer 0 [0, 1, 3, 4] 66 98 100\n",
      "uña 3 [3] 66 99 101\n",
      "pedir 0 [2, 5, 0, 9] 67 100 102\n",
      "introducir 0 [1, 0] 68 101 103\n",
      "pedirle 0 [0] 69 102 104\n",
      "izquierda 0 [0, 2] 70 103 105\n",
      "despreciar: NOT FOUND\n",
      "perdonar 0 [0] 71 104 106\n",
      "visceras: NOT FOUND\n",
      "galleta 0 [0] 72 105 107\n",
      "ver 0 [1, 0] 73 106 108\n",
      "pluma 0 [0] 74 107 109\n",
      "sólo 0 [0] 75 108 110\n",
      "cierto 0 [0, 1] 76 109 111\n",
      "mixcólotl 0 [0] 77 110 112\n",
      "escalera: NOT FOUND\n",
      "destrozar: NOT FOUND\n",
      "ropa 0 [0] 78 111 113\n",
      "nido: NOT FOUND\n",
      "pieza 0 [0] 79 112 114\n",
      "vaca 0 [0, 9] 80 113 115\n",
      "tomar 8 [8] 80 113 116\n",
      "sabor 0 [3, 0] 81 114 117\n",
      "transportar 0 [0] 82 115 118\n",
      "llanura 0 [0] 83 116 119\n",
      "salvador 0 [0, 1, 2] 84 117 120\n",
      "decir 2 [3, 4, 2] 84 118 121\n",
      "oír 3 [3] 84 119 122\n",
      "presidente 0 [0] 85 120 123\n",
      "rogar 1 [1] 85 121 124\n",
      "admirar 0 [0, 2] 86 122 125\n",
      "nombre 0 [0] 87 123 126\n",
      "mirada 0 [0] 88 124 127\n",
      "ramo 0 [0] 89 125 128\n",
      "alegrar 0 [0, 5] 90 126 129\n",
      "gritar 0 [0, 1] 91 127 130\n",
      "volver 0 [0, 1] 92 128 131\n",
      "tierno 0 [0] 93 129 132\n",
      "\n",
      "P@1: 0.62 \tP@5: 0.86 \tP@10: 0.88\n"
     ]
    }
   ],
   "source": [
    "p1 = 0\n",
    "p5 = 0\n",
    "p10 = 0\n",
    "list_esp_eval = (list(resultados.keys()))\n",
    "hits=list()\n",
    "\n",
    "not_found = list()\n",
    "\n",
    "\n",
    "for palabra_gold in list_esp_eval:\n",
    "    for i in gold[palabra_gold]:\n",
    "        if i in resultados[palabra_gold]:\n",
    "            hits.append(resultados[palabra_gold].index(i))\n",
    "    if hits.__len__() > 0:\n",
    "        if min(hits) == 0:\n",
    "            p1 += 1\n",
    "            p5 += 1\n",
    "            p10 += 1\n",
    "        if min(hits) >= 1 and min(hits) <= 5:\n",
    "            p5 += 1\n",
    "            p10 += 1\n",
    "        if min(hits) > 5 and min(hits) <= 10:\n",
    "            p10 += 1\n",
    "        print(palabra_gold,min(hits),hits,p1,p5,p10)\n",
    "    else:\n",
    "        not_found.append(palabra_gold)\n",
    "        print(palabra_gold+\": NOT FOUND\")\n",
    "   \n",
    "    hits.clear()\n",
    "\n",
    "length=list_esp_eval.__len__()\n",
    "print(\"\\nP@1:\",p1/length,\"\\tP@5:\",p5/length,\"\\tP@10:\",p10/length)\n",
    "\n"
   ]
  },
  {
   "cell_type": "code",
   "execution_count": 37,
   "metadata": {},
   "outputs": [
    {
     "data": {
      "text/plain": [
       "18"
      ]
     },
     "execution_count": 37,
     "metadata": {},
     "output_type": "execute_result"
    }
   ],
   "source": [
    "not_found.__len__()"
   ]
  },
  {
   "cell_type": "code",
   "execution_count": 38,
   "metadata": {},
   "outputs": [
    {
     "data": {
      "text/plain": [
       "150"
      ]
     },
     "execution_count": 38,
     "metadata": {},
     "output_type": "execute_result"
    }
   ],
   "source": [
    "len(list(resultados.keys()))"
   ]
  },
  {
   "cell_type": "code",
   "execution_count": 39,
   "metadata": {},
   "outputs": [],
   "source": [
    "resultados_gold = dict()\n",
    "for k,v in resultados.items():\n",
    "    resultados_gold[k] = {\"gold\":gold[k],\"resultados\":v}"
   ]
  },
  {
   "cell_type": "code",
   "execution_count": 40,
   "metadata": {},
   "outputs": [
    {
     "data": {
      "text/html": [
       "<div>\n",
       "<style>\n",
       "    .dataframe thead tr:only-child th {\n",
       "        text-align: right;\n",
       "    }\n",
       "\n",
       "    .dataframe thead th {\n",
       "        text-align: left;\n",
       "    }\n",
       "\n",
       "    .dataframe tbody tr th {\n",
       "        vertical-align: top;\n",
       "    }\n",
       "</style>\n",
       "<table border=\"1\" class=\"dataframe\">\n",
       "  <thead>\n",
       "    <tr style=\"text-align: right;\">\n",
       "      <th></th>\n",
       "      <th>0</th>\n",
       "      <th>1</th>\n",
       "      <th>2</th>\n",
       "      <th>3</th>\n",
       "      <th>4</th>\n",
       "      <th>5</th>\n",
       "      <th>6</th>\n",
       "      <th>7</th>\n",
       "      <th>8</th>\n",
       "      <th>9</th>\n",
       "      <th>...</th>\n",
       "      <th>119</th>\n",
       "      <th>120</th>\n",
       "      <th>121</th>\n",
       "      <th>122</th>\n",
       "      <th>123</th>\n",
       "      <th>124</th>\n",
       "      <th>125</th>\n",
       "      <th>126</th>\n",
       "      <th>127</th>\n",
       "      <th>128</th>\n",
       "    </tr>\n",
       "  </thead>\n",
       "  <tbody>\n",
       "    <tr>\n",
       "      <th>1342</th>\n",
       "      <td>español</td>\n",
       "      <td>-0.059672000000000003</td>\n",
       "      <td>-0.354704000000000019</td>\n",
       "      <td>-0.177631000000000011</td>\n",
       "      <td>0.082270999999999983</td>\n",
       "      <td>0.294655</td>\n",
       "      <td>0.32784000000000002</td>\n",
       "      <td>-0.148658000000000012</td>\n",
       "      <td>-0.437325999999999993</td>\n",
       "      <td>-0.064614000000000019</td>\n",
       "      <td>...</td>\n",
       "      <td>0.145312999999999998</td>\n",
       "      <td>0.263815000000000022</td>\n",
       "      <td>-0.113244000000000011</td>\n",
       "      <td>0.194174999999999986</td>\n",
       "      <td>0.199001000000000011</td>\n",
       "      <td>0.957316999999999974</td>\n",
       "      <td>-0.743376999999999843</td>\n",
       "      <td>0.100334000000000007</td>\n",
       "      <td>0.050588000000000001</td>\n",
       "      <td>-0.401527000000000023</td>\n",
       "    </tr>\n",
       "  </tbody>\n",
       "</table>\n",
       "<p>1 rows × 129 columns</p>\n",
       "</div>"
      ],
      "text/plain": [
       "            0                     1                     2  \\\n",
       "1342  español -0.059672000000000003 -0.354704000000000019   \n",
       "\n",
       "                         3                     4         5  \\\n",
       "1342 -0.177631000000000011  0.082270999999999983  0.294655   \n",
       "\n",
       "                        6                     7                     8  \\\n",
       "1342  0.32784000000000002 -0.148658000000000012 -0.437325999999999993   \n",
       "\n",
       "                         9          ...                            119  \\\n",
       "1342 -0.064614000000000019          ...           0.145312999999999998   \n",
       "\n",
       "                       120                   121                   122  \\\n",
       "1342  0.263815000000000022 -0.113244000000000011  0.194174999999999986   \n",
       "\n",
       "                       123                   124                   125  \\\n",
       "1342  0.199001000000000011  0.957316999999999974 -0.743376999999999843   \n",
       "\n",
       "                       126                   127                   128  \n",
       "1342  0.100334000000000007  0.050588000000000001 -0.401527000000000023  \n",
       "\n",
       "[1 rows x 129 columns]"
      ]
     },
     "execution_count": 40,
     "metadata": {},
     "output_type": "execute_result"
    }
   ],
   "source": [
    "na[na[0]==\"español\"]"
   ]
  },
  {
   "cell_type": "code",
   "execution_count": 41,
   "metadata": {},
   "outputs": [
    {
     "name": "stdout",
     "output_type": "stream",
     "text": [
      "brazo: {'gold': ['aca'], 'resultados': ['cuecue', 'icemel', 'tonehua', 'notelpo', 'ticte', 'tepotz', 'cocone', 'pahpaqui', 'milacatzo', 'tz']}\n",
      "\n",
      "escupir: {'gold': ['chicha', 'chichi'], 'resultados': ['yb', 'zcuco', 'im', 'dral', 'diego', 'huiz', 'rosario', 'tepahpaquiltia', 'secretario', 'zque']}\n",
      "\n",
      "efecto: {'gold': ['nel'], 'resultados': ['tlaocox', 'nehnemi', 'oquich', 'ihtotia', 'mixco', 'tz', 'timamalihuac', 'iuhquin', 'oceloquichtle', 'ixeo']}\n",
      "\n",
      "establecer: {'gold': ['tlalia', 'chan'], 'resultados': ['ez', 'lique', 'itoa', 'cauh', 'iuh', 'acique', 'nahuati', 'tepe', 'e', 'ayo']}\n",
      "\n",
      "adquisición: {'gold': ['quipiaz', 'tocococauh', 'cococauh', 'cococa'], 'resultados': ['oticma', 'chiquiuh', 'mel', 'amech', 'lahtol', 'ceuh', 'amaneapan', 'immoma', 'pilca', 'poyox']}\n",
      "\n",
      "presencia: {'gold': ['ix'], 'resultados': ['mopechteccac', 'tlacuauh', 'tzinco', 'huexo', 'quimolhui', 'melauh', 'tona', 'uad', 'tlazoh', 'eltilitiuh']}\n",
      "\n",
      "valer: {'gold': ['patio'], 'resultados': ['quexquich', '1', 'ton', 'mama', 'yancui', 'quezqui', 'pah', 'nuevo', 'huey', 'toma']}\n",
      "\n",
      "enorme: {'gold': ['huey'], 'resultados': ['huehca', 'mil', 'cpac', 'moch', 'oc', 'omo', 'hue', 'tepahpaquiltia', 'tlaloa', 'zque']}\n",
      "\n",
      "cargo: {'gold': ['tlahtoca', 'toca'], 'resultados': ['ahqui', 'chihui', 'tlaliliz', 'onino', 'nicnemili', 'im', 'cuitl', 'milacatzo', 'ticmo', 'mp']}\n",
      "\n",
      "reinar: {'gold': ['motlahtocatlalli', 'toca'], 'resultados': ['14', 'tlalli', 'peuh', 'cayotl', 'mahtlac', 'nahui', 'xeloa', 'pipil', 'moteuczoma', 'tlalticpac']}\n",
      "\n",
      "chiquillo: {'gold': ['pipil'], 'resultados': ['ninozcalia', 'pano', 'cuitl', 'miec', 'cuiya', 'pohua', 'diablo', 'xip', 'olini', 'im']}\n",
      "\n",
      "unir: {'gold': ['cen'], 'resultados': ['f', 'george', 'estado', 'cahuan', 'tlahtocayotl', 'do', '19', 'caxtil', 'isoldado', 'ahuacatl']}\n",
      "\n",
      "final: {'gold': ['tlatz'], 'resultados': ['mix', 'xip', 'dral', 'yb', 'im', 'diego', 'rosario', 'zcuco', 'secretario', 'y']}\n",
      "\n",
      "despreciar: {'gold': ['mah', 'pehua'], 'resultados': ['xinech', 'ech', 'tlecuezal', 'pu', 'cizu', 'ilama', 'xmechmo', 'nino', 'icpac', 'notlazohca']}\n",
      "\n",
      "visceras: {'gold': ['ihti', 'ehua'], 'resultados': ['cuacualaca', 'tlahuicxitilli', 'motlali', 'tlalia', 'itzoltilia', 'tec', 'cuacua', 'zoqui', 'caxi', 'huic']}\n",
      "\n",
      "escalera: {'gold': ['mama'], 'resultados': ['nmediasco', 'oquinanquili', 'ilpia', 'dia', 'icuilacta', 'ilpi', 'nario', 'pualhuany', 'cocone', 'ipanoque']}\n",
      "\n",
      "destrozar: {'gold': ['teciz', 'tlanteciz'], 'resultados': ['tepahpaquiltia', 'yb', 'x', 'dral', 'zque', 'auh', 'diego', 'rosario', 'im', 'fa']}\n",
      "\n",
      "nido: {'gold': ['tapazolli', 'tapazol', 'pa', 'zol'], 'resultados': ['nepapan', 'motemilih', 'mota', 'tlazo', 'huipan', 'tenanco', 'xip', 'xochi', 'cuexan', 'dral']}\n",
      "\n"
     ]
    }
   ],
   "source": [
    "for res in not_found:\n",
    "    print(res+\":\",resultados_gold[res],end=\"\\n\"*2)"
   ]
  },
  {
   "cell_type": "code",
   "execution_count": 42,
   "metadata": {},
   "outputs": [
    {
     "data": {
      "text/plain": [
       "{'gold': ['iahhuui', 'mati'],\n",
       " 'resultados': ['mati',\n",
       "  'lan',\n",
       "  'tro',\n",
       "  'iahhuui',\n",
       "  'xinach',\n",
       "  'ixmachilia',\n",
       "  'ixmati',\n",
       "  'chil',\n",
       "  'ahnozo',\n",
       "  'machi']}"
      ]
     },
     "execution_count": 42,
     "metadata": {},
     "output_type": "execute_result"
    }
   ],
   "source": [
    "resultados_gold[\"sabor\"]"
   ]
  },
  {
   "cell_type": "code",
   "execution_count": 43,
   "metadata": {
    "scrolled": false
   },
   "outputs": [
    {
     "name": "stdout",
     "output_type": "stream",
     "text": [
      "brazo : {'gold': ['aca'], 'resultados': ['cuecue', 'icemel', 'tonehua', 'notelpo', 'ticte', 'tepotz', 'cocone', 'pahpaqui', 'milacatzo', 'tz']}\n",
      "\n",
      "tepaneca : {'gold': ['eca'], 'resultados': ['colhuaca', 'eca', 'popolo', 'motlanahuatili', 'cocox', 'culhuacan', 'rtes', 'oquim', 'acique', 'mexica']}\n",
      "\n",
      "cultura : {'gold': ['tlamatiliz', 'cultura'], 'resultados': ['cultura', 'tlamatiliz', 'toyalhuayo', 'nahuatlahtol', 'iayah', 'moyacanilia', 'lahtol', 'huehue', 'moteihtitili', 'potz']}\n",
      "\n",
      "escupir : {'gold': ['chicha', 'chichi'], 'resultados': ['yb', 'zcuco', 'im', 'dral', 'diego', 'huiz', 'rosario', 'tepahpaquiltia', 'secretario', 'zque']}\n",
      "\n",
      "diverso : {'gold': ['nepapan'], 'resultados': ['nepapan', 'mota', 'motemilih', 'tatemp', 'tenanco', 'tata', 'tlalli', 'huipan', 'izqui', 'caxtillan']}\n",
      "\n",
      "prestar : {'gold': ['ehuia'], 'resultados': ['ehuia', 'onite', 'icni', '19', 'coco', 'jo', 'gr', 'xinechmotlapohpolhuili', 'fe', 'george']}\n",
      "\n",
      "teatro : {'gold': ['tlamahuiz', 'mahui'], 'resultados': ['tlamahuiz', 'mahuizo', 'mahui', 'imottilih', 'onimitz', 'yah', 'ihcahuaca', 'cala', 'itt', 'tlacacalata']}\n",
      "\n",
      "verde : {'gold': ['xoxo', 'xoxouhqui'], 'resultados': ['xoxo', 'xoxouhqui', 'ayohhuach', 'zaca', 'chilmolli', 'xo', 'molli', 'chalchiuh', 'xole', 'quechol']}\n",
      "\n",
      "tanto : {'gold': ['zazan', 'izqui'], 'resultados': ['ih', 'amuel', 'hcuilo', 'zazan', 'meh', 'itemohui', 't', 'tazohta', 'yuhqui', 'iayah']}\n",
      "\n",
      "grande : {'gold': ['huey', 'hueyi'], 'resultados': ['hueyi', 'huey', 'altpe', 'ohuehyiyac', 'hue', 'gali', 'piloa', 'altepe', 'año', 'xihuitl']}\n",
      "\n",
      "molcajete : {'gold': ['molcaxitl', 'temolcax'], 'resultados': ['molcaxitl', 'temolcax', 'caxi', 'xommo', 'otzoy', 'stancia', 'zoqui', 'tlaxamanil', 'cuacualaca', 'tzoaloni']}\n",
      "\n",
      "puramente : {'gold': ['zan', 'za'], 'resultados': ['ommihzo', 'imayauhcan', 'ceuh', 'imayauhcampa', 'za', 'tepahpaquiltia', 'contla', 'dral', 'secretario', 'camachalo']}\n",
      "\n",
      "derecho : {'gold': ['melahua', 'melauh', 'yec'], 'resultados': ['ihtoh', 'melahua', 'melauh', 'ozto', 'iyaca', 'nel', 'tlananquili', 'itt', 'quimolhui', 'ninozcalia']}\n",
      "\n",
      "echar : {'gold': ['atlatzicuina', 'contla'], 'resultados': ['patahuaz', 'contla', 'yaca', 'quim', 'tz', 'tlaloa', 'zque', 'xip', 'yauh', 'totoca']}\n",
      "\n",
      "caja : {'gold': ['petlacal'], 'resultados': ['petlacal', 'top', 'tlachie', 'ui', 'quexquich', 'ixtelolo', 'ilpi', 'pale', 'pie', 'cxi']}\n",
      "\n",
      "muñeca : {'gold': ['quech', 'muñeca'], 'resultados': ['quech', 'cotona', 'nacaz', 'motozcatlan', 'ilpi', 'lpilia', 'chalchihui', 'acol', 'immoma', 'illam']}\n",
      "\n",
      "reunir : {'gold': ['nechico', 'cen'], 'resultados': ['potz', 'nechico', 'ixquich', 'nemoa', 'otito', 'mochi', 'otitla', 'xipehua', 'auh', 'iuhqui']}\n",
      "\n",
      "barca : {'gold': ['acalli'], 'resultados': ['acalli', 'ltemalo', 'ono', 'tlatia', 'latuic', 'tzitz', 'tlathui', 'poyahua', 'cec', 'acique']}\n",
      "\n",
      "tapar : {'gold': ['pachoa'], 'resultados': ['pachoa', 'cciz', 'cuih', 'zoqui', 'itzoltilia', 'motequipacho', 'tlahuicxitilli', 'pacho', 'caxi', 'huic']}\n",
      "\n",
      "efecto : {'gold': ['nel'], 'resultados': ['tlaocox', 'nehnemi', 'oquich', 'ihtotia', 'mixco', 'tz', 'timamalihuac', 'iuhquin', 'oceloquichtle', 'ixeo']}\n",
      "\n",
      "pantalón : {'gold': ['pantalon'], 'resultados': ['pantalon', 'villistas', 'beethoven', 'chachal', 'comal', 'echicoliz', 'albert', 'matiloa', 'anechhuall', 'rafael']}\n",
      "\n",
      "vasija : {'gold': ['cax', 'tecoma', 'comitl'], 'resultados': ['cax', 'comitl', 'chiquihui', 'cuitlahui', 'xaxa', 'nechicalhui', 'tecoma', 'zoqui', 'caxi', 'tacayutl']}\n",
      "\n",
      "itacates : {'gold': ['ihtacatl'], 'resultados': ['ihtacatl', 'calhuahza', 'pinol', 'huauh', 'chichil', 'so', 'xoxouhqui', 'xipehua', 'xip', 'zacuam']}\n",
      "\n",
      "jadear : {'gold': ['tixtomahua'], 'resultados': ['tixtomahua', 'itlachi', 'tolini', 'icemel', 'cuitl', 'timamalihuac', 'ixpetla', 'ixeo', 'csufriro', 'ihuiz']}\n",
      "\n",
      "yo : {'gold': ['ne', 'nehhua'], 'resultados': ['ne', 'nicpia', 'fa', 'zquia', 'iuh', 'hua', 'mati', 'nequi', 'nehhua', 'onic']}\n",
      "\n",
      "dar : {'gold': ['maca', 'dar'], 'resultados': ['dar', 'maca', 'xic', 'auh', 'zcuco', 'taca', 'quin', 'omo', 'tepahpaquiltia', 'yohua']}\n",
      "\n",
      "leche : {'gold': ['chichi'], 'resultados': ['ihchican', 'notlazohca', 'tzitzintin', 'chichi', 'illi', 'itzcuin', 'tecoma', 'xmechmo', 'maquili', 'chihchi']}\n",
      "\n",
      "lodo : {'gold': ['zoqui'], 'resultados': ['atlatzicuina', 'mimacaci', 'zoqui', 'itti', 'atahuit', 'caxi', 'cu', 'chililiz', 'ich', 'motzicoa']}\n",
      "\n",
      "agregar : {'gold': ['motlali', 'tlalia'], 'resultados': ['motlali', 'tiliaya', 'cuacualaca', 'tlahuicxitilli', 'tlalia', 'itzoltilia', 'huic', 'tec', 'ihti', 'izta']}\n",
      "\n",
      "pasar : {'gold': ['pano', 'panoa'], 'resultados': ['pano', 'saroa', 'tlen', 'moch', 'amen', 'lti', 'omo', 'l', 'htlani', 'quin']}\n",
      "\n",
      "tortuga : {'gold': ['ayo'], 'resultados': ['tectli', 'tlahuicxitilli', 'alac', 'ayo', 'tlalia', 'motlali', 'caxi', 'xip', 'huatza', 'tec']}\n",
      "\n",
      "desear : {'gold': ['elehui', 'elehuia', 'znequi', 'nequi'], 'resultados': ['elehui', 'elehuia', 'quechi', 'monequilti', 'znequi', 'qu', 'achto', 'quiliz', 'achtopa', 'liz']}\n",
      "\n",
      "coyote : {'gold': ['coyo', 'coyoc'], 'resultados': ['coyoc', 'ichca', 'camachalo', 'huitequi', 'extiz', 'po', 'zahua', 'coyoni', 'tlauh', 'itzopelica']}\n",
      "\n",
      "establecer : {'gold': ['tlalia', 'chan'], 'resultados': ['ez', 'lique', 'itoa', 'cauh', 'iuh', 'acique', 'nahuati', 'tepe', 'e', 'ayo']}\n",
      "\n",
      "aire : {'gold': ['yehyecatl', 'yeyeca', 'eheca', 'eheca'], 'resultados': ['yehyecatl', 'eheca', 'eca', 'hui', 'tetzahui', 'yeyeca', 'tlacochcalca', 'ahua', 'lateran', 'amen']}\n",
      "\n",
      "salvaje : {'gold': ['uanime'], 'resultados': ['uanime', 'ticuahcua', 'xolochcue', 'tzaoctimanca', 'mexica', 'iuh', 'dral', 'axean', 'secretario', 'choh']}\n",
      "\n",
      "muerto : {'gold': ['mimic', 'mic'], 'resultados': ['mic', 'mimic', 'tzontequili', 'ictique', 'cuecuepotza', 'cxi', 'xocon', 'miqui', 'conmottilia', 'zapata']}\n",
      "\n",
      "paso : {'gold': ['pasilla'], 'resultados': ['pasilla', 'chilcuitlaxcolli', 'chil', 'zoh', 'club', 'xumalli', 'dral', 'xacualoa', 'diego', 'secretario']}\n",
      "\n",
      "adquisición : {'gold': ['quipiaz', 'tocococauh', 'cococauh', 'cococa'], 'resultados': ['oticma', 'chiquiuh', 'mel', 'amech', 'lahtol', 'ceuh', 'amaneapan', 'immoma', 'pilca', 'poyox']}\n",
      "\n",
      "traer : {'gold': ['itqui', 'huica', 'huiqui', 'cui'], 'resultados': ['hual', 'huica', 'tqui', 'cui', 'xochi', 'oquim', 'quiliz', 'quen', 'huiqui', 'oquitla']}\n",
      "\n",
      "descanso : {'gold': ['mocehui'], 'resultados': ['mocehui', 'huizque', 'pepe', 'calyolot', 'icpal', 'immotla', 'acia', 'tlauh', 'ticuahcua', 'otinech']}\n",
      "\n",
      "adornar : {'gold': ['apana', 'chihchihua'], 'resultados': ['oquich', 'uan', 'chihchihua', 'apana', 'tlauhtia', 'idl', 'toquich', 'quimon', 'se', 'telpoca']}\n",
      "\n",
      "amado : {'gold': ['tlazo', 'tlazohtla'], 'resultados': ['tlazohtla', 'ama', 'zquia', 'ticcua', 'tlazo', 'niz', 'diego', 'comal', 'tazohta', 'federal']}\n",
      "\n",
      "mesero : {'gold': ['xexelo'], 'resultados': ['xexelo', 'ahco', 'pech', 'cualica', 'xeloa', 'loyan', 'comal', 'icpac', 'diego', 'beethoven']}\n",
      "\n",
      "presencia : {'gold': ['ix'], 'resultados': ['mopechteccac', 'tlacuauh', 'tzinco', 'huexo', 'quimolhui', 'melauh', 'tona', 'uad', 'tlazoh', 'eltilitiuh']}\n",
      "\n",
      "naranja : {'gold': ['naranja', 'xal', 'ronyaa'], 'resultados': ['naranja', 'juzga', 'perah', 'xan', 'ifor', 'matiloa', 'nezahualco', 'tzopel', 'uetz', 'ameyal']}\n",
      "\n",
      "olvidar : {'gold': ['ilcaruaz', 'cahua'], 'resultados': ['huilli', 'quil', 'cahua', 'xquin', 'el', 'xonm', 'mihtalhui', 'vor', 'tatemp', 'peh']}\n",
      "\n",
      "valer : {'gold': ['patio'], 'resultados': ['quexquich', '1', 'ton', 'mama', 'yancui', 'quezqui', 'pah', 'nuevo', 'huey', 'toma']}\n",
      "\n",
      "desierto : {'gold': ['des'], 'resultados': ['ceuh', 'er', 'des', 'ommihzo', 'ez', 'izquin', 'le', 'tlalhuia', 'olpi', 'tzmolin']}\n",
      "\n",
      "pez : {'gold': ['mimic'], 'resultados': ['mimic', 'michi', 'ahhua', 'ictique', 'dral', 'diego', 'alac', 'secretario', 'rosario', 'castillo']}\n",
      "\n",
      "portal : {'gold': ['por', 'tal'], 'resultados': ['ticchi', 'por', 'chia', 'yehhua', 'chix', 'min', 'moyacanilia', 'ohuala', 'le', 'tlalticpac']}\n",
      "\n",
      "quitar : {'gold': ['cuicuil', 'cuilia'], 'resultados': ['nech', 'ihcuani', 'cciz', 'me', 'cuilia', 'cuih', 'tlalia', 'cui', 'huizque', 'pachoa']}\n",
      "\n",
      "alfredo : {'gold': ['alfredo'], 'resultados': ['alfredo', 'matiloa', 'chachal', 'gabriel', 'felipe', 'organil', 'xacualoa', 'ieltapach', 'brasil', 'rvant']}\n",
      "\n",
      "enorme : {'gold': ['huey'], 'resultados': ['huehca', 'mil', 'cpac', 'moch', 'oc', 'omo', 'hue', 'tepahpaquiltia', 'tlaloa', 'zque']}\n",
      "\n",
      "coger : {'gold': ['ana', 'cana', 'cui'], 'resultados': ['concui', 'ichca', 'tecuan', 'ana', 'miqui', 'ochol', 'tzicuin', 'milacatzo', 'cholo', 'huitec']}\n",
      "\n",
      "llevar : {'gold': ['huica', 'cuica', 'tqui'], 'resultados': ['huica', 'mama', 'cuica', 'tqui', 'xip', 'quiliz', 'cui', 'tepahpaquiltia', 'polactia', 'zcuco']}\n",
      "\n",
      "vestido : {'gold': ['quen', 'tzotzoma'], 'resultados': ['tzotzoma', 'sa', 'nequia', 'xolochcue', 'cocone', 'ilpi', 'quen', 'lpilia', 'tilmah', 'nmediasco']}\n",
      "\n",
      "vender : {'gold': ['tlanamacazquia', 'tlanamaca', 'namaca', 'namaco'], 'resultados': ['tlanamaca', 'tlanamacazquia', 'namaco', 'namaca', 'onitla', 'niz', 'tlazohtla', 'pina', 'villistas', 'zqueh']}\n",
      "\n",
      "alimento : {'gold': ['pal', 'atetzocoa'], 'resultados': ['tota', 'pal', 'ihchican', 'nuestro', 'celi', 'tlacual', 'toh', 'ol', 'quiyauh', 'tiaz']}\n",
      "\n",
      "cofre : {'gold': ['top', 'petlacal'], 'resultados': ['top', 'petlacal', 'ilpi', 'tlachie', 'onimitz', 'xillan', 'pale', 'itoz', 'cxi', 'chalchihui']}\n",
      "\n",
      "niño : {'gold': ['cocone', 'conetl', 'cihuanton', 'pipil'], 'resultados': ['tzitzintin', 'cocone', 'conetl', 'cihuanton', 'toton', 'pipil', 'pil', 'telpoca', 'tlamachtil', 'tlacochcalca']}\n",
      "\n",
      "fino : {'gold': ['tlazo', 'quetzal'], 'resultados': ['tlazo', 'zacuan', 'quetzal', 'xomoihui', 'quechol', 'cahuia', 'concui', 'xical', 'patlahua', 'coyoc']}\n",
      "\n",
      "levantar : {'gold': ['quetza'], 'resultados': ['quetza', 'quechi', 'ohuatzintic', 'elehuia', 'ihca', 'yaca', 'quetz', 'yb', 'yollo', 'tona']}\n",
      "\n",
      "madera : {'gold': ['cuauh', 'tlacuauh'], 'resultados': ['icuil', 'tlapech', 'llan', 'pech', 'cuahuitl', 'cuauh', 'ahco', 'conte', 'icpac', 'miz']}\n",
      "\n",
      "animal : {'gold': ['yolca', 'yoyolcameh'], 'resultados': ['yolca', 'v', 'pu', 'iapizmi', 'pah', 'ichca', 'mictia', 'rn', 'yoyolcameh', 'ea']}\n",
      "\n",
      "comenzar : {'gold': ['pehua', 'peuh'], 'resultados': ['pehua', 'peuh', 'pen', 'ignacio', 'popolo', 'tlahuiz', 'yao', 'omo', 'eca', 'ltia']}\n",
      "\n",
      "quetzal : {'gold': ['quetzal'], 'resultados': ['quetzal', 'coatl', 'zacuan', 'chalchihui', 'chalchiuh', 'ihui', 'potonia', 'quechol', 'cozqui', 'teu']}\n",
      "\n",
      "indígena : {'gold': ['macehual'], 'resultados': ['lahtol', 'macehual', 'nahuatlahtol', 'altepe', 'toyalhuayo', 'cultura', 'elehuia', 'tlamatiliz', 'macihui', 'altpe']}\n",
      "\n",
      "horno : {'gold': ['horno'], 'resultados': ['horno', 'tu', 'timihtil', 'uica', 'cuepa', 'temi', 'tzatza', 'huic', 'tlahuicxitilli', 'tz']}\n",
      "\n",
      "ocurrir : {'gold': ['pano', 'chiuh'], 'resultados': ['yoh', 'machi', 'quem', 'nicnemili', 'y', 'om', 'pano', 'zquiani', 'gali', 'yb']}\n",
      "\n",
      "tráiganla : {'gold': ['cui', 'huica'], 'resultados': ['namoahtapal', 'xic', 'cui', 'hual', 'necoc', 'dar', 'yb', 'nican', 'maca', 'diego']}\n",
      "\n",
      "pesar : {'gold': ['etic', 'eti', 'cem', 'eamiiiz', 'ticcua'], 'resultados': ['xihui', 'palehui', 'ticcua', 'uepahua', 'ltiz', 'zquiani', 'otictocayotih', 'miec', 'nicnemili', 'xinach']}\n",
      "\n",
      "señorito : {'gold': ['sihuat', 'ichpoca'], 'resultados': ['etzta', 'sihuat', 'lhuili', 'yoh', 'omote', 'tiliaya', 'nequia', 'ilhuia', 'letra', 'conetl']}\n",
      "\n",
      "rostro : {'gold': ['mixco'], 'resultados': ['mixco', 'tlachia', 'yollo', 'timamalihuac', 'mix', 'notelpo', 'ixeo', 'tolini', 'immoma', 'naz']}\n",
      "\n",
      "suceder : {'gold': ['pano', 'chiuh', 'panoa', 'chiu'], 'resultados': ['ga', 'cholo', 'chiuh', 'tzinco', 'mix', 'tepotz', 'chihua', 'ictique', 'tizque', 'tihuetz']}\n",
      "\n",
      "llano : {'gold': ['talmanic', 'tlal', 'xtlahua'], 'resultados': ['talmanic', 'mani', 'tlal', 'tlalticpac', 'xtlahua', 'atetzocoa', 'atli', 'tzotzol', 'dral', 'cuechac']}\n",
      "\n",
      "querer : {'gold': ['znequi', 'nequi', 'monequilti', 'nequia'], 'resultados': ['nequi', 'znequi', 'ixquich', 'nequia', 'nec', 'uilizque', 'den', 'fa', 'monequilti', 'zazo']}\n",
      "\n",
      "saltar : {'gold': ['ochol', 'chol'], 'resultados': ['huixoa', 'oquich', 'ochol', 'laxoc', 'cholo', 'tzetzeloa', 'huitequi', 'amen', 'ihtotia', 'ana']}\n",
      "\n",
      "aguacate : {'gold': ['ahua'], 'resultados': ['aztlacapalli', 'tolachno', 'ahua', 'poyox', 'pix', 'ermanos', 'iahhuui', 'ehua', 'izhua', 'soldados']}\n",
      "\n",
      "anáhuac : {'gold': ['nahuac'], 'resultados': ['noch', 'nahuac', 'siempre', 'tzaoctimanca', 'm', 'zcuco', 'tlamatiliz', 'miec', 'cultura', 'tlaca']}\n",
      "\n",
      "cargo : {'gold': ['tlahtoca', 'toca'], 'resultados': ['ahqui', 'chihui', 'tlaliliz', 'onino', 'nicnemili', 'im', 'cuitl', 'milacatzo', 'ticmo', 'mp']}\n",
      "\n",
      "lavar : {'gold': ['paca'], 'resultados': ['paca', 'caxi', 'ihti', 'mochi', 'cuacualaca', 'motlali', 'tec', 'tlahuicxitilli', 'tlalia', 'mp']}\n",
      "\n",
      "familiar : {'gold': ['familiar'], 'resultados': ['familiar', 'xicol', 'tlaloa', 'cocox', 'temoa', 'chmotlahpalhui', 'temo', 'chihuili', 'moyacanilia', 'achcacauh']}\n",
      "\n",
      "ciudad : {'gold': ['altpe', 'altepe'], 'resultados': ['altepe', 'altpe', 'hueyi', 'huey', 'tepe', 'nemiliz', 'nemoa', 'huehue', 'chiuh', 'mexica']}\n",
      "\n",
      "pídele : {'gold': ['htlan'], 'resultados': ['htlan', 'puebla', 'xicol', 'icni', 'mayana', 'apiaz', 'illi', '19', 'apiz', 'htlani']}\n",
      "\n",
      "reinar : {'gold': ['motlahtocatlalli', 'toca'], 'resultados': ['14', 'tlalli', 'peuh', 'cayotl', 'mahtlac', 'nahui', 'xeloa', 'pipil', 'moteuczoma', 'tlalticpac']}\n",
      "\n",
      "centenario : {'gold': ['nario', 'presi'], 'resultados': ['nario', 'premios', 'icuilacta', 'ipanoque', 'presi', 'tazohta', 'us', 'hcuilo', 'dral', 'elehui']}\n",
      "\n",
      "pipián : {'gold': ['chilacach', 'yohuac'], 'resultados': ['chilacach', 'yohuac', 'bis', 'textli', 'ayohhuach', 'temolcax', 'secretario', 'castillo', 'rafael', 'molli']}\n",
      "\n",
      "chiquillo : {'gold': ['pipil'], 'resultados': ['ninozcalia', 'pano', 'cuitl', 'miec', 'cuiya', 'pohua', 'diablo', 'xip', 'olini', 'im']}\n",
      "\n",
      "seno : {'gold': ['xillan'], 'resultados': ['xillan', 'illam', 'motozcatlan', 'itoz', 'notozca', 'mocnelili', 'uitlapilco', 'immoma', 'cuitlaxcol', 'cuetlaxo']}\n",
      "\n",
      "quiltoniles : {'gold': ['quil'], 'resultados': ['cualac', 'illi', 'alac', 'apiaz', 'cuacualaca', 'oomicihcicu', 'cuih', 'quil', '1', 'ton']}\n",
      "\n",
      "esfuerzo : {'gold': ['cuammaca', 'chicahua', 'chicahuaz'], 'resultados': ['quexquich', 'chicahua', 'ihiyo', 'quezqui', 'potztlatziuh', 'tolini', 'pacholli', 'omiquiliaya', 'iuhqui', 'yb']}\n",
      "\n",
      "conocer : {'gold': ['ixmati', 'ixmachilia', 'mati', 'oixmatilia', 'iximacho'], 'resultados': ['ixmati', 'mati', 'quix', 'ixmachilia', 'machi', 'quiximati', 'iximacho', 'tlaca', 'cequin', 'yec']}\n",
      "\n",
      "limpiar : {'gold': ['pohpo', 'chipahuaque', 'chipahua', 'popo'], 'resultados': ['chipahuaque', 'pohpo', 'mitz', 'comitl', 'bo', 'mozacaticonti', 'chi', 'temi', 'popo', 'stancia']}\n",
      "\n",
      "chico : {'gold': ['notelpochtli', 'tzitz', 'tepi'], 'resultados': ['acalli', 'tzitz', 'tepi', 'calehcapo', 'uepahua', 'ton', 'cec', 'ltemalo', 'tzi', 'le']}\n",
      "\n",
      "indio : {'gold': ['macehual'], 'resultados': ['ig', 'macehual', 'quixtiz', 'monexiti', 'quiliz', 'ocaxil', 'quimolhui', 'chix', 'cue', 'rne']}\n",
      "\n",
      "tema : {'gold': ['tema'], 'resultados': ['tema', 'salvador', 'quixti', 'cachihualiz', 'zcal', 'zque', 'auh', 'tzintli', 'mac', 'tepon']}\n",
      "\n",
      "patio : {'gold': ['patio', 'itual', 'ithual'], 'resultados': ['itual', 'patio', 'ithual', 'nepantla', 'ber', 'calitic', 'pixca', 'ticatca', 'ommihzo', 'cotona']}\n",
      "\n",
      "nabo : {'gold': ['bo'], 'resultados': ['bo', 'stancia', 'catarina', 'ga', 'cuechahua', 'chipahuaque', 'cec', 'chicauh', 'acacic', 'pexon']}\n",
      "\n",
      "jugar : {'gold': ['mahui'], 'resultados': ['mahui', 'nocniu', 'ltih', 'mahuizzo', 'ihcuilo', 'ahuil', 'onimitz', 'mahuizo', 'ticmo', 'cuetlaxo']}\n",
      "\n",
      "venir : {'gold': ['hualla', 'hual'], 'resultados': ['hual', 'huitz', 'hualla', 'm', 'quin', 'zque', 'acxoya', 'aca', 'l', 'zcuco']}\n",
      "\n",
      "montaña : {'gold': ['tepe'], 'resultados': ['huehca', 'tepe', 'cem', 'tlaloa', 'miec', 'temo', 'ahquetz', 'temoa', 'hue', 'yb']}\n",
      "\n",
      "silvestre : {'gold': ['tlal', 'cuauh'], 'resultados': ['tlal', 'tlalticpac', 'talmanic', 'ayo', 'de', 'y', 'tin', 'al', 'tal', 'tech']}\n",
      "\n",
      "unir : {'gold': ['cen'], 'resultados': ['f', 'george', 'estado', 'cahuan', 'tlahtocayotl', 'do', '19', 'caxtil', 'isoldado', 'ahuacatl']}\n",
      "\n",
      "final : {'gold': ['tlatz'], 'resultados': ['mix', 'xip', 'dral', 'yb', 'im', 'diego', 'rosario', 'zcuco', 'secretario', 'y']}\n",
      "\n",
      "tigre : {'gold': ['ocelo', 'tecuan'], 'resultados': ['ocelo', 'tecuan', 'zacuan', 'quechol', 'cacehuaztli', 'totome', 'ehua', 'izquin', 'tototl', 'xahua']}\n",
      "\n",
      "acabar : {'gold': ['tlami', 'tami'], 'resultados': ['tlami', 'mic', 'ahui', 'yoltequipacho', 'cauh', 'miqui', 'totecuyo', 'tami', 'onicnolhui', 'auh']}\n",
      "\n",
      "voz : {'gold': ['tozki', 'tzahtzi', 'tzatzi'], 'resultados': ['tzahtzi', 'tzatzi', 'nopiltzin', 'tepotz', 'xinechmotlapohpolhuili', 'ticte', 'mu', 'ixmantaz', 'nmediasco', 'omitz']}\n",
      "\n",
      "derribar : {'gold': ['tatemp'], 'resultados': ['mota', 'tata', 'tatemp', 'nimitz', 'motemilih', 'vor', 'nepapan', 'xquin', 'tlalli', 'loyan']}\n",
      "\n",
      "amargo : {'gold': ['chichi'], 'resultados': ['chichi', 'mati', 'itzcuin', 'choca', 'mimizt', 'mocnopil', 'machi', 'ixpetla', 'ani', 'miz']}\n",
      "\n",
      "perforar : {'gold': ['coyoc', 'coyoni'], 'resultados': ['coyoc', 'coyoni', 'acacic', 'amaihcuilol', 'ohuehyiyac', 'poch', 'rdenas', 'erics', 'celia', 'peyoctin']}\n",
      "\n",
      "sueño : {'gold': ['cochi', 'temictli', 'temic'], 'resultados': ['cochi', 'coch', 'tepuz', 'yohua', 'znequi', 'iye', 'cia', 'chix', 'tlapech', 'quetz']}\n",
      "\n",
      "comer : {'gold': ['cuaz', 'cua', 'tlacual', 'otlacua', 'cualtiz'], 'resultados': ['cuaz', 'cua', '´tos', 'tlacual', 'cualtiz', 'cuap', 'tepahpaquiltia', 'maca', 'zque', '\\ufeff']}\n",
      "\n",
      "uña : {'gold': ['itz'], 'resultados': ['cuicuil', 'moci', 'ahuiz', 'itz', 'mihiyohuilti', 'moteihtitili', 'ixtelolo', 'tlil', 'ono', 'acol']}\n",
      "\n",
      "pedir : {'gold': ['tamechtahtanil', 'tahtan', 'htlani', 'mihtlanililia', 'htlan'], 'resultados': ['htlani', 'tlania', 'tamechtahtanil', 'neltili', 'nimitz', 'tahtan', 'lih', 'miac', 'ichpoc', 'htlan']}\n",
      "\n",
      "introducir : {'gold': ['calaquia', 'calaqui'], 'resultados': ['calaqui', 'calaquia', 'calac', 'nican', 'xip', 'hual', 'cala', 'puerta', 'tzaoctimanca', 'chapa']}\n",
      "\n",
      "pedirle : {'gold': ['mihtlanililia'], 'resultados': ['mihtlanililia', 'pouhilil', 'chililiz', 'tlahtoani', 'titlani', 'tti', 'neltili', 'eltilitiuh', 'itti', 'chiyali']}\n",
      "\n",
      "izquierda : {'gold': ['pochcopa', 'poch', 'opoch'], 'resultados': ['pochcopa', 'imayauhcampa', 'poch', 'acacic', 'imayauhcan', 'au', 'coyoni', 'iye', 'mian', 'coyoc']}\n",
      "\n",
      "despreciar : {'gold': ['mah', 'pehua'], 'resultados': ['xinech', 'ech', 'tlecuezal', 'pu', 'cizu', 'ilama', 'xmechmo', 'nino', 'icpac', 'notlazohca']}\n",
      "\n",
      "perdonar : {'gold': ['pohpo'], 'resultados': ['pohpo', 'mozacaticonti', 'otimitzno', 'chipahuaque', 'pahcayo', 'mochantilia', 'stancia', 'ayer', 'bo', 'ixmachilia']}\n",
      "\n",
      "visceras : {'gold': ['ihti', 'ehua'], 'resultados': ['cuacualaca', 'tlahuicxitilli', 'motlali', 'tlalia', 'itzoltilia', 'tec', 'cuacua', 'zoqui', 'caxi', 'huic']}\n",
      "\n",
      "galleta : {'gold': ['galleta', 'tlaxcal'], 'resultados': ['galleta', 'pohualli', 'gr', 'mana', 'g', 'vie', 'otlaixmatia', 'egorio', 'poalli', 'yb']}\n",
      "\n",
      "ver : {'gold': ['tta', 'conmottilia', 'itta', 'itac', 'ver'], 'resultados': ['ver', 'tta', 'uh', 'auh', 'yb', 'oncan', 'im', 'tia', 'lti', 'omo']}\n",
      "\n",
      "pluma : {'gold': ['quetzal'], 'resultados': ['quetzal', 'ihui', 'potonia', 'coatl', 'zacuan', 'chalchihui', 'tapayol', 'xahua', 'quechol', 'chalchiuh']}\n",
      "\n",
      "sólo : {'gold': ['zan', 'za'], 'resultados': ['zan', 'zcuco', 'im', 'choh', 'yuhqui', 'tlaca', 'zque', 'yb', 'onicnolhui', 'xip']}\n",
      "\n",
      "cierto : {'gold': ['melahua', 'nel', 'cecni'], 'resultados': ['melahua', 'nel', 'ocon', 'ihtoh', 'omo', 'ichpoc', 'zque', 'milacatzo', 'ciauh', 'xip']}\n",
      "\n",
      "mixcólotl : {'gold': ['mixco'], 'resultados': ['mixco', 'tepuz', 'timamalihuac', 'tlachia', 'cochi', 'tepotz', 'dral', 'xip', 'ahuacatl', 'diego']}\n",
      "\n",
      "escalera : {'gold': ['mama'], 'resultados': ['nmediasco', 'oquinanquili', 'ilpia', 'dia', 'icuilacta', 'ilpi', 'nario', 'pualhuany', 'cocone', 'ipanoque']}\n",
      "\n",
      "destrozar : {'gold': ['teciz', 'tlanteciz'], 'resultados': ['tepahpaquiltia', 'yb', 'x', 'dral', 'zque', 'auh', 'diego', 'rosario', 'im', 'fa']}\n",
      "\n",
      "ropa : {'gold': ['tzotzoma'], 'resultados': ['tzotzoma', 'ui', 'xolochcue', 'xmatia', 'nuevo', 'lahuan', 'cocone', 'tzatzapal', 'yancui', 'misa']}\n",
      "\n",
      "nido : {'gold': ['tapazolli', 'tapazol', 'pa', 'zol'], 'resultados': ['nepapan', 'motemilih', 'mota', 'tlazo', 'huipan', 'tenanco', 'xip', 'xochi', 'cuexan', 'dral']}\n",
      "\n",
      "pieza : {'gold': ['xexelo'], 'resultados': ['xexelo', 'xeloa', 'micuani', 'loyan', 'ticatca', 'huehca', 'lero', 'nocupix', 'tlacual', 'calac']}\n",
      "\n",
      "vaca : {'gold': ['uacax', 'cuacua'], 'resultados': ['uacax', 'enepil', 'huen', 'cueh', 'tictohuaxcati', 'cahua', 'tecoma', 'cihua', 'panoa', 'cuacua']}\n",
      "\n",
      "tomar : {'gold': ['concui', 'ana', 'cuilia', 'cui', 'can'], 'resultados': ['tepahpaquiltia', 'dral', 'yb', 'diego', 'zcuco', 'xip', 'rosario', 'secretario', 'cui', 'federal']}\n",
      "\n",
      "sabor : {'gold': ['iahhuui', 'mati'], 'resultados': ['mati', 'lan', 'tro', 'iahhuui', 'xinach', 'ixmachilia', 'ixmati', 'chil', 'ahnozo', 'machi']}\n",
      "\n",
      "transportar : {'gold': ['axiti'], 'resultados': ['axiti', 'chalchiuh', 'tzotzona', 'chalchihui', 'quetzal', 'illam', 'teu', 'quimon', 'tqui', 'itoz']}\n",
      "\n",
      "llanura : {'gold': ['xtlahua'], 'resultados': ['xtlahua', 'xinach', 'as', 'ip', 'ua', 'popo', 'tlahui', 'mitz', 'tlalli', 'motlapalo']}\n",
      "\n",
      "salvador : {'gold': ['salvador', 'tema', 'quixti'], 'resultados': ['salvador', 'tema', 'quixti', 'jesu', 'pr', 'cachihualiz', 'yia', 'tepon', 'macehui', 'quixtia']}\n",
      "\n",
      "decir : {'gold': ['lhuia', 'ilhuia', 'lhui', 'hto'], 'resultados': ['niman', 'auh', 'hto', 'lhuia', 'lhui', 'zcuco', 'ilhui', 'zque', 'tepahpaquiltia', 'quin']}\n",
      "\n",
      "oír : {'gold': ['cac', 'caqui'], 'resultados': ['acica', 'nlcaci', 'cuic', 'cac', 'ami', 'ihuinti', 'quimolhui', 'mitalhui', 'camati', 'petlahua']}\n",
      "\n",
      "presidente : {'gold': ['presi'], 'resultados': ['presi', 'us', 'tlahtoca', 'hueyi', 'tlahtoani', 'ludovi', 'altpe', 'altepe', 'yacana', 'año']}\n",
      "\n",
      "rogar : {'gold': ['tahtan'], 'resultados': ['tlauhti', 'tahtan', 'tamechtahtanil', 'tlauhtia', 'ili', 'idl', 'end', 'nimitz', 'namech', 'vor']}\n",
      "\n",
      "admirar : {'gold': ['mahuizo', 'iglesia', 'tlamahuiz'], 'resultados': ['mahuizo', 'imottilih', 'tlamahuiz', 'itt', 'mahuiztili', 'chililiz', 'mahui', 'onimitz', 'itti', 'iuhquin']}\n",
      "\n",
      "nombre : {'gold': ['toca'], 'resultados': ['toca', 'tocayoti', 'omo', 'nuestro', 'de', 'tlahtoca', 'gali', 'y', 'año', 'xihuitl']}\n",
      "\n",
      "mirada : {'gold': ['tlachia'], 'resultados': ['tlachia', 'im', 'mix', 'xip', 'tz', 'ix', 'tzinco', 'zque', 'dral', 'auh']}\n",
      "\n",
      "ramo : {'gold': ['ramos'], 'resultados': ['ramos', 'g', 'poalli', 'ri', 'señor', 'vor', 'pixca', 'egorio', 'gr', 'tavo']}\n",
      "\n",
      "alegrar : {'gold': ['ahuia', 'pahpa', 'pahpaqui'], 'resultados': ['ahuia', 'tinemiz', 'papa', 'itz', 'nemi', 'pahpaqui', 'coco', 'tehhuellamac', 'mota', 'cac']}\n",
      "\n",
      "gritar : {'gold': ['tzatzi', 'tzahtzi'], 'resultados': ['tzatzi', 'tzahtzi', 'lero', 'ihcahuaca', 'dia', 'tlacacalata', 'ipilhua', 'rrancista', 'cirio', 'mauh']}\n",
      "\n",
      "volver : {'gold': ['cuepa', 'mocuep'], 'resultados': ['cuepa', 'mocuep', 'ixpetani', 'ac', 'cuep', 'cala', 'im', 'lnami', 'huic', 'calaqui']}\n",
      "\n",
      "tierno : {'gold': ['ne', 'xoxouhqui'], 'resultados': ['xoxouhqui', 'stancia', 'ahnozo', 'calhuahza', 'nohpal', 'nopal', 'chilmolli', 'xoxo', 'izhua', 'catarina']}\n",
      "\n"
     ]
    }
   ],
   "source": [
    "for k,v in resultados_gold.items():\n",
    "    print(k,\":\",v,end=\"\\n\"*2)"
   ]
  }
 ],
 "metadata": {
  "kernelspec": {
   "display_name": "Python 3",
   "language": "python",
   "name": "python3"
  },
  "language_info": {
   "codemirror_mode": {
    "name": "ipython",
    "version": 3
   },
   "file_extension": ".py",
   "mimetype": "text/x-python",
   "name": "python",
   "nbconvert_exporter": "python",
   "pygments_lexer": "ipython3",
   "version": "3.6.3"
  }
 },
 "nbformat": 4,
 "nbformat_minor": 2
}
