{
  "nbformat": 4,
  "nbformat_minor": 0,
  "metadata": {
    "colab": {
      "name": "autoencoder.ipynb",
      "version": "0.3.2",
      "views": {},
      "default_view": {},
      "provenance": [],
      "collapsed_sections": []
    },
    "kernelspec": {
      "name": "python3",
      "display_name": "Python 3"
    },
    "accelerator": "GPU"
  },
  "cells": [
    {
      "metadata": {
        "id": "BnmksSKy__P5",
        "colab_type": "code",
        "colab": {
          "autoexec": {
            "startup": false,
            "wait_interval": 0
          },
          "output_extras": [
            {
              "item_id": 1
            }
          ],
          "base_uri": "https://localhost:8080/",
          "height": 34
        },
        "outputId": "57d897d1-5211-4a2c-eeb4-4162ff7b5170",
        "executionInfo": {
          "status": "ok",
          "timestamp": 1518136004888,
          "user_tz": 360,
          "elapsed": 5850,
          "user": {
            "displayName": "José Luis Olivares Castillo",
            "photoUrl": "//lh3.googleusercontent.com/-TwmKeyobW8Q/AAAAAAAAAAI/AAAAAAAABMI/wWTS79noj8g/s50-c-k-no/photo.jpg",
            "userId": "111813722129821074214"
          }
        }
      },
      "cell_type": "code",
      "source": [
        "import tensorflow as tf\n",
        "import pandas as pd\n",
        "import numpy as np\n",
        "from google.colab import files\n",
        "\n",
        "__author__ = \"Olivares Castillo José Luis\"\n",
        "\n",
        "print(tf.__version__, tf.test.gpu_device_name())"
      ],
      "execution_count": 2,
      "outputs": [
        {
          "output_type": "stream",
          "text": [
            "1.4.1 /device:GPU:0\n"
          ],
          "name": "stdout"
        }
      ]
    },
    {
      "metadata": {
        "id": "wWQMkstGiWMb",
        "colab_type": "text"
      },
      "cell_type": "markdown",
      "source": [
        "# Cargar archivos necesarios\n",
        "## Lexicon de entrenamiento"
      ]
    },
    {
      "metadata": {
        "id": "GlBaLXf5FiZT",
        "colab_type": "code",
        "colab": {
          "autoexec": {
            "startup": false,
            "wait_interval": 0
          },
          "output_extras": [
            {
              "item_id": 1
            }
          ],
          "resources": {
            "http://localhost:8080/nbextensions/google.colab/files.js": {
              "data": "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",
              "ok": true,
              "headers": [
                [
                  "content-type",
                  "application/javascript"
                ]
              ],
              "status": 200,
              "status_text": ""
            }
          },
          "base_uri": "https://localhost:8080/",
          "height": 55
        },
        "outputId": "96fe9cf2-cfca-41a1-b823-e241def72208",
        "executionInfo": {
          "status": "ok",
          "timestamp": 1518136032655,
          "user_tz": 360,
          "elapsed": 10355,
          "user": {
            "displayName": "José Luis Olivares Castillo",
            "photoUrl": "//lh3.googleusercontent.com/-TwmKeyobW8Q/AAAAAAAAAAI/AAAAAAAABMI/wWTS79noj8g/s50-c-k-no/photo.jpg",
            "userId": "111813722129821074214"
          }
        }
      },
      "cell_type": "code",
      "source": [
        "##############################\n",
        "# Cargar archivos necesarios #\n",
        "##############################\n",
        "# Cargar lexicon semilla de entrenamiento\n",
        "# `lexiconfile` es de type dict.\n",
        "train_set = files.upload()\n",
        "\n",
        "# Se convierte el archivo a una lista\n",
        "train_set = train_set['newlexiconb.lst'].decode(\"utf-8\").split(\"\\n\")\n",
        "\n",
        "#tuple(lexicon[0].split())"
      ],
      "execution_count": 3,
      "outputs": [
        {
          "output_type": "display_data",
          "data": {
            "text/html": [
              "\n",
              "     <input type=\"file\" id=\"files-b847dce5-fb65-4cf1-a5ef-39c44853d65f\" name=\"files[]\" multiple disabled />\n",
              "     <output id=\"result-b847dce5-fb65-4cf1-a5ef-39c44853d65f\">\n",
              "      Upload widget is only available when the cell has been executed in the\n",
              "      current browser session. Please rerun this cell to enable.\n",
              "      </output>\n",
              "      <script src=\"/nbextensions/google.colab/files.js\"</script> "
            ],
            "text/plain": [
              "<IPython.core.display.HTML object>"
            ]
          },
          "metadata": {
            "tags": []
          }
        }
      ]
    },
    {
      "metadata": {
        "id": "Htz3gxQuIcHf",
        "colab_type": "text"
      },
      "cell_type": "markdown",
      "source": [
        "## Lexicon de evaluación"
      ]
    },
    {
      "metadata": {
        "id": "__q4aRt0Esl2",
        "colab_type": "code",
        "colab": {
          "autoexec": {
            "startup": false,
            "wait_interval": 0
          },
          "output_extras": [
            {
              "item_id": 1
            }
          ],
          "resources": {
            "http://localhost:8080/nbextensions/google.colab/files.js": {
              "data": "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",
              "ok": true,
              "headers": [
                [
                  "content-type",
                  "application/javascript"
                ]
              ],
              "status": 200,
              "status_text": ""
            }
          },
          "base_uri": "https://localhost:8080/",
          "height": 55
        },
        "outputId": "411708c3-ff17-404d-882b-9fe48069fa74",
        "executionInfo": {
          "status": "ok",
          "timestamp": 1518136044096,
          "user_tz": 360,
          "elapsed": 9423,
          "user": {
            "displayName": "José Luis Olivares Castillo",
            "photoUrl": "//lh3.googleusercontent.com/-TwmKeyobW8Q/AAAAAAAAAAI/AAAAAAAABMI/wWTS79noj8g/s50-c-k-no/photo.jpg",
            "userId": "111813722129821074214"
          }
        }
      },
      "cell_type": "code",
      "source": [
        "test_set = files.upload()\n",
        "test_set = test_set['evaluationset'].decode(\"utf-8\").split(\"\\n\")"
      ],
      "execution_count": 4,
      "outputs": [
        {
          "output_type": "display_data",
          "data": {
            "text/html": [
              "\n",
              "     <input type=\"file\" id=\"files-4f23a4be-aff1-4cdf-959d-760e5b71b1c1\" name=\"files[]\" multiple disabled />\n",
              "     <output id=\"result-4f23a4be-aff1-4cdf-959d-760e5b71b1c1\">\n",
              "      Upload widget is only available when the cell has been executed in the\n",
              "      current browser session. Please rerun this cell to enable.\n",
              "      </output>\n",
              "      <script src=\"/nbextensions/google.colab/files.js\"</script> "
            ],
            "text/plain": [
              "<IPython.core.display.HTML object>"
            ]
          },
          "metadata": {
            "tags": []
          }
        }
      ]
    },
    {
      "metadata": {
        "id": "gm0yX036IqAb",
        "colab_type": "text"
      },
      "cell_type": "markdown",
      "source": [
        "## Función para crear dataframes de lexicones"
      ]
    },
    {
      "metadata": {
        "id": "OgttH9LNR7N3",
        "colab_type": "code",
        "colab": {
          "autoexec": {
            "startup": false,
            "wait_interval": 0
          }
        }
      },
      "cell_type": "code",
      "source": [
        "def create_lexicon_dataframe(lexicon):\n",
        "  # Separar cada elemento de lista en una tupla\n",
        "  lexicon_ = list()\n",
        "  for i in lexicon:\n",
        "    lexicon_.append(tuple(i.split()))\n",
        "\n",
        "  # Crear dataframe con los pares traducción\n",
        "  lexicon_df = pd.DataFrame.from_records(lexicon_, columns=[\"esp\", \"nah\"])\n",
        "  del lexicon_\n",
        "  return lexicon_df\n",
        "  "
      ],
      "execution_count": 0,
      "outputs": []
    },
    {
      "metadata": {
        "id": "sjmurOl-JDi8",
        "colab_type": "text"
      },
      "cell_type": "markdown",
      "source": [
        "### Crear dataframes de lexicones"
      ]
    },
    {
      "metadata": {
        "id": "SvBAnM6WFQqk",
        "colab_type": "code",
        "colab": {
          "autoexec": {
            "startup": false,
            "wait_interval": 0
          },
          "output_extras": [
            {
              "item_id": 1
            }
          ],
          "base_uri": "https://localhost:8080/",
          "height": 34
        },
        "outputId": "48115cfa-b59d-4d2f-a4b3-043532f2b7ba",
        "executionInfo": {
          "status": "ok",
          "timestamp": 1518136048475,
          "user_tz": 360,
          "elapsed": 290,
          "user": {
            "displayName": "José Luis Olivares Castillo",
            "photoUrl": "//lh3.googleusercontent.com/-TwmKeyobW8Q/AAAAAAAAAAI/AAAAAAAABMI/wWTS79noj8g/s50-c-k-no/photo.jpg",
            "userId": "111813722129821074214"
          }
        }
      },
      "cell_type": "code",
      "source": [
        "train_set = create_lexicon_dataframe(train_set)\n",
        "test_set = create_lexicon_dataframe(test_set)\n",
        "train_set.shape,test_set.shape"
      ],
      "execution_count": 6,
      "outputs": [
        {
          "output_type": "execute_result",
          "data": {
            "text/plain": [
              "((496, 2), (296, 2))"
            ]
          },
          "metadata": {
            "tags": []
          },
          "execution_count": 6
        }
      ]
    },
    {
      "metadata": {
        "id": "qsv0QYx4TDnW",
        "colab_type": "code",
        "colab": {
          "autoexec": {
            "startup": false,
            "wait_interval": 0
          },
          "output_extras": [
            {
              "item_id": 1
            }
          ],
          "resources": {
            "http://localhost:8080/nbextensions/google.colab/files.js": {
              "data": "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",
              "ok": true,
              "headers": [
                [
                  "content-type",
                  "application/javascript"
                ]
              ],
              "status": 200,
              "status_text": ""
            }
          },
          "base_uri": "https://localhost:8080/",
          "height": 55
        },
        "outputId": "3d1df378-6ec4-4d91-c462-8bd51853fd44",
        "executionInfo": {
          "status": "ok",
          "timestamp": 1518136135732,
          "user_tz": 360,
          "elapsed": 86365,
          "user": {
            "displayName": "José Luis Olivares Castillo",
            "photoUrl": "//lh3.googleusercontent.com/-TwmKeyobW8Q/AAAAAAAAAAI/AAAAAAAABMI/wWTS79noj8g/s50-c-k-no/photo.jpg",
            "userId": "111813722129821074214"
          }
        }
      },
      "cell_type": "code",
      "source": [
        "# Cargar vectores náhuatl\n",
        "na_n2v = files.upload()"
      ],
      "execution_count": 7,
      "outputs": [
        {
          "output_type": "display_data",
          "data": {
            "text/html": [
              "\n",
              "     <input type=\"file\" id=\"files-9128b4b9-9ff8-4f44-ba5a-25570cf7dc5f\" name=\"files[]\" multiple disabled />\n",
              "     <output id=\"result-9128b4b9-9ff8-4f44-ba5a-25570cf7dc5f\">\n",
              "      Upload widget is only available when the cell has been executed in the\n",
              "      current browser session. Please rerun this cell to enable.\n",
              "      </output>\n",
              "      <script src=\"/nbextensions/google.colab/files.js\"</script> "
            ],
            "text/plain": [
              "<IPython.core.display.HTML object>"
            ]
          },
          "metadata": {
            "tags": []
          }
        }
      ]
    },
    {
      "metadata": {
        "id": "Hl8wOsIbTFrk",
        "colab_type": "code",
        "colab": {
          "autoexec": {
            "startup": false,
            "wait_interval": 0
          },
          "output_extras": [
            {
              "item_id": 1
            }
          ],
          "resources": {
            "http://localhost:8080/nbextensions/google.colab/files.js": {
              "data": "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",
              "ok": true,
              "headers": [
                [
                  "content-type",
                  "application/javascript"
                ]
              ],
              "status": 200,
              "status_text": ""
            }
          },
          "base_uri": "https://localhost:8080/",
          "height": 55
        },
        "outputId": "7c341903-7bab-49c1-94a2-0208f6d12706",
        "executionInfo": {
          "status": "ok",
          "timestamp": 1518136354383,
          "user_tz": 360,
          "elapsed": 198106,
          "user": {
            "displayName": "José Luis Olivares Castillo",
            "photoUrl": "//lh3.googleusercontent.com/-TwmKeyobW8Q/AAAAAAAAAAI/AAAAAAAABMI/wWTS79noj8g/s50-c-k-no/photo.jpg",
            "userId": "111813722129821074214"
          }
        }
      },
      "cell_type": "code",
      "source": [
        "# Cargar vectores español\n",
        "es_n2v = files.upload()"
      ],
      "execution_count": 8,
      "outputs": [
        {
          "output_type": "display_data",
          "data": {
            "text/html": [
              "\n",
              "     <input type=\"file\" id=\"files-3acac734-db3b-44f3-897f-e3f7c8c74075\" name=\"files[]\" multiple disabled />\n",
              "     <output id=\"result-3acac734-db3b-44f3-897f-e3f7c8c74075\">\n",
              "      Upload widget is only available when the cell has been executed in the\n",
              "      current browser session. Please rerun this cell to enable.\n",
              "      </output>\n",
              "      <script src=\"/nbextensions/google.colab/files.js\"</script> "
            ],
            "text/plain": [
              "<IPython.core.display.HTML object>"
            ]
          },
          "metadata": {
            "tags": []
          }
        }
      ]
    },
    {
      "metadata": {
        "id": "XrMz4hvQSD1Z",
        "colab_type": "code",
        "colab": {
          "autoexec": {
            "startup": false,
            "wait_interval": 0
          }
        }
      },
      "cell_type": "code",
      "source": [
        "# Convertir archivos a una lista\n",
        "es_n2v = es_n2v['es.node2vec.embeddings'].decode(\"utf-8\").split(\"\\n\")\n",
        "na_n2v = na_n2v['na.node2vec.embeddings'].decode(\"utf-8\").split(\"\\n\")"
      ],
      "execution_count": 0,
      "outputs": []
    },
    {
      "metadata": {
        "id": "Q304g_QPmjX8",
        "colab_type": "code",
        "colab": {
          "autoexec": {
            "startup": false,
            "wait_interval": 0
          }
        }
      },
      "cell_type": "code",
      "source": [
        "def create_vectors_dataframe(df):\n",
        "  # Separar cada elemento de la lista en una tupla\n",
        "  df_tmp = list()\n",
        "  for i in df:\n",
        "      if i == 0:\n",
        "          pass\n",
        "      else:\n",
        "          df_tmp.append(tuple(i.split()))\n",
        "\n",
        "  # Eliminar el primer elemento, no se utiliza\n",
        "  df_tmp.pop(0)\n",
        "  return pd.DataFrame.from_records(df_tmp)"
      ],
      "execution_count": 0,
      "outputs": []
    },
    {
      "metadata": {
        "id": "_9TelsIJSMBX",
        "colab_type": "code",
        "colab": {
          "autoexec": {
            "startup": false,
            "wait_interval": 0
          }
        }
      },
      "cell_type": "code",
      "source": [
        "# Crear dataframes con los vectores\n",
        "es_df = create_vectors_dataframe(es_n2v)\n",
        "na_df = create_vectors_dataframe(na_n2v)"
      ],
      "execution_count": 0,
      "outputs": []
    },
    {
      "metadata": {
        "id": "fG9iWa4FSOYI",
        "colab_type": "code",
        "colab": {
          "autoexec": {
            "startup": false,
            "wait_interval": 0
          },
          "output_extras": [
            {
              "item_id": 1
            }
          ],
          "base_uri": "https://localhost:8080/",
          "height": 253
        },
        "outputId": "603cdb8b-9ea7-4edf-a652-58c16f9df4ca",
        "executionInfo": {
          "status": "ok",
          "timestamp": 1518136405729,
          "user_tz": 360,
          "elapsed": 282,
          "user": {
            "displayName": "José Luis Olivares Castillo",
            "photoUrl": "//lh3.googleusercontent.com/-TwmKeyobW8Q/AAAAAAAAAAI/AAAAAAAABMI/wWTS79noj8g/s50-c-k-no/photo.jpg",
            "userId": "111813722129821074214"
          }
        }
      },
      "cell_type": "code",
      "source": [
        "es_df.head()"
      ],
      "execution_count": 12,
      "outputs": [
        {
          "output_type": "execute_result",
          "data": {
            "text/html": [
              "<div>\n",
              "<style scoped>\n",
              "    .dataframe tbody tr th:only-of-type {\n",
              "        vertical-align: middle;\n",
              "    }\n",
              "\n",
              "    .dataframe tbody tr th {\n",
              "        vertical-align: top;\n",
              "    }\n",
              "\n",
              "    .dataframe thead th {\n",
              "        text-align: right;\n",
              "    }\n",
              "</style>\n",
              "<table border=\"1\" class=\"dataframe\">\n",
              "  <thead>\n",
              "    <tr style=\"text-align: right;\">\n",
              "      <th></th>\n",
              "      <th>0</th>\n",
              "      <th>1</th>\n",
              "      <th>2</th>\n",
              "      <th>3</th>\n",
              "      <th>4</th>\n",
              "      <th>5</th>\n",
              "      <th>6</th>\n",
              "      <th>7</th>\n",
              "      <th>8</th>\n",
              "      <th>9</th>\n",
              "      <th>...</th>\n",
              "      <th>119</th>\n",
              "      <th>120</th>\n",
              "      <th>121</th>\n",
              "      <th>122</th>\n",
              "      <th>123</th>\n",
              "      <th>124</th>\n",
              "      <th>125</th>\n",
              "      <th>126</th>\n",
              "      <th>127</th>\n",
              "      <th>128</th>\n",
              "    </tr>\n",
              "  </thead>\n",
              "  <tbody>\n",
              "    <tr>\n",
              "      <th>0</th>\n",
              "      <td>igual</td>\n",
              "      <td>-0.021394</td>\n",
              "      <td>-0.22308600000000001</td>\n",
              "      <td>0.081375000000000003</td>\n",
              "      <td>-0.44000800000000001</td>\n",
              "      <td>0.41420299999999999</td>\n",
              "      <td>-0.37752400000000003</td>\n",
              "      <td>-0.40576099999999998</td>\n",
              "      <td>-0.080980999999999997</td>\n",
              "      <td>-0.14319200000000001</td>\n",
              "      <td>...</td>\n",
              "      <td>-0.185254</td>\n",
              "      <td>0.17538200000000001</td>\n",
              "      <td>0.326658</td>\n",
              "      <td>0.094920000000000004</td>\n",
              "      <td>-0.69681999999999999</td>\n",
              "      <td>0.0026940000000000002</td>\n",
              "      <td>-0.45110899999999998</td>\n",
              "      <td>-0.47127799999999997</td>\n",
              "      <td>0.041342999999999998</td>\n",
              "      <td>-0.38586300000000001</td>\n",
              "    </tr>\n",
              "    <tr>\n",
              "      <th>1</th>\n",
              "      <td>hermano</td>\n",
              "      <td>-0.27513300000000002</td>\n",
              "      <td>-0.290684</td>\n",
              "      <td>-0.035325000000000002</td>\n",
              "      <td>-0.172819</td>\n",
              "      <td>-0.171268</td>\n",
              "      <td>0.19417799999999999</td>\n",
              "      <td>-0.260795</td>\n",
              "      <td>-0.131469</td>\n",
              "      <td>-0.56005700000000003</td>\n",
              "      <td>...</td>\n",
              "      <td>-0.77275700000000003</td>\n",
              "      <td>0.26308999999999999</td>\n",
              "      <td>0.152056</td>\n",
              "      <td>-0.34808899999999998</td>\n",
              "      <td>0.31774200000000002</td>\n",
              "      <td>0.093362000000000001</td>\n",
              "      <td>-0.53920000000000001</td>\n",
              "      <td>-0.091986999999999999</td>\n",
              "      <td>0.24560499999999999</td>\n",
              "      <td>0.074918999999999999</td>\n",
              "    </tr>\n",
              "    <tr>\n",
              "      <th>2</th>\n",
              "      <td>martajan</td>\n",
              "      <td>-0.39002700000000001</td>\n",
              "      <td>-0.18165300000000001</td>\n",
              "      <td>-0.26608799999999999</td>\n",
              "      <td>0.13489100000000001</td>\n",
              "      <td>-0.105633</td>\n",
              "      <td>-0.124488</td>\n",
              "      <td>-0.85740300000000003</td>\n",
              "      <td>-0.210449</td>\n",
              "      <td>0.10071099999999999</td>\n",
              "      <td>...</td>\n",
              "      <td>-0.30548500000000001</td>\n",
              "      <td>-0.43815399999999999</td>\n",
              "      <td>0.63305199999999995</td>\n",
              "      <td>-0.086624000000000007</td>\n",
              "      <td>0.049135999999999999</td>\n",
              "      <td>-0.166021</td>\n",
              "      <td>-0.45888899999999999</td>\n",
              "      <td>0.21430399999999999</td>\n",
              "      <td>-0.089515999999999998</td>\n",
              "      <td>-0.083751000000000006</td>\n",
              "    </tr>\n",
              "    <tr>\n",
              "      <th>3</th>\n",
              "      <td>fuero</td>\n",
              "      <td>0.038670999999999997</td>\n",
              "      <td>-0.12618799999999999</td>\n",
              "      <td>-0.12856699999999999</td>\n",
              "      <td>-0.10723100000000001</td>\n",
              "      <td>0.091522000000000006</td>\n",
              "      <td>-0.15167600000000001</td>\n",
              "      <td>-0.137239</td>\n",
              "      <td>-0.118836</td>\n",
              "      <td>-0.078329999999999997</td>\n",
              "      <td>...</td>\n",
              "      <td>-0.22109699999999999</td>\n",
              "      <td>0.062376000000000001</td>\n",
              "      <td>0.249082</td>\n",
              "      <td>0.034577999999999998</td>\n",
              "      <td>-0.069553000000000004</td>\n",
              "      <td>0.11555600000000001</td>\n",
              "      <td>-0.058006000000000002</td>\n",
              "      <td>0.075348999999999999</td>\n",
              "      <td>-0.039742</td>\n",
              "      <td>0.043875999999999998</td>\n",
              "    </tr>\n",
              "    <tr>\n",
              "      <th>4</th>\n",
              "      <td>ehecatl</td>\n",
              "      <td>-0.262042</td>\n",
              "      <td>-0.34154400000000001</td>\n",
              "      <td>0.020990999999999999</td>\n",
              "      <td>-0.098941000000000001</td>\n",
              "      <td>0.0065110000000000003</td>\n",
              "      <td>-0.40626099999999998</td>\n",
              "      <td>-0.011587</td>\n",
              "      <td>-0.046593999999999997</td>\n",
              "      <td>0.20002200000000001</td>\n",
              "      <td>...</td>\n",
              "      <td>-0.087499999999999994</td>\n",
              "      <td>-0.12940599999999999</td>\n",
              "      <td>-0.203127</td>\n",
              "      <td>-0.14116500000000001</td>\n",
              "      <td>-0.11533</td>\n",
              "      <td>-0.20407400000000001</td>\n",
              "      <td>-0.14868200000000001</td>\n",
              "      <td>-0.107582</td>\n",
              "      <td>-0.051375999999999998</td>\n",
              "      <td>0.16094600000000001</td>\n",
              "    </tr>\n",
              "  </tbody>\n",
              "</table>\n",
              "<p>5 rows × 129 columns</p>\n",
              "</div>"
            ],
            "text/plain": [
              "        0                     1                     2    \\\n",
              "0     igual             -0.021394  -0.22308600000000001   \n",
              "1   hermano  -0.27513300000000002             -0.290684   \n",
              "2  martajan  -0.39002700000000001  -0.18165300000000001   \n",
              "3     fuero  0.038670999999999997  -0.12618799999999999   \n",
              "4   ehecatl             -0.262042  -0.34154400000000001   \n",
              "\n",
              "                     3                      4                      5    \\\n",
              "0   0.081375000000000003   -0.44000800000000001    0.41420299999999999   \n",
              "1  -0.035325000000000002              -0.172819              -0.171268   \n",
              "2   -0.26608799999999999    0.13489100000000001              -0.105633   \n",
              "3   -0.12856699999999999   -0.10723100000000001   0.091522000000000006   \n",
              "4   0.020990999999999999  -0.098941000000000001  0.0065110000000000003   \n",
              "\n",
              "                    6                     7                      8    \\\n",
              "0  -0.37752400000000003  -0.40576099999999998  -0.080980999999999997   \n",
              "1   0.19417799999999999             -0.260795              -0.131469   \n",
              "2             -0.124488  -0.85740300000000003              -0.210449   \n",
              "3  -0.15167600000000001             -0.137239              -0.118836   \n",
              "4  -0.40626099999999998             -0.011587  -0.046593999999999997   \n",
              "\n",
              "                     9            ...                              119  \\\n",
              "0   -0.14319200000000001          ...                        -0.185254   \n",
              "1   -0.56005700000000003          ...             -0.77275700000000003   \n",
              "2    0.10071099999999999          ...             -0.30548500000000001   \n",
              "3  -0.078329999999999997          ...             -0.22109699999999999   \n",
              "4    0.20002200000000001          ...            -0.087499999999999994   \n",
              "\n",
              "                    120                  121                    122  \\\n",
              "0   0.17538200000000001             0.326658   0.094920000000000004   \n",
              "1   0.26308999999999999             0.152056   -0.34808899999999998   \n",
              "2  -0.43815399999999999  0.63305199999999995  -0.086624000000000007   \n",
              "3  0.062376000000000001             0.249082   0.034577999999999998   \n",
              "4  -0.12940599999999999            -0.203127   -0.14116500000000001   \n",
              "\n",
              "                     123                    124                    125  \\\n",
              "0   -0.69681999999999999  0.0026940000000000002   -0.45110899999999998   \n",
              "1    0.31774200000000002   0.093362000000000001   -0.53920000000000001   \n",
              "2   0.049135999999999999              -0.166021   -0.45888899999999999   \n",
              "3  -0.069553000000000004    0.11555600000000001  -0.058006000000000002   \n",
              "4               -0.11533   -0.20407400000000001   -0.14868200000000001   \n",
              "\n",
              "                     126                    127                    128  \n",
              "0   -0.47127799999999997   0.041342999999999998   -0.38586300000000001  \n",
              "1  -0.091986999999999999    0.24560499999999999   0.074918999999999999  \n",
              "2    0.21430399999999999  -0.089515999999999998  -0.083751000000000006  \n",
              "3   0.075348999999999999              -0.039742   0.043875999999999998  \n",
              "4              -0.107582  -0.051375999999999998    0.16094600000000001  \n",
              "\n",
              "[5 rows x 129 columns]"
            ]
          },
          "metadata": {
            "tags": []
          },
          "execution_count": 12
        }
      ]
    },
    {
      "metadata": {
        "id": "8MT69USPSQDr",
        "colab_type": "code",
        "colab": {
          "autoexec": {
            "startup": false,
            "wait_interval": 0
          },
          "output_extras": [
            {
              "item_id": 1
            }
          ],
          "base_uri": "https://localhost:8080/",
          "height": 253
        },
        "outputId": "b7579d7e-83d2-473a-d20a-8fd7a3d76bb5",
        "executionInfo": {
          "status": "ok",
          "timestamp": 1518136406659,
          "user_tz": 360,
          "elapsed": 304,
          "user": {
            "displayName": "José Luis Olivares Castillo",
            "photoUrl": "//lh3.googleusercontent.com/-TwmKeyobW8Q/AAAAAAAAAAI/AAAAAAAABMI/wWTS79noj8g/s50-c-k-no/photo.jpg",
            "userId": "111813722129821074214"
          }
        }
      },
      "cell_type": "code",
      "source": [
        "na_df.head()"
      ],
      "execution_count": 13,
      "outputs": [
        {
          "output_type": "execute_result",
          "data": {
            "text/html": [
              "<div>\n",
              "<style scoped>\n",
              "    .dataframe tbody tr th:only-of-type {\n",
              "        vertical-align: middle;\n",
              "    }\n",
              "\n",
              "    .dataframe tbody tr th {\n",
              "        vertical-align: top;\n",
              "    }\n",
              "\n",
              "    .dataframe thead th {\n",
              "        text-align: right;\n",
              "    }\n",
              "</style>\n",
              "<table border=\"1\" class=\"dataframe\">\n",
              "  <thead>\n",
              "    <tr style=\"text-align: right;\">\n",
              "      <th></th>\n",
              "      <th>0</th>\n",
              "      <th>1</th>\n",
              "      <th>2</th>\n",
              "      <th>3</th>\n",
              "      <th>4</th>\n",
              "      <th>5</th>\n",
              "      <th>6</th>\n",
              "      <th>7</th>\n",
              "      <th>8</th>\n",
              "      <th>9</th>\n",
              "      <th>...</th>\n",
              "      <th>119</th>\n",
              "      <th>120</th>\n",
              "      <th>121</th>\n",
              "      <th>122</th>\n",
              "      <th>123</th>\n",
              "      <th>124</th>\n",
              "      <th>125</th>\n",
              "      <th>126</th>\n",
              "      <th>127</th>\n",
              "      <th>128</th>\n",
              "    </tr>\n",
              "  </thead>\n",
              "  <tbody>\n",
              "    <tr>\n",
              "      <th>0</th>\n",
              "      <td>tihuitz</td>\n",
              "      <td>-0.34862100000000001</td>\n",
              "      <td>-0.017441000000000002</td>\n",
              "      <td>-0.15588399999999999</td>\n",
              "      <td>-0.418601</td>\n",
              "      <td>0.66680200000000001</td>\n",
              "      <td>-0.385216</td>\n",
              "      <td>-0.50760300000000003</td>\n",
              "      <td>0.11566899999999999</td>\n",
              "      <td>-0.21024999999999999</td>\n",
              "      <td>...</td>\n",
              "      <td>-0.57710700000000004</td>\n",
              "      <td>-0.059977999999999997</td>\n",
              "      <td>0.339285</td>\n",
              "      <td>0.037353999999999998</td>\n",
              "      <td>-0.34437600000000002</td>\n",
              "      <td>0.14106099999999999</td>\n",
              "      <td>0.23391799999999999</td>\n",
              "      <td>-0.402866</td>\n",
              "      <td>-0.36331599999999997</td>\n",
              "      <td>0.590777</td>\n",
              "    </tr>\n",
              "    <tr>\n",
              "      <th>1</th>\n",
              "      <td>quixtia</td>\n",
              "      <td>0.16300799999999999</td>\n",
              "      <td>-0.27805999999999997</td>\n",
              "      <td>-0.45352700000000001</td>\n",
              "      <td>-0.064904000000000003</td>\n",
              "      <td>0.025853999999999999</td>\n",
              "      <td>-0.084598000000000007</td>\n",
              "      <td>-0.17052600000000001</td>\n",
              "      <td>-0.20835000000000001</td>\n",
              "      <td>-0.17244899999999999</td>\n",
              "      <td>...</td>\n",
              "      <td>-0.52911399999999997</td>\n",
              "      <td>0.010237</td>\n",
              "      <td>0.43347400000000003</td>\n",
              "      <td>0.33776</td>\n",
              "      <td>-0.28758400000000001</td>\n",
              "      <td>0.015219999999999999</td>\n",
              "      <td>-0.41362900000000002</td>\n",
              "      <td>-0.15079600000000001</td>\n",
              "      <td>-0.15661600000000001</td>\n",
              "      <td>-0.0058370000000000002</td>\n",
              "    </tr>\n",
              "    <tr>\n",
              "      <th>2</th>\n",
              "      <td>quixtiz</td>\n",
              "      <td>-0.68947999999999998</td>\n",
              "      <td>-0.71475299999999997</td>\n",
              "      <td>-0.100995</td>\n",
              "      <td>-0.094793000000000002</td>\n",
              "      <td>1.0219720000000001</td>\n",
              "      <td>0.090782000000000002</td>\n",
              "      <td>-0.12973599999999999</td>\n",
              "      <td>0.22891500000000001</td>\n",
              "      <td>0.007809</td>\n",
              "      <td>...</td>\n",
              "      <td>-0.114314</td>\n",
              "      <td>-0.053691999999999997</td>\n",
              "      <td>-0.34385500000000002</td>\n",
              "      <td>-0.012789999999999999</td>\n",
              "      <td>0.16813800000000001</td>\n",
              "      <td>0.32291399999999998</td>\n",
              "      <td>0.185893</td>\n",
              "      <td>0.15793399999999999</td>\n",
              "      <td>-0.36958099999999999</td>\n",
              "      <td>0.330841</td>\n",
              "    </tr>\n",
              "    <tr>\n",
              "      <th>3</th>\n",
              "      <td>triarcas</td>\n",
              "      <td>-0.23940700000000001</td>\n",
              "      <td>0.28403299999999998</td>\n",
              "      <td>0.120585</td>\n",
              "      <td>-0.45263199999999998</td>\n",
              "      <td>-0.20120299999999999</td>\n",
              "      <td>-0.21177099999999999</td>\n",
              "      <td>-0.92786599999999997</td>\n",
              "      <td>-0.20966599999999999</td>\n",
              "      <td>0.43632500000000002</td>\n",
              "      <td>...</td>\n",
              "      <td>-1.1141220000000001</td>\n",
              "      <td>-0.185642</td>\n",
              "      <td>-0.066564999999999999</td>\n",
              "      <td>0.0038609999999999998</td>\n",
              "      <td>0.115815</td>\n",
              "      <td>-0.49563099999999999</td>\n",
              "      <td>0.35849300000000001</td>\n",
              "      <td>0.26531300000000002</td>\n",
              "      <td>-0.83515099999999998</td>\n",
              "      <td>-0.23581299999999999</td>\n",
              "    </tr>\n",
              "    <tr>\n",
              "      <th>4</th>\n",
              "      <td>peuh</td>\n",
              "      <td>-0.18180099999999999</td>\n",
              "      <td>-0.27399099999999998</td>\n",
              "      <td>-0.29842299999999999</td>\n",
              "      <td>0.112454</td>\n",
              "      <td>-0.17476700000000001</td>\n",
              "      <td>0.22684099999999999</td>\n",
              "      <td>-0.20003000000000001</td>\n",
              "      <td>-0.225804</td>\n",
              "      <td>-0.098054000000000002</td>\n",
              "      <td>...</td>\n",
              "      <td>-0.059520000000000003</td>\n",
              "      <td>-0.50554200000000005</td>\n",
              "      <td>0.070814000000000002</td>\n",
              "      <td>0.31834099999999999</td>\n",
              "      <td>-0.27979999999999999</td>\n",
              "      <td>0.314554</td>\n",
              "      <td>-0.47444799999999998</td>\n",
              "      <td>0.066695000000000004</td>\n",
              "      <td>-0.55999600000000005</td>\n",
              "      <td>-0.11031199999999999</td>\n",
              "    </tr>\n",
              "  </tbody>\n",
              "</table>\n",
              "<p>5 rows × 129 columns</p>\n",
              "</div>"
            ],
            "text/plain": [
              "        0                     1                      2    \\\n",
              "0   tihuitz  -0.34862100000000001  -0.017441000000000002   \n",
              "1   quixtia   0.16300799999999999   -0.27805999999999997   \n",
              "2   quixtiz  -0.68947999999999998   -0.71475299999999997   \n",
              "3  triarcas  -0.23940700000000001    0.28403299999999998   \n",
              "4      peuh  -0.18180099999999999   -0.27399099999999998   \n",
              "\n",
              "                    3                      4                     5    \\\n",
              "0  -0.15588399999999999              -0.418601   0.66680200000000001   \n",
              "1  -0.45352700000000001  -0.064904000000000003  0.025853999999999999   \n",
              "2             -0.100995  -0.094793000000000002    1.0219720000000001   \n",
              "3              0.120585   -0.45263199999999998  -0.20120299999999999   \n",
              "4  -0.29842299999999999               0.112454  -0.17476700000000001   \n",
              "\n",
              "                     6                     7                     8    \\\n",
              "0              -0.385216  -0.50760300000000003   0.11566899999999999   \n",
              "1  -0.084598000000000007  -0.17052600000000001  -0.20835000000000001   \n",
              "2   0.090782000000000002  -0.12973599999999999   0.22891500000000001   \n",
              "3   -0.21177099999999999  -0.92786599999999997  -0.20966599999999999   \n",
              "4    0.22684099999999999  -0.20003000000000001             -0.225804   \n",
              "\n",
              "                     9             ...                              119  \\\n",
              "0   -0.21024999999999999           ...             -0.57710700000000004   \n",
              "1   -0.17244899999999999           ...             -0.52911399999999997   \n",
              "2               0.007809           ...                        -0.114314   \n",
              "3    0.43632500000000002           ...              -1.1141220000000001   \n",
              "4  -0.098054000000000002           ...            -0.059520000000000003   \n",
              "\n",
              "                     120                    121                    122  \\\n",
              "0  -0.059977999999999997               0.339285   0.037353999999999998   \n",
              "1               0.010237    0.43347400000000003                0.33776   \n",
              "2  -0.053691999999999997   -0.34385500000000002  -0.012789999999999999   \n",
              "3              -0.185642  -0.066564999999999999  0.0038609999999999998   \n",
              "4   -0.50554200000000005   0.070814000000000002    0.31834099999999999   \n",
              "\n",
              "                    123                   124                   125  \\\n",
              "0  -0.34437600000000002   0.14106099999999999   0.23391799999999999   \n",
              "1  -0.28758400000000001  0.015219999999999999  -0.41362900000000002   \n",
              "2   0.16813800000000001   0.32291399999999998              0.185893   \n",
              "3              0.115815  -0.49563099999999999   0.35849300000000001   \n",
              "4  -0.27979999999999999              0.314554  -0.47444799999999998   \n",
              "\n",
              "                    126                   127                     128  \n",
              "0             -0.402866  -0.36331599999999997                0.590777  \n",
              "1  -0.15079600000000001  -0.15661600000000001  -0.0058370000000000002  \n",
              "2   0.15793399999999999  -0.36958099999999999                0.330841  \n",
              "3   0.26531300000000002  -0.83515099999999998    -0.23581299999999999  \n",
              "4  0.066695000000000004  -0.55999600000000005    -0.11031199999999999  \n",
              "\n",
              "[5 rows x 129 columns]"
            ]
          },
          "metadata": {
            "tags": []
          },
          "execution_count": 13
        }
      ]
    },
    {
      "metadata": {
        "id": "WBwadECaSReh",
        "colab_type": "code",
        "colab": {
          "autoexec": {
            "startup": false,
            "wait_interval": 0
          },
          "output_extras": [
            {
              "item_id": 1
            }
          ],
          "base_uri": "https://localhost:8080/",
          "height": 34
        },
        "outputId": "47366805-a9b6-45a5-f324-258a7984d8c3",
        "executionInfo": {
          "status": "ok",
          "timestamp": 1518136407590,
          "user_tz": 360,
          "elapsed": 293,
          "user": {
            "displayName": "José Luis Olivares Castillo",
            "photoUrl": "//lh3.googleusercontent.com/-TwmKeyobW8Q/AAAAAAAAAAI/AAAAAAAABMI/wWTS79noj8g/s50-c-k-no/photo.jpg",
            "userId": "111813722129821074214"
          }
        }
      },
      "cell_type": "code",
      "source": [
        "# obtener listas de semillas de español y náhuatl de entrenamiento\n",
        "semillas_esp = list(train_set[\"esp\"].values)\n",
        "semillas_nah = list(train_set[\"nah\"].values)\n",
        "semillas_esp.__len__()"
      ],
      "execution_count": 14,
      "outputs": [
        {
          "output_type": "execute_result",
          "data": {
            "text/plain": [
              "496"
            ]
          },
          "metadata": {
            "tags": []
          },
          "execution_count": 14
        }
      ]
    },
    {
      "metadata": {
        "id": "BOuEDFXKSUIL",
        "colab_type": "code",
        "colab": {
          "autoexec": {
            "startup": false,
            "wait_interval": 0
          },
          "output_extras": [
            {
              "item_id": 1
            }
          ],
          "base_uri": "https://localhost:8080/",
          "height": 34
        },
        "outputId": "787a25b6-bd13-43a0-fa3c-d87ca3c1d04f",
        "executionInfo": {
          "status": "ok",
          "timestamp": 1518136409814,
          "user_tz": 360,
          "elapsed": 1290,
          "user": {
            "displayName": "José Luis Olivares Castillo",
            "photoUrl": "//lh3.googleusercontent.com/-TwmKeyobW8Q/AAAAAAAAAAI/AAAAAAAABMI/wWTS79noj8g/s50-c-k-no/photo.jpg",
            "userId": "111813722129821074214"
          }
        }
      },
      "cell_type": "code",
      "source": [
        "# Obtener los índices que tienen las semillas de entrenamiento\n",
        "# dentro del dataframe de vectores\n",
        "index_esp = [int(es_df[es_df[0] == palabra].index[0])\n",
        "             for palabra in semillas_esp]\n",
        "index_nah = [int(na_df[na_df[0] == palabra].index[0])\n",
        "             for palabra in semillas_nah]\n",
        "\n",
        "print(len(index_esp), len(index_nah))"
      ],
      "execution_count": 15,
      "outputs": [
        {
          "output_type": "stream",
          "text": [
            "496 496\n"
          ],
          "name": "stdout"
        }
      ]
    },
    {
      "metadata": {
        "id": "NlZLVh-cOoEL",
        "colab_type": "code",
        "colab": {
          "autoexec": {
            "startup": false,
            "wait_interval": 0
          }
        }
      },
      "cell_type": "code",
      "source": [
        "# obtener listas de semillas de español y náhuatl de entrenamiento\n",
        "semillas_esp_test = list(set(test_set[\"esp\"].values))\n",
        "semillas_nah_test = list(set(test_set[\"nah\"].values))"
      ],
      "execution_count": 0,
      "outputs": []
    },
    {
      "metadata": {
        "id": "e0B65i6zSYO6",
        "colab_type": "code",
        "colab": {
          "autoexec": {
            "startup": false,
            "wait_interval": 0
          }
        }
      },
      "cell_type": "code",
      "source": [
        "def get_vectors(dataframe, index, format=np.float64):\n",
        "    \"\"\"\n",
        "    Retorna los vectores dentro del dataframe.\n",
        "    \n",
        "    Args:\n",
        "        dataframe (Pandas.dataframe): Contiene las palabras y su representación vectorial.\n",
        "        index (list): Contiene los índices que se necesitan del dataframe.\n",
        "        format (numpy format): Tipo flotante. Default float64.\n",
        "    \n",
        "    Returns:\n",
        "        Numpy array: Matriz con representaciones vectoriales.\n",
        "    \"\"\"\n",
        "\n",
        "    return np.array([(dataframe.iloc[_].loc[1::])\n",
        "                     for _ in index]).astype(format)"
      ],
      "execution_count": 0,
      "outputs": []
    },
    {
      "metadata": {
        "id": "YgY88xp5SadE",
        "colab_type": "code",
        "colab": {
          "autoexec": {
            "startup": false,
            "wait_interval": 0
          },
          "output_extras": [
            {
              "item_id": 1
            }
          ],
          "base_uri": "https://localhost:8080/",
          "height": 34
        },
        "outputId": "59ce342a-7310-4367-98c2-21d9bc8ba1e6",
        "executionInfo": {
          "status": "ok",
          "timestamp": 1518141914602,
          "user_tz": 360,
          "elapsed": 781,
          "user": {
            "displayName": "José Luis Olivares Castillo",
            "photoUrl": "//lh3.googleusercontent.com/-TwmKeyobW8Q/AAAAAAAAAAI/AAAAAAAABMI/wWTS79noj8g/s50-c-k-no/photo.jpg",
            "userId": "111813722129821074214"
          }
        }
      },
      "cell_type": "code",
      "source": [
        "# Obtener representaciones vectoriales de las semillas.\n",
        "es_vectores = get_vectors(es_df, index_esp)\n",
        "na_vectores = get_vectors(na_df, index_nah)\n",
        "len(es_vectores)"
      ],
      "execution_count": 79,
      "outputs": [
        {
          "output_type": "execute_result",
          "data": {
            "text/plain": [
              "496"
            ]
          },
          "metadata": {
            "tags": []
          },
          "execution_count": 79
        }
      ]
    },
    {
      "metadata": {
        "id": "PCw3eAmSWIp6",
        "colab_type": "code",
        "colab": {
          "autoexec": {
            "startup": false,
            "wait_interval": 0
          },
          "output_extras": [
            {
              "item_id": 1
            }
          ],
          "base_uri": "https://localhost:8080/",
          "height": 34
        },
        "outputId": "c7c6003d-d1f4-4330-f7eb-4daf598c7418",
        "executionInfo": {
          "status": "ok",
          "timestamp": 1518141915750,
          "user_tz": 360,
          "elapsed": 435,
          "user": {
            "displayName": "José Luis Olivares Castillo",
            "photoUrl": "//lh3.googleusercontent.com/-TwmKeyobW8Q/AAAAAAAAAAI/AAAAAAAABMI/wWTS79noj8g/s50-c-k-no/photo.jpg",
            "userId": "111813722129821074214"
          }
        }
      },
      "cell_type": "code",
      "source": [
        "es_vectores.shape[0]"
      ],
      "execution_count": 80,
      "outputs": [
        {
          "output_type": "execute_result",
          "data": {
            "text/plain": [
              "496"
            ]
          },
          "metadata": {
            "tags": []
          },
          "execution_count": 80
        }
      ]
    },
    {
      "metadata": {
        "id": "Ao1R8IH5urH2",
        "colab_type": "code",
        "colab": {
          "autoexec": {
            "startup": false,
            "wait_interval": 0
          }
        }
      },
      "cell_type": "code",
      "source": [
        "#index_dummy=[np.random.randint(24) for _ in range(150)]\n",
        "es_dummy = es_vectores\n",
        "na_dummy = na_vectores\n",
        "for i in range(es_dummy.shape[0]):\n",
        "    es_vectores=np.vstack((es_vectores,es_dummy[i][::-1]))\n",
        "    na_vectores=np.vstack((na_vectores,na_dummy[i][::-1]))\n",
        "    \n"
      ],
      "execution_count": 0,
      "outputs": []
    },
    {
      "metadata": {
        "id": "8zXoYw9pWYCv",
        "colab_type": "code",
        "colab": {
          "autoexec": {
            "startup": false,
            "wait_interval": 0
          },
          "output_extras": [
            {
              "item_id": 1
            }
          ],
          "base_uri": "https://localhost:8080/",
          "height": 34
        },
        "outputId": "a3f3104c-1b2c-43c2-a2f0-230e21ca2215",
        "executionInfo": {
          "status": "ok",
          "timestamp": 1518141751676,
          "user_tz": 360,
          "elapsed": 823,
          "user": {
            "displayName": "José Luis Olivares Castillo",
            "photoUrl": "//lh3.googleusercontent.com/-TwmKeyobW8Q/AAAAAAAAAAI/AAAAAAAABMI/wWTS79noj8g/s50-c-k-no/photo.jpg",
            "userId": "111813722129821074214"
          }
        }
      },
      "cell_type": "code",
      "source": [
        "es_vectores.shape,na_vectores.shape"
      ],
      "execution_count": 76,
      "outputs": [
        {
          "output_type": "execute_result",
          "data": {
            "text/plain": [
              "((992, 128), (992, 128))"
            ]
          },
          "metadata": {
            "tags": []
          },
          "execution_count": 76
        }
      ]
    },
    {
      "metadata": {
        "id": "Nu0-46UVs0l1",
        "colab_type": "code",
        "colab": {
          "autoexec": {
            "startup": false,
            "wait_interval": 0
          }
        }
      },
      "cell_type": "code",
      "source": [
        "def next_batch(x,y, step, batch_size):\n",
        "    \"\"\"Función para obtener batches de un conjunto de datos\n",
        "    \n",
        "    Arguments:\n",
        "        x {numpyarray} -- Conjunto de datos (inputs).\n",
        "        y {numpyarray} -- Conjunto de datos (targets).\n",
        "        step {int} -- Batches.\n",
        "        batch_size {int} -- Tamaño del batch.\n",
        "    \n",
        "    Returns:\n",
        "        numpyarray -- Subconjunto de tamaño batch_size.\n",
        "    \"\"\"\n",
        "\n",
        "    return x[batch_size * step:batch_size * step + batch_size],y[batch_size * step:batch_size * step + batch_size]"
      ],
      "execution_count": 0,
      "outputs": []
    },
    {
      "metadata": {
        "id": "cvOvkhPxSeA1",
        "colab_type": "text"
      },
      "cell_type": "markdown",
      "source": [
        "# Entrenamiento"
      ]
    },
    {
      "metadata": {
        "id": "xnDpufmaSlAw",
        "colab_type": "code",
        "colab": {
          "autoexec": {
            "startup": false,
            "wait_interval": 0
          },
          "output_extras": [
            {
              "item_id": 16
            }
          ],
          "base_uri": "https://localhost:8080/",
          "height": 340
        },
        "outputId": "ec3a14ab-2d56-467a-8fe3-a8185b839622"
      },
      "cell_type": "code",
      "source": [
        "tf.set_random_seed(42)\n",
        "tf.reset_default_graph()\n",
        "print(\"TensorFlow v{}\".format(tf.__version__))\n",
        "print(tf.test.gpu_device_name())\n",
        "\n",
        "LEARNING_RATE = 1\n",
        "EPOCHS = 100000\n",
        "# Dimensión de vectores de entrada (número de neuronas en capa de entrada).\n",
        "NODES_INPUT = es_vectores[0].size\n",
        "\n",
        "# Número de neuronas en capas ocultas.\n",
        "NODES_H1 = 195  #70 - 20 - 15\n",
        "NODES_H2 = 140  # 42 - 20\n",
        "NODES_H3 = 200  # 42 - 20\n",
        "NODES_H4 = 200  # 42 - 20\n",
        "NODES_OUTPUT = na_vectores[0].size\n",
        "XAVIER_INIT = True\n",
        "HE_INIT = np.sqrt(2 / NODES_INPUT)\n",
        "BATCHSIZE = 124\n",
        "INIT = {\"HE\":tf.keras.initializers.he_uniform(seed=42),\n",
        "        \"XAVIER\":tf.contrib.layers.xavier_initializer(dtype=tf.float64)}\n",
        "\n",
        "\n",
        "model = \"model2250\"\n",
        "\n",
        "\n",
        "with tf.name_scope('input'):\n",
        "    # El valor None indica que se puede modificar la dimensión de los tensores\n",
        "    # por si se usan todos los vectores o batches.\n",
        "    X = tf.placeholder(shape=[None, NODES_INPUT],dtype=tf.float64, name='input_es')\n",
        "    y = tf.placeholder(shape=[None, NODES_OUTPUT],dtype=tf.float64, name='target_na')\n",
        "\n",
        "kprob = tf.placeholder(tf.float64,name='dropout_prob')\n",
        "    \n",
        "def activation_function(layer, act, name, alpha=tf.constant(0.2, dtype=tf.float64)):\n",
        "    if act == \"leaky_relu\":\n",
        "        return tf.nn.leaky_relu(layer, alpha, name=name)\n",
        "    elif act == \"softmax\":\n",
        "        return tf.nn.softmax(layer, name=name)\n",
        "    elif act == \"sigmoid\":\n",
        "        return tf.nn.sigmoid(layer, name=name)\n",
        "    elif act == \"tanh\":\n",
        "        return tf.nn.tanh(layer, name=name)\n",
        "    elif act == \"elu\":\n",
        "        return tf.nn.elu(layer,name=name)\n",
        "    return tf.nn.relu(layer, name=name)\n",
        "\n",
        "\n",
        "# Se definen las capas.\n",
        "'''W1 = tf.get_variable(name=\"W1\", shape=[NODES_INPUT, NODES_OUTPUT], dtype=tf.float64,\n",
        "                                initializer=tf.contrib.layers.xavier_initializer(dtype=tf.float64),\n",
        "                                use_resource=True,\n",
        "                                regularizer = tf.contrib.layers.l2_regularizer(scale=0.1))\n",
        "b1 = tf.Variable(tf.constant(0.1, shape=[NODES_OUTPUT], dtype=tf.float64), name=\"b1\")\n",
        "fc1 = activation_function(tf.nn.xw_plus_b(X,W1,b1), \"relu\", \"fc1\")\n",
        "\n",
        "\n",
        "W2 = tf.get_variable(name=\"W2\", shape=[NODES_H1, NODES_H2], dtype=tf.float64,\n",
        "                                initializer=tf.contrib.layers.xavier_initializer(dtype=tf.float64),\n",
        "                                use_resource=True,\n",
        "                                regularizer = tf.contrib.layers.l2_regularizer(scale=0.1))\n",
        "b2 = tf.Variable(tf.constant(0.1, shape=[NODES_H2], dtype=tf.float64), name=\"b2\")\n",
        "fc2 = activation_function(tf.nn.xw_plus_b(fc1,W2,b2), \"relu\", \"fc2\")\n",
        "\n",
        "\n",
        "\n",
        "b_na = tf.Variable(tf.constant(0.1, shape=[NODES_OUTPUT], dtype=tf.float64), name=\"b_na\")\n",
        "nah_predicted = tf.nn.xw_plus_b(fc1,tf.transpose(W1),b_na)'''\n",
        "'''\n",
        "fc1 = tf.layers.dense(X,NODES_H1,activation=tf.nn.sigmoid,\n",
        "                      kernel_regularizer=tf.contrib.layers.l2_regularizer(scale=0.1),\n",
        "                      kernel_initializer=tf.contrib.layers.xavier_initializer(dtype=tf.float64))\n",
        "\n",
        "fc2 = tf.layers.dense(fc1,NODES_H2,activation=tf.nn.sigmoid,\n",
        "                      kernel_regularizer=tf.contrib.layers.l2_regularizer(scale=0.1),\n",
        "                      kernel_initializer=tf.contrib.layers.xavier_initializer(dtype=tf.float64))\n",
        "\n",
        "fc3 = tf.layers.dense(fc1,NODES_H3,activation=tf.nn.sigmoid,\n",
        "                      kernel_regularizer=tf.contrib.layers.l2_regularizer(scale=0.1),\n",
        "                      kernel_initializer=tf.contrib.layers.xavier_initializer(dtype=tf.float64))\n",
        "nah_predicted = tf.layers.dense(fc1,NODES_OUTPUT,activation=None,\n",
        "                               kernel_regularizer=tf.contrib.layers.l2_regularizer(scale=0.1),\n",
        "                               kernel_initializer=tf.contrib.layers.xavier_initializer(dtype=tf.float64))\n",
        "\n",
        "'''\n",
        "'''W1 = tf.get_variable(name=\"W1\", shape=[NODES_INPUT, NODES_H1], dtype=tf.float64,\n",
        "                                initializer=INIT[\"HE\"],\n",
        "                                use_resource=True,\n",
        "                                regularizer = tf.contrib.layers.l2_regularizer(scale=0.1))'''\n",
        "W1 = tf.Variable(tf.truncated_normal([NODES_INPUT, NODES_H1], stddev=0.01,dtype=tf.float64), name=\"W1\")\n",
        "b1 = tf.Variable(tf.constant(0.1,shape=[NODES_H1], dtype=tf.float64), name=\"b1\")\n",
        "fc1 = activation_function(tf.nn.xw_plus_b(X,W1,b1), \"tanh\", \"fc1\")\n",
        "#fc1 = tf.nn.dropout(fc1,kprob,seed=42)\n",
        "\n",
        "'''W_na = tf.get_variable(name=\"W_na\",shape=[NODES_H1,NODES_OUTPUT],dtype=tf.float64,\n",
        "                                initializer=INIT[\"HE\"],\n",
        "                                use_resource=True,\n",
        "                                regularizer=tf.contrib.layers.l2_regularizer(scale=0.1))'''\n",
        "W_na = tf.transpose(W1)\n",
        "b2 = tf.Variable(tf.constant(0.1,shape=[NODES_OUTPUT], dtype=tf.float64), name=\"b2\")\n",
        "nah_predicted = tf.nn.xw_plus_b(fc1,W_na,b2)\n",
        "\n",
        "\n",
        "reg_losses = tf.get_collection(tf.GraphKeys.REGULARIZATION_LOSSES)\n",
        "reg_constant = 0.01  # Choose an appropriate one.\n",
        "\n",
        "loss = tf.reduce_mean(tf.squared_difference(nah_predicted, y), name=\"loss\")\n",
        "\n",
        "#loss = loss + reg_constant*sum(reg_losses)\n",
        "tf.summary.scalar(\"loss\", loss)\n",
        "\n",
        "\n",
        "#optimiser = tf.train.MomentumOptimizer(learning_rate=LEARNING_RATE, momentum=0.5)\n",
        "optimiser = tf.train.AdagradOptimizer(learning_rate=LEARNING_RATE)\n",
        "#train_op = tf.train.AdagradOptimizer(learning_rate=LEARNING_RATE).minimize(loss)\n",
        "\n",
        "\n",
        "# Compute gradients\n",
        "gradients, variables = zip(*optimiser.compute_gradients(loss))\n",
        "\n",
        "gradients, _ = tf.clip_by_global_norm(gradients, 5.0)\n",
        "\n",
        "# Apply processed gradients to optimizer.\n",
        "train_op = optimiser.apply_gradients(zip(gradients, variables))\n",
        "\n",
        "\n",
        "# Accuracy \n",
        "with tf.name_scope('accuracy'):\n",
        "    with tf.name_scope('correct_prediction'):\n",
        "        # Se compara salida de la red neuronal con el vector objetivo.\n",
        "        correct_prediction = tf.equal(tf.argmax(nah_predicted, 1), tf.argmax(y, 1))\n",
        "    with tf.name_scope('accuracy'):\n",
        "        # Se calcula la precisión.\n",
        "        accuracy = tf.reduce_mean(tf.cast(correct_prediction, tf.float64))\n",
        "    tf.summary.scalar('accuracy', accuracy)\n",
        "\n",
        "LOGPATH = \".logs/model\"\n",
        "print(\"logpath:\", LOGPATH)\n",
        "\n",
        "\n",
        "# Se crea la sesión\n",
        "sess = tf.Session(config=tf.ConfigProto(log_device_placement=True))\n",
        "\n",
        "# Se ponen los histogramas y valores de las gráficas en una sola variable.\n",
        "summaryMerged = tf.summary.merge_all()\n",
        "\n",
        "# Escribir a disco el grafo generado y las gráficas para visualizar en TensorBoard.\n",
        "writer = tf.summary.FileWriter(LOGPATH, sess.graph)\n",
        "\n",
        "# Se inicializan los valores de los tensores.\n",
        "init = tf.global_variables_initializer()\n",
        "\n",
        "# Add ops to save and restore all the variables.\n",
        "saver = tf.train.Saver()\n",
        "\n",
        "# Ejecutando sesión\n",
        "sess.run(init)\n",
        "\n",
        "\n",
        "\n",
        "for j in range(EPOCHS):\n",
        "    \n",
        "    #for i in range(0,4):\n",
        "    #es_batch, na_batch = next_batch(es_vectores,na_vectores, i, 128)\n",
        "    _loss, _, sumOut = sess.run([loss, train_op,summaryMerged], feed_dict={\n",
        "                        X: es_vectores, y: na_vectores})\n",
        "\n",
        "    writer.add_summary(sumOut, j)\n",
        "\n",
        "    if (j % 700) == 0:\n",
        "        #train_accuracy = accuracy.eval(session=sess, feed_dict={X: es_vectores,y: na_vectores})\n",
        "        print(\"Epoch:\", j, \"/\", EPOCHS, \"\\tLoss:\",_loss)#, \"\\tAccuracy:\", train_accuracy)\n",
        "        \n",
        "\n",
        "SAVE_PATH = \"./\"+model+\".ckpt\"\n",
        "print(\"save path\",SAVE_PATH)\n",
        "save_model = saver.save(sess, SAVE_PATH)\n",
        "print(\"Model saved in file: %s\", SAVE_PATH)\n",
        "writer.close()"
      ],
      "execution_count": 0,
      "outputs": [
        {
          "output_type": "stream",
          "text": [
            "TensorFlow v1.4.1\n",
            "/device:GPU:0\n",
            "logpath: .logs/model\n",
            "Epoch: 0 / 100000 \tLoss: 0.16712626564883717\n",
            "Epoch: 700 / 100000 \tLoss: 0.020266598638513315\n",
            "Epoch: 1400 / 100000 \tLoss: 0.018509332920117985\n",
            "Epoch: 2100 / 100000 \tLoss: 0.018260992456102118\n",
            "Epoch: 2800 / 100000 \tLoss: 0.01804468259611213\n",
            "Epoch: 3500 / 100000 \tLoss: 0.017845029919534884\n",
            "Epoch: 4200 / 100000 \tLoss: 0.017659432642322736\n",
            "Epoch: 4900 / 100000 \tLoss: 0.017486641793241862\n",
            "Epoch: 5600 / 100000 \tLoss: 0.017325150023914094\n",
            "Epoch: 6300 / 100000 \tLoss: 0.017173306319856033\n",
            "Epoch: 7000 / 100000 \tLoss: 0.0170296208497302\n",
            "Epoch: 7700 / 100000 \tLoss: 0.01689294034621382\n",
            "Epoch: 8400 / 100000 \tLoss: 0.016762415778970842\n",
            "Epoch: 9100 / 100000 \tLoss: 0.016637408473861238\n",
            "Epoch: 9800 / 100000 \tLoss: 0.016517433173731555\n",
            "Epoch: 10500 / 100000 \tLoss: 0.016402127772759092\n"
          ],
          "name": "stdout"
        }
      ]
    },
    {
      "metadata": {
        "id": "lQzo32LcSrap",
        "colab_type": "text"
      },
      "cell_type": "markdown",
      "source": [
        "# Descargar modelo generado"
      ]
    },
    {
      "metadata": {
        "id": "aljwsHu_Sy5H",
        "colab_type": "code",
        "colab": {
          "autoexec": {
            "startup": false,
            "wait_interval": 0
          }
        }
      },
      "cell_type": "code",
      "source": [
        "files.download(\"/content/checkpoint\")"
      ],
      "execution_count": 0,
      "outputs": []
    },
    {
      "metadata": {
        "id": "Z-NFAordS3bX",
        "colab_type": "code",
        "colab": {
          "autoexec": {
            "startup": false,
            "wait_interval": 0
          }
        }
      },
      "cell_type": "code",
      "source": [
        "files.download(\"/content/\"+model+\".ckpt.meta\")"
      ],
      "execution_count": 0,
      "outputs": []
    },
    {
      "metadata": {
        "id": "3BYVQSevS2Mz",
        "colab_type": "code",
        "colab": {
          "autoexec": {
            "startup": false,
            "wait_interval": 0
          }
        }
      },
      "cell_type": "code",
      "source": [
        "files.download(\"/content/\"+model+\".ckpt.index\")"
      ],
      "execution_count": 0,
      "outputs": []
    },
    {
      "metadata": {
        "id": "p6eFKjMjS1PE",
        "colab_type": "code",
        "colab": {
          "autoexec": {
            "startup": false,
            "wait_interval": 0
          }
        }
      },
      "cell_type": "code",
      "source": [
        "files.download(\"/content/\"+model+\".ckpt.data-00000-of-00001\")"
      ],
      "execution_count": 0,
      "outputs": []
    },
    {
      "metadata": {
        "id": "3rcNwAEftSoJ",
        "colab_type": "code",
        "colab": {
          "autoexec": {
            "startup": false,
            "wait_interval": 0
          }
        }
      },
      "cell_type": "code",
      "source": [
        "t"
      ],
      "execution_count": 0,
      "outputs": []
    }
  ]
}