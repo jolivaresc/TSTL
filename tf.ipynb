{
 "cells": [
  {
   "cell_type": "markdown",
   "metadata": {
    "deletable": true,
    "editable": true
   },
   "source": [
    "# basics"
   ]
  },
  {
   "cell_type": "markdown",
   "metadata": {
    "deletable": true,
    "editable": true
   },
   "source": [
    "$$a=(b+c)*(c+2)$$\n",
    "\n",
    "![title](graph.png)\n",
    "\n",
    "* http://adventuresinmachinelearning.com/python-tensorflow-tutorial/\n",
    "* http://adventuresinmachinelearning.com/neural-networks-tutorial/\n"
   ]
  },
  {
   "cell_type": "code",
   "execution_count": 1,
   "metadata": {
    "collapsed": true,
    "deletable": true,
    "editable": true
   },
   "outputs": [],
   "source": [
    "import tensorflow as tf\n",
    "import numpy as np\n",
    "\n",
    "# first, create a TensorFlow constant\n",
    "const = tf.constant(2.0, name=\"const\")\n",
    "    \n",
    "# create TensorFlow variables\n",
    "#b = tf.Variable(2.0, name='b')\n",
    "b = tf.placeholder(tf.float32, [None, 1], name='b')\n",
    "c = tf.Variable(1.0, name='c')"
   ]
  },
  {
   "cell_type": "code",
   "execution_count": 2,
   "metadata": {
    "collapsed": true,
    "deletable": true,
    "editable": true
   },
   "outputs": [],
   "source": [
    "# now create some operations\n",
    "d = tf.add(b, c, name='d')\n",
    "e = tf.add(c, const, name='e')\n",
    "a = tf.multiply(d, e, name='a')\n",
    "# create TensorFlow variables\n"
   ]
  },
  {
   "cell_type": "code",
   "execution_count": 3,
   "metadata": {
    "collapsed": true,
    "deletable": true,
    "editable": true
   },
   "outputs": [],
   "source": [
    "# setup the variable initialisation\n",
    "init_op = tf.global_variables_initializer()"
   ]
  },
  {
   "cell_type": "code",
   "execution_count": 4,
   "metadata": {
    "collapsed": false,
    "deletable": true,
    "editable": true
   },
   "outputs": [
    {
     "name": "stdout",
     "output_type": "stream",
     "text": [
      "[[  3.]\n",
      " [  6.]\n",
      " [  9.]\n",
      " [ 12.]\n",
      " [ 15.]\n",
      " [ 18.]\n",
      " [ 21.]\n",
      " [ 24.]\n",
      " [ 27.]\n",
      " [ 30.]]\n"
     ]
    }
   ],
   "source": [
    "\n",
    "sess = tf.Session()\n",
    "\n",
    "sess.run(init_op)\n",
    "'''d__ = sess.run(d)\n",
    "e__ = sess.run(e)\n",
    "a__= sess.run(a)'''\n",
    "a_out = sess.run(a, feed_dict={b: np.arange(0, 10)[:, np.newaxis]})\n",
    "#print(\"a:{0}\\td:{1}\\te:{2}\\ta_out:{3}\".format(a__,d__,e__,a_out))\n",
    "print(a_out)\n"
   ]
  },
  {
   "cell_type": "code",
   "execution_count": 29,
   "metadata": {
    "collapsed": false,
    "deletable": true,
    "editable": true
   },
   "outputs": [
    {
     "data": {
      "text/plain": [
       "array([[0],\n",
       "       [1],\n",
       "       [2],\n",
       "       [3],\n",
       "       [4],\n",
       "       [5],\n",
       "       [6],\n",
       "       [7],\n",
       "       [8],\n",
       "       [9]])"
      ]
     },
     "execution_count": 29,
     "metadata": {},
     "output_type": "execute_result"
    }
   ],
   "source": [
    "np.arange(0, 10)[:, np.newaxis]"
   ]
  },
  {
   "cell_type": "code",
   "execution_count": 109,
   "metadata": {
    "collapsed": false,
    "deletable": true,
    "editable": true
   },
   "outputs": [],
   "source": [
    "es = 2 * np.random.random((10,15)) - 1\n",
    "#na = 2 * np.random.random((10,10)) - 1\n",
    "na = 2 * np.random.random((10,1)) -2\n"
   ]
  },
  {
   "cell_type": "code",
   "execution_count": 110,
   "metadata": {
    "collapsed": false,
    "deletable": true,
    "editable": true
   },
   "outputs": [
    {
     "data": {
      "text/plain": [
       "array([[ 0.13608912,  0.85119328, -0.85792788, -0.8257414 , -0.95956321,\n",
       "         0.66523969,  0.5563135 ,  0.7400243 ,  0.95723668,  0.59831713,\n",
       "        -0.07704128,  0.56105835, -0.76345115,  0.27984204, -0.71329343],\n",
       "       [ 0.88933783,  0.04369664, -0.17067612, -0.47088878,  0.54846738,\n",
       "        -0.08769934,  0.1368679 , -0.9624204 ,  0.23527099,  0.22419145,\n",
       "         0.23386799,  0.88749616,  0.3636406 , -0.2809842 , -0.12593609],\n",
       "       [ 0.39526239, -0.87954906,  0.33353343,  0.34127574, -0.57923488,\n",
       "        -0.7421474 , -0.3691433 , -0.27257846,  0.14039354, -0.12279697,\n",
       "         0.97674768, -0.79591038, -0.58224649, -0.67738096,  0.30621665],\n",
       "       [-0.49341679, -0.06737845, -0.51114882, -0.68206083, -0.77924972,\n",
       "         0.31265918, -0.7236341 , -0.60683528, -0.26254966,  0.64198646,\n",
       "        -0.80579745,  0.67588981, -0.80780318,  0.95291893, -0.0626976 ],\n",
       "       [ 0.95352218,  0.20969104,  0.47852716, -0.92162442, -0.43438607,\n",
       "        -0.75960688, -0.4077196 , -0.76254456, -0.36403364, -0.17147401,\n",
       "        -0.87170501,  0.38494424,  0.13320291, -0.46922102,  0.04649611],\n",
       "       [-0.81211898,  0.15189299,  0.8585924 , -0.3628621 ,  0.33482076,\n",
       "        -0.73640428,  0.43265441, -0.42118781, -0.63361728,  0.17302587,\n",
       "        -0.95978491,  0.65788006, -0.99060905,  0.35563307, -0.45998405],\n",
       "       [ 0.47038804,  0.92437709, -0.50249371,  0.15231467,  0.18408386,\n",
       "         0.14450381, -0.55383673,  0.90549802, -0.10574924,  0.69281734,\n",
       "         0.39895855, -0.4051261 ,  0.62759564, -0.20698852,  0.76220639],\n",
       "       [ 0.16254575,  0.76347072,  0.38506318,  0.45050856,  0.00264876,\n",
       "         0.91216727,  0.2879804 , -0.1522899 ,  0.21278643, -0.9616136 ,\n",
       "        -0.39685037,  0.32034707, -0.41984479,  0.23603086, -0.1424626 ],\n",
       "       [-0.72905187, -0.40343535,  0.13992982,  0.18174552,  0.1486505 ,\n",
       "         0.30640164,  0.30420654, -0.13716313,  0.79309319, -0.26487626,\n",
       "        -0.12827015,  0.78384671,  0.61238798,  0.40777717, -0.79954623],\n",
       "       [ 0.83896523,  0.4284826 ,  0.99769401, -0.70110339,  0.73625211,\n",
       "        -0.67501413,  0.23111913, -0.75236003,  0.69601646,  0.61463792,\n",
       "         0.13820148, -0.18563341, -0.86166601,  0.39485755, -0.09291463]])"
      ]
     },
     "execution_count": 110,
     "metadata": {},
     "output_type": "execute_result"
    }
   ],
   "source": [
    "es"
   ]
  },
  {
   "cell_type": "code",
   "execution_count": 111,
   "metadata": {
    "collapsed": false,
    "deletable": true,
    "editable": true
   },
   "outputs": [
    {
     "data": {
      "text/plain": [
       "array([[-0.],\n",
       "       [-0.],\n",
       "       [-0.],\n",
       "       [-0.],\n",
       "       [-1.],\n",
       "       [-1.],\n",
       "       [-0.],\n",
       "       [-1.],\n",
       "       [-0.],\n",
       "       [-1.]])"
      ]
     },
     "execution_count": 111,
     "metadata": {},
     "output_type": "execute_result"
    }
   ],
   "source": [
    "np.ceil(na)"
   ]
  },
  {
   "cell_type": "markdown",
   "metadata": {
    "deletable": true,
    "editable": true
   },
   "source": [
    "https://stackoverflow.com/questions/41704484/what-is-difference-between-tf-truncated-normal-and-tf-random-normal#43726140"
   ]
  },
  {
   "cell_type": "code",
   "execution_count": 80,
   "metadata": {
    "collapsed": true,
    "deletable": true,
    "editable": true
   },
   "outputs": [],
   "source": [
    "# Neural network variables\n",
    "learning_rate = 0.1\n",
    "epochs = 10\n",
    "batch_size = 100\n",
    "\n",
    "NODES_INPUT = 15\n",
    "NODES_H1 = 11\n",
    "NODES_H2 = 15\n",
    "NODES_OUPUT = 10\n",
    "\n"
   ]
  },
  {
   "cell_type": "code",
   "execution_count": 81,
   "metadata": {
    "collapsed": true,
    "deletable": true,
    "editable": true
   },
   "outputs": [],
   "source": [
    "# entrada: x -> español\n",
    "# salida: y -> náhuatl\n",
    "#es = tf.placeholder(tf.float64,[None,NODES_INPUT])\n",
    "#na = tf.placeholder(tf.float64,[None,NODES_OUPUT])\n",
    "\n",
    "es = tf.placeholder(shape=[None,NODES_INPUT], dtype=tf.float32)\n",
    "na = tf.placeholder(shape=[None,NODES_OUPUT], dtype=tf.float32)"
   ]
  },
  {
   "cell_type": "code",
   "execution_count": 82,
   "metadata": {
    "collapsed": false,
    "deletable": true,
    "editable": true
   },
   "outputs": [],
   "source": [
    "# capa oculta\n",
    "W1 = tf.Variable(tf.random_normal([NODES_INPUT,NODES_H1],stddev=0.01),name = 'W1')\n",
    "b1 = tf.Variable(tf.random_normal([NODES_H1]), name = 'b1')\n",
    "# capa de salida\n",
    "W2 = tf.Variable(tf.random_normal([NODES_H1,NODES_OUPUT],stddev=0.01),name = 'W2')\n",
    "b2 = tf.Variable(tf.random_normal([NODES_OUPUT]), name = 'b2')\n"
   ]
  },
  {
   "cell_type": "code",
   "execution_count": 83,
   "metadata": {
    "collapsed": false,
    "deletable": true,
    "editable": true
   },
   "outputs": [],
   "source": [
    "# calcular salida de capa oculta\n",
    "# h(x) = x*W + bias\n",
    "hidden_output = tf.add(tf.matmul(es, W1), b1)\n",
    "# función de activación ReLU\n",
    "hidden_output = tf.nn.relu(hidden_output)"
   ]
  },
  {
   "cell_type": "code",
   "execution_count": 84,
   "metadata": {
    "collapsed": false,
    "deletable": true,
    "editable": true
   },
   "outputs": [],
   "source": [
    "# calcular salida la NN\n",
    "na_predicted = tf.nn.softmax(tf.add(tf.matmul(hidden_output, W2),b2))"
   ]
  },
  {
   "cell_type": "code",
   "execution_count": 90,
   "metadata": {
    "collapsed": false,
    "deletable": true,
    "editable": true
   },
   "outputs": [],
   "source": [
    "# costo\n",
    "y_clipped = tf.clip_by_value(na_predicted, 1e-10, 0.9999999)\n",
    "cross_entropy = -tf.reduce_mean(tf.reduce_sum(na * tf.log(y_clipped)\n",
    "                         + (1 - na) * tf.log(1 - y_clipped), axis=1))"
   ]
  },
  {
   "cell_type": "code",
   "execution_count": 91,
   "metadata": {
    "collapsed": false,
    "deletable": true,
    "editable": true
   },
   "outputs": [],
   "source": [
    "# optimiser\n",
    "optimiser = tf.train.GradientDescentOptimizer(learning_rate=learning_rate).minimize(cross_entropy)"
   ]
  },
  {
   "cell_type": "code",
   "execution_count": 93,
   "metadata": {
    "collapsed": false,
    "deletable": true,
    "editable": true
   },
   "outputs": [],
   "source": [
    "# finally setup the initialisation operator\n",
    "init_op = tf.global_variables_initializer()\n",
    "\n",
    "# define an accuracy assessment operation\n",
    "correct_prediction = tf.equal(tf.argmax(na, 1), tf.argmax(na_predicted, 1))\n",
    "accuracy = tf.reduce_mean(tf.cast(correct_prediction, tf.float32))"
   ]
  },
  {
   "cell_type": "code",
   "execution_count": 101,
   "metadata": {
    "collapsed": false,
    "deletable": true,
    "editable": true
   },
   "outputs": [
    {
     "ename": "TypeError",
     "evalue": "The value of a feed cannot be a tf.Tensor object. Acceptable feed values include Python scalars, strings, lists, numpy ndarrays, or TensorHandles.",
     "output_type": "error",
     "traceback": [
      "\u001b[0;31m---------------------------------------------------------------------------\u001b[0m",
      "\u001b[0;31mTypeError\u001b[0m                                 Traceback (most recent call last)",
      "\u001b[0;32m<ipython-input-101-6451c98cff8d>\u001b[0m in \u001b[0;36m<module>\u001b[0;34m()\u001b[0m\n\u001b[1;32m      7\u001b[0m     \u001b[0;32mfor\u001b[0m \u001b[0mi\u001b[0m \u001b[0;32min\u001b[0m \u001b[0mrange\u001b[0m\u001b[0;34m(\u001b[0m\u001b[0mint\u001b[0m\u001b[0;34m(\u001b[0m\u001b[0;36m100\u001b[0m\u001b[0;34m)\u001b[0m\u001b[0;34m)\u001b[0m\u001b[0;34m:\u001b[0m\u001b[0;34m\u001b[0m\u001b[0m\n\u001b[1;32m      8\u001b[0m         _,c = sess.run([optimiser,cross_entropy],\n\u001b[0;32m----> 9\u001b[0;31m                        feed_dict={es:es,na:na})\n\u001b[0m\u001b[1;32m     10\u001b[0m         \u001b[0mavg_cost\u001b[0m \u001b[0;34m+=\u001b[0m \u001b[0mc\u001b[0m \u001b[0;34m/\u001b[0m \u001b[0mtotal_batch\u001b[0m\u001b[0;34m\u001b[0m\u001b[0m\n\u001b[1;32m     11\u001b[0m         \u001b[0mprint\u001b[0m\u001b[0;34m(\u001b[0m\u001b[0;34m\"Epoch:\"\u001b[0m\u001b[0;34m,\u001b[0m \u001b[0;34m(\u001b[0m\u001b[0mepoch\u001b[0m \u001b[0;34m+\u001b[0m \u001b[0;36m1\u001b[0m\u001b[0;34m)\u001b[0m\u001b[0;34m,\u001b[0m \u001b[0;34m\"cost =\"\u001b[0m\u001b[0;34m,\u001b[0m \u001b[0;34m\"{:.3f}\"\u001b[0m\u001b[0;34m.\u001b[0m\u001b[0mformat\u001b[0m\u001b[0;34m(\u001b[0m\u001b[0mavg_cost\u001b[0m\u001b[0;34m)\u001b[0m\u001b[0;34m)\u001b[0m\u001b[0;34m\u001b[0m\u001b[0m\n",
      "\u001b[0;32m/usr/local/lib/python3.5/dist-packages/tensorflow/python/client/session.py\u001b[0m in \u001b[0;36mrun\u001b[0;34m(self, fetches, feed_dict, options, run_metadata)\u001b[0m\n\u001b[1;32m    887\u001b[0m     \u001b[0;32mtry\u001b[0m\u001b[0;34m:\u001b[0m\u001b[0;34m\u001b[0m\u001b[0m\n\u001b[1;32m    888\u001b[0m       result = self._run(None, fetches, feed_dict, options_ptr,\n\u001b[0;32m--> 889\u001b[0;31m                          run_metadata_ptr)\n\u001b[0m\u001b[1;32m    890\u001b[0m       \u001b[0;32mif\u001b[0m \u001b[0mrun_metadata\u001b[0m\u001b[0;34m:\u001b[0m\u001b[0;34m\u001b[0m\u001b[0m\n\u001b[1;32m    891\u001b[0m         \u001b[0mproto_data\u001b[0m \u001b[0;34m=\u001b[0m \u001b[0mtf_session\u001b[0m\u001b[0;34m.\u001b[0m\u001b[0mTF_GetBuffer\u001b[0m\u001b[0;34m(\u001b[0m\u001b[0mrun_metadata_ptr\u001b[0m\u001b[0;34m)\u001b[0m\u001b[0;34m\u001b[0m\u001b[0m\n",
      "\u001b[0;32m/usr/local/lib/python3.5/dist-packages/tensorflow/python/client/session.py\u001b[0m in \u001b[0;36m_run\u001b[0;34m(self, handle, fetches, feed_dict, options, run_metadata)\u001b[0m\n\u001b[1;32m   1068\u001b[0m \u001b[0;34m\u001b[0m\u001b[0m\n\u001b[1;32m   1069\u001b[0m           \u001b[0;32mif\u001b[0m \u001b[0misinstance\u001b[0m\u001b[0;34m(\u001b[0m\u001b[0msubfeed_val\u001b[0m\u001b[0;34m,\u001b[0m \u001b[0mops\u001b[0m\u001b[0;34m.\u001b[0m\u001b[0mTensor\u001b[0m\u001b[0;34m)\u001b[0m\u001b[0;34m:\u001b[0m\u001b[0;34m\u001b[0m\u001b[0m\n\u001b[0;32m-> 1070\u001b[0;31m             raise TypeError('The value of a feed cannot be a tf.Tensor object. '\n\u001b[0m\u001b[1;32m   1071\u001b[0m                             \u001b[0;34m'Acceptable feed values include Python scalars, '\u001b[0m\u001b[0;34m\u001b[0m\u001b[0m\n\u001b[1;32m   1072\u001b[0m                             'strings, lists, numpy ndarrays, or TensorHandles.')\n",
      "\u001b[0;31mTypeError\u001b[0m: The value of a feed cannot be a tf.Tensor object. Acceptable feed values include Python scalars, strings, lists, numpy ndarrays, or TensorHandles."
     ]
    }
   ],
   "source": [
    "sess = tf.Session()\n",
    "sess.run(init_op)\n",
    "total_batch = 15 / batch_size\n",
    "\n",
    "for epoch in range(100):\n",
    "    avg_cost = 0\n",
    "    for i in range(int(100)):\n",
    "        _,c = sess.run([optimiser,cross_entropy],\n",
    "                       feed_dict={es:es,na:na})\n",
    "        avg_cost += c / total_batch\n",
    "        print(\"Epoch:\", (epoch + 1), \"cost =\", \"{:.3f}\".format(avg_cost))"
   ]
  },
  {
   "cell_type": "code",
   "execution_count": null,
   "metadata": {
    "collapsed": true,
    "deletable": true,
    "editable": true
   },
   "outputs": [],
   "source": []
  }
 ],
 "metadata": {
  "kernelspec": {
   "display_name": "Python 3",
   "language": "python",
   "name": "python3"
  },
  "language_info": {
   "codemirror_mode": {
    "name": "ipython",
    "version": 3
   },
   "file_extension": ".py",
   "mimetype": "text/x-python",
   "name": "python",
   "nbconvert_exporter": "python",
   "pygments_lexer": "ipython3",
   "version": "3.5.2+"
  }
 },
 "nbformat": 4,
 "nbformat_minor": 2
}
