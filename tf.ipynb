{
 "cells": [
  {
   "cell_type": "markdown",
   "metadata": {},
   "source": [
    "# basics"
   ]
  },
  {
   "cell_type": "markdown",
   "metadata": {},
   "source": [
    "$$a=(b+c)*(c+2)$$\n",
    "\n",
    "![title](graph.png)\n",
    "* http://adventuresinmachinelearning.com/python-tensorflow-tutorial/"
   ]
  },
  {
   "cell_type": "code",
   "execution_count": 1,
   "metadata": {},
   "outputs": [],
   "source": [
    "import tensorflow as tf\n",
    "import numpy as np\n",
    "\n",
    "# first, create a TensorFlow constant\n",
    "const = tf.constant(2.0, name=\"const\")\n",
    "    \n",
    "# create TensorFlow variables\n",
    "#b = tf.Variable(2.0, name='b')\n",
    "b = tf.placeholder(tf.float32, [None, 1], name='b')\n",
    "c = tf.Variable(1.0, name='c')"
   ]
  },
  {
   "cell_type": "code",
   "execution_count": 2,
   "metadata": {},
   "outputs": [],
   "source": [
    "# now create some operations\n",
    "d = tf.add(b, c, name='d')\n",
    "e = tf.add(c, const, name='e')\n",
    "a = tf.multiply(d, e, name='a')\n",
    "# create TensorFlow variables\n"
   ]
  },
  {
   "cell_type": "code",
   "execution_count": 3,
   "metadata": {},
   "outputs": [],
   "source": [
    "# setup the variable initialisation\n",
    "init_op = tf.global_variables_initializer()"
   ]
  },
  {
   "cell_type": "code",
   "execution_count": 4,
   "metadata": {},
   "outputs": [
    {
     "name": "stdout",
     "output_type": "stream",
     "text": [
      "[[  3.]\n",
      " [  6.]\n",
      " [  9.]\n",
      " [ 12.]\n",
      " [ 15.]\n",
      " [ 18.]\n",
      " [ 21.]\n",
      " [ 24.]\n",
      " [ 27.]\n",
      " [ 30.]]\n"
     ]
    }
   ],
   "source": [
    "\n",
    "sess = tf.Session()\n",
    "\n",
    "sess.run(init_op)\n",
    "'''d__ = sess.run(d)\n",
    "e__ = sess.run(e)\n",
    "a__= sess.run(a)'''\n",
    "a_out = sess.run(a, feed_dict={b: np.arange(0, 10)[:, np.newaxis]})\n",
    "#print(\"a:{0}\\td:{1}\\te:{2}\\ta_out:{3}\".format(a__,d__,e__,a_out))\n",
    "print(a_out)\n"
   ]
  },
  {
   "cell_type": "code",
   "execution_count": 5,
   "metadata": {},
   "outputs": [
    {
     "data": {
      "text/plain": [
       "array([[0],\n",
       "       [1],\n",
       "       [2],\n",
       "       [3],\n",
       "       [4],\n",
       "       [5],\n",
       "       [6],\n",
       "       [7],\n",
       "       [8],\n",
       "       [9]])"
      ]
     },
     "execution_count": 5,
     "metadata": {},
     "output_type": "execute_result"
    }
   ],
   "source": [
    "np.arange(0, 10)[:, np.newaxis]"
   ]
  },
  {
   "cell_type": "code",
   "execution_count": 8,
   "metadata": {},
   "outputs": [],
   "source": [
    "es = 2 * np.random.random((10,10)) - 1\n",
    "#na = 2 * np.random.random((10,10)) - 1\n",
    "na = 2 * np.random.random((10,10)) - 1"
   ]
  },
  {
   "cell_type": "code",
   "execution_count": 9,
   "metadata": {},
   "outputs": [
    {
     "data": {
      "text/plain": [
       "array([[-0.25888717,  0.70692996,  0.65641436,  0.91002234, -0.65511653,\n",
       "        -0.83740614,  0.08041791, -0.27470505,  0.42892816, -0.25795315],\n",
       "       [-0.1731005 , -0.8618791 , -0.29711146,  0.03905007, -0.11197005,\n",
       "        -0.04071068, -0.79174131,  0.49262257, -0.41013372,  0.33698786],\n",
       "       [ 0.7590609 ,  0.64488972, -0.22299351, -0.09060236, -0.57465121,\n",
       "        -0.54164187, -0.07980234,  0.33823811,  0.49595729,  0.32578563],\n",
       "       [-0.70506795, -0.32959265,  0.31740872,  0.83245595,  0.91248516,\n",
       "        -0.45019427,  0.40152685, -0.79669302,  0.06272229,  0.14994694],\n",
       "       [-0.23715019,  0.51056293, -0.72926826,  0.11868649, -0.56441299,\n",
       "         0.80881226, -0.54443467,  0.28230599, -0.81363129,  0.68379981],\n",
       "       [-0.35216006, -0.60203798,  0.94063279, -0.71393632, -0.31155569,\n",
       "        -0.14737688, -0.33514176,  0.62354797, -0.98992824,  0.08274143],\n",
       "       [-0.43760402,  0.42151217, -0.31622573,  0.35572644,  0.85487106,\n",
       "        -0.32678098, -0.50471705,  0.54030833,  0.65110317,  0.62455909],\n",
       "       [ 0.91102403,  0.16153474,  0.79208641, -0.89487675, -0.73350693,\n",
       "         0.97153356, -0.11141689, -0.14619038,  0.67879274,  0.72935699],\n",
       "       [ 0.9651093 ,  0.21170359,  0.48961436, -0.47753183,  0.32021663,\n",
       "        -0.59679339, -0.44623951,  0.94447967, -0.38444503, -0.02156217],\n",
       "       [-0.51817709,  0.509868  , -0.93393421,  0.0850505 ,  0.06073613,\n",
       "         0.09583621, -0.66378047,  0.89596262,  0.40997405,  0.32437264]])"
      ]
     },
     "execution_count": 9,
     "metadata": {},
     "output_type": "execute_result"
    }
   ],
   "source": [
    "es"
   ]
  },
  {
   "cell_type": "code",
   "execution_count": 10,
   "metadata": {},
   "outputs": [
    {
     "data": {
      "text/plain": [
       "array([[-0.5497732 , -0.74075813,  0.85867326,  0.20653296, -0.94428842,\n",
       "        -0.12839527,  0.70007896,  0.48696955,  0.4924178 ,  0.3394367 ],\n",
       "       [ 0.04755355,  0.34334039, -0.03773734, -0.14335172,  0.77424309,\n",
       "        -0.83355151,  0.82911297, -0.26703797,  0.50165295,  0.53624487],\n",
       "       [ 0.5072339 , -0.98434892,  0.36953574, -0.73052315,  0.85035728,\n",
       "        -0.47239209, -0.99716974,  0.03535028, -0.5864477 , -0.03730089],\n",
       "       [-0.72421699, -0.71501411, -0.92268971,  0.04892027,  0.57253883,\n",
       "        -0.49788716, -0.98313872,  0.32728545,  0.51584819, -0.4715762 ],\n",
       "       [ 0.71094349, -0.32565187, -0.03779834, -0.22811558, -0.03574759,\n",
       "        -0.19226692,  0.97776928, -0.27265856, -0.89359133, -0.73399101],\n",
       "       [ 0.20671769,  0.38600549,  0.90523088, -0.3463122 ,  0.74389341,\n",
       "         0.22674473,  0.44235981,  0.55383675, -0.60978536, -0.12396672],\n",
       "       [-0.83539877, -0.80299179,  0.54996123,  0.42142056, -0.43766174,\n",
       "        -0.87109669,  0.31636511,  0.62051656, -0.03817543, -0.10355134],\n",
       "       [ 0.45392446, -0.7768413 ,  0.30267373,  0.36934689, -0.83580393,\n",
       "        -0.6471823 , -0.32181968, -0.08257398, -0.94309979, -0.26047546],\n",
       "       [ 0.01374768, -0.86863388,  0.67520057,  0.1255222 , -0.16032003,\n",
       "         0.85976964, -0.06996921,  0.41406859,  0.02382857, -0.50971056],\n",
       "       [-0.37796381,  0.53531431, -0.57486633, -0.20698737, -0.46441111,\n",
       "        -0.51969127, -0.31949017, -0.44386395,  0.05485375, -0.06327693]])"
      ]
     },
     "execution_count": 10,
     "metadata": {},
     "output_type": "execute_result"
    }
   ],
   "source": [
    "na"
   ]
  },
  {
   "cell_type": "markdown",
   "metadata": {},
   "source": [
    "https://stackoverflow.com/questions/41704484/what-is-difference-between-tf-truncated-normal-and-tf-random-normal#43726140"
   ]
  },
  {
   "cell_type": "code",
   "execution_count": 11,
   "metadata": {},
   "outputs": [],
   "source": [
    "# Neural network variables\n",
    "learning_rate = 0.5\n",
    "epochs = 10\n",
    "batch_size = 100\n",
    "\n",
    "NODES_INPUT = 10\n",
    "NODES_H1 = 15\n",
    "NODES_H2 = 15\n",
    "NODES_OUPUT = 10\n",
    "\n"
   ]
  },
  {
   "cell_type": "code",
   "execution_count": 12,
   "metadata": {},
   "outputs": [],
   "source": [
    "# entrada: x -> español\n",
    "# salida: y -> náhuatl\n",
    "es = tf.placeholder(tf.float64,[None,NODES_INPUT])\n",
    "na = tf.placeholder(tf.float64,[None,NODES_OUPUT])"
   ]
  },
  {
   "cell_type": "code",
   "execution_count": 13,
   "metadata": {},
   "outputs": [],
   "source": [
    "W1 = tf.Variable(tf.random_normal([NODES_INPUT,NODES_H1],stddev=0.01),name = 'W1')\n",
    "b1 = tf.Variable(tf.random_normal([NODES_H1]), name = 'b1')\n",
    "\n",
    "W2 = tf.Variable(tf.random_normal([NODES_H1,NODES_OUPUT],stddev=0.01),name = 'W2')\n",
    "b2 = tf.Variable(tf.random_normal([NODES_OUPUT]), name = 'b2')\n"
   ]
  },
  {
   "cell_type": "code",
   "execution_count": null,
   "metadata": {},
   "outputs": [],
   "source": []
  }
 ],
 "metadata": {
  "kernelspec": {
   "display_name": "Python 3",
   "language": "python",
   "name": "python3"
  },
  "language_info": {
   "codemirror_mode": {
    "name": "ipython",
    "version": 3
   },
   "file_extension": ".py",
   "mimetype": "text/x-python",
   "name": "python",
   "nbconvert_exporter": "python",
   "pygments_lexer": "ipython3",
   "version": "3.5.2"
  }
 },
 "nbformat": 4,
 "nbformat_minor": 2
}
