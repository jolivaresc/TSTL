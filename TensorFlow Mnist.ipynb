{
 "cells": [
  {
   "cell_type": "markdown",
   "metadata": {
    "deletable": true,
    "editable": true
   },
   "source": [
    "\n",
    "\n",
    "a = tf.constant(4)\n",
    "b = tf.constant(13)\n",
    "\n",
    "c = tf.multiply(a,b)\n",
    "print(c)\n",
    "\n",
    "with tf.Session() as sess:\n",
    "    result = sess.run(c)\n",
    "    print(result)"
   ]
  },
  {
   "cell_type": "code",
   "execution_count": 1,
   "metadata": {
    "collapsed": false,
    "deletable": true,
    "editable": true,
    "scrolled": true
   },
   "outputs": [
    {
     "name": "stdout",
     "output_type": "stream",
     "text": [
      "Extracting /tmp/data/train-images-idx3-ubyte.gz\n",
      "Extracting /tmp/data/train-labels-idx1-ubyte.gz\n",
      "Extracting /tmp/data/t10k-images-idx3-ubyte.gz\n",
      "Extracting /tmp/data/t10k-labels-idx1-ubyte.gz\n"
     ]
    }
   ],
   "source": [
    "import tensorflow as tf\n",
    "from tensorflow.examples.tutorials.mnist import input_data\n",
    "\n",
    "\n",
    "SEED = 42\n",
    "tf.set_random_seed(SEED)\n",
    "\n",
    "# MNIST dataset\n",
    "mnist = input_data.read_data_sets('/tmp/data',one_hot=True)\n",
    "\n",
    "# Número de nodos en las capas ocultas.\n",
    "hidden_nodes_1 = 400\n",
    "hidden_nodes_2 = 300\n",
    "hidden_nodes_3 = 300\n",
    "\n",
    "#Etiquetas\n",
    "n_classes = 10\n",
    "batch_size = 100\n",
    "\n",
    "# Inputs\n",
    "x = tf.placeholder('float',[None,784])\n",
    "# labels\n",
    "y = tf.placeholder('float')\n",
    "\n"
   ]
  },
  {
   "cell_type": "code",
   "execution_count": 2,
   "metadata": {
    "collapsed": false,
    "deletable": true,
    "editable": true
   },
   "outputs": [],
   "source": [
    "def NN(data):\n",
    "    \n",
    "    '''\n",
    "    Se inicializan los pesos y bias de las capas ocultas de la red neuronal con valores aleatorios. Los\n",
    "    pesos y bias (weights, bias) son tensores y se almacenan en un diccionario que corresponden a cada capa.    \n",
    "    '''\n",
    "    hidden_l1 = {'weights': tf.Variable(tf.truncated_normal([784,hidden_nodes_1], stddev=0.1)),\n",
    "                 'biases': tf.truncated_normal([hidden_nodes_1], stddev=0.1)}\n",
    "    \n",
    "    hidden_l2 = {'weights': tf.Variable(tf.truncated_normal([hidden_nodes_1,hidden_nodes_2], stddev=0.1)),\n",
    "                 'biases': tf.Variable(tf.truncated_normal([hidden_nodes_2], stddev=0.1))}\n",
    "    \n",
    "    hidden_l3 = {'weights': tf.Variable(tf.truncated_normal([hidden_nodes_2,hidden_nodes_3], stddev=0.1)),\n",
    "                 'biases': tf.Variable(tf.truncated_normal([hidden_nodes_3], stddev=0.1))}\n",
    "    \n",
    "    output_layer = {'weights': tf.Variable(tf.truncated_normal([hidden_nodes_3,n_classes], stddev=0.1)),\n",
    "                    'biases': tf.Variable(tf.truncated_normal([n_classes], stddev=0.1))}\n",
    "    \n",
    "    # (input * weigths) + bias\n",
    "    layer1 = tf.add(tf.matmul(data,hidden_l1['weights']),hidden_l1['biases'])\n",
    "    layer1 = tf.nn.relu(layer1) # Función de activación\n",
    "    \n",
    "    layer2 = tf.add(tf.matmul(layer1,hidden_l2['weights']),hidden_l2['biases'])\n",
    "    layer2 = tf.nn.relu(layer2) # Función de activación\n",
    "    \n",
    "    layer3 = tf.add(tf.matmul(layer2,hidden_l3['weights']),hidden_l3['biases'])\n",
    "    # Función de activación\n",
    "    layer3 = tf.nn.relu(layer3)\n",
    "    \n",
    "    output = tf.add(tf.matmul(layer3,output_layer['weights']),output_layer['biases'])\n",
    "    \n",
    "    return layer1,layer2,layer3,output\n",
    "    "
   ]
  },
  {
   "cell_type": "code",
   "execution_count": 3,
   "metadata": {
    "collapsed": true,
    "deletable": true,
    "editable": true
   },
   "outputs": [],
   "source": [
    "def train(x):\n",
    "    l1,l2,l3,prediction = NN(x)\n",
    "    cost = tf.reduce_mean(tf.nn.softmax_cross_entropy_with_logits(logits=prediction,labels=y))\n",
    "    optimizer = tf.train.AdamOptimizer().minimize(cost)\n",
    "    \n",
    "    no_epochs = 10\n",
    "    \n",
    "    with tf.Session() as sess:\n",
    "        sess.run(tf.global_variables_initializer())\n",
    "        \n",
    "        for epoch in range(no_epochs):\n",
    "            loss = 0\n",
    "            for _ in range(int(mnist.train.num_examples / batch_size)):\n",
    "                epoch_x,epoch_y = mnist.train.next_batch(batch_size)\n",
    "                _,c = sess.run([optimizer, cost], feed_dict={x:epoch_x, y:epoch_y})\n",
    "                loss += c\n",
    "            print('Epoch: ',epoch, 'completed out of',no_epochs,'loss:',loss)\n",
    "            pass\n",
    "            \n",
    "        correct = tf.equal(tf.argmax(prediction, 1), tf.argmax(y, 1))\n",
    "        accuracy = tf.reduce_mean(tf.cast(correct, 'float'))\n",
    "        print('Accuracy:', accuracy.eval({x: mnist.test.images, y: mnist.test.labels}))\n",
    "    \n",
    "    return l1,l2,l3,prediction"
   ]
  },
  {
   "cell_type": "code",
   "execution_count": 4,
   "metadata": {
    "collapsed": false,
    "deletable": true,
    "editable": true
   },
   "outputs": [
    {
     "name": "stdout",
     "output_type": "stream",
     "text": [
      "Epoch:  0 completed out of 10 loss: 124.658441413\n",
      "Epoch:  1 completed out of 10 loss: 48.8178125229\n",
      "Epoch:  2 completed out of 10 loss: 30.2337009422\n",
      "Epoch:  3 completed out of 10 loss: 22.9588611762\n",
      "Epoch:  4 completed out of 10 loss: 17.8545858418\n",
      "Epoch:  5 completed out of 10 loss: 14.613779295\n",
      "Epoch:  6 completed out of 10 loss: 12.1362388616\n",
      "Epoch:  7 completed out of 10 loss: 11.8927511102\n",
      "Epoch:  8 completed out of 10 loss: 12.0237429137\n",
      "Epoch:  9 completed out of 10 loss: 9.25599326776\n",
      "Accuracy: 0.9736\n"
     ]
    }
   ],
   "source": [
    "l1,l2,l3,prediction = train(x)"
   ]
  },
  {
   "cell_type": "code",
   "execution_count": 12,
   "metadata": {
    "collapsed": false,
    "deletable": true,
    "editable": true
   },
   "outputs": [
    {
     "name": "stdout",
     "output_type": "stream",
     "text": [
      "0\n"
     ]
    }
   ],
   "source": []
  },
  {
   "cell_type": "code",
   "execution_count": null,
   "metadata": {
    "collapsed": true,
    "deletable": true,
    "editable": true
   },
   "outputs": [],
   "source": []
  },
  {
   "cell_type": "code",
   "execution_count": null,
   "metadata": {
    "collapsed": true,
    "deletable": true,
    "editable": true
   },
   "outputs": [],
   "source": []
  },
  {
   "cell_type": "code",
   "execution_count": null,
   "metadata": {
    "collapsed": true,
    "deletable": true,
    "editable": true
   },
   "outputs": [],
   "source": []
  },
  {
   "cell_type": "code",
   "execution_count": null,
   "metadata": {
    "collapsed": true,
    "deletable": true,
    "editable": true
   },
   "outputs": [],
   "source": []
  },
  {
   "cell_type": "code",
   "execution_count": null,
   "metadata": {
    "collapsed": true,
    "deletable": true,
    "editable": true
   },
   "outputs": [],
   "source": []
  },
  {
   "cell_type": "code",
   "execution_count": null,
   "metadata": {
    "collapsed": false,
    "deletable": true,
    "editable": true
   },
   "outputs": [],
   "source": []
  },
  {
   "cell_type": "code",
   "execution_count": null,
   "metadata": {
    "collapsed": false,
    "deletable": true,
    "editable": true
   },
   "outputs": [],
   "source": []
  },
  {
   "cell_type": "code",
   "execution_count": null,
   "metadata": {
    "collapsed": true,
    "deletable": true,
    "editable": true
   },
   "outputs": [],
   "source": []
  }
 ],
 "metadata": {
  "kernelspec": {
   "display_name": "Python 3",
   "language": "python",
   "name": "python3"
  },
  "language_info": {
   "codemirror_mode": {
    "name": "ipython",
    "version": 3
   },
   "file_extension": ".py",
   "mimetype": "text/x-python",
   "name": "python",
   "nbconvert_exporter": "python",
   "pygments_lexer": "ipython3",
   "version": "3.5.2+"
  }
 },
 "nbformat": 4,
 "nbformat_minor": 2
}
