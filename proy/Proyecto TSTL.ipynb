{
 "cells": [
  {
   "cell_type": "markdown",
   "metadata": {
    "deletable": true,
    "editable": true
   },
   "source": [
    "# Proyecto 1\n",
    "        \n",
    "```\n",
    "Olivares Castillo José Luis\n",
    "Facultad de Ingeniería, UNAM\n",
    "Temas Selectos de Tecnologías del lenguaje\n",
    "Semestre 2018-1\n",
    "```\n",
    "\n",
    "# Descripción\n",
    "\n",
    "Este trabajo es una tarea de aprendizaje supervisado que consiste en la clasificación de tweets en idioma español en dos clases:\n",
    "* Positivos\n",
    "* Negativos\n",
    "\n",
    "# Dependencias\n",
    "\n",
    "* [Scikit-learn](http://scikit-learn.org/stable/)\n",
    "* [Numpy](http://www.numpy.org/)\n",
    "* [Pandas](https://pandas.pydata.org/)\n",
    "* [NLTK](http://www.nltk.org/)\n",
    "* [stop_words](https://pypi.python.org/pypi/stop-words)\n",
    "* [snowballstemmer](https://pypi.python.org/pypi/snowballstemmer)\n",
    "* [matplotlib](https://matplotlib.org/)\n"
   ]
  },
  {
   "cell_type": "code",
   "execution_count": 1,
   "metadata": {
    "collapsed": true,
    "deletable": true,
    "editable": true
   },
   "outputs": [],
   "source": [
    "# -*- coding: utf-8 -*-\n",
    "\"\"\"\n",
    "    @author: jose \n",
    "    FI UNAM\n",
    "    Created on Thu Oct  26 21:22:06 2017\n",
    "\"\"\"\n",
    "\n",
    "from sklearn.naive_bayes import MultinomialNB\n",
    "from nltk.tokenize import TweetTokenizer\n",
    "import os\n",
    "import numpy as np\n",
    "import pandas as pd\n",
    "from stop_words import get_stop_words\n",
    "from sklearn.model_selection import train_test_split\n",
    "from sklearn.feature_extraction.text import TfidfVectorizer, CountVectorizer\n",
    "import snowballstemmer\n",
    "import matplotlib.pyplot as plt\n",
    "%matplotlib inline"
   ]
  },
  {
   "cell_type": "markdown",
   "metadata": {
    "deletable": true,
    "editable": true
   },
   "source": [
    "# Semilla para reproducibilidad de los experimentos"
   ]
  },
  {
   "cell_type": "code",
   "execution_count": 2,
   "metadata": {
    "collapsed": true,
    "deletable": true,
    "editable": true
   },
   "outputs": [],
   "source": [
    "np.random.seed(42)"
   ]
  },
  {
   "cell_type": "markdown",
   "metadata": {
    "deletable": true,
    "editable": true
   },
   "source": [
    "# Descripción de datasets\n",
    "\n",
    "Se utilizan dos datasets que fueron etiquetados manualmente a partir de  dos clases para determinar si eran positivos o negativos. Ambos contienen tweets escritos en español que fueron emitidos durante diciembre de 2011 a enero de 2012. Existen pocas muestras de tweets que están escritos en inglés\n",
    "\n",
    "\n",
    "Los tweets están en un formato de etiqueta-tweet, donde la etiqueta 1 corresponde a tweets positivos y 2 a tweets negativos, i.e.:\n",
    "\n",
    "<table>\n",
    "  <tr>\n",
    "    <th>Etiqueta</th>\n",
    "    <th>Tweet</th>\n",
    "  </tr>\n",
    "  <tr>\n",
    "    <td>1</td>\n",
    "    <td>un gustazooo encontrar gente bonita y buena onda como @cerezasyhongos por aca :)</td>\n",
    "  </tr>\n",
    "  <tr>\n",
    "    <td>2</td>\n",
    "    <td>:( Extrañaré muchas cosas de aquí y algunas ni siquiera son del trabajo :(</td>\n",
    "  </tr>\n",
    "</table>\n",
    "\n",
    "Los datasets se leen desde la carpeta `data` y se almacenan en `dataframes` de [Pandas](https://pandas.pydata.org/)."
   ]
  },
  {
   "cell_type": "code",
   "execution_count": 3,
   "metadata": {
    "collapsed": true,
    "deletable": true,
    "editable": true
   },
   "outputs": [],
   "source": [
    "home = os.getcwd()\n",
    "os.chdir(home + '/data')\n",
    "os.getcwd()\n",
    "names = [\"Etiqueta\",\"Tweet\"]\n",
    "pos_tweets = pd.read_csv('true_posi.txt', sep=\"\\t\", names=names)\n",
    "neg_tweets = pd.read_csv('true_negs.txt', sep=\"\\t\", names=names)\n",
    "os.chdir(home)"
   ]
  },
  {
   "cell_type": "markdown",
   "metadata": {
    "deletable": true,
    "editable": true
   },
   "source": [
    "# Dataset de tweets positivos"
   ]
  },
  {
   "cell_type": "code",
   "execution_count": 4,
   "metadata": {
    "collapsed": false,
    "deletable": true,
    "editable": true
   },
   "outputs": [
    {
     "name": "stdout",
     "output_type": "stream",
     "text": [
      "Número total de tweets con etiqueta positiva: 5496\n"
     ]
    }
   ],
   "source": [
    "print(\"Número total de tweets con etiqueta positiva:\",pos_tweets.__len__())"
   ]
  },
  {
   "cell_type": "code",
   "execution_count": 5,
   "metadata": {
    "collapsed": false,
    "deletable": true,
    "editable": true
   },
   "outputs": [
    {
     "data": {
      "text/html": [
       "<div>\n",
       "<style>\n",
       "    .dataframe thead tr:only-child th {\n",
       "        text-align: right;\n",
       "    }\n",
       "\n",
       "    .dataframe thead th {\n",
       "        text-align: left;\n",
       "    }\n",
       "\n",
       "    .dataframe tbody tr th {\n",
       "        vertical-align: top;\n",
       "    }\n",
       "</style>\n",
       "<table border=\"1\" class=\"dataframe\">\n",
       "  <thead>\n",
       "    <tr style=\"text-align: right;\">\n",
       "      <th></th>\n",
       "      <th>Etiqueta</th>\n",
       "      <th>Tweet</th>\n",
       "    </tr>\n",
       "  </thead>\n",
       "  <tbody>\n",
       "    <tr>\n",
       "      <th>0</th>\n",
       "      <td>1</td>\n",
       "      <td>@_FerTf grosera jaja muy amable usted igual de...</td>\n",
       "    </tr>\n",
       "    <tr>\n",
       "      <th>1</th>\n",
       "      <td>1</td>\n",
       "      <td>@KarenkaaPanqee wooow!!! ^^!! No me muero sin ...</td>\n",
       "    </tr>\n",
       "    <tr>\n",
       "      <th>2</th>\n",
       "      <td>1</td>\n",
       "      <td>@akhs190lo hago para gustarte mas mi amor! :) ...</td>\n",
       "    </tr>\n",
       "    <tr>\n",
       "      <th>3</th>\n",
       "      <td>1</td>\n",
       "      <td>@miriworld Si, por favor (:</td>\n",
       "    </tr>\n",
       "    <tr>\n",
       "      <th>4</th>\n",
       "      <td>1</td>\n",
       "      <td>Hay porfin en mi casita (:</td>\n",
       "    </tr>\n",
       "    <tr>\n",
       "      <th>5</th>\n",
       "      <td>1</td>\n",
       "      <td>YA SERA  N A V I D A D :)</td>\n",
       "    </tr>\n",
       "    <tr>\n",
       "      <th>6</th>\n",
       "      <td>1</td>\n",
       "      <td>@tanhdez Ni muy my ni tan tan... Felicidades T...</td>\n",
       "    </tr>\n",
       "    <tr>\n",
       "      <th>7</th>\n",
       "      <td>1</td>\n",
       "      <td>@agusveal @jk_blacksmith @abpise @omarfierrot ...</td>\n",
       "    </tr>\n",
       "    <tr>\n",
       "      <th>8</th>\n",
       "      <td>1</td>\n",
       "      <td>@cessleon #YoQuieroParaNavidad salir aunquesea...</td>\n",
       "    </tr>\n",
       "    <tr>\n",
       "      <th>9</th>\n",
       "      <td>1</td>\n",
       "      <td>fiesta de pizzas (:</td>\n",
       "    </tr>\n",
       "  </tbody>\n",
       "</table>\n",
       "</div>"
      ],
      "text/plain": [
       "   Etiqueta                                              Tweet\n",
       "0         1  @_FerTf grosera jaja muy amable usted igual de...\n",
       "1         1  @KarenkaaPanqee wooow!!! ^^!! No me muero sin ...\n",
       "2         1  @akhs190lo hago para gustarte mas mi amor! :) ...\n",
       "3         1                        @miriworld Si, por favor (:\n",
       "4         1                         Hay porfin en mi casita (:\n",
       "5         1                          YA SERA  N A V I D A D :)\n",
       "6         1  @tanhdez Ni muy my ni tan tan... Felicidades T...\n",
       "7         1  @agusveal @jk_blacksmith @abpise @omarfierrot ...\n",
       "8         1  @cessleon #YoQuieroParaNavidad salir aunquesea...\n",
       "9         1                                fiesta de pizzas (:"
      ]
     },
     "execution_count": 5,
     "metadata": {},
     "output_type": "execute_result"
    }
   ],
   "source": [
    "pos_tweets.head(10)"
   ]
  },
  {
   "cell_type": "markdown",
   "metadata": {
    "deletable": true,
    "editable": true
   },
   "source": [
    "# Dataset de tweets negativos"
   ]
  },
  {
   "cell_type": "code",
   "execution_count": 6,
   "metadata": {
    "collapsed": false,
    "deletable": true,
    "editable": true
   },
   "outputs": [
    {
     "name": "stdout",
     "output_type": "stream",
     "text": [
      "Número total de tweets con etiqueta negativa: 6670\n"
     ]
    }
   ],
   "source": [
    "print(\"Número total de tweets con etiqueta negativa:\",neg_tweets.__len__())"
   ]
  },
  {
   "cell_type": "code",
   "execution_count": 7,
   "metadata": {
    "collapsed": false,
    "deletable": true,
    "editable": true
   },
   "outputs": [
    {
     "data": {
      "text/html": [
       "<div>\n",
       "<style>\n",
       "    .dataframe thead tr:only-child th {\n",
       "        text-align: right;\n",
       "    }\n",
       "\n",
       "    .dataframe thead th {\n",
       "        text-align: left;\n",
       "    }\n",
       "\n",
       "    .dataframe tbody tr th {\n",
       "        vertical-align: top;\n",
       "    }\n",
       "</style>\n",
       "<table border=\"1\" class=\"dataframe\">\n",
       "  <thead>\n",
       "    <tr style=\"text-align: right;\">\n",
       "      <th></th>\n",
       "      <th>Etiqueta</th>\n",
       "      <th>Tweet</th>\n",
       "    </tr>\n",
       "  </thead>\n",
       "  <tbody>\n",
       "    <tr>\n",
       "      <th>0</th>\n",
       "      <td>2</td>\n",
       "      <td>Prohibido subir un gramo de aquí a diciembre :(</td>\n",
       "    </tr>\n",
       "    <tr>\n",
       "      <th>1</th>\n",
       "      <td>2</td>\n",
       "      <td>BUENO SIGO DEPRIMIDA SIN MI CELULAR Y MI NEXTE...</td>\n",
       "    </tr>\n",
       "    <tr>\n",
       "      <th>2</th>\n",
       "      <td>2</td>\n",
       "      <td>@miguelgali11 mikeeeee!! como q estas enfermoo...</td>\n",
       "    </tr>\n",
       "    <tr>\n",
       "      <th>3</th>\n",
       "      <td>2</td>\n",
       "      <td>RT @mariowanna83: Esos Reyes no me trajeron mi...</td>\n",
       "    </tr>\n",
       "    <tr>\n",
       "      <th>4</th>\n",
       "      <td>2</td>\n",
       "      <td>Perdon es lo unico que puedo pedirte :( Patric...</td>\n",
       "    </tr>\n",
       "    <tr>\n",
       "      <th>5</th>\n",
       "      <td>2</td>\n",
       "      <td>Te baje las estrellas de un solo golpe ):</td>\n",
       "    </tr>\n",
       "    <tr>\n",
       "      <th>6</th>\n",
       "      <td>2</td>\n",
       "      <td>Pfff... pues ya esta :(</td>\n",
       "    </tr>\n",
       "    <tr>\n",
       "      <th>7</th>\n",
       "      <td>2</td>\n",
       "      <td>@Armando_Steeler &amp;gt; hey no soy americanista :(</td>\n",
       "    </tr>\n",
       "    <tr>\n",
       "      <th>8</th>\n",
       "      <td>2</td>\n",
       "      <td>soy un diestro con alma de zurdo... dios me ca...</td>\n",
       "    </tr>\n",
       "    <tr>\n",
       "      <th>9</th>\n",
       "      <td>2</td>\n",
       "      <td>No quiero sentir hambre :(</td>\n",
       "    </tr>\n",
       "  </tbody>\n",
       "</table>\n",
       "</div>"
      ],
      "text/plain": [
       "   Etiqueta                                              Tweet\n",
       "0         2    Prohibido subir un gramo de aquí a diciembre :(\n",
       "1         2  BUENO SIGO DEPRIMIDA SIN MI CELULAR Y MI NEXTE...\n",
       "2         2  @miguelgali11 mikeeeee!! como q estas enfermoo...\n",
       "3         2  RT @mariowanna83: Esos Reyes no me trajeron mi...\n",
       "4         2  Perdon es lo unico que puedo pedirte :( Patric...\n",
       "5         2          Te baje las estrellas de un solo golpe ):\n",
       "6         2                            Pfff... pues ya esta :(\n",
       "7         2   @Armando_Steeler &gt; hey no soy americanista :(\n",
       "8         2  soy un diestro con alma de zurdo... dios me ca...\n",
       "9         2                         No quiero sentir hambre :("
      ]
     },
     "execution_count": 7,
     "metadata": {},
     "output_type": "execute_result"
    }
   ],
   "source": [
    "neg_tweets.head(10)"
   ]
  },
  {
   "cell_type": "markdown",
   "metadata": {},
   "source": [
    "# Tamaño de datasets\n",
    "<table>\n",
    "<tr>\n",
    "    <th></th>\n",
    "    <th># Tweets</th>\n",
    "  </tr>\n",
    "  <tr>\n",
    "    <th>Positivos</th>\n",
    "    <td>5496</td>\n",
    "  </tr>\n",
    "  <tr>\n",
    "    <th>Negativos</th>\n",
    "    <td>6670</td>\n",
    "  </tr>\n",
    "  <tr>\n",
    "    <th>Total</th>\n",
    "    <td>12166</td>\n",
    "  </tr>\n",
    "</table>"
   ]
  },
  {
   "cell_type": "markdown",
   "metadata": {
    "deletable": true,
    "editable": true
   },
   "source": [
    "# Total de tweets\n",
    "\n",
    "Se concatenan los datasets en sólo un `dataframe` para poder realizar los experimentos."
   ]
  },
  {
   "cell_type": "code",
   "execution_count": 8,
   "metadata": {
    "collapsed": false,
    "deletable": true,
    "editable": true
   },
   "outputs": [
    {
     "name": "stdout",
     "output_type": "stream",
     "text": [
      "Número total de tweets: 12166\n"
     ]
    }
   ],
   "source": [
    "tweets = pd.concat([pos_tweets,neg_tweets])\n",
    "print(\"Número total de tweets:\",tweets.__len__())"
   ]
  },
  {
   "cell_type": "code",
   "execution_count": 9,
   "metadata": {
    "collapsed": false,
    "deletable": true,
    "editable": true
   },
   "outputs": [
    {
     "data": {
      "text/html": [
       "<div>\n",
       "<style>\n",
       "    .dataframe thead tr:only-child th {\n",
       "        text-align: right;\n",
       "    }\n",
       "\n",
       "    .dataframe thead th {\n",
       "        text-align: left;\n",
       "    }\n",
       "\n",
       "    .dataframe tbody tr th {\n",
       "        vertical-align: top;\n",
       "    }\n",
       "</style>\n",
       "<table border=\"1\" class=\"dataframe\">\n",
       "  <thead>\n",
       "    <tr style=\"text-align: right;\">\n",
       "      <th></th>\n",
       "      <th>Etiqueta</th>\n",
       "      <th>Tweet</th>\n",
       "    </tr>\n",
       "  </thead>\n",
       "  <tbody>\n",
       "    <tr>\n",
       "      <th>0</th>\n",
       "      <td>1</td>\n",
       "      <td>@_FerTf grosera jaja muy amable usted igual de...</td>\n",
       "    </tr>\n",
       "    <tr>\n",
       "      <th>1</th>\n",
       "      <td>1</td>\n",
       "      <td>@KarenkaaPanqee wooow!!! ^^!! No me muero sin ...</td>\n",
       "    </tr>\n",
       "    <tr>\n",
       "      <th>2</th>\n",
       "      <td>1</td>\n",
       "      <td>@akhs190lo hago para gustarte mas mi amor! :) ...</td>\n",
       "    </tr>\n",
       "    <tr>\n",
       "      <th>3</th>\n",
       "      <td>1</td>\n",
       "      <td>@miriworld Si, por favor (:</td>\n",
       "    </tr>\n",
       "    <tr>\n",
       "      <th>4</th>\n",
       "      <td>1</td>\n",
       "      <td>Hay porfin en mi casita (:</td>\n",
       "    </tr>\n",
       "    <tr>\n",
       "      <th>5</th>\n",
       "      <td>1</td>\n",
       "      <td>YA SERA  N A V I D A D :)</td>\n",
       "    </tr>\n",
       "    <tr>\n",
       "      <th>6</th>\n",
       "      <td>1</td>\n",
       "      <td>@tanhdez Ni muy my ni tan tan... Felicidades T...</td>\n",
       "    </tr>\n",
       "    <tr>\n",
       "      <th>7</th>\n",
       "      <td>1</td>\n",
       "      <td>@agusveal @jk_blacksmith @abpise @omarfierrot ...</td>\n",
       "    </tr>\n",
       "    <tr>\n",
       "      <th>8</th>\n",
       "      <td>1</td>\n",
       "      <td>@cessleon #YoQuieroParaNavidad salir aunquesea...</td>\n",
       "    </tr>\n",
       "    <tr>\n",
       "      <th>9</th>\n",
       "      <td>1</td>\n",
       "      <td>fiesta de pizzas (:</td>\n",
       "    </tr>\n",
       "  </tbody>\n",
       "</table>\n",
       "</div>"
      ],
      "text/plain": [
       "   Etiqueta                                              Tweet\n",
       "0         1  @_FerTf grosera jaja muy amable usted igual de...\n",
       "1         1  @KarenkaaPanqee wooow!!! ^^!! No me muero sin ...\n",
       "2         1  @akhs190lo hago para gustarte mas mi amor! :) ...\n",
       "3         1                        @miriworld Si, por favor (:\n",
       "4         1                         Hay porfin en mi casita (:\n",
       "5         1                          YA SERA  N A V I D A D :)\n",
       "6         1  @tanhdez Ni muy my ni tan tan... Felicidades T...\n",
       "7         1  @agusveal @jk_blacksmith @abpise @omarfierrot ...\n",
       "8         1  @cessleon #YoQuieroParaNavidad salir aunquesea...\n",
       "9         1                                fiesta de pizzas (:"
      ]
     },
     "execution_count": 9,
     "metadata": {},
     "output_type": "execute_result"
    }
   ],
   "source": [
    "tweets.head(10)"
   ]
  },
  {
   "cell_type": "markdown",
   "metadata": {
    "deletable": true,
    "editable": true
   },
   "source": [
    "La biblioteca [Pandas](https://pandas.pydata.org/) permite hacer un análisis del dataset, en este caso se agrupan todos los tweets por sus etiquetas y se obtiene lo siguiente:"
   ]
  },
  {
   "cell_type": "code",
   "execution_count": 10,
   "metadata": {
    "collapsed": false,
    "deletable": true,
    "editable": true
   },
   "outputs": [
    {
     "data": {
      "text/html": [
       "<div>\n",
       "<style>\n",
       "    .dataframe thead tr:only-child th {\n",
       "        text-align: right;\n",
       "    }\n",
       "\n",
       "    .dataframe thead th {\n",
       "        text-align: left;\n",
       "    }\n",
       "\n",
       "    .dataframe tbody tr th {\n",
       "        vertical-align: top;\n",
       "    }\n",
       "</style>\n",
       "<table border=\"1\" class=\"dataframe\">\n",
       "  <thead>\n",
       "    <tr>\n",
       "      <th></th>\n",
       "      <th colspan=\"4\" halign=\"left\">Tweet</th>\n",
       "    </tr>\n",
       "    <tr>\n",
       "      <th></th>\n",
       "      <th>count</th>\n",
       "      <th>unique</th>\n",
       "      <th>top</th>\n",
       "      <th>freq</th>\n",
       "    </tr>\n",
       "    <tr>\n",
       "      <th>Etiqueta</th>\n",
       "      <th></th>\n",
       "      <th></th>\n",
       "      <th></th>\n",
       "      <th></th>\n",
       "    </tr>\n",
       "  </thead>\n",
       "  <tbody>\n",
       "    <tr>\n",
       "      <th>1</th>\n",
       "      <td>5496</td>\n",
       "      <td>5481</td>\n",
       "      <td>RT @haashoficial: Que tengan una buena y larga...</td>\n",
       "      <td>3</td>\n",
       "    </tr>\n",
       "    <tr>\n",
       "      <th>2</th>\n",
       "      <td>6670</td>\n",
       "      <td>6642</td>\n",
       "      <td>Me siento mal :(</td>\n",
       "      <td>5</td>\n",
       "    </tr>\n",
       "  </tbody>\n",
       "</table>\n",
       "</div>"
      ],
      "text/plain": [
       "         Tweet                                                               \n",
       "         count unique                                                top freq\n",
       "Etiqueta                                                                     \n",
       "1         5496   5481  RT @haashoficial: Que tengan una buena y larga...    3\n",
       "2         6670   6642                                   Me siento mal :(    5"
      ]
     },
     "execution_count": 10,
     "metadata": {},
     "output_type": "execute_result"
    }
   ],
   "source": [
    "tweets.groupby('Etiqueta').describe()"
   ]
  },
  {
   "cell_type": "markdown",
   "metadata": {
    "deletable": true,
    "editable": true
   },
   "source": [
    "De la tabla anterior podemos observar el total de tweets tanto positivos como negativos, así como los que están repetidos que están en el renglón `top` y la frecuencia con la que se repitieron"
   ]
  },
  {
   "cell_type": "markdown",
   "metadata": {
    "deletable": true,
    "editable": true
   },
   "source": [
    "# Preprocesamiento del dataset\n",
    "\n",
    "Para preprocesar los tweets antes de iniciar la etapa de entrenamiento, se realiza lo siguiente:\n",
    "\n",
    "* Tokenización: La biblioteca de [NLTK](http://www.nltk.org/) tiene una clase dedicada para tokenizar tweets, donde se puede convertir cada token a minúsculas, se eliminan caracteres repetidos i.e. (hooooooola -> hola) y se pueden eliminar los usuarios que estén mencionados dentro del tweet. También permite reconocer emoticonos como :) :( :D :S :* etc.\n",
    "\n",
    "* Stemming: El stemming se aplica a los tokens para reducir las palabras a su raíz y así evitar tener variaciones de una misma palabra que pudieran afectar el desempeño del algoritmo.\n",
    "\n",
    "* Listas de paro: Se utilizan listas de paro para eliminar de los tweets signos de puntuación y palabras funcionales que no aportan información relevante al contenido de los tweets."
   ]
  },
  {
   "cell_type": "code",
   "execution_count": 11,
   "metadata": {
    "collapsed": true,
    "deletable": true,
    "editable": true
   },
   "outputs": [],
   "source": [
    "tknzr = TweetTokenizer(preserve_case=False,       # Convertir a minúsculas\n",
    "                       reduce_len=True,           # Reducir caracteres repetidos\n",
    "                       strip_handles=True)        # Mostrar @usuarios\n",
    "\n",
    "stemmer = snowballstemmer.stemmer('Spanish')\n",
    "\n",
    "lista_de_paro = ['\"',\"“\",\"/\",\"(\",\")\",\"[\",\"]\",\"?\",\"¿\",\"!\",\"¡\",\n",
    "                 \"rt\",\":\",\"…\",\",\",\"\\n\",\"#\",\"@\",\"\\t\",\"\",\".\",\"$\",\n",
    "                 \"...\",\"-\",\"🤢\",\"newLineCharacter\",\"|\",\"%\",\"<\",\"=\",\n",
    "                 \">\",\"+\",\"'\"]\n",
    "\n",
    "es_stop = get_stop_words('es')"
   ]
  },
  {
   "cell_type": "markdown",
   "metadata": {
    "deletable": true,
    "editable": true
   },
   "source": [
    "# `Limpiar` tweets "
   ]
  },
  {
   "cell_type": "code",
   "execution_count": 12,
   "metadata": {
    "collapsed": true,
    "deletable": true,
    "editable": true
   },
   "outputs": [],
   "source": [
    "def clean_tweet(tweet):\n",
    "    \"\"\"\n",
    "    Eliminar tokens que:\n",
    "    - Estén dentro de lista_de_paro.\n",
    "    - Sean ligas.\n",
    "    - Si es una mención i.e @potus, se cambia por token genérico @usuario.\n",
    "    \"\"\"\n",
    "    return [stemmer.stemWord(_) for _ in tweet \n",
    "            if _ not in lista_de_paro\n",
    "            and not _.startswith(('http', 'htt'))\n",
    "            and _ not in es_stop]           "
   ]
  },
  {
   "cell_type": "code",
   "execution_count": 13,
   "metadata": {
    "collapsed": true,
    "deletable": true,
    "editable": true
   },
   "outputs": [],
   "source": [
    "clean_tuit = []\n",
    "for tuit in tweets[\"Tweet\"]:\n",
    "    clean_tokens = clean_tweet(tknzr.tokenize(tuit))\n",
    "    clean_tuit.append(' '.join(clean_tokens))"
   ]
  },
  {
   "cell_type": "markdown",
   "metadata": {
    "deletable": true,
    "editable": true
   },
   "source": [
    "### Se actualiza el dataframe con los tweets preprocesados"
   ]
  },
  {
   "cell_type": "code",
   "execution_count": 14,
   "metadata": {
    "collapsed": true,
    "deletable": true,
    "editable": true
   },
   "outputs": [],
   "source": [
    "tweets[\"Tweet\"] = clean_tuit"
   ]
  },
  {
   "cell_type": "markdown",
   "metadata": {
    "deletable": true,
    "editable": true
   },
   "source": [
    "# Tweet preprocesados"
   ]
  },
  {
   "cell_type": "code",
   "execution_count": 15,
   "metadata": {
    "collapsed": false,
    "deletable": true,
    "editable": true
   },
   "outputs": [
    {
     "data": {
      "text/html": [
       "<div>\n",
       "<style>\n",
       "    .dataframe thead tr:only-child th {\n",
       "        text-align: right;\n",
       "    }\n",
       "\n",
       "    .dataframe thead th {\n",
       "        text-align: left;\n",
       "    }\n",
       "\n",
       "    .dataframe tbody tr th {\n",
       "        vertical-align: top;\n",
       "    }\n",
       "</style>\n",
       "<table border=\"1\" class=\"dataframe\">\n",
       "  <thead>\n",
       "    <tr>\n",
       "      <th></th>\n",
       "      <th colspan=\"4\" halign=\"left\">Tweet</th>\n",
       "    </tr>\n",
       "    <tr>\n",
       "      <th></th>\n",
       "      <th>count</th>\n",
       "      <th>unique</th>\n",
       "      <th>top</th>\n",
       "      <th>freq</th>\n",
       "    </tr>\n",
       "    <tr>\n",
       "      <th>Etiqueta</th>\n",
       "      <th></th>\n",
       "      <th></th>\n",
       "      <th></th>\n",
       "      <th></th>\n",
       "    </tr>\n",
       "  </thead>\n",
       "  <tbody>\n",
       "    <tr>\n",
       "      <th>1</th>\n",
       "      <td>5496</td>\n",
       "      <td>5354</td>\n",
       "      <td>hol :)</td>\n",
       "      <td>21</td>\n",
       "    </tr>\n",
       "    <tr>\n",
       "      <th>2</th>\n",
       "      <td>6670</td>\n",
       "      <td>6482</td>\n",
       "      <td>:(</td>\n",
       "      <td>30</td>\n",
       "    </tr>\n",
       "  </tbody>\n",
       "</table>\n",
       "</div>"
      ],
      "text/plain": [
       "         Tweet                    \n",
       "         count unique     top freq\n",
       "Etiqueta                          \n",
       "1         5496   5354  hol :)   21\n",
       "2         6670   6482      :(   30"
      ]
     },
     "execution_count": 15,
     "metadata": {},
     "output_type": "execute_result"
    }
   ],
   "source": [
    "tweets.groupby('Etiqueta').describe()"
   ]
  },
  {
   "cell_type": "markdown",
   "metadata": {
    "deletable": true,
    "editable": true
   },
   "source": [
    "De la tabla anterior se observa que una vez preprocesados los tweets, los que tienen etiqueta 1 (positiva) se caracterizan por tener \"hol :)\" y los tweets negativos se caracterizan por tener un emoticon 'triste' :("
   ]
  },
  {
   "cell_type": "markdown",
   "metadata": {
    "deletable": true,
    "editable": true
   },
   "source": [
    "# Longitud de tweets\n",
    "\n",
    "Se añade una columna donde se almacena la longitud de los tweets, esto con el fin de averiguar si la longitud del tweet tiene alguna relación con la clase a la que pertenece."
   ]
  },
  {
   "cell_type": "code",
   "execution_count": 16,
   "metadata": {
    "collapsed": true,
    "deletable": true,
    "editable": true
   },
   "outputs": [],
   "source": [
    "tweets['Longitud'] = tweets['Tweet'].apply(len)"
   ]
  },
  {
   "cell_type": "code",
   "execution_count": 17,
   "metadata": {
    "collapsed": false,
    "deletable": true,
    "editable": true
   },
   "outputs": [
    {
     "data": {
      "text/html": [
       "<div>\n",
       "<style>\n",
       "    .dataframe thead tr:only-child th {\n",
       "        text-align: right;\n",
       "    }\n",
       "\n",
       "    .dataframe thead th {\n",
       "        text-align: left;\n",
       "    }\n",
       "\n",
       "    .dataframe tbody tr th {\n",
       "        vertical-align: top;\n",
       "    }\n",
       "</style>\n",
       "<table border=\"1\" class=\"dataframe\">\n",
       "  <thead>\n",
       "    <tr style=\"text-align: right;\">\n",
       "      <th></th>\n",
       "      <th>Etiqueta</th>\n",
       "      <th>Tweet</th>\n",
       "      <th>Longitud</th>\n",
       "    </tr>\n",
       "  </thead>\n",
       "  <tbody>\n",
       "    <tr>\n",
       "      <th>0</th>\n",
       "      <td>1</td>\n",
       "      <td>groser jaj amabl usted igual descans mañan mue...</td>\n",
       "      <td>63</td>\n",
       "    </tr>\n",
       "    <tr>\n",
       "      <th>1</th>\n",
       "      <td>1</td>\n",
       "      <td>wooow ^ ^ muer ir contig :)</td>\n",
       "      <td>27</td>\n",
       "    </tr>\n",
       "    <tr>\n",
       "      <th>2</th>\n",
       "      <td>1</td>\n",
       "      <td>hag gustart mas amor :) jiji</td>\n",
       "      <td>28</td>\n",
       "    </tr>\n",
       "    <tr>\n",
       "      <th>3</th>\n",
       "      <td>1</td>\n",
       "      <td>si favor (:</td>\n",
       "      <td>11</td>\n",
       "    </tr>\n",
       "    <tr>\n",
       "      <th>4</th>\n",
       "      <td>1</td>\n",
       "      <td>porfin casit (:</td>\n",
       "      <td>15</td>\n",
       "    </tr>\n",
       "    <tr>\n",
       "      <th>5</th>\n",
       "      <td>1</td>\n",
       "      <td>ser n v i d d :)</td>\n",
       "      <td>16</td>\n",
       "    </tr>\n",
       "    <tr>\n",
       "      <th>6</th>\n",
       "      <td>1</td>\n",
       "      <td>my tan tan felic tanii mand bes fuert abraz :)</td>\n",
       "      <td>46</td>\n",
       "    </tr>\n",
       "    <tr>\n",
       "      <th>7</th>\n",
       "      <td>1</td>\n",
       "      <td>igual hac fri si mand abraz molest :)</td>\n",
       "      <td>37</td>\n",
       "    </tr>\n",
       "    <tr>\n",
       "      <th>8</th>\n",
       "      <td>1</td>\n",
       "      <td>#yoquieroparanav sal aunquese camin the walkin...</td>\n",
       "      <td>55</td>\n",
       "    </tr>\n",
       "    <tr>\n",
       "      <th>9</th>\n",
       "      <td>1</td>\n",
       "      <td>fiest pizz (:</td>\n",
       "      <td>13</td>\n",
       "    </tr>\n",
       "  </tbody>\n",
       "</table>\n",
       "</div>"
      ],
      "text/plain": [
       "   Etiqueta                                              Tweet  Longitud\n",
       "0         1  groser jaj amabl usted igual descans mañan mue...        63\n",
       "1         1                        wooow ^ ^ muer ir contig :)        27\n",
       "2         1                       hag gustart mas amor :) jiji        28\n",
       "3         1                                        si favor (:        11\n",
       "4         1                                    porfin casit (:        15\n",
       "5         1                                   ser n v i d d :)        16\n",
       "6         1     my tan tan felic tanii mand bes fuert abraz :)        46\n",
       "7         1              igual hac fri si mand abraz molest :)        37\n",
       "8         1  #yoquieroparanav sal aunquese camin the walkin...        55\n",
       "9         1                                      fiest pizz (:        13"
      ]
     },
     "execution_count": 17,
     "metadata": {},
     "output_type": "execute_result"
    }
   ],
   "source": [
    "tweets.head(10)"
   ]
  },
  {
   "cell_type": "code",
   "execution_count": 18,
   "metadata": {
    "collapsed": false,
    "deletable": true,
    "editable": true
   },
   "outputs": [
    {
     "data": {
      "text/plain": [
       "array([<matplotlib.axes._subplots.AxesSubplot object at 0x7f9432a8e2e8>,\n",
       "       <matplotlib.axes._subplots.AxesSubplot object at 0x7f9432b0b198>], dtype=object)"
      ]
     },
     "execution_count": 18,
     "metadata": {},
     "output_type": "execute_result"
    },
    {
     "data": {
      "image/png": "[encoded data removed]",
      "text/plain": [
       "<matplotlib.figure.Figure at 0x7f9432aa12e8>"
      ]
     },
     "metadata": {},
     "output_type": "display_data"
    }
   ],
   "source": [
    "tweets.hist(column='Longitud',by ='Etiqueta',bins=90,figsize = (15,9))"
   ]
  },
  {
   "cell_type": "markdown",
   "metadata": {
    "deletable": true,
    "editable": true
   },
   "source": [
    "De estas gráficas se observa que los tweets positivos y negativos tienen una distribución similar, sin embargo, la longitud de los tweets positivos llega a superar los 120 caracteres."
   ]
  },
  {
   "cell_type": "markdown",
   "metadata": {
    "deletable": true,
    "editable": true
   },
   "source": [
    "# Estadísticas del dataset"
   ]
  },
  {
   "cell_type": "code",
   "execution_count": 19,
   "metadata": {
    "collapsed": false,
    "deletable": true,
    "editable": true
   },
   "outputs": [
    {
     "data": {
      "text/html": [
       "<div>\n",
       "<style>\n",
       "    .dataframe thead tr:only-child th {\n",
       "        text-align: right;\n",
       "    }\n",
       "\n",
       "    .dataframe thead th {\n",
       "        text-align: left;\n",
       "    }\n",
       "\n",
       "    .dataframe tbody tr th {\n",
       "        vertical-align: top;\n",
       "    }\n",
       "</style>\n",
       "<table border=\"1\" class=\"dataframe\">\n",
       "  <thead>\n",
       "    <tr>\n",
       "      <th></th>\n",
       "      <th colspan=\"8\" halign=\"left\">Longitud</th>\n",
       "    </tr>\n",
       "    <tr>\n",
       "      <th></th>\n",
       "      <th>count</th>\n",
       "      <th>mean</th>\n",
       "      <th>std</th>\n",
       "      <th>min</th>\n",
       "      <th>25%</th>\n",
       "      <th>50%</th>\n",
       "      <th>75%</th>\n",
       "      <th>max</th>\n",
       "    </tr>\n",
       "    <tr>\n",
       "      <th>Etiqueta</th>\n",
       "      <th></th>\n",
       "      <th></th>\n",
       "      <th></th>\n",
       "      <th></th>\n",
       "      <th></th>\n",
       "      <th></th>\n",
       "      <th></th>\n",
       "      <th></th>\n",
       "    </tr>\n",
       "  </thead>\n",
       "  <tbody>\n",
       "    <tr>\n",
       "      <th>1</th>\n",
       "      <td>5496.0</td>\n",
       "      <td>34.808406</td>\n",
       "      <td>18.791860</td>\n",
       "      <td>2.0</td>\n",
       "      <td>20.0</td>\n",
       "      <td>31.0</td>\n",
       "      <td>47.0</td>\n",
       "      <td>124.0</td>\n",
       "    </tr>\n",
       "    <tr>\n",
       "      <th>2</th>\n",
       "      <td>6670.0</td>\n",
       "      <td>33.596252</td>\n",
       "      <td>18.186575</td>\n",
       "      <td>2.0</td>\n",
       "      <td>19.0</td>\n",
       "      <td>30.0</td>\n",
       "      <td>45.0</td>\n",
       "      <td>105.0</td>\n",
       "    </tr>\n",
       "  </tbody>\n",
       "</table>\n",
       "</div>"
      ],
      "text/plain": [
       "         Longitud                                                    \n",
       "            count       mean        std  min   25%   50%   75%    max\n",
       "Etiqueta                                                             \n",
       "1          5496.0  34.808406  18.791860  2.0  20.0  31.0  47.0  124.0\n",
       "2          6670.0  33.596252  18.186575  2.0  19.0  30.0  45.0  105.0"
      ]
     },
     "execution_count": 19,
     "metadata": {},
     "output_type": "execute_result"
    }
   ],
   "source": [
    "tweets.groupby('Etiqueta').describe()"
   ]
  },
  {
   "cell_type": "markdown",
   "metadata": {
    "deletable": true,
    "editable": true
   },
   "source": [
    "Se puede observar que los tweets positivos y negativos tienen una media y una desviación estándar muy similar así como los percentiles. Por otra parte, los tweets positivos tienen una longitud máxima de 124 caracteres, mientras que los negativos tienen una máxima de 105 caracteres. \n",
    "\n",
    "Con esta información se puede deducir que la longitud de los tweets no es significativa para determinar la clase a la que pertenece."
   ]
  },
  {
   "cell_type": "markdown",
   "metadata": {
    "deletable": true,
    "editable": true
   },
   "source": [
    "# Representación vectorial\n",
    "Para la representación vectorial de los tweets se utiliza la clase `TfidfVectorizer` que está incluida en la biblioteca de [Scikit-learn](http://scikit-learn.org/stable/). Esta clase crea una matriz TF-IDF para los tweets. "
   ]
  },
  {
   "cell_type": "code",
   "execution_count": 20,
   "metadata": {
    "collapsed": true,
    "deletable": true,
    "editable": true
   },
   "outputs": [],
   "source": [
    "vectorizer = TfidfVectorizer(use_idf=True,               # Usa medida IDF\n",
    "                             lowercase=True,             # Convierte tokens a minúsculas.\n",
    "                             strip_accents='ascii',      # Elimina acentos y caracteres especiales\n",
    "                             smooth_idf=True             # Aplica alisado para prevenir divisiones entre cero.\n",
    "                             #stop_words=stopset\n",
    "                             )"
   ]
  },
  {
   "cell_type": "code",
   "execution_count": 21,
   "metadata": {
    "collapsed": true,
    "deletable": true,
    "editable": true
   },
   "outputs": [],
   "source": [
    "X = vectorizer.fit_transform(tweets[\"Tweet\"])\n",
    "y = tweets[\"Etiqueta\"]"
   ]
  },
  {
   "cell_type": "markdown",
   "metadata": {
    "deletable": true,
    "editable": true
   },
   "source": [
    "La representación vectorial de los tweets es una matriz dispersa de dimensión:"
   ]
  },
  {
   "cell_type": "code",
   "execution_count": 22,
   "metadata": {
    "collapsed": false,
    "deletable": true,
    "editable": true
   },
   "outputs": [
    {
     "name": "stdout",
     "output_type": "stream",
     "text": [
      "(12166, 10682)\n"
     ]
    }
   ],
   "source": [
    "print(X.shape)"
   ]
  },
  {
   "cell_type": "markdown",
   "metadata": {
    "deletable": true,
    "editable": true
   },
   "source": [
    "### Matriz dispersa"
   ]
  },
  {
   "cell_type": "code",
   "execution_count": 23,
   "metadata": {
    "collapsed": false,
    "deletable": true,
    "editable": true
   },
   "outputs": [
    {
     "name": "stdout",
     "output_type": "stream",
     "text": [
      "  (0, 4535)\t0.378494145746\n",
      "  (0, 5279)\t0.212427252826\n",
      "  (0, 632)\t0.397188425839\n",
      "  (0, 10077)\t0.286631623376\n",
      "  (0, 4979)\t0.25755608953\n",
      "  (0, 2969)\t0.278342123988\n",
      "  (0, 6060)\t0.216210920489\n",
      "  (0, 6607)\t0.415882705932\n",
      "  (0, 4208)\t0.278342123988\n",
      "  (0, 7557)\t0.361539912449\n",
      "  (1, 10511)\t0.648417630031\n",
      "  (1, 6600)\t0.455357638544\n",
      "  (1, 5204)\t0.372666696331\n",
      "  (1, 2504)\t0.483035745604\n",
      "  (2, 4642)\t0.383755932838\n",
      "  (2, 4603)\t0.634597252799\n",
      "  (2, 6150)\t0.290266329294\n",
      "  (2, 708)\t0.342081293486\n",
      "  (2, 5403)\t0.49874197485\n",
      "  (3, 8995)\t0.439888309413\n",
      "  (3, 4031)\t0.898052490248\n",
      "  (4, 7838)\t0.736637807743\n",
      "  (4, 1894)\t0.676287468613\n",
      "  (5, 8928)\t1.0\n",
      "  (6, 6666)\t0.375907293831\n",
      "  :\t:\n",
      "  (12160, 3710)\t0.455055240286\n",
      "  (12160, 6789)\t0.396193856035\n",
      "  (12161, 1884)\t0.618397532516\n",
      "  (12161, 5822)\t0.619856205755\n",
      "  (12161, 8235)\t0.483076366597\n",
      "  (12162, 8113)\t0.308110710131\n",
      "  (12162, 10239)\t0.36803566992\n",
      "  (12162, 6269)\t0.580410221427\n",
      "  (12162, 7644)\t0.406290855763\n",
      "  (12162, 3412)\t0.517367617227\n",
      "  (12163, 8719)\t0.265420676711\n",
      "  (12163, 6995)\t0.324051875705\n",
      "  (12163, 8219)\t0.371832432583\n",
      "  (12163, 8811)\t0.427149535735\n",
      "  (12163, 8318)\t0.409330665742\n",
      "  (12163, 8145)\t0.368058799878\n",
      "  (12163, 3898)\t0.44811526234\n",
      "  (12164, 4599)\t0.330026953469\n",
      "  (12164, 4627)\t0.364811485897\n",
      "  (12164, 8235)\t0.260978426973\n",
      "  (12164, 2872)\t0.343289783927\n",
      "  (12164, 7566)\t0.396212154641\n",
      "  (12164, 5899)\t0.644246151065\n",
      "  (12165, 2029)\t0.707106781187\n",
      "  (12165, 10185)\t0.707106781187\n"
     ]
    }
   ],
   "source": [
    "print(X)"
   ]
  },
  {
   "cell_type": "markdown",
   "metadata": {
    "deletable": true,
    "editable": true
   },
   "source": [
    "# Evaluación \n",
    "La evaluación será una de tipo `Hold-out`.\n",
    "\n",
    "Se divide el dataset en subconjuntos de entretamiento y prueba, para esto se utiliza la clase [`train_test_split`](http://scikit-learn.org/stable/modules/generated/sklearn.model_selection.train_test_split.html). Los datos se dividen en 75% para el conjunto de entrenamiento y 25% para el conjunto de pruebas."
   ]
  },
  {
   "cell_type": "markdown",
   "metadata": {
    "deletable": true,
    "editable": true
   },
   "source": [
    "### Segmentación del dataset"
   ]
  },
  {
   "cell_type": "code",
   "execution_count": 24,
   "metadata": {
    "collapsed": false,
    "deletable": true,
    "editable": true
   },
   "outputs": [],
   "source": [
    "X_train, X_test, y_train, y_test = train_test_split(X, y,\n",
    "                                                    shuffle = True)"
   ]
  },
  {
   "cell_type": "markdown",
   "metadata": {
    "deletable": true,
    "editable": true
   },
   "source": [
    "# Método de aprendizaje\n",
    "\n",
    "El método de aprendizaje utilizado es el algoritmo de [Naive Bayes](http://scikit-learn.org/stable/modules/naive_bayes.html) que está incluido en la biblioteca de Machine Learning [Scikit-learn](http://scikit-learn.org/stable/), en específico una variación de este algoritmo que se llama [`MultinomialNB`](http://scikit-learn.org/stable/modules/generated/sklearn.naive_bayes.MultinomialNB.html#sklearn.naive_bayes.MultinomialNB) que se utiliza generalmente para clasificación de texto.\n",
    "\n",
    "Se elige este método ya que es escalable y computacionalmente no es muy complejo durante la etapa de entrenamiento.\n",
    "\n",
    "\n",
    "# Clasificador Naive Bayes\n",
    "\n",
    "\n",
    "Se instancia el clasificador [Naive Bayes](http://scikit-learn.org/stable/modules/naive_bayes.html) en su versión de [`MultinomialNB`](http://scikit-learn.org/stable/modules/generated/sklearn.naive_bayes.MultinomialNB.html#sklearn.naive_bayes.MultinomialNB) con lo siguientes parámetros:\n",
    "\n",
    "* `alpha = 0.42`: Constante para aplicar alisado.\n",
    "* `fit_prior = True`: Para considerar las probabilidades prior de las clases\n",
    "\n",
    "\n",
    "El valor final de `alpha` se determinó de manera empírica ya que es el valor que encontré que hacía que el clasificador tuviera una mayor exactitud al momento de evaluarlo."
   ]
  },
  {
   "cell_type": "code",
   "execution_count": 25,
   "metadata": {
    "collapsed": true,
    "deletable": true,
    "editable": true
   },
   "outputs": [],
   "source": [
    "clf = MultinomialNB(alpha=0.42,fit_prior=True)"
   ]
  },
  {
   "cell_type": "markdown",
   "metadata": {
    "deletable": true,
    "editable": true
   },
   "source": [
    "# Entrenamiento"
   ]
  },
  {
   "cell_type": "code",
   "execution_count": 26,
   "metadata": {
    "collapsed": false,
    "deletable": true,
    "editable": true
   },
   "outputs": [
    {
     "data": {
      "text/plain": [
       "MultinomialNB(alpha=0.42, class_prior=None, fit_prior=True)"
      ]
     },
     "execution_count": 26,
     "metadata": {},
     "output_type": "execute_result"
    }
   ],
   "source": [
    "clf.fit(X_train,y_train)"
   ]
  },
  {
   "cell_type": "markdown",
   "metadata": {
    "deletable": true,
    "editable": true
   },
   "source": [
    "# Performance"
   ]
  },
  {
   "cell_type": "code",
   "execution_count": 27,
   "metadata": {
    "collapsed": false,
    "deletable": true,
    "editable": true
   },
   "outputs": [
    {
     "name": "stdout",
     "output_type": "stream",
     "text": [
      "0.77744904668 %\n"
     ]
    }
   ],
   "source": [
    "print(clf.score(X_test,y_test),\"%\")"
   ]
  },
  {
   "cell_type": "markdown",
   "metadata": {
    "deletable": true,
    "editable": true
   },
   "source": [
    "# Predicción de una nueva instancia\n",
    "\n",
    "Para predecir una nueva instancia, el tweet debe ser un arreglo de tipo `np.array`.Además se debe obtener su representación vectorial para poder evaluar el tweet con el clasificador."
   ]
  },
  {
   "cell_type": "code",
   "execution_count": 28,
   "metadata": {
    "collapsed": true,
    "deletable": true,
    "editable": true
   },
   "outputs": [],
   "source": [
    "def predict(z):\n",
    "    new_tweet = np.array([z])\n",
    "    new_tweet_vector = vectorizer.transform(new_tweet)\n",
    "    print(\"Representación vectorial de: \", z)\n",
    "    print(\"------\" * 10)\n",
    "    print(new_tweet_vector)\n",
    "    print(\"------\" * 10)\n",
    "    print(\"Evualuación:\")\n",
    "    if clf.predict(new_tweet_vector)[0] == 1:\n",
    "        print(z,\" es: positivo\")\n",
    "    else:\n",
    "        print(z, \" es: negativo\")"
   ]
  },
  {
   "cell_type": "code",
   "execution_count": 29,
   "metadata": {
    "collapsed": false,
    "deletable": true,
    "editable": true
   },
   "outputs": [
    {
     "name": "stdout",
     "output_type": "stream",
     "text": [
      "Representación vectorial de:  Ojalá mañana sea un buen día\n",
      "------------------------------------------------------------\n",
      "  (0, 10007)\t0.546318232435\n",
      "  (0, 7036)\t0.546318232435\n",
      "  (0, 6061)\t0.546318232435\n",
      "  (0, 3089)\t0.240335983063\n",
      "  (0, 1566)\t0.216443484476\n",
      "------------------------------------------------------------\n",
      "Evualuación:\n",
      "Ojalá mañana sea un buen día  es: positivo\n"
     ]
    }
   ],
   "source": [
    "z1 = \"Ojalá mañana sea un buen día\"\n",
    "predict(z1)"
   ]
  },
  {
   "cell_type": "code",
   "execution_count": 30,
   "metadata": {
    "collapsed": false,
    "deletable": true,
    "editable": true
   },
   "outputs": [
    {
     "name": "stdout",
     "output_type": "stream",
     "text": [
      "Representación vectorial de:  Ya es lunes :(\n",
      "------------------------------------------------------------\n",
      "  (0, 10574)\t1.0\n",
      "------------------------------------------------------------\n",
      "Evualuación:\n",
      "Ya es lunes :(  es: negativo\n"
     ]
    }
   ],
   "source": [
    "z2 = \"Ya es lunes :(\"\n",
    "predict(z2)"
   ]
  },
  {
   "cell_type": "markdown",
   "metadata": {
    "deletable": true,
    "editable": true
   },
   "source": [
    "# Análisis de resultados"
   ]
  },
  {
   "cell_type": "code",
   "execution_count": 31,
   "metadata": {
    "collapsed": true,
    "deletable": true,
    "editable": true
   },
   "outputs": [],
   "source": [
    "from sklearn.metrics import classification_report,confusion_matrix"
   ]
  },
  {
   "cell_type": "markdown",
   "metadata": {
    "deletable": true,
    "editable": true
   },
   "source": [
    "#### Se obtienen las predicciones de todos los tweets para poder hacer un análisis de los resultados obtenidos"
   ]
  },
  {
   "cell_type": "code",
   "execution_count": 32,
   "metadata": {
    "collapsed": false,
    "deletable": true,
    "editable": true
   },
   "outputs": [
    {
     "name": "stdout",
     "output_type": "stream",
     "text": [
      "[1 1 1 ..., 2 2 2]\n"
     ]
    }
   ],
   "source": [
    "all_predictions = clf.predict(vectorizer.transform(tweets[\"Tweet\"]))\n",
    "print (all_predictions)"
   ]
  },
  {
   "cell_type": "markdown",
   "metadata": {
    "deletable": true,
    "editable": true
   },
   "source": [
    "### Matriz de confusión\n",
    "\n",
    "La matriz de confusión nos da información acerca de los resultados predichos por el clasificador y su verdadera etiqueta. Los valores de la diagonal de esta matriz nos indica el total de instancias que fueron clasificadas correctamente mientras que los valores que no están en la diagonal son instancias que fueron clasificadas como negativas cuando en realidad eran positivas y viceversa."
   ]
  },
  {
   "cell_type": "code",
   "execution_count": 33,
   "metadata": {
    "collapsed": true,
    "deletable": true,
    "editable": true
   },
   "outputs": [],
   "source": [
    "tn, fp, fn, tp = confusion_matrix(all_predictions,tweets['Etiqueta'],\n",
    "                                                           labels=[1,2]).ravel()"
   ]
  },
  {
   "cell_type": "code",
   "execution_count": 34,
   "metadata": {
    "collapsed": false,
    "deletable": true,
    "editable": true,
    "scrolled": true
   },
   "outputs": [
    {
     "data": {
      "text/plain": [
       "(4490, 479, 1006, 6191)"
      ]
     },
     "execution_count": 34,
     "metadata": {},
     "output_type": "execute_result"
    }
   ],
   "source": [
    "tn, fp, fn, tp"
   ]
  },
  {
   "cell_type": "code",
   "execution_count": 36,
   "metadata": {},
   "outputs": [
    {
     "name": "stdout",
     "output_type": "stream",
     "text": [
      "verdaderos negativos \t4490\n",
      "falsos positivos \t479\n",
      "falsos negativos \t1006\n",
      "verdaderos positivos \t6191      \n"
     ]
    }
   ],
   "source": [
    "print(\"verdaderos negativos \\t{}\\nfalsos positivos \\t{}\\nfalsos negativos \\t{}\\nverdaderos positivos \\t{}\\\n",
    "      \".format(tn, fp, fn, tp))"
   ]
  },
  {
   "cell_type": "markdown",
   "metadata": {
    "deletable": true,
    "editable": true
   },
   "source": [
    "\n",
    "<table>\n",
    "  <tr>\n",
    "    <th colspan=\"2\"></th>\n",
    "    <th colspan=\"2\">Clase predicha<br></th>\n",
    "  </tr>\n",
    "  <tr>\n",
    "    <th rowspan=\"3\">Clase verdadera<br></th>\n",
    "    <td>P</td>\n",
    "    <td>N</td>\n",
    "  </tr>\n",
    "  <tr>\n",
    "    <td>P</td>\n",
    "    <td>6191</td>\n",
    "    <td>1006</td>\n",
    "\n",
    "  </tr>\n",
    "  <tr>\n",
    "    <td>N</td>\n",
    "    <td>479</td>\n",
    "    <td>4490</td>\n",
    "  </tr>\n",
    "</table>"
   ]
  },
  {
   "cell_type": "markdown",
   "metadata": {
    "deletable": true,
    "editable": true
   },
   "source": [
    "Se observa que los tweets clasificados como falsos positivos son más en comparación con los tweets clasificados como falsos negativos, es decir que al clasificador le es más complicado determinar si un tweet es positivo que si es negativo.\n",
    "\n",
    "Esto se debe, en parte, a que en el dataset hay más tweets negativos (6670 instancias) que tweets positivos (5496 instancias), lo que implica que haya  una diferencia en el número de instancias de 1174 tweets en el dataset y es posible que este sesgo afecte el desempeño del clasificador para determinar correctamente los tweets de la clase positiva debido a que no tiene tantas instancias positivas como para poder hacer una generalización más adecuada de tweets positivos."
   ]
  },
  {
   "cell_type": "code",
   "execution_count": 73,
   "metadata": {
    "collapsed": false,
    "deletable": true,
    "editable": true
   },
   "outputs": [
    {
     "name": "stdout",
     "output_type": "stream",
     "text": [
      "                precision    recall  f1-score   support\n",
      "\n",
      "clase positiva       0.90      0.82      0.86      5496\n",
      "clase negativa       0.86      0.93      0.89      6670\n",
      "\n",
      "   avg / total       0.88      0.88      0.88     12166\n",
      "\n"
     ]
    }
   ],
   "source": [
    "target_names = ['clase positiva','clase negativa']\n",
    "print (classification_report(tweets['Etiqueta'], all_predictions,target_names=target_names))"
   ]
  },
  {
   "cell_type": "markdown",
   "metadata": {
    "deletable": true,
    "editable": true
   },
   "source": [
    "En la tabla anterior se muestra la precisión, recall y f1-score del algoritmo para clasificar los tweets. Se presenta una diferencia del 9% en el recall de las clases que implica que la clase positiva tiene más 'ruido' y es menos informativa lo que se que transforma en un mayor número de tweets positivos mal clasificados por el algoritmo a diferencia de la clase negativa, debido a que existen mayor número de instancias de esta clase lo que ayuda a que el recall de los tweets negativos sea mayor y que sean clasificados con mayor precisión.\n",
    "\n",
    "# Conclusiones\n",
    "Un clasificador Naive-Bayes es un algoritmo que permite escalabilidad y poderoso que no requiere de mucho poder de procesamiento para su entrenamiento y que es usado regularmente en tareas de clasificación de textos.\n",
    "\n",
    "El dataset, al ser de tweets en idioma español, contiene texto informal y que en algunos casos los tweets contienen ambigüedad, lo que dificulta la tarea de clasificación, por lo tanto, es aconsejable tener en cuenta que los tweets pueden representar, además de sentimientos positivos y negativos, sarcasmo, ironías, etc.\n",
    "\n",
    "Al haber más instancias de una clase que de otra, el dataset está sesgado y debido a esto tiene más ejemplos sobre tweets negativos que positivos lo que le permite al clasificador obtener una generalización más robusta para determinar si un tweet es negativo, esta diferencia en el número de instancias negativas y positivas representa un 10.36% del tamaño total del dataset lo que se refleja en un mal desempeño al momento de clasificar tweets positivos. Por otra parte, hay que tomar en cuenta que algunas muestra de tweets están escritas en inglés y esto también pudo haber afectado al performance"
   ]
  },
  {
   "cell_type": "markdown",
   "metadata": {
    "deletable": true,
    "editable": true
   },
   "source": [
    "# Referencias\n",
    "* https://medium.com/towards-data-science/twitter-sentiment-analysis-on-car-brands-c13d449eb9fc\n",
    "* https://www.ravikiranj.net/posts/2012/code/how-build-twitter-sentiment-analyzer/\n",
    "* http://textblob.readthedocs.io/en/latest/advanced_usage.html#sentiment-analyzers\n",
    "* https://marcobonzanini.com/2015/05/17/mining-twitter-data-with-python-part-6-sentiment-analysis-basics/\n",
    "* http://www.geeksforgeeks.org/twitter-sentiment-analysis-using-python/\n",
    "* https://dev.to/rodolfoferro/sentiment-analysis-on-trumpss-tweets-using-python-\n",
    "* http://adataanalyst.com/scikit-learn/countvectorizer-sklearn-example/\n",
    "* http://scikit-learn.org/stable/modules/generated/sklearn.metrics.confusion_matrix.html"
   ]
  }
 ],
 "metadata": {
  "kernelspec": {
   "display_name": "Python 3",
   "language": "python",
   "name": "python3"
  },
  "language_info": {
   "codemirror_mode": {
    "name": "ipython",
    "version": 3
   },
   "file_extension": ".py",
   "mimetype": "text/x-python",
   "name": "python",
   "nbconvert_exporter": "python",
   "pygments_lexer": "ipython3",
   "version": "3.6.3"
  }
 },
 "nbformat": 4,
 "nbformat_minor": 2
}
