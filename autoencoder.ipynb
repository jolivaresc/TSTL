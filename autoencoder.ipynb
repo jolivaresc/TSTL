{
  "nbformat": 4,
  "nbformat_minor": 0,
  "metadata": {
    "colab": {
      "name": "autoencoder.ipynb",
      "version": "0.3.2",
      "views": {},
      "default_view": {},
      "provenance": [],
      "collapsed_sections": []
    },
    "kernelspec": {
      "name": "python3",
      "display_name": "Python 3"
    },
    "accelerator": "GPU"
  },
  "cells": [
    {
      "metadata": {
        "id": "BnmksSKy__P5",
        "colab_type": "code",
        "colab": {
          "autoexec": {
            "startup": false,
            "wait_interval": 0
          }
        }
      },
      "cell_type": "code",
      "source": [
        "import tensorflow as tf"
      ],
      "execution_count": 0,
      "outputs": []
    },
    {
      "metadata": {
        "id": "HaLCWCLdAqjB",
        "colab_type": "code",
        "colab": {
          "autoexec": {
            "startup": false,
            "wait_interval": 0
          },
          "output_extras": [
            {
              "item_id": 1
            }
          ],
          "base_uri": "https://localhost:8080/",
          "height": 34
        },
        "outputId": "ca90fe09-d6b2-45a3-d6cd-33167d664b87",
        "executionInfo": {
          "status": "ok",
          "timestamp": 1516761174926,
          "user_tz": 360,
          "elapsed": 2177,
          "user": {
            "displayName": "José Castillo",
            "photoUrl": "//lh6.googleusercontent.com/-Rz3R3wYNNQs/AAAAAAAAAAI/AAAAAAAAjjM/p1QOaiSP3Nc/s50-c-k-no/photo.jpg",
            "userId": "105435570147088816949"
          }
        }
      },
      "cell_type": "code",
      "source": [
        "tf.test.gpu_device_name()"
      ],
      "execution_count": 9,
      "outputs": [
        {
          "output_type": "execute_result",
          "data": {
            "text/plain": [
              "'/device:GPU:0'"
            ]
          },
          "metadata": {
            "tags": []
          },
          "execution_count": 9
        }
      ]
    },
    {
      "metadata": {
        "id": "5hydZ0_ZArjf",
        "colab_type": "code",
        "colab": {
          "autoexec": {
            "startup": false,
            "wait_interval": 0
          }
        }
      },
      "cell_type": "code",
      "source": [
        "from pandas import set_option, read_csv\n",
        "import os"
      ],
      "execution_count": 0,
      "outputs": []
    },
    {
      "metadata": {
        "id": "odSizFXbBUvW",
        "colab_type": "code",
        "colab": {
          "autoexec": {
            "startup": false,
            "wait_interval": 0
          },
          "output_extras": [
            {
              "item_id": 1
            }
          ],
          "base_uri": "https://localhost:8080/",
          "height": 34
        },
        "outputId": "fd818473-4529-4a26-a6c3-4a448a928f0c",
        "executionInfo": {
          "status": "ok",
          "timestamp": 1516761342440,
          "user_tz": 360,
          "elapsed": 2782,
          "user": {
            "displayName": "José Castillo",
            "photoUrl": "//lh6.googleusercontent.com/-Rz3R3wYNNQs/AAAAAAAAAAI/AAAAAAAAjjM/p1QOaiSP3Nc/s50-c-k-no/photo.jpg",
            "userId": "105435570147088816949"
          }
        }
      },
      "cell_type": "code",
      "source": [
        "os.getcwd()"
      ],
      "execution_count": 13,
      "outputs": [
        {
          "output_type": "execute_result",
          "data": {
            "text/plain": [
              "'/content'"
            ]
          },
          "metadata": {
            "tags": []
          },
          "execution_count": 13
        }
      ]
    },
    {
      "metadata": {
        "id": "58j1clcBBGpz",
        "colab_type": "code",
        "colab": {
          "autoexec": {
            "startup": false,
            "wait_interval": 0
          }
        }
      },
      "cell_type": "code",
      "source": [
        "from google.colab import files"
      ],
      "execution_count": 0,
      "outputs": []
    },
    {
      "metadata": {
        "id": "GlBaLXf5FiZT",
        "colab_type": "code",
        "colab": {
          "autoexec": {
            "startup": false,
            "wait_interval": 0
          },
          "output_extras": [
            {
              "item_id": 1
            }
          ],
          "resources": {
            "http://localhost:8080/nbextensions/google.colab/files.js": {
              "data": "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",
              "ok": true,
              "headers": [
                [
                  "content-type",
                  "application/javascript"
                ]
              ],
              "status": 200,
              "status_text": ""
            }
          },
          "base_uri": "https://localhost:8080/",
          "height": 55
        },
        "outputId": "cb41aafe-c546-4f73-c3a6-67f3a99730dd",
        "executionInfo": {
          "status": "ok",
          "timestamp": 1516762478463,
          "user_tz": 360,
          "elapsed": 25713,
          "user": {
            "displayName": "José Castillo",
            "photoUrl": "//lh6.googleusercontent.com/-Rz3R3wYNNQs/AAAAAAAAAAI/AAAAAAAAjjM/p1QOaiSP3Nc/s50-c-k-no/photo.jpg",
            "userId": "105435570147088816949"
          }
        }
      },
      "cell_type": "code",
      "source": [
        "uploaded = files.upload()"
      ],
      "execution_count": 15,
      "outputs": [
        {
          "output_type": "display_data",
          "data": {
            "text/html": [
              "\n",
              "     <input type=\"file\" id=\"files-6fde87ba-6b21-4cc0-afe5-2011457217d9\" name=\"files[]\" multiple disabled />\n",
              "     <output id=\"result-6fde87ba-6b21-4cc0-afe5-2011457217d9\">\n",
              "      Upload widget is only available when the cell has been executed in the\n",
              "      current browser session. Please rerun this cell to enable.\n",
              "      </output>\n",
              "      <script src=\"/nbextensions/google.colab/files.js\"</script> "
            ],
            "text/plain": [
              "<IPython.core.display.HTML object>"
            ]
          },
          "metadata": {
            "tags": []
          }
        }
      ]
    },
    {
      "metadata": {
        "id": "gvrPPdo_FlK4",
        "colab_type": "code",
        "colab": {
          "autoexec": {
            "startup": false,
            "wait_interval": 0
          },
          "output_extras": [
            {
              "item_id": 1
            }
          ],
          "base_uri": "https://localhost:8080/",
          "height": 54
        },
        "outputId": "3ef452b6-cea0-46c9-e14a-9aecf47f7940",
        "executionInfo": {
          "status": "ok",
          "timestamp": 1516762540085,
          "user_tz": 360,
          "elapsed": 2098,
          "user": {
            "displayName": "José Castillo",
            "photoUrl": "//lh6.googleusercontent.com/-Rz3R3wYNNQs/AAAAAAAAAAI/AAAAAAAAjjM/p1QOaiSP3Nc/s50-c-k-no/photo.jpg",
            "userId": "105435570147088816949"
          }
        }
      },
      "cell_type": "code",
      "source": [
        "uploaded['lexicon.esna.proc.norep.tmp2']"
      ],
      "execution_count": 17,
      "outputs": [
        {
          "output_type": "execute_result",
          "data": {
            "text/plain": [
              "b'cebolla xonaca\\najo axox\\nkilo ki\\naqu\\xc3\\xad nican\\nhaba ahuax\\ndinero tomin\\nno amo\\nchile chil\\ncucharada xumalli\\namar tlazohtla\\na\\xc3\\xb1o xihuitl\\nsal izta\\n2 ome\\nluego niman\\n8 chicuey\\n5 macuil\\nnoche yohual\\nelote elo\\njuan juan\\nvender tlanamaca\\npedernal tecpa\\n6 chicuacen\\ndiego diego\\ny huan\\n4 nahui\\nllorar choca\\ncomal comal\\nvivir nemi\\nmanteca chiyahuizotl\\nhongo nanacatl\\nflor xochi\\nnopal nohpal\\nescudo chimal\\nd\\xc3\\xada tonal\\npollo poyox\\natole atol\\nzanahoria zanahoria\\nahora axcan\\ntraficante pochteca\\nsan san\\ntrabajar tequiti\\nmorir miqui\\ncasa chan\\ncuerpo nacayo\\ncarne naca\\nmasa textli\\nzapatista zapatista\\nmar\\xc3\\xada maria\\ncarlos carlo\\narroz arroz\\naz\\xc3\\xbacar tzopel\\ndespu\\xc3\\xa9s zatepan\\nma\\xc3\\xb1ana moztla\\nropa tzotzoma\\nuno ce\\nmercado tianquiz\\nmucho miac\\nmexicano mexica\\ntamal tamalli\\nmes metz\\nguerra yao\\nenojar cualan\\nrico tlatquihua\\nsalir quiza\\nobispo obispo\\nviento eheca\\nciudad altepe\\ndialogar onotzalli\\ntortilla tlaxcal\\ncamisa huipil\\nhoja izhua\\nmi no\\nllanto choqui\\ncuando ihcuac\\notro occe\\nnuevo yancui\\ndios dios\\nnaranja naranja\\nfrase tlahtol\\npasar pano\\ncoraz\\xc3\\xb3n yollo\\nh\\xc3\\xbamedo cuechac\\ncaf\\xc3\\xa9 fen\\nvena chilcuitlaxcolli\\nmaestro temachti\\nayudar palehui\\nsombrero cecahuil\\n1 ce\\nmoctezuma motecuhzoma\\n15 caxtol\\norejera nacochtli\\nlibro amox\\nhambre mayana\\ngabriel gabriel\\ntecuciztecatl tecuciztecatl\\nancho patlahua\\n\\xc3\\xa1ngel angel\\nguadalupe guadalu\\ntener pia\\nqu\\xc3\\xa9 tlen\\nm\\xc3\\xa1s achi\\nmujer cihua\\n10 mahtlac\\ndesarrollar mozcalti\\nfamilia yeliz\\no ahnozo\\npa\\xc3\\xb1ete maxtla\\nmanzana manzana\\n7 chic\\nrociar rociaro\\ntodo noch\\nclavo clavo\\namigo icnin\\nllano talmanic\\nsol tona\\ncatarinas catarina\\npepita ayohhuach\\npapel ama\\nperro chichi\\nvida nemiliz\\ncaer huetzi\\n20 cempoal\\nmazorca izhua\\ngrande hueyi\\nall\\xc3\\xa1 ompa\\ncarpa carpa\\nhuitlacoche cuitlacoch\\ngritar tzatzi\\ntuya mohuaxca\\njade chalchihui\\ncomida tlacual\\ntaza tecon\\ntierra tlalticpac\\ncu\\xc3\\xa1nto quezqui\\nsilvia silvia\\npatio itual\\nhormiga azcat\\nazcapotzalco azcapotzal\\nmadre nantzin\\ncon ica\\nse mo\\n\\xc3\\xa1mbar apozonal\\nzapata zapata\\ncollar cozcatl\\narrodillar motlancua\\ntarde teotlac\\ndue\\xc3\\xb1o axcatili\\nsalsa chilmolli\\nvecino calehcapo\\ntomate toma\\nmolleja xaltemetl\\nprimero achtopa\\noro teocuitla\\ncucharadita xuxumalton\\nadiv\\xc3\\xadnenlo xicadivinaro\\nalguien aca\\nbuscar temoa\\nbarrer chpana\\npoco tepi\\njitomate toma\\nentrar calaqui\\nc\\xc3\\xb3mo quenin\\nmentiroso iztlacatini\\nsaber mati\\nenfermo cocox\\nizquierda pochcopa\\nnuestro to\\ncoche calmimilo\\nme nech\\nesperar chia\\nlicuadora tzoaloni\\nala namoahtapal\\nespeso tetzahua\\nbarranco atahuit\\nquerer nequi\\namarillo coz\\ngustar pactia\\nmolcajete molcaxitl\\nremuneraci\\xc3\\xb3n taxtahuil\\ncierto melahua\\nmiguel miguel\\nanimal yolca\\ndar maca\\npalabra tlahtol\\nlejos huehca\\nd\\xc3\\xb3nde can\\nmanantial ameyal\\n\\xc3\\xa9l yehua\\ncontestar tlananquili\\nmanta tilmah\\npreocupar motequipacho\\nmedio nepantla\\nquetzal quetzal\\nbueno cual\\ndetener moilochti\\ntigre ocelo\\nquesadilla tlatemitiltlaxcalli\\nespa\\xc3\\xb1ol caxtilan\\nsilla icpal\\ndescansar mocehui\\nzapoteco zapoteca\\ncomenzar pehua\\ndocto tlamati\\nra\\xc3\\xadz nelhuayo\\ndormir cochi\\nca\\xc3\\xb1a aca\\nfuego tle\\nvenir hual\\ncaro patio\\npromesa nehtol\\nregazo cuexan\\ncuidador apiani\\nhombre tlaca\\n\\xc3\\xa1rbol cuahuitl\\nh\\xc3\\xadgado ieltapach\\npalacio tecpan\\nestudiar machti\\nbien cual\\nrel\\xc3\\xa1mpago petani\\nanteayer huiptla\\nvenado maza\\nmover olinia\\nparecer neci\\nquedar cahua\\ncirio cirio\\nayocote ayecoh\\ncerro tepe\\nmiel necuh\\ntuyo mohuaxca\\nrojo chichil\\nch\\xc3\\xadcharos calhuahza\\nlavar paca\\narriba ahco\\nall\\xc3\\xad oncan\\nanciano ilama\\ntapar pachoa\\ncampo xtlahua\\ncalle oh\\namaranto huauh\\ncrecer hueyi\\nbajar temo\\nvapor ihpotoc\\nlengua enepil\\ncomer cua\\ncama tlapech\\ncamino oh\\nhervir cuacualaca\\ncreer neltoc\\noreja nacaz\\nespejo tezca\\nrecordar namiqui\\npuerco pitz\\ncomprar cohua\\nblanco izta\\nya ye\\ncantar cuica\\nempezar pehua\\nplaza tianquiz\\npanza mazayelnanaca\\nteatro tlamahuiz\\ncomerciante oztomeca\\ngato miz\\nhuir cholo\\npie cxi\\nmexica mexica\\ngerminar celi\\ncanto cuic\\nceniza nex\\njoven telpoca\\ngirar malacacho\\nprontamente ciuhca\\nconocer ixmati\\ntejamanileros tlaxamanil\\nojo ixtelolo\\npluma quetzal\\nmuy huel\\nmam\\xc3\\xa1 nantzin\\nhoy axcan\\ndiente tlan\\nmadrina teoticanantzin\\ncolor tlapal\\nguajolote totol\\nrelleno tlatemitilli\\ncriado tequipano\\nmuchacho ichpoc\\nverde xoxo\\ntristeza tlaocol\\nvar\\xc3\\xb3n oquich\\ncalabaza ayo\\nnos tech\\nbailar mito\\ncastigarlo cohcol\\naliento ihiyo\\nempuje topehua\\nverdad nel\\n3 ye\\ncielo ilhui\\nnombre toca\\naparecer neci\\ncodorniz zol\\nvuelta malacacho\\nfiesta ilhui\\ncastellano caxtilan\\np\\xc3\\xa1jaro tototl\\nembriagar ihuinti\\nmilpa mil\\nderrama tzetzeloa\\nperseguir totoca\\nocelote ocelo\\nprimeramente achtopa\\ncaja petlacal\\nbroma camanal\\nvariar nepapan\\nllover ahui\\nperder polo\\nenfermedad coco\\npasta textli\\nrecipiente comitl\\npelear cualan\\nn\\xc3\\xa1huatl nahuatlahtol\\npoquito tepi\\ntren calmimilo\\nhumedad cuechahua\\nperecer polihui\\nserpiente coatl\\ncalentar totonia\\nantes achto\\npescado michi\\nviejo huehue\\nfog\\xc3\\xb3n tlecuil\\nextraordinario mahuiztic\\nrelatar pohua\\ndistraer ixpetani\\nregresar mocuep\\nescribir hcuilo\\nhora man\\ntejocotes xoco\\nagua a\\ninclinar mopechteccac\\nprisa ciuhca\\navergonzar pinauhtiz\\nle\\xc3\\xb1a cuahuitl\\ncerrar tzacua\\nplaticar nonotza\\nadmirar mahuizo\\ncarb\\xc3\\xb3n tecol\\nbarro zoqui\\nlloro choc\\ncarta ama\\ngota chipi\\ntocar tzotzona\\nembriaguez tlahuana\\nquemar tlatia\\njilguero jilguero\\nsacar quixti\\ncofre petlacal\\ngratificar tlauhtia\\nfumar chichina\\ncontento pahpaqui\\ntambor teponaz\\ntepache necuh\\ndelgado pitzahua\\ncascabel yol\\nculhuacan culhuacan\\nsuspiro elcicihui\\nfuerte chicahua\\nmicrobio yoyolcameh\\ningle inglestlahto\\nsangre ez\\ndivino teo\\ncabeza tzon\\nesquina nacaz\\nroca texcal\\nfresco celi\\ntrabajo tequi\\nfaldell\\xc3\\xadn huipil\\njugar mahui\\nrespuesta tlananquili\\ndescanso mocehui\\nl\\xc3\\xa1grima choqui\\ngarza azta\\n1000 tzon\\nperd\\xc3\\xb3neme xinechmotlapohpolhuili\\nmalacachtepec malacachtepec\\nabrigar quimiloa\\ngracia tazohcamati\\nvendar tlanamaca\\ncuanto quexquich\\ncazuela caxi\\nllevar huica\\nhacer chihua\\nac\\xc3\\xa1 oncan\\nvivo nemi\\nagradecer tazohcamati\\nver tta\\nm\\xc3\\xbasico tlatzotzonque\\nsexto chicuacen\\nhijo pil\\ncultura tlamatiliz\\ndemorar moilochti\\npueblo altepe\\nlimpiar chipahuaque\\nllamar notza\\nbrevemente ciuhca\\namado tlazohtla\\npregunta htlani\\nvendo tlanamaca\\nhablar tlahtohua\\nfuerza chicauh\\nfortalecer chicahuaz\\nplanta planta\\nleer pohua\\nllamarlo notza\\ncruel pitz\\nvendais tlanamaca\\npensar nicnemili\\nmismo yehua\\ndiariamente moztla\\ndejar cauh\\nt\\xc3\\xado noteahu\\njefe pochteca\\nba\\xc3\\xb1ar tealti\\npadre tata\\ncustodiar pix\\nvarios miac\\nhueso omitz\\nperdonar pohpo\\nsacerdote teopix\\nciertamente nel\\nameis tlazohtla\\ndecir hto\\ngemir choca\\nse\\xc3\\xb1or tlaca\\nextender patahuaz\\nrogar tlauhti\\ngarganta motozcatlan\\ndichoso pahpaqui\\nteporingos teporingo\\nverme itac\\njitomates toma\\nabeto acxoya\\narrastrar huilana\\nconjunto tzmolin\\nvolver cuepa\\ncuidar cuitlahui\\ncuidado cuitlahui\\njunto nahuac\\nentender nlcaci\\nchapultepec chapoltepec\\ndonde can\\nnada amo\\nmeter calaqui\\npertenecer pohui\\njard\\xc3\\xadn xochi\\nverlo taz\\nayuda palehui\\ndurazno tolachno\\ncantor cuic\\nservir serviroz\\nsemilla xinach\\nave quechol\\ncola icuitlapil\\ngorra tzotzocol\\nj\\xc3\\xadcara xical\\npersona tlaca\\nescuela tlamachtil\\nni\\xc3\\xb1o cocone\\ngrueso toma\\nhaber ic\\naceite chiyahuizotl\\nhermano icnin\\ncosta anahuaca\\nvirgen ichpoc\\nliebre naca\\nnecesario nequi\\ngolpear huitequi\\ncalma yocox\\nseguida niman\\nespa\\xc3\\xb1a caxtillan\\ncortar tequi\\nhasta ixquich\\ngran hueyi\\nart\\xc3\\xadculo tlaman\\nobscurecerse yohua\\nvivais nemi\\npajarito tototl\\nmedicina pah\\nvino ohuala\\nencontrar namiqui\\ncolgar pilca\\nenriquecer cuiltono\\nayunar zauh\\npa\\xc3\\xads tlalnan\\ntraer huica\\nl\\xc3\\xa1vese cualtiz\\ntomar cui\\nitacates ihtacatl\\nlago tezca\\nflauta pitza\\nhumo po\\ncaballero pipil\\ncautivo mal\\ntaz\\xc3\\xb3n tecoma\\nexhortaci\\xc3\\xb3n nonotza\\ncesto chiquihui\\narena xal\\nsangrar ommihzo\\npez mimic\\nadivinar xicadivinaro\\ndespedir nahuati\\ncarga mama\\ndulce tzopel\\ngrito tzatzi\\nacostar teca\\ncargar mama\\ncanoa acalli\\ningrato cemelle\\nzapato cah\\nagujero coyoc\\nespantar mauh\\nanhelo elehuia\\ntrasladar micuani\\nmueble icpal\\nescoger pepena\\npap\\xc3\\xa1 tata\\ntienda namacoyan\\ninvocar tenehui\\ndarme maquili\\ndanzar ihtoti\\nmacho oquich\\npe\\xc3\\xb1ascal texcal\\npel\\xc3\\xadcula pelicula\\nmuerto mic\\nproyecto yollamachiliz\\ndesaparecer polihui\\nchalcas chalca\\ncaliente toton\\nimagen ixiptla\\nta\\xc3\\xb1er tzotzona\\ninteresar cualita\\nretornar cuepcayo\\nmoverse olini\\nerror tlapolo\\norina cuitl\\npatria tlalnan\\nordenar nahuati\\namistad icniuh\\nentra\\xc3\\xb1a xillan\\nculhuac\\xc3\\xa1n colhuaca\\nsaludo tlahpal\\ntamboril tzotzona\\nparar quetza\\npreocuparse netequipacholo\\n'"
            ]
          },
          "metadata": {
            "tags": []
          },
          "execution_count": 17
        }
      ]
    },
    {
      "metadata": {
        "id": "nRsOCjAaF5-U",
        "colab_type": "code",
        "colab": {
          "autoexec": {
            "startup": false,
            "wait_interval": 0
          },
          "output_extras": [
            {
              "item_id": 1
            }
          ],
          "base_uri": "https://localhost:8080/",
          "height": 34
        },
        "outputId": "d270aa40-e498-4933-cc9e-92d0869ddc02",
        "executionInfo": {
          "status": "ok",
          "timestamp": 1516762666172,
          "user_tz": 360,
          "elapsed": 1743,
          "user": {
            "displayName": "José Castillo",
            "photoUrl": "//lh6.googleusercontent.com/-Rz3R3wYNNQs/AAAAAAAAAAI/AAAAAAAAjjM/p1QOaiSP3Nc/s50-c-k-no/photo.jpg",
            "userId": "105435570147088816949"
          }
        }
      },
      "cell_type": "code",
      "source": [
        "type(uploaded)"
      ],
      "execution_count": 20,
      "outputs": [
        {
          "output_type": "execute_result",
          "data": {
            "text/plain": [
              "dict"
            ]
          },
          "metadata": {
            "tags": []
          },
          "execution_count": 20
        }
      ]
    },
    {
      "metadata": {
        "id": "W67590qvGIbd",
        "colab_type": "code",
        "colab": {
          "autoexec": {
            "startup": false,
            "wait_interval": 0
          }
        }
      },
      "cell_type": "code",
      "source": [
        "lexicon = uploaded['lexicon.esna.proc.norep.tmp2'].decode(\"utf-8\").split(\"\\n\")"
      ],
      "execution_count": 0,
      "outputs": []
    },
    {
      "metadata": {
        "id": "PT2UzlmVGhaG",
        "colab_type": "code",
        "colab": {
          "autoexec": {
            "startup": false,
            "wait_interval": 0
          },
          "output_extras": [
            {
              "item_id": 1
            }
          ],
          "base_uri": "https://localhost:8080/",
          "height": 34
        },
        "outputId": "d68bd864-0fd6-4af6-c9a5-f42e4ec6f301",
        "executionInfo": {
          "status": "ok",
          "timestamp": 1516762899584,
          "user_tz": 360,
          "elapsed": 942,
          "user": {
            "displayName": "José Castillo",
            "photoUrl": "//lh6.googleusercontent.com/-Rz3R3wYNNQs/AAAAAAAAAAI/AAAAAAAAjjM/p1QOaiSP3Nc/s50-c-k-no/photo.jpg",
            "userId": "105435570147088816949"
          }
        }
      },
      "cell_type": "code",
      "source": [
        "tuple(lexicon[0].split())"
      ],
      "execution_count": 34,
      "outputs": [
        {
          "output_type": "execute_result",
          "data": {
            "text/plain": [
              "('cebolla', 'xonaca')"
            ]
          },
          "metadata": {
            "tags": []
          },
          "execution_count": 34
        }
      ]
    },
    {
      "metadata": {
        "id": "G1dlUJrrH9Xq",
        "colab_type": "code",
        "colab": {
          "autoexec": {
            "startup": false,
            "wait_interval": 0
          }
        }
      },
      "cell_type": "code",
      "source": [
        "import pandas as pd"
      ],
      "execution_count": 0,
      "outputs": []
    },
    {
      "metadata": {
        "id": "Glc-v1KeHSBm",
        "colab_type": "code",
        "colab": {
          "autoexec": {
            "startup": false,
            "wait_interval": 0
          }
        }
      },
      "cell_type": "code",
      "source": [
        "lexicon_ = list()\n",
        "for i in lexicon:\n",
        "  lexicon_.append(tuple(i.split()))"
      ],
      "execution_count": 0,
      "outputs": []
    },
    {
      "metadata": {
        "id": "psBHyuO5Hnot",
        "colab_type": "code",
        "colab": {
          "autoexec": {
            "startup": false,
            "wait_interval": 0
          }
        }
      },
      "cell_type": "code",
      "source": [
        "lexicon_df = pd.DataFrame.from_records(lexicon_,columns=['esp','nah'])"
      ],
      "execution_count": 0,
      "outputs": []
    },
    {
      "metadata": {
        "id": "C55PlxfxIMYn",
        "colab_type": "code",
        "colab": {
          "autoexec": {
            "startup": false,
            "wait_interval": 0
          }
        }
      },
      "cell_type": "code",
      "source": [
        "lexicon_df['esp']"
      ],
      "execution_count": 0,
      "outputs": []
    },
    {
      "metadata": {
        "id": "qIK0QmklIXsU",
        "colab_type": "code",
        "colab": {
          "autoexec": {
            "startup": false,
            "wait_interval": 0
          },
          "output_extras": [
            {
              "item_id": 1
            }
          ],
          "resources": {
            "http://localhost:8080/nbextensions/google.colab/files.js": {
              "data": "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",
              "ok": true,
              "headers": [
                [
                  "content-type",
                  "application/javascript"
                ]
              ],
              "status": 200,
              "status_text": ""
            }
          },
          "base_uri": "https://localhost:8080/",
          "height": 55
        },
        "outputId": "8902159d-3a10-48b5-a899-ebfb3e6fe963",
        "executionInfo": {
          "status": "ok",
          "timestamp": 1516764965948,
          "user_tz": 360,
          "elapsed": 104180,
          "user": {
            "displayName": "José Castillo",
            "photoUrl": "//lh6.googleusercontent.com/-Rz3R3wYNNQs/AAAAAAAAAAI/AAAAAAAAjjM/p1QOaiSP3Nc/s50-c-k-no/photo.jpg",
            "userId": "105435570147088816949"
          }
        }
      },
      "cell_type": "code",
      "source": [
        "uploaded1 = files.upload()"
      ],
      "execution_count": 53,
      "outputs": [
        {
          "output_type": "display_data",
          "data": {
            "text/html": [
              "\n",
              "     <input type=\"file\" id=\"files-947d4e4c-de49-4364-b11d-bf6840849672\" name=\"files[]\" multiple disabled />\n",
              "     <output id=\"result-947d4e4c-de49-4364-b11d-bf6840849672\">\n",
              "      Upload widget is only available when the cell has been executed in the\n",
              "      current browser session. Please rerun this cell to enable.\n",
              "      </output>\n",
              "      <script src=\"/nbextensions/google.colab/files.js\"</script> "
            ],
            "text/plain": [
              "<IPython.core.display.HTML object>"
            ]
          },
          "metadata": {
            "tags": []
          }
        }
      ]
    },
    {
      "metadata": {
        "id": "cZIUnTBUJy_w",
        "colab_type": "code",
        "colab": {
          "autoexec": {
            "startup": false,
            "wait_interval": 0
          }
        }
      },
      "cell_type": "code",
      "source": [
        "na_n2v = uploaded1"
      ],
      "execution_count": 0,
      "outputs": []
    },
    {
      "metadata": {
        "id": "2HXrJayPJ29a",
        "colab_type": "code",
        "colab": {
          "autoexec": {
            "startup": false,
            "wait_interval": 0
          },
          "output_extras": [
            {
              "item_id": 1
            }
          ],
          "resources": {
            "http://localhost:8080/nbextensions/google.colab/files.js": {
              "data": "Ly8gQ29weXJpZ2h0IDIwMTcgR29vZ2xlIExMQwovLwovLyBMaWNlbnNlZCB1bmRlciB0aGUgQXBhY2hlIExpY2Vuc2UsIFZlcnNpb24gMi4wICh0aGUgIkxpY2Vuc2UiKTsKLy8geW91IG1heSBub3QgdXNlIHRoaXMgZmlsZSBleGNlcHQgaW4gY29tcGxpYW5jZSB3aXRoIHRoZSBMaWNlbnNlLgovLyBZb3UgbWF5IG9idGFpbiBhIGNvcHkgb2YgdGhlIExpY2Vuc2UgYXQKLy8KLy8gICAgICBodHRwOi8vd3d3LmFwYWNoZS5vcmcvbGljZW5zZXMvTElDRU5TRS0yLjAKLy8KLy8gVW5sZXNzIHJlcXVpcmVkIGJ5IGFwcGxpY2FibGUgbGF3IG9yIGFncmVlZCB0byBpbiB3cml0aW5nLCBzb2Z0d2FyZQovLyBkaXN0cmlidXRlZCB1bmRlciB0aGUgTGljZW5zZSBpcyBkaXN0cmlidXRlZCBvbiBhbiAiQVMgSVMiIEJBU0lTLAovLyBXSVRIT1VUIFdBUlJBTlRJRVMgT1IgQ09ORElUSU9OUyBPRiBBTlkgS0lORCwgZWl0aGVyIGV4cHJlc3Mgb3IgaW1wbGllZC4KLy8gU2VlIHRoZSBMaWNlbnNlIGZvciB0aGUgc3BlY2lmaWMgbGFuZ3VhZ2UgZ292ZXJuaW5nIHBlcm1pc3Npb25zIGFuZAovLyBsaW1pdGF0aW9ucyB1bmRlciB0aGUgTGljZW5zZS4KCi8qKgogKiBAZmlsZW92ZXJ2aWV3IEhlbHBlcnMgZm9yIGdvb2dsZS5jb2xhYiBQeXRob24gbW9kdWxlLgogKi8KKGZ1bmN0aW9uKHNjb3BlKSB7CmZ1bmN0aW9uIHNwYW4odGV4dCwgc3R5bGVBdHRyaWJ1dGVzID0ge30pIHsKICBjb25zdCBlbGVtZW50ID0gZG9jdW1lbnQuY3JlYXRlRWxlbWVudCgnc3BhbicpOwogIGVsZW1lbnQudGV4dENvbnRlbnQgPSB0ZXh0OwogIGZvciAoY29uc3Qga2V5IG9mIE9iamVjdC5rZXlzKHN0eWxlQXR0cmlidXRlcykpIHsKICAgIGVsZW1lbnQuc3R5bGVba2V5XSA9IHN0eWxlQXR0cmlidXRlc1trZXldOwogIH0KICByZXR1cm4gZWxlbWVudDsKfQoKLy8gTWF4IG51bWJlciBvZiBieXRlcyB3aGljaCB3aWxsIGJlIHVwbG9hZGVkIGF0IGEgdGltZS4KY29uc3QgTUFYX1BBWUxPQURfU0laRSA9IDEwMCAqIDEwMjQ7Ci8vIE1heCBhbW91bnQgb2YgdGltZSB0byBibG9jayB3YWl0aW5nIGZvciB0aGUgdXNlci4KY29uc3QgRklMRV9DSEFOR0VfVElNRU9VVF9NUyA9IDMwICogMTAwMDsKCmZ1bmN0aW9uIF91cGxvYWRGaWxlcyhpbnB1dElkLCBvdXRwdXRJZCkgewogIGNvbnN0IHN0ZXBzID0gdXBsb2FkRmlsZXNTdGVwKGlucHV0SWQsIG91dHB1dElkKTsKICBjb25zdCBvdXRwdXRFbGVtZW50ID0gZG9jdW1lbnQuZ2V0RWxlbWVudEJ5SWQob3V0cHV0SWQpOwogIC8vIENhY2hlIHN0ZXBzIG9uIHRoZSBvdXRwdXRFbGVtZW50IHRvIG1ha2UgaXQgYXZhaWxhYmxlIGZvciB0aGUgbmV4dCBjYWxsCiAgLy8gdG8gdXBsb2FkRmlsZXNDb250aW51ZSBmcm9tIFB5dGhvbi4KICBvdXRwdXRFbGVtZW50LnN0ZXBzID0gc3RlcHM7CgogIHJldHVybiBfdXBsb2FkRmlsZXNDb250aW51ZShvdXRwdXRJZCk7Cn0KCi8vIFRoaXMgaXMgcm91Z2hseSBhbiBhc3luYyBnZW5lcmF0b3IgKG5vdCBzdXBwb3J0ZWQgaW4gdGhlIGJyb3dzZXIgeWV0KSwKLy8gd2hlcmUgdGhlcmUgYXJlIG11bHRpcGxlIGFzeW5jaHJvbm91cyBzdGVwcyBhbmQgdGhlIFB5dGhvbiBzaWRlIGlzIGdvaW5nCi8vIHRvIHBvbGwgZm9yIGNvbXBsZXRpb24gb2YgZWFjaCBzdGVwLgovLyBUaGlzIHVzZXMgYSBQcm9taXNlIHRvIGJsb2NrIHRoZSBweXRob24gc2lkZSBvbiBjb21wbGV0aW9uIG9mIGVhY2ggc3RlcCwKLy8gdGhlbiBwYXNzZXMgdGhlIHJlc3VsdCBvZiB0aGUgcHJldmlvdXMgc3RlcCBhcyB0aGUgaW5wdXQgdG8gdGhlIG5leHQgc3RlcC4KZnVuY3Rpb24gX3VwbG9hZEZpbGVzQ29udGludWUob3V0cHV0SWQpIHsKICBjb25zdCBvdXRwdXRFbGVtZW50ID0gZG9jdW1lbnQuZ2V0RWxlbWVudEJ5SWQob3V0cHV0SWQpOwogIGNvbnN0IHN0ZXBzID0gb3V0cHV0RWxlbWVudC5zdGVwczsKCiAgY29uc3QgbmV4dCA9IHN0ZXBzLm5leHQob3V0cHV0RWxlbWVudC5sYXN0UHJvbWlzZVZhbHVlKTsKICByZXR1cm4gUHJvbWlzZS5yZXNvbHZlKG5leHQudmFsdWUucHJvbWlzZSkudGhlbigodmFsdWUpID0+IHsKICAgIC8vIENhY2hlIHRoZSBsYXN0IHByb21pc2UgdmFsdWUgdG8gbWFrZSBpdCBhdmFpbGFibGUgdG8gdGhlIG5leHQKICAgIC8vIHN0ZXAgb2YgdGhlIGdlbmVyYXRvci4KICAgIG91dHB1dEVsZW1lbnQubGFzdFByb21pc2VWYWx1ZSA9IHZhbHVlOwogICAgcmV0dXJuIG5leHQudmFsdWUucmVzcG9uc2U7CiAgfSk7Cn0KCi8qKgogKiBHZW5lcmF0b3IgZnVuY3Rpb24gd2hpY2ggaXMgY2FsbGVkIGJldHdlZW4gZWFjaCBhc3luYyBzdGVwIG9mIHRoZSB1cGxvYWQKICogcHJvY2Vzcy4KICogQHBhcmFtIHtzdHJpbmd9IGlucHV0SWQgRWxlbWVudCBJRCBvZiB0aGUgaW5wdXQgZmlsZSBwaWNrZXIgZWxlbWVudC4KICogQHBhcmFtIHtzdHJpbmd9IG91dHB1dElkIEVsZW1lbnQgSUQgb2YgdGhlIG91dHB1dCBkaXNwbGF5LgogKiBAcmV0dXJuIHshSXRlcmFibGU8IU9iamVjdD59IEl0ZXJhYmxlIG9mIG5leHQgc3RlcHMuCiAqLwpmdW5jdGlvbiogdXBsb2FkRmlsZXNTdGVwKGlucHV0SWQsIG91dHB1dElkKSB7CiAgY29uc3QgaW5wdXRFbGVtZW50ID0gZG9jdW1lbnQuZ2V0RWxlbWVudEJ5SWQoaW5wdXRJZCk7CiAgaW5wdXRFbGVtZW50LmRpc2FibGVkID0gZmFsc2U7CgogIGNvbnN0IG91dHB1dEVsZW1lbnQgPSBkb2N1bWVudC5nZXRFbGVtZW50QnlJZChvdXRwdXRJZCk7CiAgb3V0cHV0RWxlbWVudC5pbm5lckhUTUwgPSAnJzsKCiAgY29uc3QgcGlja2VkUHJvbWlzZSA9IG5ldyBQcm9taXNlKChyZXNvbHZlKSA9PiB7CiAgICBpbnB1dEVsZW1lbnQuYWRkRXZlbnRMaXN0ZW5lcignY2hhbmdlJywgKGUpID0+IHsKICAgICAgcmVzb2x2ZShlLnRhcmdldC5maWxlcyk7CiAgICB9KTsKICB9KTsKCiAgY29uc3QgY2FuY2VsID0gZG9jdW1lbnQuY3JlYXRlRWxlbWVudCgnYnV0dG9uJyk7CiAgaW5wdXRFbGVtZW50LnBhcmVudEVsZW1lbnQuYXBwZW5kQ2hpbGQoY2FuY2VsKTsKICBjYW5jZWwudGV4dENvbnRlbnQgPSAnQ2FuY2VsIHVwbG9hZCc7CiAgY29uc3QgY2FuY2VsUHJvbWlzZSA9IG5ldyBQcm9taXNlKChyZXNvbHZlKSA9PiB7CiAgICBjYW5jZWwub25jbGljayA9ICgpID0+IHsKICAgICAgcmVzb2x2ZShudWxsKTsKICAgIH07CiAgfSk7CgogIC8vIENhbmNlbCB1cGxvYWQgaWYgdXNlciBoYXNuJ3QgcGlja2VkIGFueXRoaW5nIGluIHRpbWVvdXQuCiAgY29uc3QgdGltZW91dFByb21pc2UgPSBuZXcgUHJvbWlzZSgocmVzb2x2ZSkgPT4gewogICAgc2V0VGltZW91dCgoKSA9PiB7CiAgICAgIHJlc29sdmUobnVsbCk7CiAgICB9LCBGSUxFX0NIQU5HRV9USU1FT1VUX01TKTsKICB9KTsKCiAgLy8gV2FpdCBmb3IgdGhlIHVzZXIgdG8gcGljayB0aGUgZmlsZXMuCiAgY29uc3QgZmlsZXMgPSB5aWVsZCB7CiAgICBwcm9taXNlOiBQcm9taXNlLnJhY2UoW3BpY2tlZFByb21pc2UsIHRpbWVvdXRQcm9taXNlLCBjYW5jZWxQcm9taXNlXSksCiAgICByZXNwb25zZTogewogICAgICBhY3Rpb246ICdzdGFydGluZycsCiAgICB9CiAgfTsKCiAgaWYgKCFmaWxlcykgewogICAgcmV0dXJuIHsKICAgICAgcmVzcG9uc2U6IHsKICAgICAgICBhY3Rpb246ICdjb21wbGV0ZScsCiAgICAgIH0KICAgIH07CiAgfQoKICBjYW5jZWwucmVtb3ZlKCk7CgogIC8vIERpc2FibGUgdGhlIGlucHV0IGVsZW1lbnQgc2luY2UgZnVydGhlciBwaWNrcyBhcmUgbm90IGFsbG93ZWQuCiAgaW5wdXRFbGVtZW50LmRpc2FibGVkID0gdHJ1ZTsKCiAgZm9yIChjb25zdCBmaWxlIG9mIGZpbGVzKSB7CiAgICBjb25zdCBsaSA9IGRvY3VtZW50LmNyZWF0ZUVsZW1lbnQoJ2xpJyk7CiAgICBsaS5hcHBlbmQoc3BhbihmaWxlLm5hbWUsIHtmb250V2VpZ2h0OiAnYm9sZCd9KSk7CiAgICBsaS5hcHBlbmQoc3BhbigKICAgICAgICBgKCR7ZmlsZS50eXBlIHx8ICduL2EnfSkgLSAke2ZpbGUuc2l6ZX0gYnl0ZXMsIGAgKwogICAgICAgIGBsYXN0IG1vZGlmaWVkOiAkewogICAgICAgICAgICBmaWxlLmxhc3RNb2RpZmllZERhdGUgPyBmaWxlLmxhc3RNb2RpZmllZERhdGUudG9Mb2NhbGVEYXRlU3RyaW5nKCkgOgogICAgICAgICAgICAgICAgICAgICAgICAgICAgICAgICAgICAnbi9hJ30gLSAlYCkpOwogICAgY29uc3QgcGVyY2VudCA9IHNwYW4oJzAgZG9uZScpOwogICAgbGkuYXBwZW5kQ2hpbGQocGVyY2VudCk7CgogICAgb3V0cHV0RWxlbWVudC5hcHBlbmRDaGlsZChsaSk7CgogICAgY29uc3QgZmlsZURhdGFQcm9taXNlID0gbmV3IFByb21pc2UoKHJlc29sdmUpID0+IHsKICAgICAgY29uc3QgcmVhZGVyID0gbmV3IEZpbGVSZWFkZXIoKTsKICAgICAgcmVhZGVyLm9ubG9hZCA9IChlKSA9PiB7CiAgICAgICAgcmVzb2x2ZShlLnRhcmdldC5yZXN1bHQpOwogICAgICB9OwogICAgICByZWFkZXIucmVhZEFzQXJyYXlCdWZmZXIoZmlsZSk7CiAgICB9KTsKICAgIC8vIFdhaXQgZm9yIHRoZSBkYXRhIHRvIGJlIHJlYWR5LgogICAgbGV0IGZpbGVEYXRhID0geWllbGQgewogICAgICBwcm9taXNlOiBmaWxlRGF0YVByb21pc2UsCiAgICAgIHJlc3BvbnNlOiB7CiAgICAgICAgYWN0aW9uOiAnY29udGludWUnLAogICAgICB9CiAgICB9OwoKICAgIC8vIFVzZSBhIGNodW5rZWQgc2VuZGluZyB0byBhdm9pZCBtZXNzYWdlIHNpemUgbGltaXRzLiBTZWUgYi82MjExNTY2MC4KICAgIGxldCBwb3NpdGlvbiA9IDA7CiAgICB3aGlsZSAocG9zaXRpb24gPCBmaWxlRGF0YS5ieXRlTGVuZ3RoKSB7CiAgICAgIGNvbnN0IGxlbmd0aCA9IE1hdGgubWluKGZpbGVEYXRhLmJ5dGVMZW5ndGggLSBwb3NpdGlvbiwgTUFYX1BBWUxPQURfU0laRSk7CiAgICAgIGNvbnN0IGNodW5rID0gbmV3IFVpbnQ4QXJyYXkoZmlsZURhdGEsIHBvc2l0aW9uLCBsZW5ndGgpOwogICAgICBwb3NpdGlvbiArPSBsZW5ndGg7CgogICAgICBjb25zdCBiYXNlNjQgPSBidG9hKFN0cmluZy5mcm9tQ2hhckNvZGUuYXBwbHkobnVsbCwgY2h1bmspKTsKICAgICAgeWllbGQgewogICAgICAgIHJlc3BvbnNlOiB7CiAgICAgICAgICBhY3Rpb246ICdhcHBlbmQnLAogICAgICAgICAgZmlsZTogZmlsZS5uYW1lLAogICAgICAgICAgZGF0YTogYmFzZTY0LAogICAgICAgIH0sCiAgICAgIH07CiAgICAgIHBlcmNlbnQudGV4dENvbnRlbnQgPQogICAgICAgICAgYCR7TWF0aC5yb3VuZCgocG9zaXRpb24gLyBmaWxlRGF0YS5ieXRlTGVuZ3RoKSAqIDEwMCl9IGRvbmVgOwogICAgfQogIH0KCiAgLy8gQWxsIGRvbmUuCiAgeWllbGQgewogICAgcmVzcG9uc2U6IHsKICAgICAgYWN0aW9uOiAnY29tcGxldGUnLAogICAgfQogIH07Cn0KCnNjb3BlLmdvb2dsZSA9IHNjb3BlLmdvb2dsZSB8fCB7fTsKc2NvcGUuZ29vZ2xlLmNvbGFiID0gc2NvcGUuZ29vZ2xlLmNvbGFiIHx8IHt9OwpzY29wZS5nb29nbGUuY29sYWIuX2ZpbGVzID0gewogIF91cGxvYWRGaWxlcywKICBfdXBsb2FkRmlsZXNDb250aW51ZSwKfTsKfSkoc2VsZik7Cg==",
              "ok": true,
              "headers": [
                [
                  "content-type",
                  "application/javascript"
                ]
              ],
              "status": 200,
              "status_text": ""
            }
          },
          "base_uri": "https://localhost:8080/",
          "height": 55
        },
        "outputId": "9f5097b6-490f-4fdd-cd69-e6f07516f193",
        "executionInfo": {
          "status": "ok",
          "timestamp": 1516764618297,
          "user_tz": 360,
          "elapsed": 967754,
          "user": {
            "displayName": "José Castillo",
            "photoUrl": "//lh6.googleusercontent.com/-Rz3R3wYNNQs/AAAAAAAAAAI/AAAAAAAAjjM/p1QOaiSP3Nc/s50-c-k-no/photo.jpg",
            "userId": "105435570147088816949"
          }
        }
      },
      "cell_type": "code",
      "source": [
        "uploaded = files.upload()"
      ],
      "execution_count": 47,
      "outputs": [
        {
          "output_type": "display_data",
          "data": {
            "text/html": [
              "\n",
              "     <input type=\"file\" id=\"files-f80063b3-fcff-4869-af20-b37e917486c8\" name=\"files[]\" multiple disabled />\n",
              "     <output id=\"result-f80063b3-fcff-4869-af20-b37e917486c8\">\n",
              "      Upload widget is only available when the cell has been executed in the\n",
              "      current browser session. Please rerun this cell to enable.\n",
              "      </output>\n",
              "      <script src=\"/nbextensions/google.colab/files.js\"</script> "
            ],
            "text/plain": [
              "<IPython.core.display.HTML object>"
            ]
          },
          "metadata": {
            "tags": []
          }
        }
      ]
    },
    {
      "metadata": {
        "id": "0dYJh9qRKJl9",
        "colab_type": "code",
        "colab": {
          "autoexec": {
            "startup": false,
            "wait_interval": 0
          }
        }
      },
      "cell_type": "code",
      "source": [
        "es_n2v = uploaded"
      ],
      "execution_count": 0,
      "outputs": []
    },
    {
      "metadata": {
        "id": "pEJqaX6pPpxd",
        "colab_type": "code",
        "colab": {
          "autoexec": {
            "startup": false,
            "wait_interval": 0
          }
        }
      },
      "cell_type": "code",
      "source": [
        "es_n2v = es_n2v['es.node2vec.embeddings'].decode(\"utf-8\").split(\"\\n\")"
      ],
      "execution_count": 0,
      "outputs": []
    },
    {
      "metadata": {
        "id": "uRc4G6j-OD68",
        "colab_type": "code",
        "colab": {
          "autoexec": {
            "startup": false,
            "wait_interval": 0
          }
        }
      },
      "cell_type": "code",
      "source": [
        "na_n2v = na_n2v['na.node2vec.embeddings'].decode(\"utf-8\").split(\"\\n\")\n"
      ],
      "execution_count": 0,
      "outputs": []
    },
    {
      "metadata": {
        "id": "Zi9UqHqkOf7A",
        "colab_type": "code",
        "colab": {
          "autoexec": {
            "startup": false,
            "wait_interval": 0
          }
        }
      },
      "cell_type": "code",
      "source": [
        "na_tmp = list()\n",
        "\n",
        "for i in na_n2v:\n",
        "  if i == 0:\n",
        "    pass\n",
        "  else:\n",
        "    na_tmp.append(tuple(i.split()))\n",
        "    "
      ],
      "execution_count": 0,
      "outputs": []
    },
    {
      "metadata": {
        "id": "kDmj3r0LOSo5",
        "colab_type": "code",
        "colab": {
          "autoexec": {
            "startup": false,
            "wait_interval": 0
          },
          "output_extras": [
            {
              "item_id": 1
            }
          ],
          "base_uri": "https://localhost:8080/",
          "height": 34
        },
        "outputId": "5da651ac-bd13-4427-8cac-da9192527f67",
        "executionInfo": {
          "status": "ok",
          "timestamp": 1516765479941,
          "user_tz": 360,
          "elapsed": 469,
          "user": {
            "displayName": "José Castillo",
            "photoUrl": "//lh6.googleusercontent.com/-Rz3R3wYNNQs/AAAAAAAAAAI/AAAAAAAAjjM/p1QOaiSP3Nc/s50-c-k-no/photo.jpg",
            "userId": "105435570147088816949"
          }
        }
      },
      "cell_type": "code",
      "source": [
        "na_tmp.pop(0)"
      ],
      "execution_count": 73,
      "outputs": [
        {
          "output_type": "execute_result",
          "data": {
            "text/plain": [
              "('1904', '128')"
            ]
          },
          "metadata": {
            "tags": []
          },
          "execution_count": 73
        }
      ]
    },
    {
      "metadata": {
        "id": "Tm-lsmY7RJTL",
        "colab_type": "code",
        "colab": {
          "autoexec": {
            "startup": false,
            "wait_interval": 0
          }
        }
      },
      "cell_type": "code",
      "source": [
        "na_tmp[0]"
      ],
      "execution_count": 0,
      "outputs": []
    },
    {
      "metadata": {
        "id": "xRhAB1q4RNhC",
        "colab_type": "code",
        "colab": {
          "autoexec": {
            "startup": false,
            "wait_interval": 0
          }
        }
      },
      "cell_type": "code",
      "source": [
        "es_tmp = list()\n",
        "\n",
        "for i in es_n2v:\n",
        "  if i == 0:\n",
        "    pass\n",
        "  else:\n",
        "    es_tmp.append(tuple(i.split()))"
      ],
      "execution_count": 0,
      "outputs": []
    },
    {
      "metadata": {
        "id": "P0NKMvwxRQa1",
        "colab_type": "code",
        "colab": {
          "autoexec": {
            "startup": false,
            "wait_interval": 0
          },
          "output_extras": [
            {
              "item_id": 1
            }
          ],
          "base_uri": "https://localhost:8080/",
          "height": 34
        },
        "outputId": "74fd397c-098a-4340-c75e-a92fa97fae0e",
        "executionInfo": {
          "status": "ok",
          "timestamp": 1516765524173,
          "user_tz": 360,
          "elapsed": 474,
          "user": {
            "displayName": "José Castillo",
            "photoUrl": "//lh6.googleusercontent.com/-Rz3R3wYNNQs/AAAAAAAAAAI/AAAAAAAAjjM/p1QOaiSP3Nc/s50-c-k-no/photo.jpg",
            "userId": "105435570147088816949"
          }
        }
      },
      "cell_type": "code",
      "source": [
        "es_tmp.pop(0)"
      ],
      "execution_count": 76,
      "outputs": [
        {
          "output_type": "execute_result",
          "data": {
            "text/plain": [
              "('4433', '128')"
            ]
          },
          "metadata": {
            "tags": []
          },
          "execution_count": 76
        }
      ]
    },
    {
      "metadata": {
        "id": "6liVitRPRS6N",
        "colab_type": "code",
        "colab": {
          "autoexec": {
            "startup": false,
            "wait_interval": 0
          }
        }
      },
      "cell_type": "code",
      "source": [
        "es_df = pd.DataFrame.from_records(es_tmp)"
      ],
      "execution_count": 0,
      "outputs": []
    },
    {
      "metadata": {
        "id": "s_Suz27cRevv",
        "colab_type": "code",
        "colab": {
          "autoexec": {
            "startup": false,
            "wait_interval": 0
          }
        }
      },
      "cell_type": "code",
      "source": [
        "na_df = pd.DataFrame.from_records(na_tmp)"
      ],
      "execution_count": 0,
      "outputs": []
    },
    {
      "metadata": {
        "id": "YXNFF5zHRul-",
        "colab_type": "code",
        "colab": {
          "autoexec": {
            "startup": false,
            "wait_interval": 0
          },
          "output_extras": [
            {
              "item_id": 1
            }
          ],
          "base_uri": "https://localhost:8080/",
          "height": 253
        },
        "outputId": "eca2e41e-395a-4a82-aed2-ba8945af8f14",
        "executionInfo": {
          "status": "ok",
          "timestamp": 1516765645147,
          "user_tz": 360,
          "elapsed": 1130,
          "user": {
            "displayName": "José Castillo",
            "photoUrl": "//lh6.googleusercontent.com/-Rz3R3wYNNQs/AAAAAAAAAAI/AAAAAAAAjjM/p1QOaiSP3Nc/s50-c-k-no/photo.jpg",
            "userId": "105435570147088816949"
          }
        }
      },
      "cell_type": "code",
      "source": [
        "es_df.head()"
      ],
      "execution_count": 81,
      "outputs": [
        {
          "output_type": "execute_result",
          "data": {
            "text/html": [
              "<div>\n",
              "<style scoped>\n",
              "    .dataframe tbody tr th:only-of-type {\n",
              "        vertical-align: middle;\n",
              "    }\n",
              "\n",
              "    .dataframe tbody tr th {\n",
              "        vertical-align: top;\n",
              "    }\n",
              "\n",
              "    .dataframe thead th {\n",
              "        text-align: right;\n",
              "    }\n",
              "</style>\n",
              "<table border=\"1\" class=\"dataframe\">\n",
              "  <thead>\n",
              "    <tr style=\"text-align: right;\">\n",
              "      <th></th>\n",
              "      <th>0</th>\n",
              "      <th>1</th>\n",
              "      <th>2</th>\n",
              "      <th>3</th>\n",
              "      <th>4</th>\n",
              "      <th>5</th>\n",
              "      <th>6</th>\n",
              "      <th>7</th>\n",
              "      <th>8</th>\n",
              "      <th>9</th>\n",
              "      <th>...</th>\n",
              "      <th>119</th>\n",
              "      <th>120</th>\n",
              "      <th>121</th>\n",
              "      <th>122</th>\n",
              "      <th>123</th>\n",
              "      <th>124</th>\n",
              "      <th>125</th>\n",
              "      <th>126</th>\n",
              "      <th>127</th>\n",
              "      <th>128</th>\n",
              "    </tr>\n",
              "  </thead>\n",
              "  <tbody>\n",
              "    <tr>\n",
              "      <th>0</th>\n",
              "      <td>igual</td>\n",
              "      <td>-0.021394</td>\n",
              "      <td>-0.22308600000000001</td>\n",
              "      <td>0.081375000000000003</td>\n",
              "      <td>-0.44000800000000001</td>\n",
              "      <td>0.41420299999999999</td>\n",
              "      <td>-0.37752400000000003</td>\n",
              "      <td>-0.40576099999999998</td>\n",
              "      <td>-0.080980999999999997</td>\n",
              "      <td>-0.14319200000000001</td>\n",
              "      <td>...</td>\n",
              "      <td>-0.185254</td>\n",
              "      <td>0.17538200000000001</td>\n",
              "      <td>0.326658</td>\n",
              "      <td>0.094920000000000004</td>\n",
              "      <td>-0.69681999999999999</td>\n",
              "      <td>0.0026940000000000002</td>\n",
              "      <td>-0.45110899999999998</td>\n",
              "      <td>-0.47127799999999997</td>\n",
              "      <td>0.041342999999999998</td>\n",
              "      <td>-0.38586300000000001</td>\n",
              "    </tr>\n",
              "    <tr>\n",
              "      <th>1</th>\n",
              "      <td>hermano</td>\n",
              "      <td>-0.27513300000000002</td>\n",
              "      <td>-0.290684</td>\n",
              "      <td>-0.035325000000000002</td>\n",
              "      <td>-0.172819</td>\n",
              "      <td>-0.171268</td>\n",
              "      <td>0.19417799999999999</td>\n",
              "      <td>-0.260795</td>\n",
              "      <td>-0.131469</td>\n",
              "      <td>-0.56005700000000003</td>\n",
              "      <td>...</td>\n",
              "      <td>-0.77275700000000003</td>\n",
              "      <td>0.26308999999999999</td>\n",
              "      <td>0.152056</td>\n",
              "      <td>-0.34808899999999998</td>\n",
              "      <td>0.31774200000000002</td>\n",
              "      <td>0.093362000000000001</td>\n",
              "      <td>-0.53920000000000001</td>\n",
              "      <td>-0.091986999999999999</td>\n",
              "      <td>0.24560499999999999</td>\n",
              "      <td>0.074918999999999999</td>\n",
              "    </tr>\n",
              "    <tr>\n",
              "      <th>2</th>\n",
              "      <td>martajan</td>\n",
              "      <td>-0.39002700000000001</td>\n",
              "      <td>-0.18165300000000001</td>\n",
              "      <td>-0.26608799999999999</td>\n",
              "      <td>0.13489100000000001</td>\n",
              "      <td>-0.105633</td>\n",
              "      <td>-0.124488</td>\n",
              "      <td>-0.85740300000000003</td>\n",
              "      <td>-0.210449</td>\n",
              "      <td>0.10071099999999999</td>\n",
              "      <td>...</td>\n",
              "      <td>-0.30548500000000001</td>\n",
              "      <td>-0.43815399999999999</td>\n",
              "      <td>0.63305199999999995</td>\n",
              "      <td>-0.086624000000000007</td>\n",
              "      <td>0.049135999999999999</td>\n",
              "      <td>-0.166021</td>\n",
              "      <td>-0.45888899999999999</td>\n",
              "      <td>0.21430399999999999</td>\n",
              "      <td>-0.089515999999999998</td>\n",
              "      <td>-0.083751000000000006</td>\n",
              "    </tr>\n",
              "    <tr>\n",
              "      <th>3</th>\n",
              "      <td>fuero</td>\n",
              "      <td>0.038670999999999997</td>\n",
              "      <td>-0.12618799999999999</td>\n",
              "      <td>-0.12856699999999999</td>\n",
              "      <td>-0.10723100000000001</td>\n",
              "      <td>0.091522000000000006</td>\n",
              "      <td>-0.15167600000000001</td>\n",
              "      <td>-0.137239</td>\n",
              "      <td>-0.118836</td>\n",
              "      <td>-0.078329999999999997</td>\n",
              "      <td>...</td>\n",
              "      <td>-0.22109699999999999</td>\n",
              "      <td>0.062376000000000001</td>\n",
              "      <td>0.249082</td>\n",
              "      <td>0.034577999999999998</td>\n",
              "      <td>-0.069553000000000004</td>\n",
              "      <td>0.11555600000000001</td>\n",
              "      <td>-0.058006000000000002</td>\n",
              "      <td>0.075348999999999999</td>\n",
              "      <td>-0.039742</td>\n",
              "      <td>0.043875999999999998</td>\n",
              "    </tr>\n",
              "    <tr>\n",
              "      <th>4</th>\n",
              "      <td>ehecatl</td>\n",
              "      <td>-0.262042</td>\n",
              "      <td>-0.34154400000000001</td>\n",
              "      <td>0.020990999999999999</td>\n",
              "      <td>-0.098941000000000001</td>\n",
              "      <td>0.0065110000000000003</td>\n",
              "      <td>-0.40626099999999998</td>\n",
              "      <td>-0.011587</td>\n",
              "      <td>-0.046593999999999997</td>\n",
              "      <td>0.20002200000000001</td>\n",
              "      <td>...</td>\n",
              "      <td>-0.087499999999999994</td>\n",
              "      <td>-0.12940599999999999</td>\n",
              "      <td>-0.203127</td>\n",
              "      <td>-0.14116500000000001</td>\n",
              "      <td>-0.11533</td>\n",
              "      <td>-0.20407400000000001</td>\n",
              "      <td>-0.14868200000000001</td>\n",
              "      <td>-0.107582</td>\n",
              "      <td>-0.051375999999999998</td>\n",
              "      <td>0.16094600000000001</td>\n",
              "    </tr>\n",
              "  </tbody>\n",
              "</table>\n",
              "<p>5 rows × 129 columns</p>\n",
              "</div>"
            ],
            "text/plain": [
              "        0                     1                     2    \\\n",
              "0     igual             -0.021394  -0.22308600000000001   \n",
              "1   hermano  -0.27513300000000002             -0.290684   \n",
              "2  martajan  -0.39002700000000001  -0.18165300000000001   \n",
              "3     fuero  0.038670999999999997  -0.12618799999999999   \n",
              "4   ehecatl             -0.262042  -0.34154400000000001   \n",
              "\n",
              "                     3                      4                      5    \\\n",
              "0   0.081375000000000003   -0.44000800000000001    0.41420299999999999   \n",
              "1  -0.035325000000000002              -0.172819              -0.171268   \n",
              "2   -0.26608799999999999    0.13489100000000001              -0.105633   \n",
              "3   -0.12856699999999999   -0.10723100000000001   0.091522000000000006   \n",
              "4   0.020990999999999999  -0.098941000000000001  0.0065110000000000003   \n",
              "\n",
              "                    6                     7                      8    \\\n",
              "0  -0.37752400000000003  -0.40576099999999998  -0.080980999999999997   \n",
              "1   0.19417799999999999             -0.260795              -0.131469   \n",
              "2             -0.124488  -0.85740300000000003              -0.210449   \n",
              "3  -0.15167600000000001             -0.137239              -0.118836   \n",
              "4  -0.40626099999999998             -0.011587  -0.046593999999999997   \n",
              "\n",
              "                     9            ...                              119  \\\n",
              "0   -0.14319200000000001          ...                        -0.185254   \n",
              "1   -0.56005700000000003          ...             -0.77275700000000003   \n",
              "2    0.10071099999999999          ...             -0.30548500000000001   \n",
              "3  -0.078329999999999997          ...             -0.22109699999999999   \n",
              "4    0.20002200000000001          ...            -0.087499999999999994   \n",
              "\n",
              "                    120                  121                    122  \\\n",
              "0   0.17538200000000001             0.326658   0.094920000000000004   \n",
              "1   0.26308999999999999             0.152056   -0.34808899999999998   \n",
              "2  -0.43815399999999999  0.63305199999999995  -0.086624000000000007   \n",
              "3  0.062376000000000001             0.249082   0.034577999999999998   \n",
              "4  -0.12940599999999999            -0.203127   -0.14116500000000001   \n",
              "\n",
              "                     123                    124                    125  \\\n",
              "0   -0.69681999999999999  0.0026940000000000002   -0.45110899999999998   \n",
              "1    0.31774200000000002   0.093362000000000001   -0.53920000000000001   \n",
              "2   0.049135999999999999              -0.166021   -0.45888899999999999   \n",
              "3  -0.069553000000000004    0.11555600000000001  -0.058006000000000002   \n",
              "4               -0.11533   -0.20407400000000001   -0.14868200000000001   \n",
              "\n",
              "                     126                    127                    128  \n",
              "0   -0.47127799999999997   0.041342999999999998   -0.38586300000000001  \n",
              "1  -0.091986999999999999    0.24560499999999999   0.074918999999999999  \n",
              "2    0.21430399999999999  -0.089515999999999998  -0.083751000000000006  \n",
              "3   0.075348999999999999              -0.039742   0.043875999999999998  \n",
              "4              -0.107582  -0.051375999999999998    0.16094600000000001  \n",
              "\n",
              "[5 rows x 129 columns]"
            ]
          },
          "metadata": {
            "tags": []
          },
          "execution_count": 81
        }
      ]
    },
    {
      "metadata": {
        "id": "uin-ukXYR-z6",
        "colab_type": "code",
        "colab": {
          "autoexec": {
            "startup": false,
            "wait_interval": 0
          }
        }
      },
      "cell_type": "code",
      "source": [
        "semillas_esp = list(lexicon_df[\"esp\"].values)"
      ],
      "execution_count": 0,
      "outputs": []
    },
    {
      "metadata": {
        "id": "X2CHnXqdSJXN",
        "colab_type": "code",
        "colab": {
          "autoexec": {
            "startup": false,
            "wait_interval": 0
          }
        }
      },
      "cell_type": "code",
      "source": [
        "semillas_nah = list(lexicon_df[\"nah\"].values)"
      ],
      "execution_count": 0,
      "outputs": []
    },
    {
      "metadata": {
        "id": "qngUuwbrSOfs",
        "colab_type": "code",
        "colab": {
          "autoexec": {
            "startup": false,
            "wait_interval": 0
          }
        }
      },
      "cell_type": "code",
      "source": [
        "index_esp = [int(es_df[es_df[0] == palabra].index.get_values())\n",
        "            for palabra in semillas_esp\n",
        "            if int(es_df[es_df[0] == palabra].index.get_values().__len__()) == 1]"
      ],
      "execution_count": 0,
      "outputs": []
    },
    {
      "metadata": {
        "id": "bNq4enNRSraJ",
        "colab_type": "code",
        "colab": {
          "autoexec": {
            "startup": false,
            "wait_interval": 0
          }
        }
      },
      "cell_type": "code",
      "source": [
        "index_nah = [int(na_df[na_df[0] == palabra].index.get_values())\n",
        "            for palabra in semillas_nah\n",
        "            if int(na_df[na_df[0] == palabra].index.get_values().__len__()) == 1]"
      ],
      "execution_count": 0,
      "outputs": []
    },
    {
      "metadata": {
        "id": "DjAtveD6S0t2",
        "colab_type": "code",
        "colab": {
          "autoexec": {
            "startup": false,
            "wait_interval": 0
          }
        }
      },
      "cell_type": "code",
      "source": [
        "import numpy as np\n",
        "def get_vectors(dataframe, index, format=np.float64):\n",
        "    \"\"\"\n",
        "    Retorna los vectores dentro del dataframe.\n",
        "    \n",
        "    Args:\n",
        "        dataframe (Pandas.dataframe): Contiene las palabras y su representación vectorial.\n",
        "        index (list): Contiene los índices que se necesitan del dataframe.\n",
        "        format (numpy format): Tipo flotante. Default float64.\n",
        "    \n",
        "    Returns:\n",
        "        Numpy array: Matriz con representaciones vectoriales.\n",
        "    \"\"\"\n",
        "\n",
        "    return np.array([(dataframe.iloc[_].loc[1::])\n",
        "                  for _ in index]).astype(format)"
      ],
      "execution_count": 0,
      "outputs": []
    },
    {
      "metadata": {
        "id": "9i8IsBEOTAiw",
        "colab_type": "code",
        "colab": {
          "autoexec": {
            "startup": false,
            "wait_interval": 0
          }
        }
      },
      "cell_type": "code",
      "source": [
        "es_vectores = get_vectors(es_df,index_esp)"
      ],
      "execution_count": 0,
      "outputs": []
    },
    {
      "metadata": {
        "id": "kYVQ__8vTIkl",
        "colab_type": "code",
        "colab": {
          "autoexec": {
            "startup": false,
            "wait_interval": 0
          }
        }
      },
      "cell_type": "code",
      "source": [
        "na_vectores = get_vectors(na_df,index_nah)"
      ],
      "execution_count": 0,
      "outputs": []
    },
    {
      "metadata": {
        "id": "OahSauPmTNGP",
        "colab_type": "code",
        "colab": {
          "autoexec": {
            "startup": false,
            "wait_interval": 0
          },
          "output_extras": [
            {
              "item_id": 1
            }
          ],
          "base_uri": "https://localhost:8080/",
          "height": 34
        },
        "outputId": "3e1c60cb-45ea-4959-cabe-9be912357f03",
        "executionInfo": {
          "status": "ok",
          "timestamp": 1516766078698,
          "user_tz": 360,
          "elapsed": 1277,
          "user": {
            "displayName": "José Castillo",
            "photoUrl": "//lh6.googleusercontent.com/-Rz3R3wYNNQs/AAAAAAAAAAI/AAAAAAAAjjM/p1QOaiSP3Nc/s50-c-k-no/photo.jpg",
            "userId": "105435570147088816949"
          }
        }
      },
      "cell_type": "code",
      "source": [
        "len(es_vectores)"
      ],
      "execution_count": 101,
      "outputs": [
        {
          "output_type": "execute_result",
          "data": {
            "text/plain": [
              "540"
            ]
          },
          "metadata": {
            "tags": []
          },
          "execution_count": 101
        }
      ]
    },
    {
      "metadata": {
        "id": "Q_GuPc84TRBY",
        "colab_type": "code",
        "colab": {
          "autoexec": {
            "startup": false,
            "wait_interval": 0
          }
        }
      },
      "cell_type": "code",
      "source": [
        ""
      ],
      "execution_count": 0,
      "outputs": []
    },
    {
      "metadata": {
        "id": "V3bfLdoVTeZd",
        "colab_type": "code",
        "colab": {
          "autoexec": {
            "startup": false,
            "wait_interval": 0
          },
          "output_extras": [
            {
              "item_id": 1
            },
            {
              "item_id": 2
            }
          ],
          "base_uri": "https://localhost:8080/",
          "height": 51
        },
        "outputId": "0570523d-206a-4e85-82d1-f9cdd901cf69",
        "executionInfo": {
          "status": "ok",
          "timestamp": 1516775879236,
          "user_tz": 360,
          "elapsed": 663,
          "user": {
            "displayName": "José Castillo",
            "photoUrl": "//lh6.googleusercontent.com/-Rz3R3wYNNQs/AAAAAAAAAAI/AAAAAAAAjjM/p1QOaiSP3Nc/s50-c-k-no/photo.jpg",
            "userId": "105435570147088816949"
          }
        }
      },
      "cell_type": "code",
      "source": [
        ""
      ],
      "execution_count": 136,
      "outputs": [
        {
          "output_type": "stream",
          "text": [
            "TensorFlow v1.4.1\n"
          ],
          "name": "stdout"
        },
        {
          "output_type": "execute_result",
          "data": {
            "text/plain": [
              "'/device:GPU:0'"
            ]
          },
          "metadata": {
            "tags": []
          },
          "execution_count": 136
        }
      ]
    },
    {
      "metadata": {
        "id": "1osGl6oRTp5V",
        "colab_type": "code",
        "colab": {
          "autoexec": {
            "startup": false,
            "wait_interval": 0
          },
          "output_extras": [
            {
              "item_id": 48
            },
            {
              "item_id": 62
            }
          ],
          "base_uri": "https://localhost:8080/",
          "height": 1156
        },
        "outputId": "99624292-c255-4c64-bee8-086158fa6cbb"
      },
      "cell_type": "code",
      "source": [
        "import tensorflow as tf\n",
        "__author__ = \"Olivares Castillo José Luis\"\n",
        "print(\"TensorFlow v{}\".format(tf.__version__))\n",
        "tf.set_random_seed(42)\n",
        "tf.reset_default_graph()\n",
        "print(tf.test.gpu_device_name())\n",
        "\n",
        "LEARNING_RATE = 1.0\n",
        "# Dimensión de vectores de entrada (número de neuronas en capa de entrada).\n",
        "NODES_INPUT = es_vectores[0].size\n",
        "\n",
        "# Número de neuronas en capas ocultas.\n",
        "NODES_H1 = 256  # 70 - 20 - 15\n",
        "NODES_H2 = 74  # 42 - 20\n",
        "NODES_H3 = 74  # 42 - 20\n",
        "NODES_H4 = 90  # 42 - 20\n",
        "NODES_OUPUT = na_vectores[0].size\n",
        "\n",
        "# Inicializar pesos usando xavier_init\n",
        "XAVIER_INIT = True\n",
        "\n",
        "EPOCHS = 370000\n",
        "\n",
        "\n",
        "with tf.name_scope('input'):\n",
        "    # El valor None indica que se puede modificar la dimensión de los tensores\n",
        "    # por si se usan todos los vectores o batches.\n",
        "    X = tf.placeholder(shape=[None, NODES_INPUT],dtype=tf.float64, name='input_es')\n",
        "    y = tf.placeholder(shape=[None, NODES_OUPUT],dtype=tf.float64, name='target_na')\n",
        "\n",
        "\n",
        "\n",
        "\n",
        "def fully_connected_layer(input, size_in, size_out, name,xavier_init=True, stddev=0.1, dtype=tf.float64):\n",
        "    with tf.name_scope(name):\n",
        " \n",
        "        if xavier_init:\n",
        "            W = tf.get_variable(name=\"W\" + name, shape=[size_in, size_out], dtype=dtype,initializer=tf.contrib.layers.xavier_initializer(dtype=dtype),use_resource=True)\n",
        "        else:\n",
        "            W = tf.Variable(tf.truncated_normal([size_in, size_out], stddev=stddev,dtype=dtype), name=\"W\")\n",
        "        # Bias.\n",
        "        b = tf.Variable(tf.constant(0.1, shape=[size_out], dtype=dtype), name=\"b\")\n",
        "\n",
        "        # h(x) = (input * weights) + bias\n",
        "        output = tf.nn.xw_plus_b(input, W, b)\n",
        "        # visualizarlos en TensorBoard.\n",
        "        tf.summary.histogram(\"weights\", W)\n",
        "        tf.summary.histogram(\"pre_activations\", output)\n",
        "\n",
        "        return output\n",
        "\n",
        "\n",
        "\n",
        "def activation_function(layer, act, name, alpha=tf.constant(0.2, dtype=tf.float64)):\n",
        "    if act == \"leaky_relu\":\n",
        "        return tf.nn.leaky_relu(layer, alpha, name=name)\n",
        "\n",
        "    elif act == \"softmax\":\n",
        "        return tf.nn.softmax(layer, name=name)\n",
        "\n",
        "    elif act == \"sigmoid\":\n",
        "        return tf.nn.sigmoid(layer, name=name)\n",
        "\n",
        "    elif act == \"tanh\":\n",
        "        return tf.nn.tanh(layer, name=name)\n",
        "\n",
        "    return tf.nn.relu(layer, name=name)\n",
        "\n",
        "\n",
        "# Se definen las capas.\n",
        "\n",
        "# In[ ]:\n",
        "\n",
        "\n",
        "# Se calcula la salida de la capa.\n",
        "fc1 = fully_connected_layer(X, NODES_INPUT, NODES_H1, \"fc1\",\n",
        "                            xavier_init=XAVIER_INIT)\n",
        "\n",
        "# Activación de la capa.\n",
        "fc1 = activation_function(fc1, \"sigmoid\", \"fc1\")\n",
        "\n",
        "\n",
        "# Se añade histograma de activación de la capa para visualizar en\n",
        "# TensorBoard.\n",
        "tf.summary.histogram(\"fc1/sigmoid\", fc1)\n",
        "\n",
        "\n",
        "\n",
        "nah_predicted = fully_connected_layer(fc1, NODES_H1, NODES_OUPUT, \"output\",\n",
        "                                      xavier_init=XAVIER_INIT)\n",
        "#nah_predicted = activation_function(output, \"sigmoid\", \"output\")\n",
        "tf.summary.histogram(\"output/noact\", nah_predicted)\n",
        "\n",
        "\n",
        "loss = tf.reduce_mean(tf.squared_difference(nah_predicted, y), name=\"loss\")\n",
        "tf.summary.scalar(\"loss\", loss)\n",
        "\n",
        "\n",
        "optimiser = tf.train.MomentumOptimizer(learning_rate=LEARNING_RATE,momentum=0.5)\n",
        "\n",
        "# Compute gradients\n",
        "gradients, variables = zip(*optimiser.compute_gradients(loss))\n",
        "\n",
        "gradients, _ = tf.clip_by_global_norm(gradients, 5.0)\n",
        "\n",
        "# Apply processed gradients to optimizer.\n",
        "train_op = optimiser.apply_gradients(zip(gradients, variables))\n",
        "\n",
        "\n",
        "\n",
        "\n",
        "# Accuracy\n",
        "with tf.name_scope('accuracy'):\n",
        "    with tf.name_scope('correct_prediction'):\n",
        "        # Se compara salida de la red neuronal con el vector objetivo.\n",
        "        correct_prediction = tf.equal(\n",
        "            tf.argmax(nah_predicted, 1), tf.argmax(y, 1))\n",
        "    with tf.name_scope('accuracy'):\n",
        "        # Se calcula la precisión.\n",
        "        accuracy = tf.reduce_mean(tf.cast(correct_prediction, tf.float64))\n",
        "    tf.summary.scalar('accuracy', accuracy)\n",
        "\n",
        "\n",
        "# In[ ]:\n",
        "\n",
        "LOGPATH = \".logs/model2257\"\n",
        "print(\"logpath:\", LOGPATH)\n",
        "\n",
        "\n",
        "# Se crea la sesión\n",
        "sess = tf.Session()\n",
        "\n",
        "# Se ponen los histogramas y valores de las gráficas en una sola variable.\n",
        "summaryMerged = tf.summary.merge_all()\n",
        "\n",
        "# Escribir a disco el grafo generado y las gráficas para visualizar en TensorBoard.\n",
        "writer = tf.summary.FileWriter(LOGPATH, sess.graph)\n",
        "\n",
        "# Se inicializan los valores de los tensores.\n",
        "init = tf.global_variables_initializer()\n",
        "\n",
        "# Add ops to save and restore all the variables.\n",
        "saver = tf.train.Saver()\n",
        "\n",
        "# Ejecutando sesión\n",
        "sess.run(init)\n",
        "\n",
        "\n",
        "# In[ ]:\n",
        "\n",
        "\n",
        "for i in range(EPOCHS):\n",
        "    _loss, _= sess.run([loss, train_op],feed_dict={X: es_vectores,y: na_vectores})\n",
        "\n",
        "    writer.add_summary(sumOut, i)\n",
        "\n",
        "    if (i % 500) == 0:\n",
        "        train_accuracy = accuracy.eval(session=sess, feed_dict={X: es_vectores,y: na_vectores})\n",
        "        print(\"Epoch:\", i, \"/\", EPOCHS, \"\\tLoss:\",_loss, \"\\tAccuracy:\", train_accuracy)\n",
        "        \n",
        "SAVE_PATH = \"./\"\n",
        "save_model = saver.save(sess, SAVE_PATH)\n",
        "print(\"Model saved in file: %s\", SAVE_PATH)\n",
        "writer.close()\n"
      ],
      "execution_count": 0,
      "outputs": [
        {
          "output_type": "stream",
          "text": [
            "TensorFlow v1.4.1\n",
            "/device:GPU:0\n",
            "trying to switch the dtype to  <dtype: 'float32'>  from  <dtype: 'float64'>\n",
            "trying to switch the dtype to  <dtype: 'float32'>  from  <dtype: 'float64'>\n",
            "logpath: .logs/model2257\n",
            "Epoch: 0 / 370000 \tLoss: 0.4779004716160095 \tAccuracy: 0.06481481481481481\n",
            "Epoch: 500 / 370000 \tLoss: 0.10367018559805877 \tAccuracy: 0.11296296296296296\n",
            "Epoch: 1000 / 370000 \tLoss: 0.09532215985166738 \tAccuracy: 0.1425925925925926\n",
            "Epoch: 1500 / 370000 \tLoss: 0.09042338182724055 \tAccuracy: 0.15185185185185185\n",
            "Epoch: 2000 / 370000 \tLoss: 0.08729785927568809 \tAccuracy: 0.1685185185185185\n",
            "Epoch: 2500 / 370000 \tLoss: 0.08519130296513798 \tAccuracy: 0.1685185185185185\n",
            "Epoch: 3000 / 370000 \tLoss: 0.08371697995371706 \tAccuracy: 0.17777777777777778\n",
            "Epoch: 3500 / 370000 \tLoss: 0.08265402156188514 \tAccuracy: 0.1814814814814815\n",
            "Epoch: 4000 / 370000 \tLoss: 0.08186695473089942 \tAccuracy: 0.18518518518518517\n",
            "Epoch: 4500 / 370000 \tLoss: 0.08126855041504559 \tAccuracy: 0.19814814814814816\n",
            "Epoch: 5000 / 370000 \tLoss: 0.0808003951576536 \tAccuracy: 0.19814814814814816\n",
            "Epoch: 5500 / 370000 \tLoss: 0.08042193069949638 \tAccuracy: 0.2\n",
            "Epoch: 6000 / 370000 \tLoss: 0.0801040136732237 \tAccuracy: 0.19444444444444445\n",
            "Epoch: 6500 / 370000 \tLoss: 0.07982506876800351 \tAccuracy: 0.1962962962962963\n",
            "Epoch: 7000 / 370000 \tLoss: 0.07956878978780235 \tAccuracy: 0.2\n",
            "Epoch: 7500 / 370000 \tLoss: 0.07932277130833264 \tAccuracy: 0.2\n",
            "Epoch: 8000 / 370000 \tLoss: 0.07907766651333623 \tAccuracy: 0.1962962962962963\n",
            "Epoch: 8500 / 370000 \tLoss: 0.07882658277834362 \tAccuracy: 0.19814814814814816\n",
            "Epoch: 9000 / 370000 \tLoss: 0.07856452854926271 \tAccuracy: 0.19814814814814816\n",
            "Epoch: 9500 / 370000 \tLoss: 0.07828784270021129 \tAccuracy: 0.2\n",
            "Epoch: 10000 / 370000 \tLoss: 0.07799364064337776 \tAccuracy: 0.2\n",
            "Epoch: 10500 / 370000 \tLoss: 0.07767935878117553 \tAccuracy: 0.20555555555555555\n",
            "Epoch: 11000 / 370000 \tLoss: 0.0773424661104189 \tAccuracy: 0.2111111111111111\n",
            "Epoch: 11500 / 370000 \tLoss: 0.07698036641092482 \tAccuracy: 0.2111111111111111\n",
            "Epoch: 12000 / 370000 \tLoss: 0.07659046610641762 \tAccuracy: 0.21666666666666667\n",
            "Epoch: 12500 / 370000 \tLoss: 0.07617034765193681 \tAccuracy: 0.21481481481481482\n",
            "Epoch: 13000 / 370000 \tLoss: 0.07571797107677944 \tAccuracy: 0.21851851851851853\n",
            "Epoch: 13500 / 370000 \tLoss: 0.07523183017608318 \tAccuracy: 0.2222222222222222\n",
            "Epoch: 14000 / 370000 \tLoss: 0.07471101789211412 \tAccuracy: 0.2222222222222222\n",
            "Epoch: 14500 / 370000 \tLoss: 0.07415519904541118 \tAccuracy: 0.2222222222222222\n",
            "Epoch: 15000 / 370000 \tLoss: 0.07356452389345393 \tAccuracy: 0.22777777777777777\n",
            "Epoch: 15500 / 370000 \tLoss: 0.07293952548391505 \tAccuracy: 0.2351851851851852\n",
            "Epoch: 16000 / 370000 \tLoss: 0.07228103276954935 \tAccuracy: 0.2351851851851852\n",
            "Epoch: 16500 / 370000 \tLoss: 0.07159011518038641 \tAccuracy: 0.2388888888888889\n",
            "Epoch: 17000 / 370000 \tLoss: 0.070868060661865 \tAccuracy: 0.24074074074074073\n",
            "Epoch: 17500 / 370000 \tLoss: 0.07011637881778376 \tAccuracy: 0.24259259259259258\n",
            "Epoch: 18000 / 370000 \tLoss: 0.06933681438275408 \tAccuracy: 0.24814814814814815\n",
            "Epoch: 18500 / 370000 \tLoss: 0.06853135535656824 \tAccuracy: 0.2518518518518518\n",
            "Epoch: 19000 / 370000 \tLoss: 0.067702224425154 \tAccuracy: 0.2574074074074074\n",
            "Epoch: 19500 / 370000 \tLoss: 0.06685184915248338 \tAccuracy: 0.2611111111111111\n",
            "Epoch: 20000 / 370000 \tLoss: 0.0659828130747778 \tAccuracy: 0.26296296296296295\n",
            "Epoch: 20500 / 370000 \tLoss: 0.06509779462176345 \tAccuracy: 0.2574074074074074\n",
            "Epoch: 21000 / 370000 \tLoss: 0.06419950297001878 \tAccuracy: 0.2611111111111111\n",
            "Epoch: 21500 / 370000 \tLoss: 0.06329061925269762 \tAccuracy: 0.2777777777777778\n",
            "Epoch: 22000 / 370000 \tLoss: 0.062373748544695455 \tAccuracy: 0.2796296296296296\n",
            "Epoch: 22500 / 370000 \tLoss: 0.06145138422642636 \tAccuracy: 0.2796296296296296\n",
            "Epoch: 23000 / 370000 \tLoss: 0.06052588342309076 \tAccuracy: 0.2777777777777778\n",
            "Epoch: 23500 / 370000 \tLoss: 0.05959945093567865 \tAccuracy: 0.28703703703703703\n"
          ],
          "name": "stdout"
        },
        {
          "output_type": "stream",
          "text": [
            "Epoch: 24000 / 370000 \tLoss: 0.05867412892756675 \tAccuracy: 0.29814814814814816\n",
            "Epoch: 24500 / 370000 \tLoss: 0.05775178989218544 \tAccuracy: 0.29814814814814816\n",
            "Epoch: 25000 / 370000 \tLoss: 0.05683413100161599 \tAccuracy: 0.30185185185185187\n",
            "Epoch: 25500 / 370000 \tLoss: 0.05592266909865989 \tAccuracy: 0.3055555555555556\n",
            "Epoch: 26000 / 370000 \tLoss: 0.05501873725663397 \tAccuracy: 0.3111111111111111\n",
            "Epoch: 26500 / 370000 \tLoss: 0.05412348520960559 \tAccuracy: 0.3111111111111111\n",
            "Epoch: 27000 / 370000 \tLoss: 0.05323788601286663 \tAccuracy: 0.31851851851851853\n",
            "Epoch: 27500 / 370000 \tLoss: 0.052362749649719355 \tAccuracy: 0.32222222222222224\n",
            "Epoch: 28000 / 370000 \tLoss: 0.051498741823649316 \tAccuracy: 0.31851851851851853\n",
            "Epoch: 28500 / 370000 \tLoss: 0.050646404528989906 \tAccuracy: 0.32037037037037036\n",
            "Epoch: 29000 / 370000 \tLoss: 0.04980617532424975 \tAccuracy: 0.32037037037037036\n",
            "Epoch: 29500 / 370000 \tLoss: 0.0489784040932831 \tAccuracy: 0.31851851851851853\n",
            "Epoch: 30000 / 370000 \tLoss: 0.048163367795504126 \tAccuracy: 0.32407407407407407\n",
            "Epoch: 30500 / 370000 \tLoss: 0.04736128402830385 \tAccuracy: 0.3296296296296296\n"
          ],
          "name": "stdout"
        }
      ]
    },
    {
      "metadata": {
        "id": "3abn5XQQT7YK",
        "colab_type": "code",
        "colab": {
          "autoexec": {
            "startup": false,
            "wait_interval": 0
          },
          "output_extras": [
            {
              "item_id": 1
            }
          ],
          "base_uri": "https://localhost:8080/",
          "height": 34
        },
        "outputId": "2edf8493-c506-4496-d47c-c83c8eb2a1df",
        "executionInfo": {
          "status": "ok",
          "timestamp": 1516768969648,
          "user_tz": 360,
          "elapsed": 502,
          "user": {
            "displayName": "José Castillo",
            "photoUrl": "//lh6.googleusercontent.com/-Rz3R3wYNNQs/AAAAAAAAAAI/AAAAAAAAjjM/p1QOaiSP3Nc/s50-c-k-no/photo.jpg",
            "userId": "105435570147088816949"
          }
        }
      },
      "cell_type": "code",
      "source": [
        "os.getcwd()"
      ],
      "execution_count": 115,
      "outputs": [
        {
          "output_type": "execute_result",
          "data": {
            "text/plain": [
              "'/content'"
            ]
          },
          "metadata": {
            "tags": []
          },
          "execution_count": 115
        }
      ]
    },
    {
      "metadata": {
        "id": "6Ja3yuilecE4",
        "colab_type": "code",
        "colab": {
          "autoexec": {
            "startup": false,
            "wait_interval": 0
          }
        }
      },
      "cell_type": "code",
      "source": [
        "model = dict()\n",
        "model['a'] = np.fromfile(\"/content/model.ckpt.data-00000-of-00001\")"
      ],
      "execution_count": 0,
      "outputs": []
    },
    {
      "metadata": {
        "id": "1ZaoNFMmfZtm",
        "colab_type": "code",
        "colab": {
          "autoexec": {
            "startup": false,
            "wait_interval": 0
          }
        }
      },
      "cell_type": "code",
      "source": [
        "from google.colab import files\n",
        "files.download(\"/content/model.ckpt.meta\")"
      ],
      "execution_count": 0,
      "outputs": []
    },
    {
      "metadata": {
        "id": "SkZhqDgeezZB",
        "colab_type": "code",
        "colab": {
          "autoexec": {
            "startup": false,
            "wait_interval": 0
          }
        }
      },
      "cell_type": "code",
      "source": [
        ""
      ],
      "execution_count": 0,
      "outputs": []
    }
  ]
}